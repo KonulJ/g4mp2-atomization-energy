{
 "cells": [
  {
   "cell_type": "markdown",
   "metadata": {},
   "source": [
    "# Download All Raw Data\n",
    "Gets all of the raw data needed by this study using Globus and HTTP download. You will need Globus installed to use this notebook."
   ]
  },
  {
   "cell_type": "code",
   "execution_count": 1,
   "metadata": {
    "collapsed": true
   },
   "outputs": [],
   "source": [
    "from mdf_toolbox import login\n",
    "import requests\n",
    "import cgi\n",
    "import os"
   ]
  },
  {
   "cell_type": "markdown",
   "metadata": {},
   "source": [
    "Things to change"
   ]
  },
  {
   "cell_type": "code",
   "execution_count": 2,
   "metadata": {},
   "outputs": [],
   "source": [
    "g4mp2_location = 'https://data.materialsdatafacility.org/published/publication_1335/data/g4mp2-gdb9.db'\n",
    "qm9_id = [1057646, 1057644]\n",
    "dest_path = os.path.abspath(os.path.join('data', 'input'))"
   ]
  },
  {
   "cell_type": "markdown",
   "metadata": {},
   "source": [
    "## Get the G4MP2 Data\n",
    "We need the G4MP2 calculations of all of the molecules in the QM9-G4MP2 dataset. The data is an ASE DB that is [available in the MDF](http://dx.doi.org/doi:10.18126/M23P9G). We will download it using HTTP"
   ]
  },
  {
   "cell_type": "markdown",
   "metadata": {},
   "source": [
    "### Get a Authorization Tool\n",
    "The `mdf_toolbox` includes tools for streamlining getting the credentials needed to access data on the MDF. "
   ]
  },
  {
   "cell_type": "code",
   "execution_count": 3,
   "metadata": {},
   "outputs": [],
   "source": [
    "mdf_auth = login(app='jcesr_ml', services=['data_mdf'])['data_mdf']"
   ]
  },
  {
   "cell_type": "markdown",
   "metadata": {},
   "source": [
    "### Download from the MDF\n",
    "We need to download the ASE db file"
   ]
  },
  {
   "cell_type": "code",
   "execution_count": 4,
   "metadata": {},
   "outputs": [],
   "source": [
    "def get_from_mdf(url, path):\n",
    "    \"\"\"Download data from the MDF\n",
    "    \n",
    "    Args:\n",
    "        url (str): Path to save file\n",
    "        path (str): Download path\n",
    "    \"\"\"\n",
    "    \n",
    "    filename = os.path.basename(url)\n",
    "    local_path = os.path.join(path, filename)\n",
    "    \n",
    "    # Get the auth headers\n",
    "    headers = {}\n",
    "    mdf_auth.set_authorization_header(headers)\n",
    "    \n",
    "    # Download file\n",
    "    req = requests.get(url, headers=headers, stream=True)\n",
    "    with open(local_path, 'wb') as fp:\n",
    "        for chunk in req.iter_content(chunk_size=1024 ** 2):\n",
    "            fp.write(chunk)\n",
    "get_from_mdf(g4mp2_location, dest_path)"
   ]
  },
  {
   "cell_type": "markdown",
   "metadata": {},
   "source": [
    "## Download the QM9 Data from Figshare\n",
    "We need the data file and the list of uncharacterized molecules"
   ]
  },
  {
   "cell_type": "code",
   "execution_count": 5,
   "metadata": {
    "collapsed": true
   },
   "outputs": [],
   "source": [
    "def get_from_figshare(fid, path):\n",
    "    \"\"\"Download a file from figshare\n",
    "    \n",
    "    Args:\n",
    "        fid (int): ID number of figshare article\n",
    "        path (str): Download path\n",
    "    \"\"\"\n",
    "    \n",
    "    # Get the article details\n",
    "    art_details = requests.get('https://api.figshare.com/v2/articles/{}/files'.format(fid)).json()\n",
    "    \n",
    "    # Loop over each file\n",
    "    for detail in art_details:\n",
    "        # Make the download path\n",
    "        filename = detail['name']\n",
    "        data_path = os.path.join(path, filename)\n",
    "        \n",
    "        # Downlaod the file\n",
    "        req = requests.get(art_details[0]['download_url'], stream=True)\n",
    "        with open(data_path, 'wb') as fp:\n",
    "            for chunk in req.iter_content(chunk_size=1024 ** 2):\n",
    "                fp.write(chunk)"
   ]
  },
  {
   "cell_type": "code",
   "execution_count": 6,
   "metadata": {
    "collapsed": true
   },
   "outputs": [],
   "source": [
    "for fid in qm9_id:\n",
    "    get_from_figshare(fid, dest_path)"
   ]
  },
  {
   "cell_type": "code",
   "execution_count": null,
   "metadata": {
    "collapsed": true
   },
   "outputs": [],
   "source": []
  }
 ],
 "metadata": {
  "kernelspec": {
   "display_name": "Python 3",
   "language": "python",
   "name": "python3"
  },
  "language_info": {
   "codemirror_mode": {
    "name": "ipython",
    "version": 3
   },
   "file_extension": ".py",
   "mimetype": "text/x-python",
   "name": "python",
   "nbconvert_exporter": "python",
   "pygments_lexer": "ipython3",
   "version": "3.6.8"
  }
 },
 "nbformat": 4,
 "nbformat_minor": 2
}
