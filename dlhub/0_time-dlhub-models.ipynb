{
 "cells": [
  {
   "cell_type": "markdown",
   "metadata": {},
   "source": [
    "# Time DLHub Models\n",
    "This notebooks demonstrates running models via DLHub, and charactizes their execution time as a function of molecular size"
   ]
  },
  {
   "cell_type": "code",
   "execution_count": 1,
   "metadata": {},
   "outputs": [],
   "source": [
    "%matplotlib inline\n",
    "from matplotlib import pyplot as plt \n",
    "from dlhub_sdk.client import DLHubClient\n",
    "from time import perf_counter\n",
    "from scipy.stats import sem\n",
    "from tqdm import tqdm\n",
    "from time import perf_counter\n",
    "import pandas as pd\n",
    "import numpy as np\n",
    "import yaml\n",
    "import os"
   ]
  },
  {
   "cell_type": "code",
   "execution_count": 2,
   "metadata": {},
   "outputs": [],
   "source": [
    "client = DLHubClient(http_timeout=-1)"
   ]
  },
  {
   "cell_type": "markdown",
   "metadata": {},
   "source": [
    "## Find Models from Our Library\n",
    "We have at least a few models that are suited for the \"G4MP2 Delta Learning\" problem, and have labeled them all with a special DataCite subject flag."
   ]
  },
  {
   "cell_type": "code",
   "execution_count": 3,
   "metadata": {},
   "outputs": [
    {
     "name": "stdout",
     "output_type": "stream",
     "text": [
      "Found 3 models\n"
     ]
    }
   ],
   "source": [
    "models = client.search('datacite.subjects.subject:=\"G4MP2 Delta Learning\"')\n",
    "print(f'Found {len(models)} models')"
   ]
  },
  {
   "cell_type": "code",
   "execution_count": 4,
   "metadata": {},
   "outputs": [
    {
     "data": {
      "text/plain": [
       "['loganw_globusid/g4mp2_delta_schnet_b3lyp',\n",
       " 'loganw_globusid/g4mp2_delta_schnet_wb97xd',\n",
       " 'loganw_globusid/g4mp2_delta_fchl_b3lyp']"
      ]
     },
     "execution_count": 4,
     "metadata": {},
     "output_type": "execute_result"
    }
   ],
   "source": [
    "model_names = [m['dlhub']['shorthand_name'] for m in models]\n",
    "model_names"
   ]
  },
  {
   "cell_type": "markdown",
   "metadata": {},
   "source": [
    "## Get Example Molecules\n",
    "Get some molecules with different numbers of atoms"
   ]
  },
  {
   "cell_type": "code",
   "execution_count": 5,
   "metadata": {},
   "outputs": [],
   "source": [
    "data = pd.concat([\n",
    "    pd.read_json(os.path.join('..', 'data', 'output', 'g4mp2_data.json.gz'), lines=True),\n",
    "    pd.read_json(os.path.join('..', 'data', 'output', 'sugar_data.json'), lines=True)\n",
    "], sort=False)"
   ]
  },
  {
   "cell_type": "markdown",
   "metadata": {},
   "source": [
    "Get one molecule per molecule size"
   ]
  },
  {
   "cell_type": "code",
   "execution_count": 6,
   "metadata": {},
   "outputs": [],
   "source": [
    "data.drop_duplicates('n_atom', inplace=True)\n",
    "data.sort_values('n_atom', inplace=True)"
   ]
  },
  {
   "cell_type": "markdown",
   "metadata": {},
   "source": [
    "## Illustrate a Model\n",
    "Show the metadata for one of the models and how to invoke it on a series of molecules."
   ]
  },
  {
   "cell_type": "code",
   "execution_count": 7,
   "metadata": {},
   "outputs": [
    {
     "name": "stdout",
     "output_type": "stream",
     "text": [
      "datacite:\n",
      "  alternateIdentifiers: []\n",
      "  creators:\n",
      "  - affiliations:\n",
      "    - Argonne National Laboratory\n",
      "    familyName: Ward\n",
      "    givenName: Logan\n",
      "  - affiliations:\n",
      "    - Argonne National Laboratory\n",
      "    familyName: Blaiszik\n",
      "    givenName: Ben\n",
      "  - affiliations:\n",
      "    - Argonne National Laboratory\n",
      "    familyName: Foster\n",
      "    givenName: Ian\n",
      "  - affiliations:\n",
      "    - Argonne National Laboratory\n",
      "    familyName: Assary\n",
      "    givenName: Rajeev\n",
      "  - affiliations:\n",
      "    - University of Louisville\n",
      "    - Argonne National Laboratory\n",
      "    familyName: Narayanan\n",
      "    givenName: Badri\n",
      "  - affiliations:\n",
      "    - Argonne National Laboratory\n",
      "    familyName: Curtiss\n",
      "    givenName: Larry\n",
      "  descriptions: []\n",
      "  fundingReferences: []\n",
      "  identifier:\n",
      "    identifier: 10.YET/UNASSIGNED\n",
      "    identifierType: DOI\n",
      "  publicationYear: '2020'\n",
      "  publisher: DLHub\n",
      "  relatedIdentifiers:\n",
      "  - relatedIdentifier: 10.1021/acs.jctc.8b00908\n",
      "    relatedIdentifierType: DOI\n",
      "    relationType: Requires\n",
      "  - relatedIdentifier: 10.1557/mrc.2019.107\n",
      "    relatedIdentifierType: DOI\n",
      "    relationType: IsDescribedBy\n",
      "  - relatedIdentifier: globus:UcYnWpqF2O2n\n",
      "    relatedIdentifierType: Globus\n",
      "    relationType: IsDescribedBy\n",
      "  resourceType:\n",
      "    resourceTypeGeneral: InteractiveResource\n",
      "  rightsList: []\n",
      "  subjects:\n",
      "  - subject: G4MP2 Delta Learning\n",
      "  titles:\n",
      "  - title: SchNet Model to Predict G4MP2 Atomization Energy from B3LYP Total Energy\n",
      "dlhub:\n",
      "  build_location: /mnt/dlhub_ingest/65079fb8-6670-496f-b0aa-5318a54a7206-1590016937\n",
      "  domains: []\n",
      "  ecr_arn: arn:aws:ecr:us-east-1:039706667969:repository/65079fb8-6670-496f-b0aa-5318a54a7206\n",
      "  ecr_uri: 039706667969.dkr.ecr.us-east-1.amazonaws.com/65079fb8-6670-496f-b0aa-5318a54a7206\n",
      "  files:\n",
      "    other:\n",
      "    - dlhub_app.py\n",
      "    - model/architecture.pth\n",
      "    - model/best_model\n",
      "    - train_dataset.pkl\n",
      "    - input_key.json\n",
      "    - jcesr_ml/__init__.py\n",
      "    - jcesr_ml/schnetpack.py\n",
      "    - jcesr_ml/coordinates.py\n",
      "    - jcesr_ml/benchmark.py\n",
      "    - jcesr_ml/utils.py\n",
      "    - jcesr_ml/atom_environment.py\n",
      "    - jcesr_ml/style.py\n",
      "    - jcesr_ml/qml.py\n",
      "    - requirements.txt\n",
      "  funcx_id: 820a8caf-86b7-4d80-b224-7a7123496dde\n",
      "  id: 65079fb8-6670-496f-b0aa-5318a54a7206\n",
      "  identifier: globus:UcYnWpqF2O2n\n",
      "  name: g4mp2_delta_schnet_b3lyp\n",
      "  owner: loganw_globusid\n",
      "  publication_date: '1590016937337'\n",
      "  shorthand_name: loganw_globusid/g4mp2_delta_schnet_b3lyp\n",
      "  transfer_method:\n",
      "    POST: file\n",
      "    path: /mnt/tmp/servable.zip\n",
      "  type: servable\n",
      "  user_id: '3'\n",
      "  version: 0.8.4\n",
      "  visible_to:\n",
      "  - public\n",
      "servable:\n",
      "  methods:\n",
      "    run:\n",
      "      input:\n",
      "        description: Structures and B3LYP energies of moelcule sto be evaluated\n",
      "        element_types:\n",
      "        - description: Structures of molecules in XYZ format. Structure should be\n",
      "            relaxed with B3LYP/6-31G(2df,p)\n",
      "          item_type:\n",
      "            type: string\n",
      "          type: list\n",
      "        - description: B3LYP total energies of Energies of molecules in Ha\n",
      "          item_type:\n",
      "            type: float\n",
      "          type: list\n",
      "        type: tuple\n",
      "      method_details:\n",
      "        autobatch: false\n",
      "        method_name: evaluate_molecules\n",
      "        module: dlhub_app\n",
      "        unpack: true\n",
      "      output:\n",
      "        description: Estimate of G4MP2 atomization energy\n",
      "        item_type:\n",
      "          type: float\n",
      "        type: list\n",
      "      parameters: {}\n",
      "  shim: python.PythonStaticMethodServable\n",
      "  type: Python static method\n",
      "\n"
     ]
    }
   ],
   "source": [
    "print(yaml.dump(client.describe_servable(model_names[0]), indent=2))"
   ]
  },
  {
   "cell_type": "code",
   "execution_count": 8,
   "metadata": {},
   "outputs": [
    {
     "data": {
      "text/plain": [
       "[-0.34871382666015815,\n",
       " -0.44001897656249733,\n",
       " -0.6251134133300749,\n",
       " -0.7658303339843666,\n",
       " -1.0689759374999834,\n",
       " -1.061002045898431,\n",
       " -1.2115647001952938,\n",
       " -1.4761385556640336,\n",
       " -1.5017315292968596,\n",
       " -1.6589317568359099,\n",
       " -1.9522964765624642,\n",
       " -1.9460468281249752,\n",
       " -2.1073821874999634,\n",
       " -2.3981834306640177,\n",
       " -2.3925899101562162,\n",
       " -2.5428779062499545,\n",
       " -2.8464202382811963,\n",
       " -2.8318698085937073,\n",
       " -2.9816084882812235,\n",
       " -3.2469452832031456,\n",
       " -3.2733164550780733,\n",
       " -3.430592976562493,\n",
       " -3.74350420507811,\n",
       " -3.714305337890593,\n",
       " -3.948392132812486,\n",
       " -4.532727097656235,\n",
       " -4.154866974609362,\n",
       " -4.6333515214844425]"
      ]
     },
     "execution_count": 8,
     "metadata": {},
     "output_type": "execute_result"
    }
   ],
   "source": [
    "client.run(model_names[0], (data['xyz'].tolist(), data['u0'].tolist()))"
   ]
  },
  {
   "cell_type": "markdown",
   "metadata": {},
   "source": [
    "## Invoke Model for Each Different Molecule Sizes\n",
    "We are going to run each molecule individually to get timing as a function of size"
   ]
  },
  {
   "cell_type": "code",
   "execution_count": 9,
   "metadata": {},
   "outputs": [
    {
     "name": "stderr",
     "output_type": "stream",
     "text": [
      "loganw_globusid/g4mp2_delta_schnet_b3lyp: 28it [02:30,  5.36s/it]\n",
      "loganw_globusid/g4mp2_delta_schnet_wb97xd: 28it [02:30,  5.37s/it]\n",
      "loganw_globusid/g4mp2_delta_fchl_b3lyp: 28it [27:31, 58.98s/it]\n"
     ]
    }
   ],
   "source": [
    "results = []\n",
    "for m in model_names:\n",
    "    for rid, mol in tqdm(data.iterrows(), desc=m):\n",
    "        # Run the simulation many times to evaluate the timing\n",
    "        timings = []\n",
    "        for i in range(1):\n",
    "            # Submit the task, measure total time\n",
    "            start_time = perf_counter()\n",
    "            client.run(m, ([mol['xyz']]*1, [mol['u0']]*1))\n",
    "            run_time = perf_counter() - start_time\n",
    "\n",
    "            # Get the invocation time on DLHub\n",
    "            timings.append(run_time)\n",
    "        results.append({\n",
    "            'model': m,\n",
    "            'n_atoms': mol['n_atom'],\n",
    "            'timing': np.mean(timings)\n",
    "        })"
   ]
  },
  {
   "cell_type": "code",
   "execution_count": 10,
   "metadata": {},
   "outputs": [],
   "source": [
    "results = pd.DataFrame(results)"
   ]
  },
  {
   "cell_type": "markdown",
   "metadata": {},
   "source": [
    "## Plot the Roundtrip Times\n",
    "Plot the run time as a function of molecule size"
   ]
  },
  {
   "cell_type": "code",
   "execution_count": 11,
   "metadata": {},
   "outputs": [],
   "source": [
    "results['model_type'] = results['model'].apply(lambda x: x.split(\"_\")[-2])\n",
    "results['input_fidelity'] = results['model'].apply(lambda x: x.split(\"_\")[-2])"
   ]
  },
  {
   "cell_type": "code",
   "execution_count": 12,
   "metadata": {},
   "outputs": [
    {
     "data": {
      "image/png": "[encoded data removed]",
      "text/plain": [
       "<Figure size 252x180 with 1 Axes>"
      ]
     },
     "metadata": {
      "needs_background": "light"
     },
     "output_type": "display_data"
    }
   ],
   "source": [
    "fig, ax = plt.subplots()\n",
    "\n",
    "labels = {}\n",
    "for gid, group in results.groupby('model'):\n",
    "    mt = group['model_type'].iloc[0]\n",
    "    f = group['input_fidelity'].iloc[0]\n",
    "    color = 'goldenrod' if mt == 'fchl' else 'firebrick'\n",
    "    marker = 'o' if f == 'b3lyp' else 's'\n",
    "    l = ax.semilogy(group['n_atoms'], group['timing'],# yerr=data['timing_err'], \n",
    "                    color=color, linestyle='none', marker=marker,\n",
    "                    label=mt, markersize=5, alpha=0.5)\n",
    "    labels[mt] = l[0]\n",
    "ax.set_xlabel('Number of Atoms')\n",
    "ax.set_ylabel('Evaluation Time (ms)')\n",
    "ax.legend(labels.values(), labels.keys())\n",
    "\n",
    "fig.set_size_inches(3.5, 2.5)\n",
    "fig.tight_layout()"
   ]
  },
  {
   "cell_type": "markdown",
   "metadata": {},
   "source": [
    "We can expect runtimes of around 1 second for SchNet and 1 minute for FCHL models."
   ]
  }
 ],
 "metadata": {
  "kernelspec": {
   "display_name": "Python 3",
   "language": "python",
   "name": "python3"
  },
  "language_info": {
   "codemirror_mode": {
    "name": "ipython",
    "version": 3
   },
   "file_extension": ".py",
   "mimetype": "text/x-python",
   "name": "python",
   "nbconvert_exporter": "python",
   "pygments_lexer": "ipython3",
   "version": "3.7.6"
  }
 },
 "nbformat": 4,
 "nbformat_minor": 4
}
