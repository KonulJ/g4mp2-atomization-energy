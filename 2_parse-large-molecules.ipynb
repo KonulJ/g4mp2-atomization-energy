{
 "cells": [
  {
   "cell_type": "markdown",
   "metadata": {},
   "source": [
    "# Parse Large Molecules\n",
    "We also have the G4MP2 energies of large molecules. This script reads them in from the format I was sent, and puts them into a DataFrame."
   ]
  },
  {
   "cell_type": "code",
   "execution_count": 1,
   "metadata": {
    "collapsed": true
   },
   "outputs": [],
   "source": [
    "from jcesr_ml.utils import compute_atomization_energy\n",
    "from dlhub_sdk.models.datasets import TabularDataset\n",
    "from pymatgen.io.xyz import XYZ\n",
    "from ase.io.xyz import read_xyz\n",
    "from pybel import readstring\n",
    "from io import StringIO\n",
    "from glob import glob\n",
    "from tqdm import tqdm\n",
    "import pandas as pd\n",
    "import json\n",
    "import os"
   ]
  },
  {
   "cell_type": "code",
   "execution_count": 2,
   "metadata": {
    "collapsed": true
   },
   "outputs": [],
   "source": [
    "output_path = os.path.join('data', 'output', 'sugar_data.json')"
   ]
  },
  {
   "cell_type": "markdown",
   "metadata": {},
   "source": [
    "## Find the Files\n",
    "Load in the list of files from disk"
   ]
  },
  {
   "cell_type": "code",
   "execution_count": 3,
   "metadata": {},
   "outputs": [
    {
     "name": "stdout",
     "output_type": "stream",
     "text": [
      "Found 169 files\n"
     ]
    }
   ],
   "source": [
    "files = sorted(glob(os.path.join('data', 'input', 'GDB_Sugar_Data', '*.xyz')))\n",
    "print('Found {} files'.format(len(files)))"
   ]
  },
  {
   "cell_type": "markdown",
   "metadata": {},
   "source": [
    "Print out a file"
   ]
  },
  {
   "cell_type": "code",
   "execution_count": 4,
   "metadata": {},
   "outputs": [
    {
     "name": "stdout",
     "output_type": "stream",
     "text": [
      "15\n",
      "Lattice=\"1.0 0.0 0.0 0.0 1.0 0.0 0.0 0.0 1.0\" Properties=species:S:1:pos:R:3:Z:I:1 pbc=\"F F F\"\n",
      "C       1.31302700      -0.01963100      -0.00001900        6 \n",
      "O       1.51532300       1.17613700      -0.00001300        8 \n",
      "O       2.33757700      -0.91535000      -0.00003900        8 \n",
      "H       3.14699500      -0.38391600      -0.00004800        1 \n",
      "C       0.01695900      -0.70499200      -0.00000000        6 \n",
      "C      -1.17617700      -0.08344200       0.00002500        6 \n",
      "C      -2.43710300      -0.92361700       0.00000700        6 \n",
      "H      -3.33801500      -0.30690900       0.00044300        1 \n",
      "H      -2.47489900      -1.57478400      -0.88000900        1 \n",
      "H      -2.47449000      -1.57546800       0.87953000        1 \n",
      "H       0.06364900      -1.78926000      -0.00000500        1 \n",
      "C      -1.33094400       1.41699900       0.00004400        6 \n",
      "H      -0.83845600       1.86318700       0.86873000        1 \n",
      "H      -0.83835800       1.86322800      -0.86856400        1 \n",
      "H      -2.38419900       1.70572100      -0.00000700        1 \n",
      "G4MP2-0K                                             (Ha): -345.329246\n",
      "G4MP2-ZPE                                            (Ha):   0.120859\n",
      "G4MP2-Energy                                         (Ha): -345.322525\n",
      "G4MP2-Enthalpy                                       (Ha): -345.321581\n",
      "G4MP2-FreeE                                          (Ha): -345.360290\n",
      "Solvation Energies (kcal/mol)\n",
      "Water    -4.3280\n",
      "ACN      -5.8230\n",
      "DMSO     -5.1118\n",
      "\n"
     ]
    }
   ],
   "source": [
    "with open(files[0]) as fp:\n",
    "    content = fp.readlines()\n",
    "    print(''.join(content))"
   ]
  },
  {
   "cell_type": "markdown",
   "metadata": {},
   "source": [
    "As in the original dataset, we have G4MP2 data at the bottom of an XYZ file"
   ]
  },
  {
   "cell_type": "markdown",
   "metadata": {},
   "source": [
    "## Load in B3LYP Data\n",
    "This was computed separately, and is available in a separate text file"
   ]
  },
  {
   "cell_type": "code",
   "execution_count": 5,
   "metadata": {
    "collapsed": true
   },
   "outputs": [],
   "source": [
    "b3lyp_data = pd.read_csv(os.path.join('data', 'input', 'GDB_Sugar_Data', 'Energy_GDB_data.txt'), delim_whitespace=True)"
   ]
  },
  {
   "cell_type": "code",
   "execution_count": 6,
   "metadata": {},
   "outputs": [
    {
     "data": {
      "text/html": [
       "<div>\n",
       "<style scoped>\n",
       "    .dataframe tbody tr th:only-of-type {\n",
       "        vertical-align: middle;\n",
       "    }\n",
       "\n",
       "    .dataframe tbody tr th {\n",
       "        vertical-align: top;\n",
       "    }\n",
       "\n",
       "    .dataframe thead th {\n",
       "        text-align: right;\n",
       "    }\n",
       "</style>\n",
       "<table border=\"1\" class=\"dataframe\">\n",
       "  <thead>\n",
       "    <tr style=\"text-align: right;\">\n",
       "      <th></th>\n",
       "      <th>filename</th>\n",
       "      <th>zpe</th>\n",
       "      <th>E0</th>\n",
       "      <th>Ee</th>\n",
       "    </tr>\n",
       "  </thead>\n",
       "  <tbody>\n",
       "    <tr>\n",
       "      <th>0</th>\n",
       "      <td>furan-hydroxymethylfurfuraldehyde.in.out</td>\n",
       "      <td>0.112218</td>\n",
       "      <td>-457.799384</td>\n",
       "      <td>-457.911602</td>\n",
       "    </tr>\n",
       "    <tr>\n",
       "      <th>1</th>\n",
       "      <td>phenol-2ethylphenol.in.out</td>\n",
       "      <td>0.160611</td>\n",
       "      <td>-385.967323</td>\n",
       "      <td>-386.127934</td>\n",
       "    </tr>\n",
       "    <tr>\n",
       "      <th>2</th>\n",
       "      <td>oxygenates-maltol.in.out</td>\n",
       "      <td>0.113020</td>\n",
       "      <td>-457.825407</td>\n",
       "      <td>-457.938427</td>\n",
       "    </tr>\n",
       "    <tr>\n",
       "      <th>3</th>\n",
       "      <td>aromatics-orthoxylene.in.out</td>\n",
       "      <td>0.155303</td>\n",
       "      <td>-310.751167</td>\n",
       "      <td>-310.906470</td>\n",
       "    </tr>\n",
       "    <tr>\n",
       "      <th>4</th>\n",
       "      <td>furan-dimethylfuran.in.out</td>\n",
       "      <td>0.124978</td>\n",
       "      <td>-308.565897</td>\n",
       "      <td>-308.690875</td>\n",
       "    </tr>\n",
       "  </tbody>\n",
       "</table>\n",
       "</div>"
      ],
      "text/plain": [
       "                                   filename       zpe          E0          Ee\n",
       "0  furan-hydroxymethylfurfuraldehyde.in.out  0.112218 -457.799384 -457.911602\n",
       "1                phenol-2ethylphenol.in.out  0.160611 -385.967323 -386.127934\n",
       "2                  oxygenates-maltol.in.out  0.113020 -457.825407 -457.938427\n",
       "3              aromatics-orthoxylene.in.out  0.155303 -310.751167 -310.906470\n",
       "4                furan-dimethylfuran.in.out  0.124978 -308.565897 -308.690875"
      ]
     },
     "execution_count": 6,
     "metadata": {},
     "output_type": "execute_result"
    }
   ],
   "source": [
    "b3lyp_data.head()"
   ]
  },
  {
   "cell_type": "markdown",
   "metadata": {},
   "source": [
    "Make a column with the data name"
   ]
  },
  {
   "cell_type": "code",
   "execution_count": 7,
   "metadata": {
    "collapsed": true
   },
   "outputs": [],
   "source": [
    "b3lyp_data['name'] = b3lyp_data['filename'].apply(lambda x: x.split(\".\")[0])"
   ]
  },
  {
   "cell_type": "markdown",
   "metadata": {},
   "source": [
    "Rename the columns to match QM9 nomenclature, and drop columns not found in QM9"
   ]
  },
  {
   "cell_type": "code",
   "execution_count": 8,
   "metadata": {
    "collapsed": true
   },
   "outputs": [],
   "source": [
    "b3lyp_data.rename(columns={'E0': 'u0'}, inplace=True)"
   ]
  },
  {
   "cell_type": "code",
   "execution_count": 9,
   "metadata": {
    "collapsed": true
   },
   "outputs": [],
   "source": [
    "b3lyp_data.drop(['filename', 'Ee'], 'columns', inplace=True)"
   ]
  },
  {
   "cell_type": "markdown",
   "metadata": {},
   "source": [
    "It contains the filename and B3LPY energies. We will turn it into a dict of \"molecule name\" -> properties for easier use"
   ]
  },
  {
   "cell_type": "code",
   "execution_count": 10,
   "metadata": {
    "collapsed": true
   },
   "outputs": [],
   "source": [
    "b3lyp_data = b3lyp_data.set_index('name').to_dict('index')"
   ]
  },
  {
   "cell_type": "markdown",
   "metadata": {},
   "source": [
    "We now have an easy to use dict of B3LYP properties"
   ]
  },
  {
   "cell_type": "markdown",
   "metadata": {},
   "source": [
    "## Parse Data\n",
    "Get the key fields and render the data as a dataframe"
   ]
  },
  {
   "cell_type": "code",
   "execution_count": 11,
   "metadata": {
    "collapsed": true
   },
   "outputs": [],
   "source": [
    "def extract_g4mp2(lines):\n",
    "    \"\"\"\n",
    "    Extract the G4MP2 outputs and solvation energies\n",
    "    \n",
    "    Args:\n",
    "        lines ([string]): Lines from the XYZ file\n",
    "    Returns:\n",
    "        (dict): Properites related to the G4MP2 otuputs and solubility calculations\n",
    "    \"\"\"\n",
    "    \n",
    "    # Generate list of JSCER properties\n",
    "    properties = ['g4mp2_0k', 'g4mp2_zpe', 'g4mp2_energy', 'g4mp2_enthalpy', 'g4mp2_free',\n",
    "                  'sol_water', 'sol_acn', 'sol_dmso']\n",
    "    return dict((name, float(line.split()[-1])) for name, line in \n",
    "               zip(properties, lines[-9:-4] + lines[-3:]))\n",
    "# extract_g4mp2(content) "
   ]
  },
  {
   "cell_type": "code",
   "execution_count": 12,
   "metadata": {
    "collapsed": true
   },
   "outputs": [],
   "source": [
    "def get_clean_xyz_file(lines):\n",
    "    \"\"\"The XYZ files in our dataset don't parse with ASE or pymatgen easily\n",
    "    \n",
    "    This operation cleans up the file to make it parse easily\n",
    "    \n",
    "    Args:\n",
    "        lines ([string]): Entire file\n",
    "    Returns:\n",
    "        (string) File in a cleaner XYZ format\n",
    "    \"\"\"\n",
    "    \n",
    "    # Force pymatgen's XYZ parser to read the file\n",
    "    mol = XYZ._from_frame_string(\"\".join(lines))\n",
    "    \n",
    "    # Convert the molecule back to XYZ format\n",
    "    return XYZ(mol).__str__()\n",
    "xyz = get_clean_xyz_file(content)"
   ]
  },
  {
   "cell_type": "code",
   "execution_count": 13,
   "metadata": {
    "collapsed": true
   },
   "outputs": [],
   "source": [
    "def get_counts(xyz):\n",
    "    \"\"\"Given the XYZ coordinates of a molecule, compute its size\n",
    "    \n",
    "    Args:\n",
    "        xyz (string): XYZ-format file of the atomic structure\n",
    "    Returns:\n",
    "        (dict) Different measures of molecular size:\n",
    "            n_atom (int): Number of atoms\n",
    "            n_heavy_atom (int): Number of heavy (i.e., non-Hydrogen) atoms\n",
    "            n_electrons (int): Number of electrons in the system\n",
    "    \"\"\"\n",
    "    \n",
    "    mol = read_xyz(StringIO(xyz)).__next__()\n",
    "    Z = mol.get_atomic_numbers()\n",
    "    return {\n",
    "        'n_atom': len(Z),\n",
    "        'n_heavy_atoms': (Z > 1).sum(),\n",
    "        'n_electrons': Z.sum(), \n",
    "    }"
   ]
  },
  {
   "cell_type": "code",
   "execution_count": 14,
   "metadata": {
    "collapsed": true
   },
   "outputs": [],
   "source": [
    "def get_atomization_energies(xyz, u0, g4mp2_0k):\n",
    "    \"\"\"Compute the atomization energies for each molecule\n",
    "    \n",
    "    Args:\n",
    "        xyz (string): XYZ-format file of the atomic structure\n",
    "        u0 (float): B3LYP 0K total energy\n",
    "        g4mp2_0k (float): G4MP2 total energy\n",
    "    Returns:\n",
    "        (dict) With computed total energies:\n",
    "            u0_atom (float): B3LYP atomization energy (Ha)\n",
    "            g4mp2_atom (float): B3LYP atomization energy (Ha)\n",
    "    \"\"\"\n",
    "    \n",
    "    mol = read_xyz(StringIO(xyz)).__next__()\n",
    "    return {\n",
    "        'u0_atom': compute_atomization_energy(mol, u0, 'b3lyp'),\n",
    "        'g4mp2_atom': compute_atomization_energy(mol, g4mp2_0k, 'g4mp2')\n",
    "    }"
   ]
  },
  {
   "cell_type": "code",
   "execution_count": 15,
   "metadata": {
    "collapsed": true
   },
   "outputs": [],
   "source": [
    "def parse_files(file_list):\n",
    "    \"\"\"Convert XYZ files to a dataframe\n",
    "    \n",
    "    Args:\n",
    "        file_list ([str]): Path to files to be extracted\n",
    "    Returns:\n",
    "        (DataFrame) Dataset\n",
    "    \"\"\"\n",
    "    matrix = []\n",
    "    for file in tqdm(file_list):\n",
    "        with open(file) as fp:\n",
    "            lines = fp.readlines()\n",
    "        \n",
    "        # Extract the numerical data\n",
    "        item = extract_g4mp2(lines)\n",
    "        \n",
    "        # Store the file name and XYZ file\n",
    "        item['name'] = os.path.basename(file).split(\".\")[0]\n",
    "        item['xyz'] = get_clean_xyz_file(lines)\n",
    "        \n",
    "        # Compute the smiles \n",
    "        item['smiles'] = readstring('xyz', item['xyz']).write('smiles')\n",
    "        \n",
    "        # Get some metrics of the atomic size\n",
    "        item.update(get_counts(item['xyz']))\n",
    "        \n",
    "        # Get the B3LYP data\n",
    "        item.update(b3lyp_data[item['name']])\n",
    "        \n",
    "        # Get the atomization energies\n",
    "        item.update(get_atomization_energies(item['xyz'],\n",
    "                                             item['u0'],\n",
    "                                             item['g4mp2_0k']))\n",
    "        \n",
    "        matrix.append(item)\n",
    "        \n",
    "    df = pd.DataFrame(matrix)\n",
    "    return df     "
   ]
  },
  {
   "cell_type": "code",
   "execution_count": 16,
   "metadata": {},
   "outputs": [
    {
     "name": "stderr",
     "output_type": "stream",
     "text": [
      "100%|██████████| 169/169 [00:00<00:00, 406.77it/s]\n"
     ]
    }
   ],
   "source": [
    "dataset = parse_files(files)"
   ]
  },
  {
   "cell_type": "markdown",
   "metadata": {},
   "source": [
    "Sort it into a reproducible order"
   ]
  },
  {
   "cell_type": "code",
   "execution_count": 17,
   "metadata": {
    "collapsed": true
   },
   "outputs": [],
   "source": [
    "dataset.sort_values('name', inplace=True)"
   ]
  },
  {
   "cell_type": "markdown",
   "metadata": {},
   "source": [
    "Get only the molecules larger than 9 heavy atoms"
   ]
  },
  {
   "cell_type": "code",
   "execution_count": 18,
   "metadata": {},
   "outputs": [
    {
     "name": "stdout",
     "output_type": "stream",
     "text": [
      "Found 67 molecules with >9 heavy atoms\n"
     ]
    }
   ],
   "source": [
    "dataset.query('n_heavy_atoms > 9', inplace=True)\n",
    "print('Found {} molecules with >9 heavy atoms'.format(len(dataset)))"
   ]
  },
  {
   "cell_type": "markdown",
   "metadata": {},
   "source": [
    "## Remove an Outlier\n",
    "One of the moelcules has a very low energy, which we believe is the result of a faulty calculation"
   ]
  },
  {
   "cell_type": "code",
   "execution_count": 19,
   "metadata": {
    "collapsed": true
   },
   "outputs": [],
   "source": [
    "dataset.query('name != \"syringol-4-propylsyringol\"', inplace=True)"
   ]
  },
  {
   "cell_type": "markdown",
   "metadata": {},
   "source": [
    "## Mark a Test Set\n",
    "Just in case we want to do any kind of hold-out test later"
   ]
  },
  {
   "cell_type": "code",
   "execution_count": 20,
   "metadata": {
    "collapsed": true
   },
   "outputs": [],
   "source": [
    "dataset['in_holdout'] = False"
   ]
  },
  {
   "cell_type": "code",
   "execution_count": 21,
   "metadata": {
    "collapsed": true
   },
   "outputs": [],
   "source": [
    "dataset.loc[dataset.sample(frac=0.1, random_state=1).index, 'in_holdout'] = True"
   ]
  },
  {
   "cell_type": "markdown",
   "metadata": {},
   "source": [
    "## Save the Data with a Description\n",
    "Use the DLHub SDK to describe this data"
   ]
  },
  {
   "cell_type": "code",
   "execution_count": 22,
   "metadata": {
    "collapsed": true
   },
   "outputs": [],
   "source": [
    "dataset.to_json(output_path, 'records', lines=True)"
   ]
  },
  {
   "cell_type": "markdown",
   "metadata": {},
   "source": [
    "Make the description"
   ]
  },
  {
   "cell_type": "code",
   "execution_count": 23,
   "metadata": {
    "collapsed": true
   },
   "outputs": [],
   "source": [
    "metadata = TabularDataset.create_model(output_path, format='json', read_kwargs={'lines': True})"
   ]
  },
  {
   "cell_type": "code",
   "execution_count": 24,
   "metadata": {},
   "outputs": [
    {
     "data": {
      "text/plain": [
       "<dlhub_sdk.models.datasets.TabularDataset at 0x7f41dba207b8>"
      ]
     },
     "execution_count": 24,
     "metadata": {},
     "output_type": "execute_result"
    }
   ],
   "source": [
    "metadata.set_title('Solubilities and G4MP2 Energies of {} Sugar Molecules'.format(len(dataset)))\n",
    "metadata.set_name('G4MP2-heavy')"
   ]
  },
  {
   "cell_type": "markdown",
   "metadata": {},
   "source": [
    "TBD: Get other authors from Rajeev"
   ]
  },
  {
   "cell_type": "code",
   "execution_count": 25,
   "metadata": {},
   "outputs": [
    {
     "data": {
      "text/plain": [
       "<dlhub_sdk.models.datasets.TabularDataset at 0x7f41dba207b8>"
      ]
     },
     "execution_count": 25,
     "metadata": {},
     "output_type": "execute_result"
    }
   ],
   "source": [
    "metadata.set_authors(['Assary, Rajeev', 'Narayanan, Badri', 'Cheng, Lei', 'Curtiss, Larry'],\n",
    "                     [['Argonne National Laboratory']]*4)"
   ]
  },
  {
   "cell_type": "code",
   "execution_count": 26,
   "metadata": {
    "collapsed": true
   },
   "outputs": [],
   "source": [
    "for name, desc in [('g4mp2_0k', 'G4MP2 Internal energy at 0K'), ('g4mp2_energy', 'G4MP2 Internal energy at 298.15K'),\n",
    "                   ('g4mp2_enthalpy', 'G4MP2 Enthalpy at 298.15K'), ('g4mp2_free', 'G4MP2 Free eergy at 0K'), \n",
    "                   ('g4mp2_atom', 'G4MP2 atomization energy at 0K'), ('g4mp2_zpe', 'Zero-point energy of molecule'),\n",
    "                   ('zpe', 'B3LYP Zero point vibrational energy'), ('u0', 'B3LYP Internal energy at 0K'), \n",
    "                   ('u0_atom', 'B3LYP atomization energy at 0K')]:\n",
    "    metadata.annotate_column(name, description=desc, units='Ha')"
   ]
  },
  {
   "cell_type": "code",
   "execution_count": 27,
   "metadata": {
    "collapsed": true
   },
   "outputs": [],
   "source": [
    "for sol in dataset.columns:\n",
    "    if sol.startswith('sol_'):\n",
    "        metadata.annotate_column(sol, 'Solubility in {}'.format(sol.split(\"_\")[-1]))"
   ]
  },
  {
   "cell_type": "code",
   "execution_count": 28,
   "metadata": {},
   "outputs": [
    {
     "data": {
      "text/plain": [
       "<dlhub_sdk.models.datasets.TabularDataset at 0x7f41dba207b8>"
      ]
     },
     "execution_count": 28,
     "metadata": {},
     "output_type": "execute_result"
    }
   ],
   "source": [
    "metadata.annotate_column('name', 'Filename, which contains the name of the molecule')"
   ]
  },
  {
   "cell_type": "code",
   "execution_count": 29,
   "metadata": {},
   "outputs": [
    {
     "data": {
      "text/plain": [
       "<dlhub_sdk.models.datasets.TabularDataset at 0x7f41dba207b8>"
      ]
     },
     "execution_count": 29,
     "metadata": {},
     "output_type": "execute_result"
    }
   ],
   "source": [
    "metadata.annotate_column('in_holdout', 'Whether the entry is in the test set')"
   ]
  },
  {
   "cell_type": "code",
   "execution_count": 30,
   "metadata": {},
   "outputs": [
    {
     "data": {
      "text/plain": [
       "<dlhub_sdk.models.datasets.TabularDataset at 0x7f41dba207b8>"
      ]
     },
     "execution_count": 30,
     "metadata": {},
     "output_type": "execute_result"
    }
   ],
   "source": [
    "metadata.annotate_column('n_atom', 'Number of atoms')\n",
    "metadata.annotate_column('n_electrons', 'Number of electrons')\n",
    "metadata.annotate_column('n_heavy_atoms', 'Number of non-hydrogen atoms')"
   ]
  },
  {
   "cell_type": "code",
   "execution_count": 31,
   "metadata": {},
   "outputs": [
    {
     "data": {
      "text/plain": [
       "<dlhub_sdk.models.datasets.TabularDataset at 0x7f41dba207b8>"
      ]
     },
     "execution_count": 31,
     "metadata": {},
     "output_type": "execute_result"
    }
   ],
   "source": [
    "metadata.annotate_column('smiles', 'SMILES string after relaxation', data_type='string')\n",
    "metadata.annotate_column('xyz', 'XYZ coordinates after relaxation', data_type='XYZ file')"
   ]
  },
  {
   "cell_type": "code",
   "execution_count": 32,
   "metadata": {},
   "outputs": [
    {
     "data": {
      "text/plain": [
       "<dlhub_sdk.models.datasets.TabularDataset at 0x7f41dba207b8>"
      ]
     },
     "execution_count": 32,
     "metadata": {},
     "output_type": "execute_result"
    }
   ],
   "source": [
    "metadata.mark_inputs(['smiles', 'xyz'])"
   ]
  },
  {
   "cell_type": "code",
   "execution_count": 33,
   "metadata": {
    "collapsed": true
   },
   "outputs": [],
   "source": [
    "assert len(metadata.get_unannotated_columns()) == 0"
   ]
  },
  {
   "cell_type": "code",
   "execution_count": 34,
   "metadata": {
    "collapsed": true
   },
   "outputs": [],
   "source": [
    "with open(os.path.join(os.path.dirname(output_path),\n",
    "                       '{}-description.json'.format(metadata['dlhub']['name'])), 'w') as fp:\n",
    "    json.dump(metadata.to_dict(), fp, indent=2)"
   ]
  },
  {
   "cell_type": "code",
   "execution_count": null,
   "metadata": {
    "collapsed": true
   },
   "outputs": [],
   "source": []
  }
 ],
 "metadata": {
  "kernelspec": {
   "display_name": "Python 3",
   "language": "python",
   "name": "python3"
  },
  "language_info": {
   "codemirror_mode": {
    "name": "ipython",
    "version": 3
   },
   "file_extension": ".py",
   "mimetype": "text/x-python",
   "name": "python",
   "nbconvert_exporter": "python",
   "pygments_lexer": "ipython3",
   "version": "3.7.2"
  }
 },
 "nbformat": 4,
 "nbformat_minor": 2
}
