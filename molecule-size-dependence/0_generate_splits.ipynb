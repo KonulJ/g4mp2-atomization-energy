{
 "cells": [
  {
   "cell_type": "markdown",
   "metadata": {},
   "source": [
    "# Determine Splits\n",
    "Figure out what variable to use to split molecules between \"small\" and \"larger\""
   ]
  },
  {
   "cell_type": "code",
   "execution_count": 1,
   "metadata": {},
   "outputs": [],
   "source": [
    "%matplotlib inline\n",
    "from matplotlib import pyplot as plt\n",
    "from jcesr_ml.benchmark import load_benchmark_data\n",
    "from scipy.interpolate import interp1d\n",
    "from ase.io.xyz import read_xyz\n",
    "from io import StringIO\n",
    "from math import ceil\n",
    "import pickle as pkl\n",
    "import numpy as np\n",
    "import shutil\n",
    "import os"
   ]
  },
  {
   "cell_type": "code",
   "execution_count": 2,
   "metadata": {},
   "outputs": [],
   "source": [
    "schnet_dir = os.path.join('..', 'benchmark', 'schnet-v2')"
   ]
  },
  {
   "cell_type": "markdown",
   "metadata": {},
   "source": [
    "## Get the Datasets\n",
    "Load in the training and test splits"
   ]
  },
  {
   "cell_type": "code",
   "execution_count": 3,
   "metadata": {},
   "outputs": [],
   "source": [
    "train_data, test_data = load_benchmark_data()"
   ]
  },
  {
   "cell_type": "markdown",
   "metadata": {},
   "source": [
    "## Evaluate the Size of Molecules\n",
    "Make a few different measures of the size of the molecule:\n",
    "- `n_atom`: Total number of atoms\n",
    "- `n_heavy`: Total number of heavy atoms\n",
    "- `n_electron`: Total number of electrons (counting valence and core)"
   ]
  },
  {
   "cell_type": "code",
   "execution_count": 4,
   "metadata": {},
   "outputs": [],
   "source": [
    "def get_counts(xyz):\n",
    "    \"\"\"Given the XYZ coordinates of a molecule, compute its size\n",
    "    \n",
    "    Args:\n",
    "        xyz (string): XYZ-format file of the atomic structure\n",
    "    Returns:\n",
    "        n_heavy_atom (int): Number of heavy (i.e., non-Hydrogen) atoms\n",
    "        n_electrons (int): Number of electrons in the system\n",
    "        elements ({string}): Elements in this compound\n",
    "    \"\"\"\n",
    "    \n",
    "    mol = read_xyz(StringIO(xyz)).__next__()\n",
    "    Z = mol.get_atomic_numbers()\n",
    "    return (Z > 1).sum(), Z.sum(), set(mol.get_chemical_symbols())"
   ]
  },
  {
   "cell_type": "code",
   "execution_count": 5,
   "metadata": {},
   "outputs": [
    {
     "data": {
      "text/plain": [
       "(1, 10, {'C', 'H'})"
      ]
     },
     "execution_count": 5,
     "metadata": {},
     "output_type": "execute_result"
    }
   ],
   "source": [
    "get_counts(train_data['xyz'].iloc[0])"
   ]
  },
  {
   "cell_type": "code",
   "execution_count": 6,
   "metadata": {},
   "outputs": [
    {
     "name": "stdout",
     "output_type": "stream",
     "text": [
      "CPU times: user 29.3 s, sys: 419 ms, total: 29.7 s\n",
      "Wall time: 29.7 s\n"
     ]
    }
   ],
   "source": [
    "%%time\n",
    "train_data['n_heavy'], train_data['n_electron'], train_data['elements'] = zip(*train_data['xyz'].apply(get_counts))"
   ]
  },
  {
   "cell_type": "markdown",
   "metadata": {},
   "source": [
    "## What is the Range of Molecular Sizes?\n",
    "One main test we want to set up is to assess whether a model trained on smaller molecules can be used to predict the properties of larger molecules"
   ]
  },
  {
   "cell_type": "code",
   "execution_count": 7,
   "metadata": {},
   "outputs": [
    {
     "data": {
      "image/png": "[encoded data removed]",
      "text/plain": [
       "<matplotlib.figure.Figure at 0x7f6644949080>"
      ]
     },
     "metadata": {},
     "output_type": "display_data"
    }
   ],
   "source": [
    "fig, axs = plt.subplots(1, 3)\n",
    "\n",
    "for ax, tag, label in zip(axs, ['n_atom', 'n_heavy', 'n_electron'],\n",
    "                          ['# Atoms', '# Heavy Atoms', '# Electrons']):\n",
    "    \n",
    "    ax.hist(train_data[tag], bins=np.arange(0, train_data[tag].max() + 1), density=True)\n",
    "    ax.set_title(label)\n",
    "    ax.set_xlabel('Count')\n",
    "axs[0].set_ylabel('Frequency')\n",
    "    \n",
    "fig.set_size_inches(6.5, 2)\n",
    "fig.tight_layout()"
   ]
  },
  {
   "cell_type": "markdown",
   "metadata": {},
   "source": [
    "*Finding*: Of these, the electron counts and number of atoms would be better for making test splits as they are closer to normally-distributed. Number of electrons correlates to execution time, so let's use that for splits"
   ]
  },
  {
   "cell_type": "markdown",
   "metadata": {
    "collapsed": true
   },
   "source": [
    "## Make Training Set Subsets\n",
    "Make subsets of the training data that are similar in size to our dataset"
   ]
  },
  {
   "cell_type": "markdown",
   "metadata": {},
   "source": [
    "Delete the current training subsets"
   ]
  },
  {
   "cell_type": "code",
   "execution_count": 8,
   "metadata": {},
   "outputs": [],
   "source": [
    "if os.path.isdir('subsets'):\n",
    "    shutil.rmtree('subsets')\n",
    "os.mkdir('subsets')"
   ]
  },
  {
   "cell_type": "markdown",
   "metadata": {},
   "source": [
    "Load in the current training DB"
   ]
  },
  {
   "cell_type": "code",
   "execution_count": 9,
   "metadata": {},
   "outputs": [
    {
     "name": "stderr",
     "output_type": "stream",
     "text": [
      "/home/loganw/.conda/envs/jcesr/lib/python3.6/site-packages/h5py/__init__.py:36: FutureWarning: Conversion of the second argument of issubdtype from `float` to `np.floating` is deprecated. In future, it will be treated as `np.float64 == np.dtype(float).type`.\n",
      "  from ._conv import register_converters as _register_converters\n"
     ]
    }
   ],
   "source": [
    "with open(os.path.join(schnet_dir, 'train_dataset.pkl'), 'rb') as fp:\n",
    "    train_db = pkl.load(fp)\n",
    "    train_db.dbpath = os.path.join(schnet_dir, train_db.dbpath)"
   ]
  },
  {
   "cell_type": "code",
   "execution_count": 10,
   "metadata": {},
   "outputs": [],
   "source": [
    "e_count = list(range(train_data['n_electron'].min(),\n",
    "                    train_data['n_electron'].max() + 1))\n",
    "train_sizes = [(train_data['n_electron'] < i).sum() for i in e_count]"
   ]
  },
  {
   "cell_type": "code",
   "execution_count": 11,
   "metadata": {
    "scrolled": true
   },
   "outputs": [
    {
     "name": "stdout",
     "output_type": "stream",
     "text": [
      "Target: 120 - e Count: 41 - Actual: 152\n",
      "Target: 1000 - e Count: 51 - Actual: 1161\n",
      "Target: 10000 - e Count: 61 - Actual: 14317\n",
      "Target: 100000 - e Count: 71 - Actual: 111906\n"
     ]
    }
   ],
   "source": [
    "t_int = interp1d(train_sizes, e_count)\n",
    "for s in [120, 1000, 10000, 100000]:\n",
    "    \n",
    "    # Get the target size\n",
    "    target_e = int(ceil(t_int(s)))\n",
    "    actual_s = (train_data['n_electron'] < target_e).sum()\n",
    "    print('Target: {} - e Count: {} - Actual: {:.0f}'.format(s, target_e, actual_s))\n",
    "    \n",
    "    # Get the entries for the training set\n",
    "    inds = np.where((train_data['n_electron'] < target_e))[0]\n",
    "    \n",
    "    # Make and save the subset db\n",
    "    subset_sb = train_db.create_subset(inds)\n",
    "    with open(os.path.join('subsets', '{}.pkl'.format(target_e)), 'wb') as fp:\n",
    "        pkl.dump(subset_sb, fp)"
   ]
  },
  {
   "cell_type": "code",
   "execution_count": null,
   "metadata": {},
   "outputs": [],
   "source": []
  }
 ],
 "metadata": {
  "kernelspec": {
   "display_name": "Python 3",
   "language": "python",
   "name": "python3"
  },
  "language_info": {
   "codemirror_mode": {
    "name": "ipython",
    "version": 3
   },
   "file_extension": ".py",
   "mimetype": "text/x-python",
   "name": "python",
   "nbconvert_exporter": "python",
   "pygments_lexer": "ipython3",
   "version": "3.6.3"
  }
 },
 "nbformat": 4,
 "nbformat_minor": 2
}
