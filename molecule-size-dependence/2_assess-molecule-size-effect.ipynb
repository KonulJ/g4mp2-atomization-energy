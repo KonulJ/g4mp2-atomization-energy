{
 "cells": [
  {
   "cell_type": "markdown",
   "metadata": {},
   "source": [
    "# Compare Network Performance\n",
    "Load in the results from the model trainings, and evaluate their performance"
   ]
  },
  {
   "cell_type": "code",
   "execution_count": 1,
   "metadata": {},
   "outputs": [],
   "source": [
    "%matplotlib inline\n",
    "from matplotlib import pyplot as plt\n",
    "from tqdm import tqdm\n",
    "from sklearn.metrics import mean_absolute_error, r2_score, mean_squared_error\n",
    "from jcesr_ml.schnetpack import load_model, run_model\n",
    "from jcesr_ml.benchmark import load_benchmark_data\n",
    "from ase.units import eV, Hartree\n",
    "from time import perf_counter\n",
    "from glob import glob\n",
    "import pickle as pkl\n",
    "import pandas as pd\n",
    "import numpy as np\n",
    "import torch\n",
    "import json\n",
    "import os"
   ]
  },
  {
   "cell_type": "markdown",
   "metadata": {},
   "source": [
    "Make the SchNet Directory"
   ]
  },
  {
   "cell_type": "code",
   "execution_count": 2,
   "metadata": {},
   "outputs": [],
   "source": [
    "schnet_dir = os.path.join('..', 'benchmark', 'schnet')"
   ]
  },
  {
   "cell_type": "markdown",
   "metadata": {},
   "source": [
    "Adjustable parameters"
   ]
  },
  {
   "cell_type": "code",
   "execution_count": 3,
   "metadata": {},
   "outputs": [],
   "source": [
    "big_mol_size = 67"
   ]
  },
  {
   "cell_type": "markdown",
   "metadata": {},
   "source": [
    "## Load in the Test Data\n",
    "We are going to use it to validate our models"
   ]
  },
  {
   "cell_type": "code",
   "execution_count": 4,
   "metadata": {},
   "outputs": [],
   "source": [
    "_, test_data = load_benchmark_data()"
   ]
  },
  {
   "cell_type": "markdown",
   "metadata": {},
   "source": [
    "## Get Baseline Statistics of the Test Data\n",
    "Things like the mean absolute devation, for understanding if the models are good"
   ]
  },
  {
   "cell_type": "code",
   "execution_count": 5,
   "metadata": {},
   "outputs": [],
   "source": [
    "with open(os.path.join(schnet_dir, 'baseline-stats.json')) as fp:\n",
    "    baseline = json.load(fp)"
   ]
  },
  {
   "cell_type": "markdown",
   "metadata": {},
   "source": [
    "### Get the Statistics of Large Molecules\n",
    "For benchmark performance on the \"big\" subset of the data"
   ]
  },
  {
   "cell_type": "code",
   "execution_count": 6,
   "metadata": {},
   "outputs": [
    {
     "name": "stdout",
     "output_type": "stream",
     "text": [
      "Identified 6166 molecules larger than 67 in the test set\n"
     ]
    }
   ],
   "source": [
    "big_subset = test_data.query('n_electrons > {}'.format(67))\n",
    "print('Identified {} molecules larger than {} in the test set'.format(len(big_subset), big_mol_size))"
   ]
  },
  {
   "cell_type": "code",
   "execution_count": 7,
   "metadata": {},
   "outputs": [],
   "source": [
    "baseline['g4mp2_mad_big'] = np.abs(big_subset['g4mp2_0k'] - big_subset['g4mp2_0k'].mean()).mean() * Hartree / eV"
   ]
  },
  {
   "cell_type": "code",
   "execution_count": 8,
   "metadata": {},
   "outputs": [],
   "source": [
    "baseline['u0_total_energy_mae_big'] = np.abs(big_subset['u0'] - big_subset['u0'].mean()).mean() * Hartree / eV"
   ]
  },
  {
   "cell_type": "code",
   "execution_count": 9,
   "metadata": {},
   "outputs": [],
   "source": [
    "baseline['u0_atomization_mae_big'] = np.abs(big_subset['u0_atom'] - big_subset['g4mp2_atom']).mean() * Hartree / eV"
   ]
  },
  {
   "cell_type": "code",
   "execution_count": 10,
   "metadata": {},
   "outputs": [
    {
     "data": {
      "text/plain": [
       "{'u0_mad': 841.1849661470212,\n",
       " 'g4mp2_mad': 22876.056651597282,\n",
       " 'u0_total_energy_mae': 12.428890454448656,\n",
       " 'u0_atomization_mae': 0.20058570510961124,\n",
       " 'g4mp2_mad_big': 685.5958555834366,\n",
       " 'u0_total_energy_mae_big': 685.8615438329695,\n",
       " 'u0_atomization_mae_big': 0.17763538515155186}"
      ]
     },
     "execution_count": 10,
     "metadata": {},
     "output_type": "execute_result"
    }
   ],
   "source": [
    "baseline"
   ]
  },
  {
   "cell_type": "markdown",
   "metadata": {},
   "source": [
    "Save updated baseline stats"
   ]
  },
  {
   "cell_type": "code",
   "execution_count": 11,
   "metadata": {},
   "outputs": [],
   "source": [
    "with open('baseline-stats.json', 'w') as fp:\n",
    "    json.dump(baseline, fp)"
   ]
  },
  {
   "cell_type": "markdown",
   "metadata": {},
   "source": [
    "## Get Sizes of Training Subsets\n",
    "So that we can compare the error for these models against the random-subset benchmark"
   ]
  },
  {
   "cell_type": "code",
   "execution_count": 12,
   "metadata": {},
   "outputs": [],
   "source": [
    "train_size_lookup = dict()\n",
    "for f in glob('subsets/**.pkl'):\n",
    "    with open(f, 'rb') as fp:\n",
    "        train_size_lookup[int(os.path.basename(f)[:-4])] = len(pkl.load(fp))"
   ]
  },
  {
   "cell_type": "code",
   "execution_count": 13,
   "metadata": {},
   "outputs": [
    {
     "data": {
      "text/plain": [
       "{41: 152, 61: 14317, 71: 111906, 51: 1161}"
      ]
     },
     "execution_count": 13,
     "metadata": {},
     "output_type": "execute_result"
    }
   ],
   "source": [
    "train_size_lookup"
   ]
  },
  {
   "cell_type": "markdown",
   "metadata": {},
   "source": [
    "## Evaluate Effect of Molecule Size on `g4mp2` Model\n",
    "We want to find out if a model trained on smaller molecules can successfully predict the properties of larger molecules"
   ]
  },
  {
   "cell_type": "markdown",
   "metadata": {},
   "source": [
    "### Plot Learning Curves for G4MP2 Models\n",
    "Assess whether any models models learn faster"
   ]
  },
  {
   "cell_type": "code",
   "execution_count": 14,
   "metadata": {
    "scrolled": true
   },
   "outputs": [
    {
     "name": "stdout",
     "output_type": "stream",
     "text": [
      "g4mp2 best loss after 2589 epochs was at 1356 epochs: 6.017161619573672e-06\n",
      "g4mp2-multitask best loss after 5448 epochs was at 4169 epochs: 1.2998661765925885e-05\n",
      "g4mp2-delta best loss after 3226 epochs was at 1628 epochs: 2.134388269771771e-07\n",
      "g4mp2-charges best loss after 3706 epochs was at 2181 epochs: 5.485523223883355e-06\n",
      "g4mp2-charges-in-outnet best loss after 2690 epochs was at 1228 epochs: 6.255938010955855e-06\n",
      "g4mp2-transfer best loss after 1046 epochs was at 113 epochs: 6.206660039974053e-07\n",
      "g4mp2-stacked-delta best loss after 1738 epochs was at 423 epochs: 2.927757033465725e-07\n"
     ]
    },
    {
     "data": {
      "image/png": "[encoded data removed]",
      "text/plain": [
       "<Figure size 468x216 with 1 Axes>"
      ]
     },
     "metadata": {
      "needs_background": "light"
     },
     "output_type": "display_data"
    }
   ],
   "source": [
    "fig, ax = plt.subplots()\n",
    "size = 61\n",
    "for l in glob('./networks/g4**/{}/log.csv'.format(size)):\n",
    "    log = pd.read_csv(l)\n",
    "    name = os.path.basename(os.path.dirname(os.path.dirname(l)))\n",
    "    print('{} best loss after {} epochs was at {} epochs:'.format(name, len(log), log['Validation loss'].idxmin()),\n",
    "              log['Validation loss'].min())\n",
    "    ax.semilogy(log['Validation loss'], label=name, alpha=0.5)\n",
    "    \n",
    "ax.legend()\n",
    "fig.set_size_inches(6.5, 3)"
   ]
  },
  {
   "cell_type": "markdown",
   "metadata": {},
   "source": [
    "### Plot Learning as a Function of Training Set Size\n",
    "If we normalize for the training set size, do we achieve similar training set performance as the models which used molecules of all sizes?"
   ]
  },
  {
   "cell_type": "code",
   "execution_count": 15,
   "metadata": {},
   "outputs": [
    {
     "name": "stdout",
     "output_type": "stream",
     "text": [
      "Found 7 architectures: ['g4mp2', 'g4mp2-delta', 'g4mp2-charges', 'g4mp2-transfer', 'g4mp2-multitask', 'g4mp2-stacked-delta', 'g4mp2-charges-in-outnet']\n"
     ]
    }
   ],
   "source": [
    "models = sorted([x for x in os.listdir('networks') if x.startswith('g4mp2')], key=len)\n",
    "print('Found {} architectures:'.format(len(models)), models)"
   ]
  },
  {
   "cell_type": "code",
   "execution_count": 16,
   "metadata": {
    "scrolled": true
   },
   "outputs": [
    {
     "name": "stderr",
     "output_type": "stream",
     "text": [
      " 30%|███████████████████████████████████████████▋                                                                                                        | 3845/13026 [02:22<08:22, 18.27it/s]"
     ]
    }
   ],
   "source": [
    "results = []\n",
    "for name in models:\n",
    "    sizes = [int(os.path.basename(s)) for s in glob(os.path.join('networks', name, '*')) if os.path.isdir(s)]\n",
    "    for s in sizes:\n",
    "        # Load in the model\n",
    "        model = load_model(name, s, arch_dir=schnet_dir)\n",
    "        \n",
    "        # Display warning if not converged\n",
    "        converged = True\n",
    "        if not os.path.isfile(os.path.join('networks', name, str(s), 'finished')):\n",
    "            print('Warning {} not converged for size {}'.format(name, s))\n",
    "            converged = False\n",
    "\n",
    "        # Get the MAE on the test set\n",
    "        run_time = perf_counter()\n",
    "        y_pred = run_model(model, test_data, 'xyz', ['u0', 'atomic_charges'])\n",
    "        run_time = perf_counter() - run_time\n",
    "        if len(y_pred.shape) == 2:\n",
    "            y_pred = y_pred[:, 0]  # G4MP2 energy is always the first column\n",
    "            \n",
    "        big_mol = np.squeeze(test_data['n_electrons'] > big_mol_size)\n",
    "        results.append({\n",
    "            'size': train_size_lookup[s],\n",
    "            'n_electrons': s,\n",
    "            'name': name,\n",
    "            'mae': mean_absolute_error(y_pred, test_data['g4mp2_0k']) * Hartree / eV,\n",
    "            'mae_big': mean_absolute_error(y_pred[big_mol], test_data['g4mp2_0k'][big_mol]) * Hartree / eV,\n",
    "            'converged': converged,\n",
    "            'run_time': run_time\n",
    "        })"
   ]
  },
  {
   "cell_type": "code",
   "execution_count": 17,
   "metadata": {},
   "outputs": [
    {
     "data": {
      "text/html": [
       "<div>\n",
       "<style scoped>\n",
       "    .dataframe tbody tr th:only-of-type {\n",
       "        vertical-align: middle;\n",
       "    }\n",
       "\n",
       "    .dataframe tbody tr th {\n",
       "        vertical-align: top;\n",
       "    }\n",
       "\n",
       "    .dataframe thead th {\n",
       "        text-align: right;\n",
       "    }\n",
       "</style>\n",
       "<table border=\"1\" class=\"dataframe\">\n",
       "  <thead>\n",
       "    <tr style=\"text-align: right;\">\n",
       "      <th></th>\n",
       "      <th>converged</th>\n",
       "      <th>mae</th>\n",
       "      <th>mae_big</th>\n",
       "      <th>n_electrons</th>\n",
       "      <th>name</th>\n",
       "      <th>run_time</th>\n",
       "      <th>size</th>\n",
       "    </tr>\n",
       "  </thead>\n",
       "  <tbody>\n",
       "    <tr>\n",
       "      <th>0</th>\n",
       "      <td>True</td>\n",
       "      <td>0.068313</td>\n",
       "      <td>0.075127</td>\n",
       "      <td>61</td>\n",
       "      <td>g4mp2</td>\n",
       "      <td>594.661861</td>\n",
       "      <td>14317</td>\n",
       "    </tr>\n",
       "    <tr>\n",
       "      <th>1</th>\n",
       "      <td>True</td>\n",
       "      <td>0.014566</td>\n",
       "      <td>0.015312</td>\n",
       "      <td>71</td>\n",
       "      <td>g4mp2</td>\n",
       "      <td>588.532101</td>\n",
       "      <td>111906</td>\n",
       "    </tr>\n",
       "    <tr>\n",
       "      <th>2</th>\n",
       "      <td>True</td>\n",
       "      <td>0.285824</td>\n",
       "      <td>0.301556</td>\n",
       "      <td>51</td>\n",
       "      <td>g4mp2</td>\n",
       "      <td>593.554655</td>\n",
       "      <td>1161</td>\n",
       "    </tr>\n",
       "    <tr>\n",
       "      <th>3</th>\n",
       "      <td>True</td>\n",
       "      <td>1.141212</td>\n",
       "      <td>1.014614</td>\n",
       "      <td>41</td>\n",
       "      <td>g4mp2</td>\n",
       "      <td>588.268846</td>\n",
       "      <td>152</td>\n",
       "    </tr>\n",
       "    <tr>\n",
       "      <th>4</th>\n",
       "      <td>True</td>\n",
       "      <td>0.017967</td>\n",
       "      <td>0.020881</td>\n",
       "      <td>61</td>\n",
       "      <td>g4mp2-delta</td>\n",
       "      <td>594.168096</td>\n",
       "      <td>14317</td>\n",
       "    </tr>\n",
       "    <tr>\n",
       "      <th>5</th>\n",
       "      <td>True</td>\n",
       "      <td>0.004700</td>\n",
       "      <td>0.005008</td>\n",
       "      <td>71</td>\n",
       "      <td>g4mp2-delta</td>\n",
       "      <td>585.099019</td>\n",
       "      <td>111906</td>\n",
       "    </tr>\n",
       "    <tr>\n",
       "      <th>6</th>\n",
       "      <td>True</td>\n",
       "      <td>0.096653</td>\n",
       "      <td>0.123711</td>\n",
       "      <td>51</td>\n",
       "      <td>g4mp2-delta</td>\n",
       "      <td>589.974975</td>\n",
       "      <td>1161</td>\n",
       "    </tr>\n",
       "    <tr>\n",
       "      <th>7</th>\n",
       "      <td>True</td>\n",
       "      <td>0.430368</td>\n",
       "      <td>0.587236</td>\n",
       "      <td>41</td>\n",
       "      <td>g4mp2-delta</td>\n",
       "      <td>596.166536</td>\n",
       "      <td>152</td>\n",
       "    </tr>\n",
       "    <tr>\n",
       "      <th>8</th>\n",
       "      <td>True</td>\n",
       "      <td>0.070512</td>\n",
       "      <td>0.074349</td>\n",
       "      <td>61</td>\n",
       "      <td>g4mp2-charges</td>\n",
       "      <td>591.878841</td>\n",
       "      <td>14317</td>\n",
       "    </tr>\n",
       "    <tr>\n",
       "      <th>9</th>\n",
       "      <td>True</td>\n",
       "      <td>0.015207</td>\n",
       "      <td>0.015974</td>\n",
       "      <td>71</td>\n",
       "      <td>g4mp2-charges</td>\n",
       "      <td>649.410980</td>\n",
       "      <td>111906</td>\n",
       "    </tr>\n",
       "    <tr>\n",
       "      <th>10</th>\n",
       "      <td>True</td>\n",
       "      <td>0.247777</td>\n",
       "      <td>0.257512</td>\n",
       "      <td>51</td>\n",
       "      <td>g4mp2-charges</td>\n",
       "      <td>596.504287</td>\n",
       "      <td>1161</td>\n",
       "    </tr>\n",
       "    <tr>\n",
       "      <th>11</th>\n",
       "      <td>True</td>\n",
       "      <td>1.094111</td>\n",
       "      <td>1.035558</td>\n",
       "      <td>41</td>\n",
       "      <td>g4mp2-charges</td>\n",
       "      <td>598.601879</td>\n",
       "      <td>152</td>\n",
       "    </tr>\n",
       "    <tr>\n",
       "      <th>12</th>\n",
       "      <td>True</td>\n",
       "      <td>0.030185</td>\n",
       "      <td>0.032532</td>\n",
       "      <td>61</td>\n",
       "      <td>g4mp2-transfer</td>\n",
       "      <td>594.818161</td>\n",
       "      <td>14317</td>\n",
       "    </tr>\n",
       "    <tr>\n",
       "      <th>13</th>\n",
       "      <td>True</td>\n",
       "      <td>0.013208</td>\n",
       "      <td>0.013837</td>\n",
       "      <td>71</td>\n",
       "      <td>g4mp2-transfer</td>\n",
       "      <td>595.697845</td>\n",
       "      <td>111906</td>\n",
       "    </tr>\n",
       "    <tr>\n",
       "      <th>14</th>\n",
       "      <td>True</td>\n",
       "      <td>0.129571</td>\n",
       "      <td>0.148000</td>\n",
       "      <td>51</td>\n",
       "      <td>g4mp2-transfer</td>\n",
       "      <td>592.613884</td>\n",
       "      <td>1161</td>\n",
       "    </tr>\n",
       "    <tr>\n",
       "      <th>15</th>\n",
       "      <td>True</td>\n",
       "      <td>0.445754</td>\n",
       "      <td>0.428293</td>\n",
       "      <td>41</td>\n",
       "      <td>g4mp2-transfer</td>\n",
       "      <td>600.804441</td>\n",
       "      <td>152</td>\n",
       "    </tr>\n",
       "    <tr>\n",
       "      <th>16</th>\n",
       "      <td>True</td>\n",
       "      <td>0.141039</td>\n",
       "      <td>0.153373</td>\n",
       "      <td>61</td>\n",
       "      <td>g4mp2-multitask</td>\n",
       "      <td>596.937621</td>\n",
       "      <td>14317</td>\n",
       "    </tr>\n",
       "    <tr>\n",
       "      <th>17</th>\n",
       "      <td>True</td>\n",
       "      <td>0.024121</td>\n",
       "      <td>0.025012</td>\n",
       "      <td>71</td>\n",
       "      <td>g4mp2-multitask</td>\n",
       "      <td>595.023678</td>\n",
       "      <td>111906</td>\n",
       "    </tr>\n",
       "    <tr>\n",
       "      <th>18</th>\n",
       "      <td>True</td>\n",
       "      <td>0.458465</td>\n",
       "      <td>0.498201</td>\n",
       "      <td>51</td>\n",
       "      <td>g4mp2-multitask</td>\n",
       "      <td>596.864819</td>\n",
       "      <td>1161</td>\n",
       "    </tr>\n",
       "    <tr>\n",
       "      <th>19</th>\n",
       "      <td>True</td>\n",
       "      <td>2.192160</td>\n",
       "      <td>1.965855</td>\n",
       "      <td>41</td>\n",
       "      <td>g4mp2-multitask</td>\n",
       "      <td>596.999749</td>\n",
       "      <td>152</td>\n",
       "    </tr>\n",
       "    <tr>\n",
       "      <th>20</th>\n",
       "      <td>True</td>\n",
       "      <td>0.024209</td>\n",
       "      <td>0.027013</td>\n",
       "      <td>61</td>\n",
       "      <td>g4mp2-stacked-delta</td>\n",
       "      <td>1144.946093</td>\n",
       "      <td>14317</td>\n",
       "    </tr>\n",
       "    <tr>\n",
       "      <th>21</th>\n",
       "      <td>True</td>\n",
       "      <td>0.015163</td>\n",
       "      <td>0.015677</td>\n",
       "      <td>71</td>\n",
       "      <td>g4mp2-stacked-delta</td>\n",
       "      <td>1158.156103</td>\n",
       "      <td>111906</td>\n",
       "    </tr>\n",
       "    <tr>\n",
       "      <th>22</th>\n",
       "      <td>True</td>\n",
       "      <td>0.077842</td>\n",
       "      <td>0.089283</td>\n",
       "      <td>51</td>\n",
       "      <td>g4mp2-stacked-delta</td>\n",
       "      <td>1158.947886</td>\n",
       "      <td>1161</td>\n",
       "    </tr>\n",
       "    <tr>\n",
       "      <th>23</th>\n",
       "      <td>True</td>\n",
       "      <td>0.220930</td>\n",
       "      <td>0.250170</td>\n",
       "      <td>41</td>\n",
       "      <td>g4mp2-stacked-delta</td>\n",
       "      <td>1149.132680</td>\n",
       "      <td>152</td>\n",
       "    </tr>\n",
       "    <tr>\n",
       "      <th>24</th>\n",
       "      <td>True</td>\n",
       "      <td>0.068089</td>\n",
       "      <td>0.070993</td>\n",
       "      <td>61</td>\n",
       "      <td>g4mp2-charges-in-outnet</td>\n",
       "      <td>603.224634</td>\n",
       "      <td>14317</td>\n",
       "    </tr>\n",
       "    <tr>\n",
       "      <th>25</th>\n",
       "      <td>True</td>\n",
       "      <td>0.015808</td>\n",
       "      <td>0.016445</td>\n",
       "      <td>71</td>\n",
       "      <td>g4mp2-charges-in-outnet</td>\n",
       "      <td>599.501528</td>\n",
       "      <td>111906</td>\n",
       "    </tr>\n",
       "    <tr>\n",
       "      <th>26</th>\n",
       "      <td>True</td>\n",
       "      <td>0.236977</td>\n",
       "      <td>0.230896</td>\n",
       "      <td>51</td>\n",
       "      <td>g4mp2-charges-in-outnet</td>\n",
       "      <td>595.344246</td>\n",
       "      <td>1161</td>\n",
       "    </tr>\n",
       "    <tr>\n",
       "      <th>27</th>\n",
       "      <td>True</td>\n",
       "      <td>1.057938</td>\n",
       "      <td>0.977019</td>\n",
       "      <td>41</td>\n",
       "      <td>g4mp2-charges-in-outnet</td>\n",
       "      <td>593.390120</td>\n",
       "      <td>152</td>\n",
       "    </tr>\n",
       "  </tbody>\n",
       "</table>\n",
       "</div>"
      ],
      "text/plain": [
       "    converged       mae   mae_big  n_electrons                     name  \\\n",
       "0        True  0.068313  0.075127           61                    g4mp2   \n",
       "1        True  0.014566  0.015312           71                    g4mp2   \n",
       "2        True  0.285824  0.301556           51                    g4mp2   \n",
       "3        True  1.141212  1.014614           41                    g4mp2   \n",
       "4        True  0.017967  0.020881           61              g4mp2-delta   \n",
       "5        True  0.004700  0.005008           71              g4mp2-delta   \n",
       "6        True  0.096653  0.123711           51              g4mp2-delta   \n",
       "7        True  0.430368  0.587236           41              g4mp2-delta   \n",
       "8        True  0.070512  0.074349           61            g4mp2-charges   \n",
       "9        True  0.015207  0.015974           71            g4mp2-charges   \n",
       "10       True  0.247777  0.257512           51            g4mp2-charges   \n",
       "11       True  1.094111  1.035558           41            g4mp2-charges   \n",
       "12       True  0.030185  0.032532           61           g4mp2-transfer   \n",
       "13       True  0.013208  0.013837           71           g4mp2-transfer   \n",
       "14       True  0.129571  0.148000           51           g4mp2-transfer   \n",
       "15       True  0.445754  0.428293           41           g4mp2-transfer   \n",
       "16       True  0.141039  0.153373           61          g4mp2-multitask   \n",
       "17       True  0.024121  0.025012           71          g4mp2-multitask   \n",
       "18       True  0.458465  0.498201           51          g4mp2-multitask   \n",
       "19       True  2.192160  1.965855           41          g4mp2-multitask   \n",
       "20       True  0.024209  0.027013           61      g4mp2-stacked-delta   \n",
       "21       True  0.015163  0.015677           71      g4mp2-stacked-delta   \n",
       "22       True  0.077842  0.089283           51      g4mp2-stacked-delta   \n",
       "23       True  0.220930  0.250170           41      g4mp2-stacked-delta   \n",
       "24       True  0.068089  0.070993           61  g4mp2-charges-in-outnet   \n",
       "25       True  0.015808  0.016445           71  g4mp2-charges-in-outnet   \n",
       "26       True  0.236977  0.230896           51  g4mp2-charges-in-outnet   \n",
       "27       True  1.057938  0.977019           41  g4mp2-charges-in-outnet   \n",
       "\n",
       "       run_time    size  \n",
       "0    594.661861   14317  \n",
       "1    588.532101  111906  \n",
       "2    593.554655    1161  \n",
       "3    588.268846     152  \n",
       "4    594.168096   14317  \n",
       "5    585.099019  111906  \n",
       "6    589.974975    1161  \n",
       "7    596.166536     152  \n",
       "8    591.878841   14317  \n",
       "9    649.410980  111906  \n",
       "10   596.504287    1161  \n",
       "11   598.601879     152  \n",
       "12   594.818161   14317  \n",
       "13   595.697845  111906  \n",
       "14   592.613884    1161  \n",
       "15   600.804441     152  \n",
       "16   596.937621   14317  \n",
       "17   595.023678  111906  \n",
       "18   596.864819    1161  \n",
       "19   596.999749     152  \n",
       "20  1144.946093   14317  \n",
       "21  1158.156103  111906  \n",
       "22  1158.947886    1161  \n",
       "23  1149.132680     152  \n",
       "24   603.224634   14317  \n",
       "25   599.501528  111906  \n",
       "26   595.344246    1161  \n",
       "27   593.390120     152  "
      ]
     },
     "execution_count": 17,
     "metadata": {},
     "output_type": "execute_result"
    }
   ],
   "source": [
    "results = pd.DataFrame(results)\n",
    "results"
   ]
  },
  {
   "cell_type": "code",
   "execution_count": 18,
   "metadata": {},
   "outputs": [
    {
     "data": {
      "image/png": "[encoded data removed]",
      "text/plain": [
       "<Figure size 468x252 with 2 Axes>"
      ]
     },
     "metadata": {
      "needs_background": "light"
     },
     "output_type": "display_data"
    }
   ],
   "source": [
    "fig, axs = plt.subplots(1, 2, sharey=True)\n",
    "\n",
    "for i, (ax, t) in enumerate(zip(axs, ['', '_big'])):\n",
    "    handles = []\n",
    "    labels = []\n",
    "    for gid, group in results.groupby('name'):\n",
    "        group = group.sort_values('n_electrons')\n",
    "\n",
    "        hdl = ax.semilogy(group['n_electrons'], group['mae' + t], label=gid, marker='o')\n",
    "        handles.append(hdl[0])\n",
    "        labels.append(gid)\n",
    "        \n",
    "        ax.set_xlabel('Maximum Electron Count')\n",
    "    \n",
    "    # Mark the baseline accuracies\n",
    "    ax.set_xlim(ax.get_xlim())\n",
    "    \n",
    "    #  Guess the mean accuracy\n",
    "    val = baseline['g4mp2_mad' + t] * Hartree / eV\n",
    "    ax.plot(ax.get_xlim(), [val]*2, 'k--')\n",
    "    ax.text(51, val * 0.95, 'Guess-the-Mean', va='top')\n",
    "    \n",
    "    #  Accuracy of b3lyp total energy\n",
    "    val = baseline['u0_total_energy_mae' + t]\n",
    "    ax.plot(ax.get_xlim(), [val]*2, 'k--')\n",
    "    ax.text(51, val * 1.2, 'B3LYP')\n",
    "    \n",
    "    #  Accuracy of b3lyp atomization energy\n",
    "    val = baseline['u0_atomization_mae' + t]\n",
    "    ax.plot(ax.get_xlim(), [val]*2, 'k--')\n",
    "    ax.text(51, val * (1.2 if i == 0 else 0.8), 'B3LYP Atomization',\n",
    "           va='bottom' if i == 0 else 'top')\n",
    "\n",
    "        \n",
    "# Add labels to the axis types\n",
    "axs[0].set_title('All Molecules')\n",
    "axs[1].set_title('Molecules >{} Electrons'.format(big_mol_size))\n",
    "axs[0].set_ylabel('MAE (eV)')\n",
    "    \n",
    "# Plot the baseline accuracies\n",
    "\n",
    "#ax.plot(ax.get_xlim(), [g4mp2_mad * Hartree / eV]*2, 'k--')\n",
    "#ax.text(200, g4mp2_mad * Hartree / eV * 1.2, 'Guess-the-Mean')\n",
    "#ax.plot(ax.get_xlim(), [u0_mae_to_g4mp2 * Hartree / eV]*2, 'k--')\n",
    "#ax.text(100, u0_mae_to_g4mp2 * Hartree / eV * 1.2, 'B3LYP')\n",
    "\n",
    "fig.legend(handles, labels, loc='lower center', ncol=3)\n",
    "\n",
    "fig.set_size_inches(6.5, 3.5)\n",
    "fig.tight_layout(rect=[0,0.2,1,1])\n",
    "fig.savefig(os.path.join('figures', 'g4mp2-learning-curve.png'), dpi=320)"
   ]
  },
  {
   "cell_type": "markdown",
   "metadata": {},
   "source": [
    "Save the results"
   ]
  },
  {
   "cell_type": "code",
   "execution_count": 19,
   "metadata": {},
   "outputs": [],
   "source": [
    "results.to_json('schnet-results.json')"
   ]
  },
  {
   "cell_type": "markdown",
   "metadata": {},
   "source": [
    "### Analyze the Predictions of Well-Performing Models\n",
    "See whether models trained on molecules with less than 61 electrons gets reasonable accuracy for molecules with larger sizes"
   ]
  },
  {
   "cell_type": "code",
   "execution_count": 20,
   "metadata": {},
   "outputs": [],
   "source": [
    "chosen_models = ['g4mp2', 'g4mp2-delta', 'g4mp2-stacked-delta', 'g4mp2-transfer']"
   ]
  },
  {
   "cell_type": "code",
   "execution_count": 21,
   "metadata": {
    "scrolled": true
   },
   "outputs": [
    {
     "name": "stderr",
     "output_type": "stream",
     "text": [
      " 42%|██████████████████████████████████████████████████████████████▎                                                                                     | 5482/13026 [06:52<12:54,  9.75it/s]"
     ]
    }
   ],
   "source": [
    "for m in chosen_models:\n",
    "    model = load_model(m, 61, arch_dir=schnet_dir)\n",
    "    test_data['y_pred-{}'.format(m)] = run_model(model, test_data, 'xyz', additional_cols=['u0'])"
   ]
  },
  {
   "cell_type": "markdown",
   "metadata": {},
   "source": [
    "Evaluate the performance for different sizes"
   ]
  },
  {
   "cell_type": "code",
   "execution_count": 22,
   "metadata": {},
   "outputs": [],
   "source": [
    "per_e_results = pd.DataFrame([{\n",
    "    'n_electrons': int(gid),\n",
    "    'n_mols': len(group),\n",
    "    'mae_B3LYP': mean_absolute_error(group['g4mp2_atom'], group['u0_atom']) * Hartree / eV,\n",
    "    'rmse/sigma_B3LYP': np.sqrt(mean_squared_error(group['g4mp2_atom'], group['u0_atom'])) / group['g4mp2_0k'].std()\n",
    "} for gid, group in test_data.query('n_electrons > 45').groupby('n_electrons')])"
   ]
  },
  {
   "cell_type": "code",
   "execution_count": 23,
   "metadata": {},
   "outputs": [],
   "source": [
    "for model in chosen_models:\n",
    "    per_e_results['mae_{}'.format(model)] = [\n",
    "        mean_absolute_error(group['g4mp2_0k'], group['y_pred-{}'.format(model)]) * Hartree / eV\n",
    "        for gid, group in test_data.query('n_electrons > 45').groupby('n_electrons')]\n",
    "    per_e_results['rmse/sigma_{}'.format(model)] = [\n",
    "        np.sqrt(mean_squared_error(group['g4mp2_0k'], group['y_pred-{}'.format(model)])) / group['g4mp2_0k'].std()\n",
    "        for gid, group in test_data.query('n_electrons > 45').groupby('n_electrons')]"
   ]
  },
  {
   "cell_type": "code",
   "execution_count": 24,
   "metadata": {},
   "outputs": [
    {
     "data": {
      "image/png": "[encoded data removed]",
      "text/plain": [
       "<Figure size 468x180 with 2 Axes>"
      ]
     },
     "metadata": {
      "needs_background": "light"
     },
     "output_type": "display_data"
    }
   ],
   "source": [
    "fig, axs = plt.subplots(1, 2)\n",
    "\n",
    "axs[0].bar(per_e_results['n_electrons'], per_e_results['rmse/sigma_g4mp2'] * 100)\n",
    "axs[0].set_ylabel('RMSE / $\\sigma_{U_0}$ (%)')\n",
    "\n",
    "axs[1].bar(per_e_results['n_electrons'], per_e_results['mae_g4mp2'] * 1000)\n",
    "axs[1].set_ylabel('MAE (meV)')\n",
    "\n",
    "for ax in axs:\n",
    "    ax.set_xlabel('Number of Electrons')\n",
    "    ax.set_ylim(ax.get_ylim())\n",
    "    ax.plot([61,]*2, ax.get_ylim(), 'k--')\n",
    "\n",
    "fig.set_size_inches(6.5, 2.5)\n",
    "fig.tight_layout()"
   ]
  },
  {
   "cell_type": "markdown",
   "metadata": {},
   "source": [
    "Save the data"
   ]
  },
  {
   "cell_type": "code",
   "execution_count": 25,
   "metadata": {},
   "outputs": [],
   "source": [
    "per_e_results.to_csv('per_e_results.csv', index=False)"
   ]
  },
  {
   "cell_type": "code",
   "execution_count": 26,
   "metadata": {},
   "outputs": [],
   "source": []
  }
 ],
 "metadata": {
  "kernelspec": {
   "display_name": "Python 3",
   "language": "python",
   "name": "python3"
  },
  "language_info": {
   "codemirror_mode": {
    "name": "ipython",
    "version": 3
   },
   "file_extension": ".py",
   "mimetype": "text/x-python",
   "name": "python",
   "nbconvert_exporter": "python",
   "pygments_lexer": "ipython3",
   "version": "3.7.2"
  }
 },
 "nbformat": 4,
 "nbformat_minor": 2
}
