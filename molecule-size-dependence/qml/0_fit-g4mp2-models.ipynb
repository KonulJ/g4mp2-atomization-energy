{
 "cells": [
  {
   "cell_type": "markdown",
   "metadata": {},
   "source": [
    "# Evaluate FCHL Models for a Molecule Size Extrapolation Test\n",
    "In this notebook, we build FCHL models and test their ability to predict the properties of molecules larger than those in the training set"
   ]
  },
  {
   "cell_type": "code",
   "execution_count": 1,
   "metadata": {},
   "outputs": [],
   "source": [
    "%matplotlib inline\n",
    "from matplotlib import pyplot as plt\n",
    "from sklearn.metrics import mean_absolute_error\n",
    "from ase.units import Hartree, eV\n",
    "from time import perf_counter\n",
    "from tqdm import tqdm\n",
    "import pickle as pkl\n",
    "import pandas as pd\n",
    "import numpy as np\n",
    "import gzip\n",
    "import json\n",
    "import os"
   ]
  },
  {
   "cell_type": "code",
   "execution_count": 2,
   "metadata": {},
   "outputs": [],
   "source": [
    "electron_cuts = [41, 51, 61]"
   ]
  },
  {
   "cell_type": "markdown",
   "metadata": {},
   "source": [
    "Get the original benchmarking directory, which has the data in FCHL format"
   ]
  },
  {
   "cell_type": "code",
   "execution_count": 3,
   "metadata": {},
   "outputs": [],
   "source": [
    "fchl_dir = os.path.join('..', '..', 'benchmark', 'qml')"
   ]
  },
  {
   "cell_type": "markdown",
   "metadata": {},
   "source": [
    "## Load in the Training Data\n",
    "Load the training data, complete with the representations"
   ]
  },
  {
   "cell_type": "code",
   "execution_count": 4,
   "metadata": {},
   "outputs": [],
   "source": [
    "train_data = pd.read_pickle(os.path.join(fchl_dir, 'train_data.pkl.gz'))"
   ]
  },
  {
   "cell_type": "code",
   "execution_count": 5,
   "metadata": {},
   "outputs": [],
   "source": [
    "test_data = pd.read_pickle(os.path.join(fchl_dir, 'test_data.pkl.gz'))"
   ]
  },
  {
   "cell_type": "markdown",
   "metadata": {},
   "source": [
    "## Load in the Model\n",
    "Use the model from the previous calculation"
   ]
  },
  {
   "cell_type": "code",
   "execution_count": 6,
   "metadata": {},
   "outputs": [],
   "source": [
    "with gzip.open(os.path.join(fchl_dir, 'fchl-model.pkl.gz'), 'rb') as fp:\n",
    "    model = pkl.load(fp)"
   ]
  },
  {
   "cell_type": "markdown",
   "metadata": {},
   "source": [
    "## Train a Model on G4MP2 Atomization Energies\n",
    "Train only on G4MP2 atomization energy, not using the B3LYP results"
   ]
  },
  {
   "cell_type": "code",
   "execution_count": 7,
   "metadata": {},
   "outputs": [
    {
     "name": "stderr",
     "output_type": "stream",
     "text": [
      "100%|███████████████████████████████████████████████████████████████████████████████████| 3/3 [34:48:31<00:00, 37295.27s/it]\n"
     ]
    }
   ],
   "source": [
    "results = []\n",
    "for train_split in tqdm(electron_cuts):\n",
    "    # Get some training data\n",
    "    train_subset = train_data.query('n_electrons < {}'.format(train_split))\n",
    "    \n",
    "    # Train the model\n",
    "    train_time = perf_counter()\n",
    "    model.fit(train_subset['rep'].tolist(), train_subset['g4mp2_atomization'])\n",
    "    train_time = perf_counter() - train_time\n",
    "\n",
    "    # Predict the u0 for the test set\n",
    "    test_time = perf_counter()\n",
    "    pred_y = 'pred_y_{}'.format(train_split)\n",
    "    test_data[pred_y] = model.predict(test_data['rep'].tolist())\n",
    "    test_time = perf_counter() - test_time\n",
    "    \n",
    "    # MAE on big molecules\n",
    "    big_test = test_data.query('n_electrons > 67')\n",
    "    \n",
    "    results.append({\n",
    "        'electron_cut': train_split,\n",
    "        'train_size': len(train_subset),\n",
    "        'mae': mean_absolute_error(test_data[pred_y], test_data['g4mp2_atomization']), \n",
    "        'big_mae': mean_absolute_error(big_test[pred_y], big_test['g4mp2_atomization']), \n",
    "        'train_time': train_time, \n",
    "        'test_time': test_time,\n",
    "    })"
   ]
  },
  {
   "cell_type": "code",
   "execution_count": 8,
   "metadata": {},
   "outputs": [
    {
     "data": {
      "text/html": [
       "<div>\n",
       "<style scoped>\n",
       "    .dataframe tbody tr th:only-of-type {\n",
       "        vertical-align: middle;\n",
       "    }\n",
       "\n",
       "    .dataframe tbody tr th {\n",
       "        vertical-align: top;\n",
       "    }\n",
       "\n",
       "    .dataframe thead th {\n",
       "        text-align: right;\n",
       "    }\n",
       "</style>\n",
       "<table border=\"1\" class=\"dataframe\">\n",
       "  <thead>\n",
       "    <tr style=\"text-align: right;\">\n",
       "      <th></th>\n",
       "      <th>big_mae</th>\n",
       "      <th>electron_cut</th>\n",
       "      <th>mae</th>\n",
       "      <th>test_time</th>\n",
       "      <th>train_size</th>\n",
       "      <th>train_time</th>\n",
       "    </tr>\n",
       "  </thead>\n",
       "  <tbody>\n",
       "    <tr>\n",
       "      <th>0</th>\n",
       "      <td>0.021625</td>\n",
       "      <td>41</td>\n",
       "      <td>0.024528</td>\n",
       "      <td>315.703409</td>\n",
       "      <td>152</td>\n",
       "      <td>0.662593</td>\n",
       "    </tr>\n",
       "    <tr>\n",
       "      <th>1</th>\n",
       "      <td>0.004446</td>\n",
       "      <td>51</td>\n",
       "      <td>0.004381</td>\n",
       "      <td>3900.415890</td>\n",
       "      <td>1161</td>\n",
       "      <td>80.977722</td>\n",
       "    </tr>\n",
       "    <tr>\n",
       "      <th>2</th>\n",
       "      <td>0.000990</td>\n",
       "      <td>61</td>\n",
       "      <td>0.000902</td>\n",
       "      <td>85958.878878</td>\n",
       "      <td>14317</td>\n",
       "      <td>35054.672712</td>\n",
       "    </tr>\n",
       "  </tbody>\n",
       "</table>\n",
       "</div>"
      ],
      "text/plain": [
       "    big_mae  electron_cut       mae     test_time  train_size    train_time\n",
       "0  0.021625            41  0.024528    315.703409         152      0.662593\n",
       "1  0.004446            51  0.004381   3900.415890        1161     80.977722\n",
       "2  0.000990            61  0.000902  85958.878878       14317  35054.672712"
      ]
     },
     "execution_count": 8,
     "metadata": {},
     "output_type": "execute_result"
    }
   ],
   "source": [
    "results = pd.DataFrame(results)\n",
    "results"
   ]
  },
  {
   "cell_type": "code",
   "execution_count": 9,
   "metadata": {},
   "outputs": [],
   "source": [
    "with open('fchl.json', 'w') as fp:\n",
    "    json.dump({\n",
    "        'name': 'FCHL',\n",
    "        'description': 'Model built using the FCHL representation, as implemented in QML, and KRR',\n",
    "        'g4mp2_benchmark': results.to_dict('records')\n",
    "    }, fp, indent=2)"
   ]
  },
  {
   "cell_type": "code",
   "execution_count": 10,
   "metadata": {},
   "outputs": [],
   "source": [
    "with gzip.open('fchl.pkl.gz', 'wb') as fp:\n",
    "    pkl.dump(model, fp)"
   ]
  },
  {
   "cell_type": "markdown",
   "metadata": {},
   "source": [
    "## Train a $\\Delta$-Learning Model on G4MP2 Atomization Energies\n",
    "Train on the difference between B3LYP and G4MP2"
   ]
  },
  {
   "cell_type": "code",
   "execution_count": 11,
   "metadata": {},
   "outputs": [
    {
     "name": "stderr",
     "output_type": "stream",
     "text": [
      "100%|███████████████████████████████████████████████████████████████████████████████████| 3/3 [35:08:52<00:00, 37656.50s/it]\n"
     ]
    }
   ],
   "source": [
    "delta_results = []\n",
    "for train_split in tqdm(electron_cuts):\n",
    "    # Get some training data\n",
    "    train_subset = train_data.query('n_electrons < {}'.format(train_split))\n",
    "    \n",
    "    # Train the model\n",
    "    train_time = perf_counter()\n",
    "    model.fit(train_subset['rep'].tolist(), train_subset['delta'])\n",
    "    train_time = perf_counter() - train_time\n",
    "\n",
    "    # Predict the u0 for the test set\n",
    "    test_time = perf_counter()\n",
    "    pred_y = 'pred_y_{}-delta'.format(train_split)\n",
    "    test_data[pred_y] = model.predict(test_data['rep'].tolist())\n",
    "    test_time = perf_counter() - test_time\n",
    "    \n",
    "    # MAE on big molecules\n",
    "    big_test = test_data.query('n_electrons > 67')\n",
    "    \n",
    "    \n",
    "    delta_results.append({\n",
    "        'electron_cut': train_split,\n",
    "        'mae': mean_absolute_error(test_data[pred_y], test_data['delta']), \n",
    "        'big_mae': mean_absolute_error(big_test[pred_y], big_test['delta']), \n",
    "        'train_size': len(train_subset),\n",
    "        'train_time': train_time, \n",
    "        'test_time': test_time,\n",
    "    })"
   ]
  },
  {
   "cell_type": "code",
   "execution_count": 12,
   "metadata": {},
   "outputs": [
    {
     "data": {
      "text/html": [
       "<div>\n",
       "<style scoped>\n",
       "    .dataframe tbody tr th:only-of-type {\n",
       "        vertical-align: middle;\n",
       "    }\n",
       "\n",
       "    .dataframe tbody tr th {\n",
       "        vertical-align: top;\n",
       "    }\n",
       "\n",
       "    .dataframe thead th {\n",
       "        text-align: right;\n",
       "    }\n",
       "</style>\n",
       "<table border=\"1\" class=\"dataframe\">\n",
       "  <thead>\n",
       "    <tr style=\"text-align: right;\">\n",
       "      <th></th>\n",
       "      <th>big_mae</th>\n",
       "      <th>electron_cut</th>\n",
       "      <th>mae</th>\n",
       "      <th>test_time</th>\n",
       "      <th>train_size</th>\n",
       "      <th>train_time</th>\n",
       "    </tr>\n",
       "  </thead>\n",
       "  <tbody>\n",
       "    <tr>\n",
       "      <th>0</th>\n",
       "      <td>0.002999</td>\n",
       "      <td>41</td>\n",
       "      <td>0.003492</td>\n",
       "      <td>319.339844</td>\n",
       "      <td>152</td>\n",
       "      <td>0.699618</td>\n",
       "    </tr>\n",
       "    <tr>\n",
       "      <th>1</th>\n",
       "      <td>0.000940</td>\n",
       "      <td>51</td>\n",
       "      <td>0.000843</td>\n",
       "      <td>3962.213988</td>\n",
       "      <td>1161</td>\n",
       "      <td>83.415066</td>\n",
       "    </tr>\n",
       "    <tr>\n",
       "      <th>2</th>\n",
       "      <td>0.000236</td>\n",
       "      <td>61</td>\n",
       "      <td>0.000207</td>\n",
       "      <td>86642.034707</td>\n",
       "      <td>14317</td>\n",
       "      <td>35524.706634</td>\n",
       "    </tr>\n",
       "  </tbody>\n",
       "</table>\n",
       "</div>"
      ],
      "text/plain": [
       "    big_mae  electron_cut       mae     test_time  train_size    train_time\n",
       "0  0.002999            41  0.003492    319.339844         152      0.699618\n",
       "1  0.000940            51  0.000843   3962.213988        1161     83.415066\n",
       "2  0.000236            61  0.000207  86642.034707       14317  35524.706634"
      ]
     },
     "execution_count": 12,
     "metadata": {},
     "output_type": "execute_result"
    }
   ],
   "source": [
    "delta_results = pd.DataFrame(delta_results)\n",
    "delta_results"
   ]
  },
  {
   "cell_type": "markdown",
   "metadata": {},
   "source": [
    "*Finding*: The FCHL representation performs remarkably well, even for small dataset sizes."
   ]
  },
  {
   "cell_type": "code",
   "execution_count": 13,
   "metadata": {},
   "outputs": [],
   "source": [
    "with open('fchl-delta.json', 'w') as fp:\n",
    "    json.dump({\n",
    "        'name': 'FCHL $\\Delta$-Learning',\n",
    "        'description': '$\\Delta$-Learning model built using the FCHL representation, as implemented in QML, and KRR',\n",
    "        'g4mp2_with_b3lyp_results': delta_results.to_dict('records')\n",
    "    }, fp, indent=2)"
   ]
  },
  {
   "cell_type": "code",
   "execution_count": 14,
   "metadata": {},
   "outputs": [],
   "source": [
    "with gzip.open('fchl-delta.pkl.gz', 'wb') as fp:\n",
    "    pkl.dump(model, fp)"
   ]
  },
  {
   "cell_type": "code",
   "execution_count": 15,
   "metadata": {},
   "outputs": [],
   "source": [
    "test_data.drop('xyz', 'columns').to_pickle('predictions.pkl.gz')"
   ]
  }
 ],
 "metadata": {
  "kernelspec": {
   "display_name": "Python 3",
   "language": "python",
   "name": "python3"
  },
  "language_info": {
   "codemirror_mode": {
    "name": "ipython",
    "version": 3
   },
   "file_extension": ".py",
   "mimetype": "text/x-python",
   "name": "python",
   "nbconvert_exporter": "python",
   "pygments_lexer": "ipython3",
   "version": "3.7.0"
  }
 },
 "nbformat": 4,
 "nbformat_minor": 2
}
