{
 "cells": [
  {
   "cell_type": "markdown",
   "metadata": {},
   "source": [
    "# Generate Error Per $e$ Count\n",
    "To compare with SchNet, see [equivalent notebook for SchNet](../2_assess-molecule-size-effect.ipynb)"
   ]
  },
  {
   "cell_type": "code",
   "execution_count": 1,
   "metadata": {},
   "outputs": [],
   "source": [
    "from sklearn.metrics import mean_absolute_error, mean_squared_error\n",
    "from ase.units import Hartree, eV\n",
    "import pandas as pd\n",
    "import numpy as np"
   ]
  },
  {
   "cell_type": "markdown",
   "metadata": {},
   "source": [
    "Variables to change"
   ]
  },
  {
   "cell_type": "code",
   "execution_count": 2,
   "metadata": {},
   "outputs": [],
   "source": [
    "train_mol_size = '61'"
   ]
  },
  {
   "cell_type": "markdown",
   "metadata": {},
   "source": [
    "## Load in the Predictions\n",
    "These were generated in the previous notebook, which takes a few days to run"
   ]
  },
  {
   "cell_type": "code",
   "execution_count": 3,
   "metadata": {},
   "outputs": [],
   "source": [
    "predictions = pd.read_pickle('predictions.pkl.gz')"
   ]
  },
  {
   "cell_type": "markdown",
   "metadata": {},
   "source": [
    "## Generate Results by Electron Count\n",
    "Get the MAE and RMSE/$\\sigma$"
   ]
  },
  {
   "cell_type": "code",
   "execution_count": 4,
   "metadata": {},
   "outputs": [],
   "source": [
    "per_e_results = pd.DataFrame([{\n",
    "    'n_electrons': int(gid),\n",
    "    'mae_FCHL': mean_absolute_error(group['g4mp2_atom'], group['pred_y_{}'.format(train_mol_size)]) * Hartree / eV,\n",
    "    'mae_FCHL Delta': mean_absolute_error(group['delta'], group['pred_y_{}-delta'.format(train_mol_size)]) * Hartree / eV,\n",
    "    'rmse/sigma_FCHL': np.sqrt(mean_squared_error(group['g4mp2_atom'],\n",
    "                                             group['pred_y_{}'.format(train_mol_size)])) / group['g4mp2_0k'].std(),\n",
    "    'rmse/sigma_FCHL Delta': np.sqrt(mean_squared_error(group['delta'],\n",
    "                                             group['pred_y_{}-delta'.format(train_mol_size)])) / group['g4mp2_0k'].std(),\n",
    "} for gid, group in predictions.query('n_electrons > 45').groupby('n_electrons')])\n",
    "per_e_results.to_csv('per_e_results.csv', index=False)"
   ]
  },
  {
   "cell_type": "code",
   "execution_count": 5,
   "metadata": {},
   "outputs": [],
   "source": []
  }
 ],
 "metadata": {
  "kernelspec": {
   "display_name": "Python 3",
   "language": "python",
   "name": "python3"
  },
  "language_info": {
   "codemirror_mode": {
    "name": "ipython",
    "version": 3
   },
   "file_extension": ".py",
   "mimetype": "text/x-python",
   "name": "python",
   "nbconvert_exporter": "python",
   "pygments_lexer": "ipython3",
   "version": "3.7.0"
  }
 },
 "nbformat": 4,
 "nbformat_minor": 2
}
