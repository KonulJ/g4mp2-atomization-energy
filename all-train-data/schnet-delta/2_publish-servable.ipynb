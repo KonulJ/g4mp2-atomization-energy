{
 "cells": [
  {
   "cell_type": "markdown",
   "metadata": {},
   "source": [
    "# Publish Servable\n",
    "Send the trained SchNet model to DLHub"
   ]
  },
  {
   "cell_type": "code",
   "execution_count": 1,
   "metadata": {},
   "outputs": [],
   "source": [
    "from dlhub_sdk.models.servables.python import PythonStaticMethodModel\n",
    "from dlhub_sdk.utils.types import compose_argument_block\n",
    "from dlhub_sdk.client import DLHubClient\n",
    "from dlhub_app import evaluate_molecules\n",
    "from jcesr_ml.benchmark import load_benchmark_data\n",
    "from time import sleep\n",
    "import os"
   ]
  },
  {
   "cell_type": "markdown",
   "metadata": {},
   "source": [
    "## Start the Servable Description\n",
    "Load in the function information, and build a basic description"
   ]
  },
  {
   "cell_type": "code",
   "execution_count": 2,
   "metadata": {},
   "outputs": [],
   "source": [
    "model = PythonStaticMethodModel.from_function_pointer(evaluate_molecules)"
   ]
  },
  {
   "cell_type": "markdown",
   "metadata": {},
   "source": [
    "Give the model a title and name"
   ]
  },
  {
   "cell_type": "code",
   "execution_count": 3,
   "metadata": {},
   "outputs": [
    {
     "data": {
      "text/plain": [
       "<dlhub_sdk.models.servables.python.PythonStaticMethodModel at 0x7fd778d506a0>"
      ]
     },
     "execution_count": 3,
     "metadata": {},
     "output_type": "execute_result"
    }
   ],
   "source": [
    "model.set_name('g4mp2_delta_schnet').set_title('SchNet Model to Predict G4MP2 Activation Energy from B3LYP Energy and Coordinates')"
   ]
  },
  {
   "cell_type": "markdown",
   "metadata": {},
   "source": [
    "Describe the function inputs"
   ]
  },
  {
   "cell_type": "code",
   "execution_count": 4,
   "metadata": {},
   "outputs": [
    {
     "data": {
      "text/plain": [
       "<dlhub_sdk.models.servables.python.PythonStaticMethodModel at 0x7fd778d506a0>"
      ]
     },
     "execution_count": 4,
     "metadata": {},
     "output_type": "execute_result"
    }
   ],
   "source": [
    "model.set_inputs('tuple', 'Structures and B3LYP energies of moelcule sto be evaluated',\n",
    "                 element_types=[\n",
    "                     compose_argument_block('list', 'Structures of molecules in XYZ format', item_type='string'),\n",
    "                     compose_argument_block('list', 'B3LYP total energies of Energies of molecules in Ha', item_type='float')\n",
    "                 ])"
   ]
  },
  {
   "cell_type": "code",
   "execution_count": 5,
   "metadata": {},
   "outputs": [
    {
     "data": {
      "text/plain": [
       "<dlhub_sdk.models.servables.python.PythonStaticMethodModel at 0x7fd778d506a0>"
      ]
     },
     "execution_count": 5,
     "metadata": {},
     "output_type": "execute_result"
    }
   ],
   "source": [
    "model.set_outputs('list', 'Estimate of G4MP2 atomization energy', item_type='float')"
   ]
  },
  {
   "cell_type": "markdown",
   "metadata": {},
   "source": [
    "## Add Datacite Information\n",
    "Define who made the model, who should be credited, etc."
   ]
  },
  {
   "cell_type": "code",
   "execution_count": 6,
   "metadata": {},
   "outputs": [
    {
     "data": {
      "text/plain": [
       "<dlhub_sdk.models.servables.python.PythonStaticMethodModel at 0x7fd778d506a0>"
      ]
     },
     "execution_count": 6,
     "metadata": {},
     "output_type": "execute_result"
    }
   ],
   "source": [
    "model.set_authors([\"Ward, Logan\", \"Blaiszik, Ben\", \"Foster, Ian\", \"Assary, Rajeev\", \"Naranayan, Badri\", \"Curtis, Larry\"],\n",
    "                 [[\"Argonne National Laboratory\"]]*6)"
   ]
  },
  {
   "cell_type": "markdown",
   "metadata": {},
   "source": [
    "Added related identifiers"
   ]
  },
  {
   "cell_type": "code",
   "execution_count": 7,
   "metadata": {},
   "outputs": [
    {
     "data": {
      "text/plain": [
       "<dlhub_sdk.models.servables.python.PythonStaticMethodModel at 0x7fd778d506a0>"
      ]
     },
     "execution_count": 7,
     "metadata": {},
     "output_type": "execute_result"
    }
   ],
   "source": [
    "model.add_related_identifier(\"10.1021/acs.jctc.8b00908\", \"DOI\", \"Requires\")"
   ]
  },
  {
   "cell_type": "markdown",
   "metadata": {},
   "source": [
    "Add an abstract"
   ]
  },
  {
   "cell_type": "code",
   "execution_count": 8,
   "metadata": {},
   "outputs": [
    {
     "data": {
      "text/plain": [
       "<dlhub_sdk.models.servables.python.PythonStaticMethodModel at 0x7fd778d506a0>"
      ]
     },
     "execution_count": 8,
     "metadata": {},
     "output_type": "execute_result"
    }
   ],
   "source": [
    "model.set_abstract('This model predicts the G4MP2 atomization energy of a molecule given the relaxed atomic coordinates and total energy from a B3LYP calculation. '\n",
    "                  'It was trained on a set of 134k organic molecules smaller than 9 heavy atoms (i.e., the GDB9 dataset) plus 66 molecules larger than 9 heavy atoms.')"
   ]
  },
  {
   "cell_type": "markdown",
   "metadata": {},
   "source": [
    "## Add Relevant Files\n",
    "We need the model and some utility functions"
   ]
  },
  {
   "cell_type": "code",
   "execution_count": 9,
   "metadata": {},
   "outputs": [
    {
     "data": {
      "text/plain": [
       "<dlhub_sdk.models.servables.python.PythonStaticMethodModel at 0x7fd778d506a0>"
      ]
     },
     "execution_count": 9,
     "metadata": {},
     "output_type": "execute_result"
    }
   ],
   "source": [
    "model.add_file(os.path.join('model', 'architecture.pth'))"
   ]
  },
  {
   "cell_type": "code",
   "execution_count": 10,
   "metadata": {},
   "outputs": [
    {
     "data": {
      "text/plain": [
       "<dlhub_sdk.models.servables.python.PythonStaticMethodModel at 0x7fd778d506a0>"
      ]
     },
     "execution_count": 10,
     "metadata": {},
     "output_type": "execute_result"
    }
   ],
   "source": [
    "model.add_file(os.path.join('model', 'best_model'))"
   ]
  },
  {
   "cell_type": "code",
   "execution_count": 11,
   "metadata": {},
   "outputs": [
    {
     "data": {
      "text/plain": [
       "<dlhub_sdk.models.servables.python.PythonStaticMethodModel at 0x7fd778d506a0>"
      ]
     },
     "execution_count": 11,
     "metadata": {},
     "output_type": "execute_result"
    }
   ],
   "source": [
    "model.add_directory('jcesr_ml', recursive=True, include='*.py')"
   ]
  },
  {
   "cell_type": "markdown",
   "metadata": {},
   "source": [
    "## Describe Computational Environment\n",
    "We described our environment using the `repo2docker` configuration files"
   ]
  },
  {
   "cell_type": "code",
   "execution_count": 12,
   "metadata": {},
   "outputs": [
    {
     "data": {
      "text/plain": [
       "<dlhub_sdk.models.servables.python.PythonStaticMethodModel at 0x7fd778d506a0>"
      ]
     },
     "execution_count": 12,
     "metadata": {},
     "output_type": "execute_result"
    }
   ],
   "source": [
    "model.parse_repo2docker_configuration()"
   ]
  },
  {
   "cell_type": "code",
   "execution_count": 13,
   "metadata": {},
   "outputs": [
    {
     "data": {
      "text/plain": [
       "['model/architecture.pth',\n",
       " 'model/best_model',\n",
       " 'jcesr_ml/atom_environment.py',\n",
       " 'jcesr_ml/benchmark.py',\n",
       " 'jcesr_ml/coordinates.py',\n",
       " 'jcesr_ml/qml.py',\n",
       " 'jcesr_ml/schnetpack.py',\n",
       " 'jcesr_ml/style.py',\n",
       " 'jcesr_ml/utils.py',\n",
       " 'jcesr_ml/__init__.py',\n",
       " '/mnt/c/Users/ward6/Documents/UC/JCESR/JCESR/all-train-data/schnet-delta/requirements.txt',\n",
       " '/mnt/c/Users/ward6/Documents/UC/JCESR/JCESR/all-train-data/schnet-delta/setup.py']"
      ]
     },
     "execution_count": 13,
     "metadata": {},
     "output_type": "execute_result"
    }
   ],
   "source": [
    "model.list_files()"
   ]
  },
  {
   "cell_type": "markdown",
   "metadata": {},
   "source": [
    "## Publish it to DLHub\n",
    "Make a client and send the model in"
   ]
  },
  {
   "cell_type": "code",
   "execution_count": 14,
   "metadata": {},
   "outputs": [],
   "source": [
    "client = DLHubClient(http_timeout=-1)"
   ]
  },
  {
   "cell_type": "code",
   "execution_count": 15,
   "metadata": {},
   "outputs": [],
   "source": [
    "task_id = client.publish_servable(model)"
   ]
  },
  {
   "cell_type": "code",
   "execution_count": 17,
   "metadata": {},
   "outputs": [],
   "source": [
    "while client.get_task_status(task_id)['status'] != 'SUCCEEDED':\n",
    "    sleep(30)"
   ]
  },
  {
   "cell_type": "markdown",
   "metadata": {},
   "source": [
    "## Make Sure it Works\n",
    "Send a small number of molecules to DLHub, make sure the model generates a reasonable energy prediction"
   ]
  },
  {
   "cell_type": "code",
   "execution_count": 19,
   "metadata": {},
   "outputs": [],
   "source": [
    "train_data, test_data = load_benchmark_data()"
   ]
  },
  {
   "cell_type": "code",
   "execution_count": 20,
   "metadata": {},
   "outputs": [],
   "source": [
    "mols = train_data.sample(9)"
   ]
  },
  {
   "cell_type": "code",
   "execution_count": 23,
   "metadata": {},
   "outputs": [
    {
     "data": {
      "text/plain": [
       "[\"Internal Error: 'dlhub_1c181fd7_aa56_412c_b389_fc3aec176988'\"]"
      ]
     },
     "execution_count": 23,
     "metadata": {},
     "output_type": "execute_result"
    }
   ],
   "source": [
    "client.run(client.get_username() + '/' + model.name, (mols['xyz'].tolist(), mols['u0'].tolist()))"
   ]
  },
  {
   "cell_type": "code",
   "execution_count": null,
   "metadata": {},
   "outputs": [],
   "source": []
  }
 ],
 "metadata": {
  "kernelspec": {
   "display_name": "Python 3",
   "language": "python",
   "name": "python3"
  },
  "language_info": {
   "codemirror_mode": {
    "name": "ipython",
    "version": 3
   },
   "file_extension": ".py",
   "mimetype": "text/x-python",
   "name": "python",
   "nbconvert_exporter": "python",
   "pygments_lexer": "ipython3",
   "version": "3.7.1"
  }
 },
 "nbformat": 4,
 "nbformat_minor": 2
}
