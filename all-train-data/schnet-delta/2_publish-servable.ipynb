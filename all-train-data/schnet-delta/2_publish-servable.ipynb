{
 "cells": [
  {
   "cell_type": "markdown",
   "metadata": {},
   "source": [
    "# Publish Servable\n",
    "Send the trained SchNet model to DLHub"
   ]
  },
  {
   "cell_type": "code",
   "execution_count": 24,
   "metadata": {},
   "outputs": [],
   "source": [
    "from dlhub_sdk.models.servables.python import PythonStaticMethodModel\n",
    "from dlhub_sdk.utils.types import compose_argument_block\n",
    "from dlhub_sdk.client import DLHubClient\n",
    "from dlhub_app import evaluate_molecules\n",
    "from time import sleep\n",
    "import numpy as np\n",
    "import os"
   ]
  },
  {
   "cell_type": "markdown",
   "metadata": {},
   "source": [
    "## Start the Servable Description\n",
    "Load in the function information, and build a basic description"
   ]
  },
  {
   "cell_type": "code",
   "execution_count": 2,
   "metadata": {
    "collapsed": true
   },
   "outputs": [],
   "source": [
    "model = PythonStaticMethodModel.from_function_pointer(evaluate_molecules)"
   ]
  },
  {
   "cell_type": "markdown",
   "metadata": {},
   "source": [
    "Give the model a title and name"
   ]
  },
  {
   "cell_type": "code",
   "execution_count": 3,
   "metadata": {},
   "outputs": [
    {
     "data": {
      "text/plain": [
       "<dlhub_sdk.models.servables.python.PythonStaticMethodModel at 0x7ff7d091d9b0>"
      ]
     },
     "execution_count": 3,
     "metadata": {},
     "output_type": "execute_result"
    }
   ],
   "source": [
    "model.set_name('g4mp2_delta_schnet').set_title('SchNet Model to Predict G4MP2 Activation Energy from B3LYP Energy and Coordinates')"
   ]
  },
  {
   "cell_type": "markdown",
   "metadata": {},
   "source": [
    "Describe the function inputs"
   ]
  },
  {
   "cell_type": "code",
   "execution_count": 4,
   "metadata": {},
   "outputs": [
    {
     "data": {
      "text/plain": [
       "<dlhub_sdk.models.servables.python.PythonStaticMethodModel at 0x7ff7d091d9b0>"
      ]
     },
     "execution_count": 4,
     "metadata": {},
     "output_type": "execute_result"
    }
   ],
   "source": [
    "model.set_inputs('tuple', 'Structures and B3LYP energies of moelcule sto be evaluated',\n",
    "                 element_types=[\n",
    "                     compose_argument_block('list', 'Structures of molecules in XYZ format', item_type='string'),\n",
    "                     compose_argument_block('list', 'B3LYP total energies of Energies of molecules in Ha', item_type='float')\n",
    "                 ])"
   ]
  },
  {
   "cell_type": "code",
   "execution_count": 5,
   "metadata": {},
   "outputs": [
    {
     "data": {
      "text/plain": [
       "<dlhub_sdk.models.servables.python.PythonStaticMethodModel at 0x7ff7d091d9b0>"
      ]
     },
     "execution_count": 5,
     "metadata": {},
     "output_type": "execute_result"
    }
   ],
   "source": [
    "model.set_outputs('list', 'Estimate of G4MP2 atomization energy', item_type='float')"
   ]
  },
  {
   "cell_type": "markdown",
   "metadata": {},
   "source": [
    "Mark that the function takes more than one argument, so the inputs should be unpacked"
   ]
  },
  {
   "cell_type": "code",
   "execution_count": 6,
   "metadata": {},
   "outputs": [
    {
     "data": {
      "text/plain": [
       "<dlhub_sdk.models.servables.python.PythonStaticMethodModel at 0x7ff7d091d9b0>"
      ]
     },
     "execution_count": 6,
     "metadata": {},
     "output_type": "execute_result"
    }
   ],
   "source": [
    "model.set_unpack_inputs(True)"
   ]
  },
  {
   "cell_type": "markdown",
   "metadata": {},
   "source": [
    "## Add Datacite Information\n",
    "Define who made the model, who should be credited, etc."
   ]
  },
  {
   "cell_type": "code",
   "execution_count": 7,
   "metadata": {},
   "outputs": [
    {
     "data": {
      "text/plain": [
       "<dlhub_sdk.models.servables.python.PythonStaticMethodModel at 0x7ff7d091d9b0>"
      ]
     },
     "execution_count": 7,
     "metadata": {},
     "output_type": "execute_result"
    }
   ],
   "source": [
    "model.set_authors([\"Ward, Logan\", \"Blaiszik, Ben\", \"Foster, Ian\", \"Assary, Rajeev\", \"Naranayan, Badri\", \"Curtis, Larry\"],\n",
    "                 [[\"Argonne National Laboratory\"]]*6)"
   ]
  },
  {
   "cell_type": "markdown",
   "metadata": {},
   "source": [
    "Added related identifiers"
   ]
  },
  {
   "cell_type": "code",
   "execution_count": 8,
   "metadata": {},
   "outputs": [
    {
     "data": {
      "text/plain": [
       "<dlhub_sdk.models.servables.python.PythonStaticMethodModel at 0x7ff7d091d9b0>"
      ]
     },
     "execution_count": 8,
     "metadata": {},
     "output_type": "execute_result"
    }
   ],
   "source": [
    "model.add_related_identifier(\"10.1021/acs.jctc.8b00908\", \"DOI\", \"Requires\")"
   ]
  },
  {
   "cell_type": "markdown",
   "metadata": {},
   "source": [
    "Add an abstract"
   ]
  },
  {
   "cell_type": "code",
   "execution_count": 9,
   "metadata": {},
   "outputs": [
    {
     "data": {
      "text/plain": [
       "<dlhub_sdk.models.servables.python.PythonStaticMethodModel at 0x7ff7d091d9b0>"
      ]
     },
     "execution_count": 9,
     "metadata": {},
     "output_type": "execute_result"
    }
   ],
   "source": [
    "model.set_abstract('This model predicts the G4MP2 atomization energy of a molecule given the relaxed atomic coordinates and total energy from a B3LYP calculation. '\n",
    "                  'It was trained on a set of 134k organic molecules smaller than 9 heavy atoms (i.e., the GDB9 dataset) plus 66 molecules larger than 9 heavy atoms.')"
   ]
  },
  {
   "cell_type": "markdown",
   "metadata": {},
   "source": [
    "## Add Relevant Files\n",
    "We need the model and some utility functions"
   ]
  },
  {
   "cell_type": "code",
   "execution_count": 10,
   "metadata": {},
   "outputs": [
    {
     "data": {
      "text/plain": [
       "<dlhub_sdk.models.servables.python.PythonStaticMethodModel at 0x7ff7d091d9b0>"
      ]
     },
     "execution_count": 10,
     "metadata": {},
     "output_type": "execute_result"
    }
   ],
   "source": [
    "model.add_file(os.path.join('model', 'architecture.pth'))"
   ]
  },
  {
   "cell_type": "code",
   "execution_count": 11,
   "metadata": {},
   "outputs": [
    {
     "data": {
      "text/plain": [
       "<dlhub_sdk.models.servables.python.PythonStaticMethodModel at 0x7ff7d091d9b0>"
      ]
     },
     "execution_count": 11,
     "metadata": {},
     "output_type": "execute_result"
    }
   ],
   "source": [
    "model.add_file(os.path.join('model', 'best_model'))"
   ]
  },
  {
   "cell_type": "code",
   "execution_count": 12,
   "metadata": {},
   "outputs": [
    {
     "data": {
      "text/plain": [
       "<dlhub_sdk.models.servables.python.PythonStaticMethodModel at 0x7ff7d091d9b0>"
      ]
     },
     "execution_count": 12,
     "metadata": {},
     "output_type": "execute_result"
    }
   ],
   "source": [
    "model.add_directory('jcesr_ml', recursive=True, include='*.py')"
   ]
  },
  {
   "cell_type": "code",
   "execution_count": 13,
   "metadata": {},
   "outputs": [
    {
     "data": {
      "text/plain": [
       "<dlhub_sdk.models.servables.python.PythonStaticMethodModel at 0x7ff7d091d9b0>"
      ]
     },
     "execution_count": 13,
     "metadata": {},
     "output_type": "execute_result"
    }
   ],
   "source": [
    "model.add_file('dlhub_app.py')"
   ]
  },
  {
   "cell_type": "code",
   "execution_count": 14,
   "metadata": {},
   "outputs": [
    {
     "data": {
      "text/plain": [
       "<dlhub_sdk.models.servables.python.PythonStaticMethodModel at 0x7ff7d091d9b0>"
      ]
     },
     "execution_count": 14,
     "metadata": {},
     "output_type": "execute_result"
    }
   ],
   "source": [
    "model.add_file('train_dataset.pkl')"
   ]
  },
  {
   "cell_type": "markdown",
   "metadata": {},
   "source": [
    "## Describe Computational Environment\n",
    "We described our environment using the `repo2docker` configuration files"
   ]
  },
  {
   "cell_type": "code",
   "execution_count": 15,
   "metadata": {},
   "outputs": [
    {
     "data": {
      "text/plain": [
       "<dlhub_sdk.models.servables.python.PythonStaticMethodModel at 0x7ff7d091d9b0>"
      ]
     },
     "execution_count": 15,
     "metadata": {},
     "output_type": "execute_result"
    }
   ],
   "source": [
    "model.parse_repo2docker_configuration()"
   ]
  },
  {
   "cell_type": "code",
   "execution_count": 16,
   "metadata": {},
   "outputs": [
    {
     "data": {
      "text/plain": [
       "['model/architecture.pth',\n",
       " 'model/best_model',\n",
       " 'jcesr_ml/atom_environment.py',\n",
       " 'jcesr_ml/benchmark.py',\n",
       " 'jcesr_ml/coordinates.py',\n",
       " 'jcesr_ml/qml.py',\n",
       " 'jcesr_ml/schnetpack.py',\n",
       " 'jcesr_ml/style.py',\n",
       " 'jcesr_ml/utils.py',\n",
       " 'jcesr_ml/__init__.py',\n",
       " 'dlhub_app.py',\n",
       " 'train_dataset.pkl',\n",
       " '/mnt/c/Users/Logan/Documents/UC/JCESR/g4mp2-atomization-energy/all-train-data/schnet-delta/requirements.txt']"
      ]
     },
     "execution_count": 16,
     "metadata": {},
     "output_type": "execute_result"
    }
   ],
   "source": [
    "model.list_files()"
   ]
  },
  {
   "cell_type": "markdown",
   "metadata": {},
   "source": [
    "## Publish it to DLHub\n",
    "Make a client and send the model in"
   ]
  },
  {
   "cell_type": "code",
   "execution_count": 17,
   "metadata": {
    "collapsed": true
   },
   "outputs": [],
   "source": [
    "client = DLHubClient(http_timeout=-1)"
   ]
  },
  {
   "cell_type": "code",
   "execution_count": 18,
   "metadata": {
    "collapsed": true
   },
   "outputs": [],
   "source": [
    "task_id = client.publish_servable(model)"
   ]
  },
  {
   "cell_type": "code",
   "execution_count": 19,
   "metadata": {
    "collapsed": true
   },
   "outputs": [],
   "source": [
    "while client.get_task_status(task_id)['status'] != 'SUCCEEDED':\n",
    "    sleep(30)"
   ]
  },
  {
   "cell_type": "markdown",
   "metadata": {},
   "source": [
    "## Make Sure it Works\n",
    "Send a single molecule in as input and make sure it gives a reasonable result"
   ]
  },
  {
   "cell_type": "code",
   "execution_count": 20,
   "metadata": {
    "collapsed": true
   },
   "outputs": [],
   "source": [
    "mols = ['3\\nH2 O1\\nO -0.034360 0.977540 0.007602\\nH 0.064766 0.020572 0.001535\\nH 0.871790 1.300792 0.000693']\n",
    "b3lyp = [-76.404702]"
   ]
  },
  {
   "cell_type": "code",
   "execution_count": 25,
   "metadata": {},
   "outputs": [],
   "source": [
    "dlhub_result = client.run(client.get_username() + '/' + model.name, (mols, b3lyp))"
   ]
  },
  {
   "cell_type": "code",
   "execution_count": 26,
   "metadata": {
    "collapsed": true
   },
   "outputs": [],
   "source": [
    "assert np.isclose(evaluate_molecules(mols, b3lyp), dlhub_result).all()"
   ]
  },
  {
   "cell_type": "code",
   "execution_count": null,
   "metadata": {},
   "outputs": [],
   "source": []
  }
 ],
 "metadata": {
  "kernelspec": {
   "display_name": "Python 3",
   "language": "python",
   "name": "python3"
  },
  "language_info": {
   "codemirror_mode": {
    "name": "ipython",
    "version": 3
   },
   "file_extension": ".py",
   "mimetype": "text/x-python",
   "name": "python",
   "nbconvert_exporter": "python",
   "pygments_lexer": "ipython3",
   "version": "3.7.2"
  }
 },
 "nbformat": 4,
 "nbformat_minor": 2
}
