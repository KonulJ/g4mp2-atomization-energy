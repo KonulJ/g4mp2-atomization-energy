{
 "cells": [
  {
   "cell_type": "markdown",
   "metadata": {},
   "source": [
    "# Prepare Models\n",
    "SchNet expects the data to be in an ASE database."
   ]
  },
  {
   "cell_type": "code",
   "execution_count": 1,
   "metadata": {},
   "outputs": [],
   "source": [
    "from jcesr_ml.schnetpack import make_schnetpack_data\n",
    "from jcesr_ml.benchmark import load_benchmark_data\n",
    "import pickle as pkl\n",
    "import pandas as pd\n",
    "import numpy as np\n",
    "import json\n",
    "import os"
   ]
  },
  {
   "cell_type": "code",
   "execution_count": 2,
   "metadata": {},
   "outputs": [],
   "source": [
    "useful_columns = ['u0', 'g4mp2_0k', 'g4mp2_atom', 'u0_atom']"
   ]
  },
  {
   "cell_type": "code",
   "execution_count": 3,
   "metadata": {},
   "outputs": [],
   "source": [
    "project_root = os.path.join('..', '..')"
   ]
  },
  {
   "cell_type": "markdown",
   "metadata": {},
   "source": [
    "## Load Training Data\n",
    "Read in the list of datasets to be used to train the models"
   ]
  },
  {
   "cell_type": "code",
   "execution_count": 4,
   "metadata": {
    "collapsed": true
   },
   "outputs": [],
   "source": [
    "with open(os.path.join('..', 'datasets.json')) as fp:\n",
    "    datasets = json.load(fp)"
   ]
  },
  {
   "cell_type": "markdown",
   "metadata": {},
   "source": [
    "Dataset paths are relative to the root of this project"
   ]
  },
  {
   "cell_type": "code",
   "execution_count": 5,
   "metadata": {},
   "outputs": [
    {
     "name": "stdout",
     "output_type": "stream",
     "text": [
      "Loaded 130324 training entries\n"
     ]
    }
   ],
   "source": [
    "all_data = []\n",
    "for path in datasets:\n",
    "    # Load in the dataset description\n",
    "    with open(os.path.join(project_root, path)) as fp:\n",
    "        desc = json.load(fp)\n",
    "    \n",
    "    # Use the description to load in the data\n",
    "    load_fn = getattr(pd, 'read_' + desc['dataset']['format'])\n",
    "    dataset = load_fn(\n",
    "        os.path.join(project_root, desc['dlhub']['files']['data']),\n",
    "        **desc['dataset']['read_options']\n",
    "    )\n",
    "    \n",
    "    # If the surgar dataset, remove an outlier and small molecules\n",
    "    if 'sugar' in path:\n",
    "        dataset.query('name != \"syringol-4-propylsyringol.xyz\" and n_heavy_atoms>9', inplace=True)\n",
    "    \n",
    "    # Add only the needed columns to the training data\n",
    "    all_data.append(dataset[useful_columns + ['xyz']])\n",
    "    \n",
    "    del dataset\n",
    "all_data = pd.concat(all_data)\n",
    "print('Loaded {} training entries'.format(len(all_data)))"
   ]
  },
  {
   "cell_type": "markdown",
   "metadata": {},
   "source": [
    "## Make an ASE Database\n",
    "The current version of SchNetPack relies on storing data in an ASE SQLite database. We must convert our data into that format"
   ]
  },
  {
   "cell_type": "code",
   "execution_count": 6,
   "metadata": {},
   "outputs": [],
   "source": [
    "db = make_schnetpack_data(all_data, 'train_dataset.db', properties=useful_columns)\n",
    "with open('train_dataset.pkl', 'wb') as fp:\n",
    "    pkl.dump(db, fp)"
   ]
  },
  {
   "cell_type": "code",
   "execution_count": null,
   "metadata": {},
   "outputs": [],
   "source": []
  }
 ],
 "metadata": {
  "kernelspec": {
   "display_name": "Python 3",
   "language": "python",
   "name": "python3"
  },
  "language_info": {
   "codemirror_mode": {
    "name": "ipython",
    "version": 3
   },
   "file_extension": ".py",
   "mimetype": "text/x-python",
   "name": "python",
   "nbconvert_exporter": "python",
   "pygments_lexer": "ipython3",
   "version": "3.7.2"
  }
 },
 "nbformat": 4,
 "nbformat_minor": 2
}
