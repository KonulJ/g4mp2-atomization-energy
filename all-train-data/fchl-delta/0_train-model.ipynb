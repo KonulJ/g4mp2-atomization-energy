{
 "cells": [
  {
   "cell_type": "markdown",
   "metadata": {},
   "source": [
    "# Compute Representations\n",
    "Generate QML representations for the training and test data"
   ]
  },
  {
   "cell_type": "code",
   "execution_count": 1,
   "metadata": {},
   "outputs": [],
   "source": [
    "%matplotlib inline\n",
    "from matplotlib import pyplot as plt\n",
    "from jcesr_ml.utils import compute_atomization_energy\n",
    "from jcesr_ml.qml import FCHLKernel\n",
    "from sklearn.linear_model import LinearRegression, Ridge\n",
    "from sklearn.model_selection import train_test_split\n",
    "from sklearn.metrics import mean_absolute_error\n",
    "from sklearn.pipeline import Pipeline\n",
    "from ase.io.xyz import read_xyz\n",
    "from qml.data import Compound\n",
    "from io import StringIO\n",
    "import pickle as pkl\n",
    "import pandas as pd\n",
    "import numpy as np\n",
    "import warnings\n",
    "import json\n",
    "import gzip\n",
    "import os"
   ]
  },
  {
   "cell_type": "markdown",
   "metadata": {},
   "source": [
    "Numbers to change"
   ]
  },
  {
   "cell_type": "code",
   "execution_count": 2,
   "metadata": {},
   "outputs": [],
   "source": [
    "max_size = 64  # Maximum size of molecules (intentionally larger than training set)"
   ]
  },
  {
   "cell_type": "code",
   "execution_count": 3,
   "metadata": {},
   "outputs": [],
   "source": [
    "train_set_size = 10000\n",
    "test_set_size = 2000"
   ]
  },
  {
   "cell_type": "code",
   "execution_count": 4,
   "metadata": {},
   "outputs": [],
   "source": [
    "project_root = os.path.join('..', '..')"
   ]
  },
  {
   "cell_type": "code",
   "execution_count": 5,
   "metadata": {},
   "outputs": [],
   "source": [
    "useful_columns = ['xyz', 'u0', 'g4mp2_0k', 'g4mp2_atom', 'u0_atom']"
   ]
  },
  {
   "cell_type": "markdown",
   "metadata": {},
   "source": [
    "## Load Training Data\n",
    "Read in the list of datasets to be used to train the models"
   ]
  },
  {
   "cell_type": "code",
   "execution_count": 6,
   "metadata": {},
   "outputs": [],
   "source": [
    "with open(os.path.join('..', 'datasets.json')) as fp:\n",
    "    datasets = json.load(fp)"
   ]
  },
  {
   "cell_type": "markdown",
   "metadata": {},
   "source": [
    "Dataset paths are relative to the root of this project"
   ]
  },
  {
   "cell_type": "code",
   "execution_count": 7,
   "metadata": {},
   "outputs": [
    {
     "name": "stdout",
     "output_type": "stream",
     "text": [
      "Loaded 130427 training entries\n"
     ]
    }
   ],
   "source": [
    "all_data = []\n",
    "for desc in datasets:\n",
    "    # Load in the dataset description\n",
    "    with open(os.path.join(project_root, desc)) as fp:\n",
    "        desc = json.load(fp)\n",
    "    \n",
    "    # Use the description to load in the data\n",
    "    load_fn = getattr(pd, 'read_' + desc['dataset']['format'])\n",
    "    dataset = load_fn(\n",
    "        os.path.join(project_root, desc['dlhub']['files']['data']),\n",
    "        **desc['dataset']['read_options']\n",
    "    )\n",
    "    \n",
    "    # Add only the needed columns to the training data\n",
    "    all_data.append(dataset[useful_columns])\n",
    "    \n",
    "    del dataset\n",
    "all_data = pd.concat(all_data)\n",
    "print('Loaded {} training entries'.format(len(all_data)))"
   ]
  },
  {
   "cell_type": "markdown",
   "metadata": {},
   "source": [
    "## Select a Training and Validation Set\n",
    "FCHL becomes computationally intractable to train for large dataset sizes. We select the largest training set size we can tolerate on available hardware by taking a random subset of the training data. [Browning et al.](https://pubs.acs.org/doi/10.1021/acs.jpclett.7b00038) have shown that using Genetic Algorithms to identify optimal training sets can lead to better results than random subsets, and we intend to implement the GA approach in the future.\n",
    "\n",
    "We also use a distinct subset of the dataset to use as a test set for setting the model hyperparameters. "
   ]
  },
  {
   "cell_type": "code",
   "execution_count": 8,
   "metadata": {},
   "outputs": [],
   "source": [
    "train_data, test_data = train_test_split(all_data, train_size=train_set_size, test_size=train_set_size, shuffle=True)"
   ]
  },
  {
   "cell_type": "markdown",
   "metadata": {},
   "source": [
    "Make these datasets copies to avoid warnings later"
   ]
  },
  {
   "cell_type": "code",
   "execution_count": 9,
   "metadata": {},
   "outputs": [],
   "source": [
    "train_data = train_data.copy()\n",
    "test_data = test_data.copy()"
   ]
  },
  {
   "cell_type": "markdown",
   "metadata": {},
   "source": [
    "We no longer need the full dataset, clearing to save memory"
   ]
  },
  {
   "cell_type": "code",
   "execution_count": 10,
   "metadata": {},
   "outputs": [],
   "source": [
    "del all_data"
   ]
  },
  {
   "cell_type": "markdown",
   "metadata": {},
   "source": [
    "## Compute the Representations\n",
    "We are going to use the [FCHL representation](https://doi.org/10.1063/1.5020710) to describe each molecule. With `qml`, you must pre-compute some bits about each molecule before you can use them on arbitrary molecules. Before computing the represetnation, we need to convert the XYZ file to QML format. This representation is kind of large, so we don't store it."
   ]
  },
  {
   "cell_type": "code",
   "execution_count": 11,
   "metadata": {},
   "outputs": [],
   "source": [
    "def compute_rep(x):\n",
    "    \"\"\"Generates representation and returns the values\"\"\"\n",
    "    x.generate_fchl_representation(max_size)\n",
    "    return x.representation"
   ]
  },
  {
   "cell_type": "code",
   "execution_count": 12,
   "metadata": {},
   "outputs": [
    {
     "name": "stdout",
     "output_type": "stream",
     "text": [
      "CPU times: user 23.8 s, sys: 1.35 s, total: 25.2 s\n",
      "Wall time: 25.2 s\n"
     ]
    }
   ],
   "source": [
    "%%time\n",
    "train_data['rep'] = list(map(compute_rep, map(lambda x: Compound(StringIO(x)), train_data['xyz'])))\n",
    "test_data['rep'] = list(map(compute_rep, map(lambda x: Compound(StringIO(x)), test_data['xyz'])))"
   ]
  },
  {
   "cell_type": "markdown",
   "metadata": {},
   "source": [
    "## Compute Atomization Energy\n",
    "Performance FCHL is better when operating on the atomization energy"
   ]
  },
  {
   "cell_type": "code",
   "execution_count": 13,
   "metadata": {},
   "outputs": [],
   "source": [
    "train_data['delta'] = train_data['g4mp2_atom'] - train_data['u0_atom']"
   ]
  },
  {
   "cell_type": "code",
   "execution_count": 14,
   "metadata": {},
   "outputs": [],
   "source": [
    "test_data['delta'] = test_data['g4mp2_atom'] - test_data['u0_atom']"
   ]
  },
  {
   "cell_type": "markdown",
   "metadata": {},
   "source": [
    "## Train a Model \n",
    "Train a FCHL model to predict the $\\Delta$ between B3LYP and G4MP2. We are going to break it into multiple steps: computing the kernel matrix for the training set and test set. "
   ]
  },
  {
   "cell_type": "markdown",
   "metadata": {},
   "source": [
    "### Pre-compute the Kernels\n",
    "We'll use them many times during the model tuning, and they are "
   ]
  },
  {
   "cell_type": "code",
   "execution_count": 15,
   "metadata": {},
   "outputs": [],
   "source": [
    "fchl = FCHLKernel()"
   ]
  },
  {
   "cell_type": "code",
   "execution_count": 16,
   "metadata": {},
   "outputs": [
    {
     "name": "stdout",
     "output_type": "stream",
     "text": [
      "CPU times: user 4d 53min 16s, sys: 47.9 s, total: 4d 54min 4s\n",
      "Wall time: 9h 42min 15s\n"
     ]
    }
   ],
   "source": [
    "%%time\n",
    "K_train = fchl.fit_transform(train_data['rep'].tolist())"
   ]
  },
  {
   "cell_type": "code",
   "execution_count": 17,
   "metadata": {},
   "outputs": [
    {
     "name": "stdout",
     "output_type": "stream",
     "text": [
      "CPU times: user 8d 2h 30min 2s, sys: 1min 36s, total: 8d 2h 31min 39s\n",
      "Wall time: 19h 29min 54s\n"
     ]
    }
   ],
   "source": [
    "%%time\n",
    "K_test = fchl.transform(test_data['rep'].tolist())"
   ]
  },
  {
   "cell_type": "markdown",
   "metadata": {},
   "source": [
    "### Adjust the Hyperparameters\n",
    "Determine how much regularization to use"
   ]
  },
  {
   "cell_type": "markdown",
   "metadata": {},
   "source": [
    "First, without regularization"
   ]
  },
  {
   "cell_type": "code",
   "execution_count": 18,
   "metadata": {},
   "outputs": [
    {
     "name": "stdout",
     "output_type": "stream",
     "text": [
      "Without regularization: 1.82e-04\n"
     ]
    }
   ],
   "source": [
    "lr = LinearRegression(fit_intercept=False)\n",
    "y_pred = lr.fit(K_train, train_data['delta']).predict(K_test)\n",
    "lr_mae = mean_absolute_error(y_pred, test_data['delta'])\n",
    "print('Without regularization: {:.2e}'.format(lr_mae))"
   ]
  },
  {
   "cell_type": "markdown",
   "metadata": {},
   "source": [
    "Run the model with ridge parameters"
   ]
  },
  {
   "cell_type": "code",
   "execution_count": 19,
   "metadata": {},
   "outputs": [],
   "source": [
    "lambdas = np.logspace(-16, 0, 128)"
   ]
  },
  {
   "cell_type": "code",
   "execution_count": 20,
   "metadata": {},
   "outputs": [
    {
     "name": "stdout",
     "output_type": "stream",
     "text": [
      "Best regularization: 1.63e-04 at lambda: 1.0e-14\n"
     ]
    }
   ],
   "source": [
    "with warnings.catch_warnings():\n",
    "    warnings.simplefilter(\"ignore\")\n",
    "    ridge_mae = [\n",
    "        mean_absolute_error(Ridge(alpha=l, fit_intercept=False).fit(K_train, train_data['delta']).predict(K_test), test_data['delta'])\n",
    "        for l in lambdas\n",
    "    ]\n",
    "    print('Best regularization: {:.2e} at lambda: {:.1e}'.format(np.min(ridge_mae), lambdas[np.argmin(ridge_mae)]))"
   ]
  },
  {
   "cell_type": "code",
   "execution_count": 21,
   "metadata": {},
   "outputs": [
    {
     "data": {
      "image/png": "[encoded data removed]",
      "text/plain": [
       "<Figure size 252x180 with 1 Axes>"
      ]
     },
     "metadata": {
      "needs_background": "light"
     },
     "output_type": "display_data"
    }
   ],
   "source": [
    "fig, ax  = plt.subplots()\n",
    "\n",
    "ax.loglog(lambdas, ridge_mae, 'o--')\n",
    "\n",
    "ax.set_ylabel('MAE (Ha)')\n",
    "ax.set_xlabel('$\\lambda$')\n",
    "\n",
    "fig.set_size_inches(3.5, 2.5)"
   ]
  },
  {
   "cell_type": "markdown",
   "metadata": {},
   "source": [
    "Get the right linear regression tool. Ridge if it works better, Linear Regression otherwise"
   ]
  },
  {
   "cell_type": "code",
   "execution_count": 22,
   "metadata": {},
   "outputs": [],
   "source": [
    "model = lr if lr_mae < np.min(ridge_mae) else Ridge(alpha=lambdas[np.argmin(ridge_mae)], fit_intercept=False).fit(K_train, train_data['delta'])"
   ]
  },
  {
   "cell_type": "code",
   "execution_count": 23,
   "metadata": {},
   "outputs": [
    {
     "data": {
      "text/plain": [
       "Ridge(alpha=1.0369266382873439e-14, copy_X=True, fit_intercept=False,\n",
       "   max_iter=None, normalize=False, random_state=None, solver='auto',\n",
       "   tol=0.001)"
      ]
     },
     "execution_count": 23,
     "metadata": {},
     "output_type": "execute_result"
    }
   ],
   "source": [
    "model"
   ]
  },
  {
   "cell_type": "markdown",
   "metadata": {},
   "source": [
    "## Make the model\n",
    "Combine the two components and save it to disk"
   ]
  },
  {
   "cell_type": "code",
   "execution_count": 24,
   "metadata": {},
   "outputs": [],
   "source": [
    "del K_train # Huge and no longer needed"
   ]
  },
  {
   "cell_type": "code",
   "execution_count": 25,
   "metadata": {},
   "outputs": [],
   "source": [
    "model = Pipeline([\n",
    "    ('kernel', fchl),\n",
    "    ('model', model)\n",
    "])"
   ]
  },
  {
   "cell_type": "code",
   "execution_count": 26,
   "metadata": {},
   "outputs": [],
   "source": [
    "with gzip.open('model.pkl.gz', 'wb') as fp:\n",
    "    pkl.dump(model, fp)"
   ]
  },
  {
   "cell_type": "code",
   "execution_count": 27,
   "metadata": {},
   "outputs": [],
   "source": []
  }
 ],
 "metadata": {
  "kernelspec": {
   "display_name": "Python 3",
   "language": "python",
   "name": "python3"
  },
  "language_info": {
   "codemirror_mode": {
    "name": "ipython",
    "version": 3
   },
   "file_extension": ".py",
   "mimetype": "text/x-python",
   "name": "python",
   "nbconvert_exporter": "python",
   "pygments_lexer": "ipython3",
   "version": "3.7.2"
  }
 },
 "nbformat": 4,
 "nbformat_minor": 2
}
