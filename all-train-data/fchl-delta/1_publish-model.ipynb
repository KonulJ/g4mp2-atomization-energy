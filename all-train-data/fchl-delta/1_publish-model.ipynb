{
 "cells": [
  {
   "cell_type": "markdown",
   "metadata": {},
   "source": [
    "# Publish Model to DLHub\n",
    "Publish the FCHL model to DLHub"
   ]
  },
  {
   "cell_type": "code",
   "execution_count": 1,
   "metadata": {},
   "outputs": [
    {
     "name": "stderr",
     "output_type": "stream",
     "text": [
      "/home/wardlt/miniconda3/lib/python3.7/site-packages/sklearn/base.py:251: UserWarning: Trying to unpickle estimator Ridge from version 0.20.0 when using version 0.20.1. This might lead to breaking code or invalid results. Use at your own risk.\n",
      "  UserWarning)\n",
      "/home/wardlt/miniconda3/lib/python3.7/site-packages/sklearn/base.py:251: UserWarning: Trying to unpickle estimator Pipeline from version 0.20.0 when using version 0.20.1. This might lead to breaking code or invalid results. Use at your own risk.\n",
      "  UserWarning)\n"
     ]
    }
   ],
   "source": [
    "from dlhub_sdk.models.servables.python import PythonStaticMethodModel\n",
    "from dlhub_sdk.utils.types import compose_argument_block\n",
    "from dlhub_sdk.client import DLHubClient\n",
    "from dlhub_app import evaluate_molecules"
   ]
  },
  {
   "cell_type": "markdown",
   "metadata": {},
   "source": [
    "## Start the Servable Description\n",
    "Load in the function information, and build a basic description"
   ]
  },
  {
   "cell_type": "code",
   "execution_count": null,
   "metadata": {},
   "outputs": [],
   "source": [
    "model = PythonStaticMethodModel.from_function_pointer(evaluate_molecules)"
   ]
  },
  {
   "cell_type": "markdown",
   "metadata": {},
   "source": [
    "Give the model a title and name"
   ]
  },
  {
   "cell_type": "code",
   "execution_count": null,
   "metadata": {},
   "outputs": [],
   "source": [
    "model.set_name('g4mp2_delta_fchl').set_title('FCHL Model to Predict G4MP2 Activation Energy from B3LYP Energy and Coordinates')"
   ]
  },
  {
   "cell_type": "markdown",
   "metadata": {},
   "source": [
    "Describe the function inputs"
   ]
  },
  {
   "cell_type": "code",
   "execution_count": null,
   "metadata": {},
   "outputs": [],
   "source": [
    "model.set_inputs('tuple', 'Structures and B3LYP energies of moelcule sto be evaluated',\n",
    "                 element_types=[\n",
    "                     compose_argument_block('list', 'Structures of molecules in XYZ format', item_type='string'),\n",
    "                     compose_argument_block('list', 'B3LYP total energies of Energies of molecules in Ha', item_type='float')\n",
    "                 ])"
   ]
  },
  {
   "cell_type": "code",
   "execution_count": null,
   "metadata": {},
   "outputs": [],
   "source": [
    "model.set_outputs('list', 'Estimate of G4MP2 atomization energy', item_type='float')"
   ]
  },
  {
   "cell_type": "markdown",
   "metadata": {},
   "source": [
    "## Add Datacite Information\n",
    "Define who made the model, who should be credited, etc."
   ]
  },
  {
   "cell_type": "code",
   "execution_count": null,
   "metadata": {},
   "outputs": [],
   "source": [
    "model.set_authors([\"Ward, Logan\", \"Blaiszik, Ben\", \"Assary, Rajeev\", \"Curtis, Larry\", \"Foster, Ian\"],\n",
    "                 [[\"Argonne National Laboratory\"]]*5)"
   ]
  },
  {
   "cell_type": "code",
   "execution_count": null,
   "metadata": {},
   "outputs": [],
   "source": [
    "model.add_related_identifier(\"10.5281/zenodo.817332\", \"DOI\", \"Requires\")"
   ]
  },
  {
   "cell_type": "code",
   "execution_count": null,
   "metadata": {},
   "outputs": [],
   "source": [
    "model.to_dict()"
   ]
  },
  {
   "cell_type": "code",
   "execution_count": null,
   "metadata": {},
   "outputs": [],
   "source": []
  }
 ],
 "metadata": {
  "kernelspec": {
   "display_name": "Python 3",
   "language": "python",
   "name": "python3"
  },
  "language_info": {
   "codemirror_mode": {
    "name": "ipython",
    "version": 3
   },
   "file_extension": ".py",
   "mimetype": "text/x-python",
   "name": "python",
   "nbconvert_exporter": "python",
   "pygments_lexer": "ipython3",
   "version": "3.7.1"
  }
 },
 "nbformat": 4,
 "nbformat_minor": 2
}
