{
 "cells": [
  {
   "cell_type": "markdown",
   "metadata": {},
   "source": [
    "# Publish Model to DLHub\n",
    "Publish the FCHL model to DLHub"
   ]
  },
  {
   "cell_type": "code",
   "execution_count": 1,
   "metadata": {},
   "outputs": [
    {
     "name": "stdout",
     "output_type": "stream",
     "text": [
      "The history saving thread hit an unexpected error (DatabaseError('database disk image is malformed',)).History will not be written to the database.\n"
     ]
    }
   ],
   "source": [
    "from dlhub_sdk.models.servables.python import PythonStaticMethodModel\n",
    "from dlhub_sdk.utils.types import compose_argument_block\n",
    "from dlhub_sdk.client import DLHubClient\n",
    "from dlhub_app import evaluate_molecules\n",
    "from time import sleep\n",
    "import numpy as np"
   ]
  },
  {
   "cell_type": "markdown",
   "metadata": {},
   "source": [
    "## Start the Servable Description\n",
    "Load in the function information, and build a basic description"
   ]
  },
  {
   "cell_type": "code",
   "execution_count": 2,
   "metadata": {},
   "outputs": [],
   "source": [
    "model = PythonStaticMethodModel.from_function_pointer(evaluate_molecules)"
   ]
  },
  {
   "cell_type": "markdown",
   "metadata": {},
   "source": [
    "Give the model a title and name"
   ]
  },
  {
   "cell_type": "code",
   "execution_count": 3,
   "metadata": {},
   "outputs": [
    {
     "data": {
      "text/plain": [
       "<dlhub_sdk.models.servables.python.PythonStaticMethodModel at 0x7f5a40315f60>"
      ]
     },
     "execution_count": 3,
     "metadata": {},
     "output_type": "execute_result"
    }
   ],
   "source": [
    "model.set_name('g4mp2_delta_fchl').set_title('FCHL Model to Predict G4MP2 Activation Energy from B3LYP Energy and Coordinates')"
   ]
  },
  {
   "cell_type": "markdown",
   "metadata": {},
   "source": [
    "Describe the function inputs"
   ]
  },
  {
   "cell_type": "code",
   "execution_count": 4,
   "metadata": {},
   "outputs": [
    {
     "data": {
      "text/plain": [
       "<dlhub_sdk.models.servables.python.PythonStaticMethodModel at 0x7f5a40315f60>"
      ]
     },
     "execution_count": 4,
     "metadata": {},
     "output_type": "execute_result"
    }
   ],
   "source": [
    "model.set_inputs('tuple', 'Structures and B3LYP energies of moelcule sto be evaluated',\n",
    "                 element_types=[\n",
    "                     compose_argument_block('list', 'Structures of molecules in XYZ format', item_type='string'),\n",
    "                     compose_argument_block('list', 'B3LYP total energies of Energies of molecules in Ha', item_type='float')\n",
    "                 ])"
   ]
  },
  {
   "cell_type": "code",
   "execution_count": 5,
   "metadata": {},
   "outputs": [
    {
     "data": {
      "text/plain": [
       "<dlhub_sdk.models.servables.python.PythonStaticMethodModel at 0x7f5a40315f60>"
      ]
     },
     "execution_count": 5,
     "metadata": {},
     "output_type": "execute_result"
    }
   ],
   "source": [
    "model.set_outputs('list', 'Estimate of G4MP2 atomization energy', item_type='float')"
   ]
  },
  {
   "cell_type": "code",
   "execution_count": 6,
   "metadata": {},
   "outputs": [
    {
     "data": {
      "text/plain": [
       "<dlhub_sdk.models.servables.python.PythonStaticMethodModel at 0x7f5a40315f60>"
      ]
     },
     "execution_count": 6,
     "metadata": {},
     "output_type": "execute_result"
    }
   ],
   "source": [
    "model.set_unpack_inputs(True)"
   ]
  },
  {
   "cell_type": "markdown",
   "metadata": {},
   "source": [
    "## Add Datacite Information\n",
    "Define who made the model, who should be credited, etc."
   ]
  },
  {
   "cell_type": "code",
   "execution_count": 7,
   "metadata": {},
   "outputs": [
    {
     "data": {
      "text/plain": [
       "<dlhub_sdk.models.servables.python.PythonStaticMethodModel at 0x7f5a40315f60>"
      ]
     },
     "execution_count": 7,
     "metadata": {},
     "output_type": "execute_result"
    }
   ],
   "source": [
    "model.set_authors([\"Ward, Logan\", \"Blaiszik, Ben\", \"Foster, Ian\", \"Assary, Rajeev\", \"Narayanan, Badri\", \"Curtis, Larry\"],\n",
    "                 [[\"Argonne National Laboratory\"]]*6)"
   ]
  },
  {
   "cell_type": "code",
   "execution_count": 8,
   "metadata": {},
   "outputs": [
    {
     "data": {
      "text/plain": [
       "<dlhub_sdk.models.servables.python.PythonStaticMethodModel at 0x7f5a40315f60>"
      ]
     },
     "execution_count": 8,
     "metadata": {},
     "output_type": "execute_result"
    }
   ],
   "source": [
    "model.add_related_identifier(\"10.5281/zenodo.817332\", \"DOI\", \"Requires\")"
   ]
  },
  {
   "cell_type": "markdown",
   "metadata": {},
   "source": [
    "## Add Relevant Files\n",
    "We need the model and some utility functions"
   ]
  },
  {
   "cell_type": "code",
   "execution_count": 9,
   "metadata": {},
   "outputs": [
    {
     "data": {
      "text/plain": [
       "<dlhub_sdk.models.servables.python.PythonStaticMethodModel at 0x7f5a40315f60>"
      ]
     },
     "execution_count": 9,
     "metadata": {},
     "output_type": "execute_result"
    }
   ],
   "source": [
    "model.add_file('dlhub_app.py')"
   ]
  },
  {
   "cell_type": "code",
   "execution_count": 10,
   "metadata": {},
   "outputs": [
    {
     "data": {
      "text/plain": [
       "<dlhub_sdk.models.servables.python.PythonStaticMethodModel at 0x7f5a40315f60>"
      ]
     },
     "execution_count": 10,
     "metadata": {},
     "output_type": "execute_result"
    }
   ],
   "source": [
    "model.add_file('model.pkl.gz')"
   ]
  },
  {
   "cell_type": "code",
   "execution_count": 11,
   "metadata": {},
   "outputs": [
    {
     "data": {
      "text/plain": [
       "<dlhub_sdk.models.servables.python.PythonStaticMethodModel at 0x7f5a40315f60>"
      ]
     },
     "execution_count": 11,
     "metadata": {},
     "output_type": "execute_result"
    }
   ],
   "source": [
    "model.add_directory('jcesr_ml', recursive=True, include='*.py')"
   ]
  },
  {
   "cell_type": "markdown",
   "metadata": {},
   "source": [
    "## Describe Computational Environment\n",
    "We described our environment using the `repo2docker` configuration files"
   ]
  },
  {
   "cell_type": "code",
   "execution_count": 12,
   "metadata": {},
   "outputs": [
    {
     "data": {
      "text/plain": [
       "<dlhub_sdk.models.servables.python.PythonStaticMethodModel at 0x7f5a40315f60>"
      ]
     },
     "execution_count": 12,
     "metadata": {},
     "output_type": "execute_result"
    }
   ],
   "source": [
    "model.parse_repo2docker_configuration()"
   ]
  },
  {
   "cell_type": "code",
   "execution_count": 13,
   "metadata": {},
   "outputs": [
    {
     "data": {
      "text/plain": [
       "['dlhub_app.py',\n",
       " 'model.pkl.gz',\n",
       " 'jcesr_ml/atom_environment.py',\n",
       " 'jcesr_ml/benchmark.py',\n",
       " 'jcesr_ml/coordinates.py',\n",
       " 'jcesr_ml/qml.py',\n",
       " 'jcesr_ml/schnetpack.py',\n",
       " 'jcesr_ml/style.py',\n",
       " 'jcesr_ml/utils.py',\n",
       " 'jcesr_ml/__init__.py',\n",
       " '/mnt/c/Users/ward6/Documents/UC/JCESR/g4mp2-atomization-energy/all-train-data/fchl-delta/environment.yml',\n",
       " '/mnt/c/Users/ward6/Documents/UC/JCESR/g4mp2-atomization-energy/all-train-data/fchl-delta/apt.txt']"
      ]
     },
     "execution_count": 13,
     "metadata": {},
     "output_type": "execute_result"
    }
   ],
   "source": [
    "model.list_files()"
   ]
  },
  {
   "cell_type": "markdown",
   "metadata": {},
   "source": [
    "## Publish it to DLHub\n",
    "Make a client and send the model in"
   ]
  },
  {
   "cell_type": "code",
   "execution_count": 14,
   "metadata": {},
   "outputs": [],
   "source": [
    "client = DLHubClient(http_timeout=-1)"
   ]
  },
  {
   "cell_type": "code",
   "execution_count": 15,
   "metadata": {},
   "outputs": [],
   "source": [
    "task_id = client.publish_servable(model)"
   ]
  },
  {
   "cell_type": "code",
   "execution_count": 16,
   "metadata": {},
   "outputs": [
    {
     "name": "stdout",
     "output_type": "stream",
     "text": [
      "Submission ID: 0ca88eb3-b314-42f0-a499-6118a41ba2fa\n"
     ]
    }
   ],
   "source": [
    "print(f'Submission ID: {task_id}')"
   ]
  },
  {
   "cell_type": "code",
   "execution_count": 17,
   "metadata": {},
   "outputs": [],
   "source": [
    "while client.get_task_status(task_id)['status'] != 'SUCCEEDED':\n",
    "    sleep(30)"
   ]
  },
  {
   "cell_type": "code",
   "execution_count": 18,
   "metadata": {},
   "outputs": [
    {
     "data": {
      "text/plain": [
       "{'status': 'SUCCEEDED',\n",
       " 'output': '{\"dlhub\": {\"files\": {\"other\": [\"dlhub_app.py\", \"model.pkl.gz\", \"jcesr_ml/atom_environment.py\", \"jcesr_ml/benchmark.py\", \"jcesr_ml/coordinates.py\", \"jcesr_ml/qml.py\", \"jcesr_ml/schnetpack.py\", \"jcesr_ml/style.py\", \"jcesr_ml/utils.py\", \"jcesr_ml/__init__.py\", \"environment.yml\", \"apt.txt\"]}, \"transfer_method\": {\"path\": \"/mnt/tmp/servable.zip\", \"POST\": \"file\"}, \"user_id\": 3, \"name\": \"g4mp2_delta_fchl\", \"ecr_arn\": \"arn:aws:ecr:us-east-1:039706667969:repository/cbd34e70-52ee-4ba8-b201-f209a15d7ffd\", \"visible_to\": [\"public\"], \"funcx_id\": \"757264d9-30c2-434e-b903-c48df0fa335c\", \"owner\": \"loganw_globusid\", \"ecr_uri\": \"039706667969.dkr.ecr.us-east-1.amazonaws.com/cbd34e70-52ee-4ba8-b201-f209a15d7ffd\", \"version\": \"0.8.3\", \"build_location\": \"/mnt/dlhub_ingest/cbd34e70-52ee-4ba8-b201-f209a15d7ffd-1569434890\", \"shorthand_name\": \"loganw_globusid/g4mp2_delta_fchl\", \"domains\": [], \"publication_date\": 1569434890028, \"identifier\": \"globus:GsgMGXDsu5Fc\", \"type\": \"servable\", \"id\": \"cbd34e70-52ee-4ba8-b201-f209a15d7ffd\"}, \"datacite\": {\"publisher\": \"DLHub\", \"publicationYear\": \"2019\", \"identifier\": {\"identifier\": \"10.YET/UNASSIGNED\", \"identifierType\": \"DOI\"}, \"fundingReferences\": [], \"resourceType\": {\"resourceTypeGeneral\": \"InteractiveResource\"}, \"rightsList\": [], \"relatedIdentifiers\": [{\"relationType\": \"Requires\", \"relatedIdentifier\": \"10.5281/zenodo.817332\", \"relatedIdentifierType\": \"DOI\"}, {\"relationType\": \"IsDescribedBy\", \"relatedIdentifier\": \"globus:GsgMGXDsu5Fc\", \"relatedIdentifierType\": \"Globus\"}], \"alternateIdentifiers\": [], \"titles\": [{\"title\": \"FCHL Model to Predict G4MP2 Activation Energy from B3LYP Energy and Coordinates\"}], \"descriptions\": [], \"creators\": [{\"affiliations\": [\"Argonne National Laboratory\"], \"givenName\": \"Logan\", \"familyName\": \"Ward\"}, {\"affiliations\": [\"Argonne National Laboratory\"], \"givenName\": \"Ben\", \"familyName\": \"Blaiszik\"}, {\"affiliations\": [\"Argonne National Laboratory\"], \"givenName\": \"Ian\", \"familyName\": \"Foster\"}, {\"affiliations\": [\"Argonne National Laboratory\"], \"givenName\": \"Rajeev\", \"familyName\": \"Assary\"}, {\"affiliations\": [\"Argonne National Laboratory\"], \"givenName\": \"Badri\", \"familyName\": \"Narayanan\"}, {\"affiliations\": [\"Argonne National Laboratory\"], \"givenName\": \"Larry\", \"familyName\": \"Curtis\"}]}, \"servable\": {\"type\": \"Python static method\", \"methods\": {\"run\": {\"input\": {\"element_types\": [{\"item_type\": {\"type\": \"string\"}, \"type\": \"list\", \"description\": \"Structures of molecules in XYZ format\"}, {\"item_type\": {\"type\": \"float\"}, \"type\": \"list\", \"description\": \"B3LYP total energies of Energies of molecules in Ha\"}], \"type\": \"tuple\", \"description\": \"Structures and B3LYP energies of moelcule sto be evaluated\"}, \"method_details\": {\"method_name\": \"evaluate_molecules\", \"autobatch\": false, \"unpack\": true, \"module\": \"dlhub_app\"}, \"parameters\": {}, \"output\": {\"item_type\": {\"type\": \"float\"}, \"type\": \"list\", \"description\": \"Estimate of G4MP2 atomization energy\"}}}, \"shim\": \"python.PythonStaticMethodServable\"}}'}"
      ]
     },
     "execution_count": 18,
     "metadata": {},
     "output_type": "execute_result"
    }
   ],
   "source": [
    "client.get_task_status(task_id)"
   ]
  },
  {
   "cell_type": "markdown",
   "metadata": {},
   "source": [
    "## Make Sure Model Works\n",
    "See how the predictions from DLHub compare to running the model locally"
   ]
  },
  {
   "cell_type": "code",
   "execution_count": 19,
   "metadata": {},
   "outputs": [
    {
     "data": {
      "text/plain": [
       "'g4mp2_delta_fchl'"
      ]
     },
     "execution_count": 19,
     "metadata": {},
     "output_type": "execute_result"
    }
   ],
   "source": [
    "model.name"
   ]
  },
  {
   "cell_type": "code",
   "execution_count": 29,
   "metadata": {},
   "outputs": [],
   "source": [
    "mols = ['3\\nH2 O1\\nO -0.034360 0.977540 0.007602\\nH 0.064766 0.020572 0.001535\\nH 0.871790 1.300792 0.000693']\n",
    "b3lyp = [-76.404702]"
   ]
  },
  {
   "cell_type": "code",
   "execution_count": 30,
   "metadata": {},
   "outputs": [
    {
     "name": "stdout",
     "output_type": "stream",
     "text": [
      "CPU times: user 0 ns, sys: 0 ns, total: 0 ns\n",
      "Wall time: 27.5 s\n"
     ]
    }
   ],
   "source": [
    "%%time\n",
    "dlhub_result = client.run(client.get_username() + '/' + model.name, (mols, b3lyp))"
   ]
  },
  {
   "cell_type": "code",
   "execution_count": 31,
   "metadata": {},
   "outputs": [
    {
     "name": "stdout",
     "output_type": "stream",
     "text": [
      "CPU times: user 47.3 s, sys: 4.73 s, total: 52.1 s\n",
      "Wall time: 28.9 s\n"
     ]
    }
   ],
   "source": [
    "%%time\n",
    "local_result = evaluate_molecules(mols, b3lyp)"
   ]
  },
  {
   "cell_type": "code",
   "execution_count": 32,
   "metadata": {},
   "outputs": [],
   "source": [
    "assert np.isclose(local_result, dlhub_result).all()"
   ]
  },
  {
   "cell_type": "code",
   "execution_count": null,
   "metadata": {},
   "outputs": [],
   "source": []
  }
 ],
 "metadata": {
  "kernelspec": {
   "display_name": "Python 3",
   "language": "python",
   "name": "python3"
  },
  "language_info": {
   "codemirror_mode": {
    "name": "ipython",
    "version": 3
   },
   "file_extension": ".py",
   "mimetype": "text/x-python",
   "name": "python",
   "nbconvert_exporter": "python",
   "pygments_lexer": "ipython3",
   "version": "3.6.8"
  }
 },
 "nbformat": 4,
 "nbformat_minor": 4
}
