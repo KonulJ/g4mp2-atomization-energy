{
 "cells": [
  {
   "cell_type": "markdown",
   "metadata": {},
   "source": [
    "# Time DLHub Models\n",
    "This notebooks demonstrates running models via DLHub, and charactizes their execution time as a function of molecular size"
   ]
  },
  {
   "cell_type": "code",
   "execution_count": 1,
   "metadata": {},
   "outputs": [
    {
     "name": "stdout",
     "output_type": "stream",
     "text": [
      "Using matplotlib backend: agg\n"
     ]
    }
   ],
   "source": [
    "%matplotlib\n",
    "from matplotlib import pyplot as plt \n",
    "from dlhub_sdk.client import DLHubClient\n",
    "from time import perf_counter\n",
    "from scipy.stats import sem\n",
    "from tqdm import tqdm\n",
    "import pandas as pd\n",
    "import numpy as np\n",
    "import os"
   ]
  },
  {
   "cell_type": "code",
   "execution_count": 2,
   "metadata": {},
   "outputs": [],
   "source": [
    "client = DLHubClient(http_timeout=-1)"
   ]
  },
  {
   "cell_type": "code",
   "execution_count": 3,
   "metadata": {},
   "outputs": [],
   "source": [
    "model_names = ['loganw_globusid/g4mp2_delta_schnet',\n",
    "               'loganw_globusid/g4mp2_delta_fchl']"
   ]
  },
  {
   "cell_type": "markdown",
   "metadata": {},
   "source": [
    "## Get Example Molecules\n",
    "Get some molecules with different numbers of atoms"
   ]
  },
  {
   "cell_type": "code",
   "execution_count": 4,
   "metadata": {},
   "outputs": [],
   "source": [
    "data = pd.concat([\n",
    "    pd.read_json(os.path.join('..', 'data', 'output', 'g4mp2_data.json.gz'), lines=True),\n",
    "    pd.read_json(os.path.join('..', 'data', 'output', 'sugar_data.json'), lines=True)\n",
    "], sort=False)"
   ]
  },
  {
   "cell_type": "markdown",
   "metadata": {},
   "source": [
    "Get one molecule per molecule size"
   ]
  },
  {
   "cell_type": "code",
   "execution_count": 5,
   "metadata": {},
   "outputs": [],
   "source": [
    "data.drop_duplicates('n_atom', inplace=True)"
   ]
  },
  {
   "cell_type": "markdown",
   "metadata": {},
   "source": [
    "Randomly sort the data so that any effects of running jobs sequentially is not confused with molecule size"
   ]
  },
  {
   "cell_type": "code",
   "execution_count": 6,
   "metadata": {},
   "outputs": [],
   "source": [
    "data.sort_values('n_atom', inplace=True)"
   ]
  },
  {
   "cell_type": "markdown",
   "metadata": {},
   "source": [
    "## Invoke Model for Each Different Molecule Sizes\n",
    "We are going to run each molecule individually to get timing as a function of size"
   ]
  },
  {
   "cell_type": "code",
   "execution_count": 7,
   "metadata": {},
   "outputs": [
    {
     "name": "stderr",
     "output_type": "stream",
     "text": [
      "loganw_globusid/g4mp2_delta_schnet: 28it [02:31,  5.40s/it]\n",
      "loganw_globusid/g4mp2_delta_fchl: 28it [1:00:18, 129.24s/it]\n"
     ]
    }
   ],
   "source": [
    "results = []\n",
    "for m in model_names:\n",
    "    wait_time = 60 if 'fchl' in m else 5\n",
    "    for rid, mol in tqdm(data.iterrows(), desc=m):\n",
    "        # Run the simulation many times to evaluate the timing\n",
    "            timings = []\n",
    "            for i in range(1):\n",
    "                # Submit the task\n",
    "                future = client.run(m, ([mol['xyz']]*1, [mol['u0']]*1), input_type='json',\n",
    "                                    asynchronous=True, async_wait=wait_time)\n",
    "                future.result()\n",
    "                \n",
    "                # Get the invocation time on DLHub\n",
    "                timings.append(future.client.get_task_status(future.task_id)['invocation_time'])\n",
    "            results.append({\n",
    "                'model': m,\n",
    "                'n_atoms': mol['n_atom'],\n",
    "                'timing': np.mean(timings)\n",
    "            })"
   ]
  },
  {
   "cell_type": "code",
   "execution_count": 8,
   "metadata": {},
   "outputs": [],
   "source": [
    "results = pd.DataFrame(results)"
   ]
  },
  {
   "cell_type": "markdown",
   "metadata": {},
   "source": [
    "## Plot the Sizes\n",
    "Plot the invocation time as a function of molecule size"
   ]
  },
  {
   "cell_type": "code",
   "execution_count": 9,
   "metadata": {},
   "outputs": [
    {
     "data": {
      "image/png": "[encoded data removed]",
      "text/plain": [
       "<Figure size 252x180 with 1 Axes>"
      ]
     },
     "metadata": {
      "needs_background": "light"
     },
     "output_type": "display_data"
    }
   ],
   "source": [
    "fig, ax = plt.subplots()\n",
    "\n",
    "for (gid, group), color in zip(results.groupby('model'), ['goldenrod', 'firebrick']):\n",
    "    ax.semilogy(group['n_atoms'], group['timing'],# yerr=data['timing_err'], \n",
    "                color=color, linestyle='none', marker='o',\n",
    "               label=gid.split(\"_\")[-1])\n",
    "ax.set_xlabel('Number of Atoms')\n",
    "ax.set_ylabel('Evaluation Time (ms)')\n",
    "ax.legend()\n",
    "\n",
    "fig.set_size_inches(3.5, 2.5)\n",
    "fig.tight_layout()\n",
    "fig.savefig(os.path.join('figures', 'dlhub-run-time.png'), dpi=320)\n",
    "fig.savefig(os.path.join('figures', 'dlhub-run-time.pdf'))"
   ]
  },
  {
   "cell_type": "code",
   "execution_count": null,
   "metadata": {},
   "outputs": [],
   "source": []
  }
 ],
 "metadata": {
  "kernelspec": {
   "display_name": "Python 3",
   "language": "python",
   "name": "python3"
  },
  "language_info": {
   "codemirror_mode": {
    "name": "ipython",
    "version": 3
   },
   "file_extension": ".py",
   "mimetype": "text/x-python",
   "name": "python",
   "nbconvert_exporter": "python",
   "pygments_lexer": "ipython3",
   "version": "3.6.8"
  }
 },
 "nbformat": 4,
 "nbformat_minor": 4
}
