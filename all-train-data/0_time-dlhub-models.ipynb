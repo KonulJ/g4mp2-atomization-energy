{
 "cells": [
  {
   "cell_type": "markdown",
   "metadata": {},
   "source": [
    "# Time DLHub Models\n",
    "This notebooks demonstrates running models via DLHub, and charactizes their execution time as a function of molecular size"
   ]
  },
  {
   "cell_type": "code",
   "execution_count": 1,
   "metadata": {},
   "outputs": [
    {
     "name": "stdout",
     "output_type": "stream",
     "text": [
      "Using matplotlib backend: agg\n"
     ]
    }
   ],
   "source": [
    "%matplotlib\n",
    "from matplotlib import pyplot as plt \n",
    "from dlhub_sdk.client import DLHubClient\n",
    "from time import perf_counter\n",
    "from scipy.stats import sem\n",
    "from tqdm import tqdm\n",
    "import pandas as pd\n",
    "import numpy as np\n",
    "import os"
   ]
  },
  {
   "cell_type": "code",
   "execution_count": 2,
   "metadata": {},
   "outputs": [],
   "source": [
    "client = DLHubClient()"
   ]
  },
  {
   "cell_type": "code",
   "execution_count": 3,
   "metadata": {},
   "outputs": [],
   "source": [
    "model_name = 'loganw_globusid/g4mp2_delta_schnet'"
   ]
  },
  {
   "cell_type": "markdown",
   "metadata": {},
   "source": [
    "## Get Example Molecules\n",
    "Get some molecules with different numbers of atoms"
   ]
  },
  {
   "cell_type": "code",
   "execution_count": 4,
   "metadata": {},
   "outputs": [],
   "source": [
    "data = pd.concat([\n",
    "    pd.read_json(os.path.join('..', 'data', 'output', 'g4mp2_data.json.gz'), lines=True),\n",
    "    pd.read_json(os.path.join('..', 'data', 'output', 'sugar_data.json'), lines=True)\n",
    "], sort=False)"
   ]
  },
  {
   "cell_type": "markdown",
   "metadata": {},
   "source": [
    "Get one molecule per molecule size"
   ]
  },
  {
   "cell_type": "code",
   "execution_count": 5,
   "metadata": {},
   "outputs": [],
   "source": [
    "data.drop_duplicates('n_atom', inplace=True)"
   ]
  },
  {
   "cell_type": "markdown",
   "metadata": {},
   "source": [
    "## Invoke Model for Each Different Molecule Sizes\n",
    "We are going to run each molecule individually to get timing as a function of size"
   ]
  },
  {
   "cell_type": "code",
   "execution_count": 6,
   "metadata": {},
   "outputs": [],
   "source": [
    "data['timing_err'] = data['timing'] = 0"
   ]
  },
  {
   "cell_type": "code",
   "execution_count": 7,
   "metadata": {},
   "outputs": [
    {
     "name": "stderr",
     "output_type": "stream",
     "text": [
      "28it [06:26, 14.42s/it]\n"
     ]
    }
   ],
   "source": [
    "for rid, mol in tqdm(data.iterrows()):\n",
    "    # Run the simulation many times to evaluate the timing\n",
    "    timings = []\n",
    "    for i in range(64):\n",
    "        start = perf_counter()\n",
    "        client.run(model_name, ([mol['xyz']]*100, [mol['u0']]*100), input_type='json')\n",
    "        end = perf_counter()\n",
    "        timings.append(end - start)\n",
    "    data.loc[rid, 'timing'] = np.mean(timings)    \n",
    "    data.loc[rid, 'timing_err'] = sem(timings)    "
   ]
  },
  {
   "cell_type": "markdown",
   "metadata": {},
   "source": [
    "## Plot the Sizes\n",
    "Plot the invocation time as a function of molecule size"
   ]
  },
  {
   "cell_type": "code",
   "execution_count": 8,
   "metadata": {},
   "outputs": [
    {
     "data": {
      "image/png": "[encoded data removed]",
      "text/plain": [
       "<Figure size 252x180 with 1 Axes>"
      ]
     },
     "metadata": {
      "needs_background": "light"
     },
     "output_type": "display_data"
    }
   ],
   "source": [
    "fig, ax = plt.subplots()\n",
    "\n",
    "ax.errorbar(data['n_atom'], data['timing'], yerr=data['timing_err'], \n",
    "            linestyle='none', marker='o', ecolor='dimgray')\n",
    "ax.set_xlabel('Number of Atoms')\n",
    "ax.set_ylabel('Evaluation Time (s)')\n",
    "\n",
    "fig.set_size_inches(3.5, 2.5)\n",
    "fig.tight_layout()\n",
    "fig.savefig(os.path.join('figures', 'dlhub-run-time.png'), dpi=320)\n",
    "fig.savefig(os.path.join('figures', 'dlhub-run-time.pdf'))"
   ]
  },
  {
   "cell_type": "code",
   "execution_count": null,
   "metadata": {},
   "outputs": [],
   "source": []
  }
 ],
 "metadata": {
  "kernelspec": {
   "display_name": "Python 3",
   "language": "python",
   "name": "python3"
  },
  "language_info": {
   "codemirror_mode": {
    "name": "ipython",
    "version": 3
   },
   "file_extension": ".py",
   "mimetype": "text/x-python",
   "name": "python",
   "nbconvert_exporter": "python",
   "pygments_lexer": "ipython3",
   "version": "3.7.2"
  }
 },
 "nbformat": 4,
 "nbformat_minor": 2
}
