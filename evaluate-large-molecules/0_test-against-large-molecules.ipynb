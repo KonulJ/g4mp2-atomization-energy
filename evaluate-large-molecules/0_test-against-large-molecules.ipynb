{
 "cells": [
  {
   "cell_type": "markdown",
   "metadata": {},
   "source": [
    "# Evaluate Performance of Models with Large Molecules\n",
    "As part of another study, we computed the G4MP2 energies of a few hundred large molecules. Here, we test whether the models trained on QM9 can successfully predict the energies of the large molecules given...\n",
    "\n",
    "- B3LYP coordinates\n",
    "- B3LYP coordinates and energy\n",
    "- Without coordinates or energies"
   ]
  },
  {
   "cell_type": "code",
   "execution_count": 1,
   "metadata": {},
   "outputs": [],
   "source": [
    "%matplotlib inline\n",
    "from matplotlib import pyplot as plt\n",
    "from jcesr_ml.coordinates import generate_atomic_coordinates, get_rmsd\n",
    "from jcesr_ml.schnetpack import load_model, run_model\n",
    "from jcesr_ml.qml import run_model as run_qml_model\n",
    "from jcesr_ml.benchmark import load_benchmark_data\n",
    "from jcesr_ml.style import model_style\n",
    "from ase.units import Hartree, eV\n",
    "from pymatgen.io.xyz import XYZ\n",
    "from pymatgen import Element\n",
    "from io import StringIO\n",
    "import pickle as pkl\n",
    "import pandas as pd\n",
    "import numpy as np\n",
    "import gzip\n",
    "import os"
   ]
  },
  {
   "cell_type": "markdown",
   "metadata": {},
   "source": [
    "Directories with fully-trained models"
   ]
  },
  {
   "cell_type": "code",
   "execution_count": 2,
   "metadata": {},
   "outputs": [],
   "source": [
    "schnet_dir = os.path.join('..', 'benchmark', 'schnet')\n",
    "fchl_dir = os.path.join('..', 'benchmark', 'qml')"
   ]
  },
  {
   "cell_type": "markdown",
   "metadata": {},
   "source": [
    "## Read in the Sugar Data\n",
    "We saved it to a JSON file in a previous notebook. Get only the molecules larger than our training set"
   ]
  },
  {
   "cell_type": "code",
   "execution_count": 3,
   "metadata": {},
   "outputs": [
    {
     "name": "stdout",
     "output_type": "stream",
     "text": [
      "Read data of 66 molecules\n"
     ]
    }
   ],
   "source": [
    "data = pd.read_json(os.path.join('..', 'data', 'output', 'sugar_data.json'), lines=True)\n",
    "print('Read data of {} molecules'.format(len(data)))"
   ]
  },
  {
   "cell_type": "markdown",
   "metadata": {},
   "source": [
    "Print the error of B3LYP to G4MP2"
   ]
  },
  {
   "cell_type": "code",
   "execution_count": 4,
   "metadata": {},
   "outputs": [
    {
     "name": "stdout",
     "output_type": "stream",
     "text": [
      "Total number of molecules: 66 - B3LYP MAE: 439.1 meV\n"
     ]
    }
   ],
   "source": [
    "print('Total number of molecules: {} - B3LYP MAE: {:.1f} meV'.format(len(data), (data['u0_atom'] - data['g4mp2_atom']).abs().mean() * Hartree / eV * 1000))"
   ]
  },
  {
   "cell_type": "markdown",
   "metadata": {},
   "source": [
    "## Given B3LYP Coordinates\n",
    "Emulate what happens if we have a perfect guess of the B3LYP coordinates, but did not measure the energy"
   ]
  },
  {
   "cell_type": "markdown",
   "metadata": {},
   "source": [
    "### Evaluate SchNet Models\n",
    "Use the `stacked-delta` model (the best-performing modification) and baseline SchNet"
   ]
  },
  {
   "cell_type": "code",
   "execution_count": 5,
   "metadata": {},
   "outputs": [
    {
     "name": "stderr",
     "output_type": "stream",
     "text": []
    }
   ],
   "source": [
    "for m in ['g4mp2-transfer', 'g4mp2-stacked-delta', 'g4mp2']:\n",
    "    model = load_model(m, 117232, arch_dir=schnet_dir, weights_dir=schnet_dir)\n",
    "    data['g4mp2_0k-pred-{}'.format(m)] = run_model(model, data, 'xyz')"
   ]
  },
  {
   "cell_type": "markdown",
   "metadata": {},
   "source": [
    "### Evaluate FCHL Models\n",
    "Pick the ones trained on the most data"
   ]
  },
  {
   "cell_type": "code",
   "execution_count": 6,
   "metadata": {},
   "outputs": [
    {
     "name": "stdout",
     "output_type": "stream",
     "text": [
      "CPU times: user 1h 13min 22s, sys: 8.08 s, total: 1h 13min 31s\n",
      "Wall time: 19min 20s\n"
     ]
    }
   ],
   "source": [
    "%%time\n",
    "for m in ['fchl']:\n",
    "    with gzip.open(os.path.join(fchl_dir, '{}_g4mp2.pkl.gz'.format(m)), 'rb') as fp:\n",
    "        model = pkl.load(fp)\n",
    "    data['g4mp2_0k-pred-fchl'] = run_qml_model(model, data, 'xyz')"
   ]
  },
  {
   "cell_type": "markdown",
   "metadata": {},
   "source": [
    "### Compare the Results\n",
    "Show the distribution of errors, which will be a more meaningful plot than a predictive-vs-actual plot due to the small sizes for the errors compared to the true values."
   ]
  },
  {
   "cell_type": "code",
   "execution_count": 7,
   "metadata": {},
   "outputs": [
    {
     "data": {
      "image/png": "[encoded data removed]",
      "text/plain": [
       "<Figure size 252x180 with 1 Axes>"
      ]
     },
     "metadata": {
      "needs_background": "light"
     },
     "output_type": "display_data"
    }
   ],
   "source": [
    "fig, ax = plt.subplots()\n",
    "\n",
    "bins = np.linspace(-350, 350, 20)\n",
    "\n",
    "# Plot the SchNet models\n",
    "for m in ['g4mp2-transfer', 'g4mp2']:\n",
    "    error = (data['g4mp2_0k-pred-{}'.format(m)] - data['g4mp2_0k']) * Hartree / eV * 1000\n",
    "    ax.hist(error, bins=bins, alpha=0.5, color=model_style[m]['color'],\n",
    "           label=model_style[m]['label'])\n",
    "    \n",
    "# Plot FCHL\n",
    "error = (data['g4mp2_atom'] - data['g4mp2_0k-pred-fchl']) * Hartree / eV * 1000\n",
    "ax.hist(error, bins=bins, alpha=0.5, color=model_style['FCHL']['color'],\n",
    "           label=model_style['FCHL']['label'])\n",
    "\n",
    "# Make it pretty\n",
    "ax.set_xlabel('Error (meV)')\n",
    "ax.set_ylabel('Frequency')\n",
    "\n",
    "ax.legend()\n",
    "fig.tight_layout()\n",
    "fig.set_size_inches(3.5, 2.5)"
   ]
  },
  {
   "cell_type": "code",
   "execution_count": 8,
   "metadata": {},
   "outputs": [
    {
     "name": "stdout",
     "output_type": "stream",
     "text": [
      "SchNet MAE 110.81081301338736\n",
      "FCHL MAE 103.09173699978612\n"
     ]
    },
    {
     "data": {
      "image/png": "[encoded data removed]",
      "text/plain": [
       "<Figure size 252x180 with 1 Axes>"
      ]
     },
     "metadata": {
      "needs_background": "light"
     },
     "output_type": "display_data"
    }
   ],
   "source": [
    "fig, ax = plt.subplots()\n",
    "\n",
    "bins = np.linspace(-2000, 2000, 20)\n",
    "\n",
    "# Add in the SchNet stacked\n",
    "error = (data['g4mp2_0k'] - data['g4mp2_0k-pred-g4mp2-transfer']) * Hartree / eV * 1000\n",
    "print('SchNet MAE', error.abs().mean())\n",
    "ax.scatter(data['n_electrons'], error, **model_style['g4mp2-transfer'])\n",
    "\n",
    "\n",
    "# Add in the FCHL\n",
    "error = (data['g4mp2_atom'] - data['g4mp2_0k-pred-fchl']) * Hartree / eV * 1000\n",
    "print('FCHL MAE', error.abs().mean())\n",
    "ax.scatter(data['n_electrons'], error, **model_style['FCHL'])\n",
    "\n",
    "# Make it pretty\n",
    "ax.set_xlabel('Electron Count')\n",
    "ax.set_ylabel('Error (meV)')\n",
    "\n",
    "ax.legend()\n",
    "\n",
    "fig.set_size_inches(3.5, 2.5)\n",
    "fig.tight_layout()\n",
    "fig.savefig(os.path.join('figures', 'large-molecule-errors.png'), dpi=320)"
   ]
  },
  {
   "cell_type": "markdown",
   "metadata": {},
   "source": [
    "*Finding*: There seem to be some types of molecules that are especially problematic. We should dig in to what these are and figure out what is going on."
   ]
  },
  {
   "cell_type": "markdown",
   "metadata": {},
   "source": [
    "## B3LYP Coordinates and Energies\n",
    "Measure the performance of the models using the B3LYP coordinates and energy"
   ]
  },
  {
   "cell_type": "markdown",
   "metadata": {},
   "source": [
    "### Evaluate SchNet Models\n",
    "Use the `delta` model"
   ]
  },
  {
   "cell_type": "code",
   "execution_count": 9,
   "metadata": {},
   "outputs": [
    {
     "name": "stderr",
     "output_type": "stream",
     "text": []
    }
   ],
   "source": [
    "for m in ['g4mp2-delta']:\n",
    "    model = load_model(m, 117232, arch_dir=schnet_dir, weights_dir=schnet_dir)\n",
    "    data['g4mp2_0k-pred-{}'.format(m)] = run_model(model, data, 'xyz', ['u0'])"
   ]
  },
  {
   "cell_type": "markdown",
   "metadata": {},
   "source": [
    "### Evaluate FCHL Models\n",
    "Evaluate the Delta model trained on the largest dataset"
   ]
  },
  {
   "cell_type": "code",
   "execution_count": 10,
   "metadata": {},
   "outputs": [
    {
     "name": "stdout",
     "output_type": "stream",
     "text": [
      "CPU times: user 1h 12min 49s, sys: 6.31 s, total: 1h 12min 55s\n",
      "Wall time: 18min 52s\n"
     ]
    }
   ],
   "source": [
    "%%time\n",
    "with gzip.open(os.path.join(fchl_dir, 'fchl_g4mp2-delta.pkl.gz'), 'rb') as fp:\n",
    "    model = pkl.load(fp)\n",
    "data['g4mp2_0k-pred-{}'.format('fchl-delta')] = run_qml_model(model, data, 'xyz')"
   ]
  },
  {
   "cell_type": "markdown",
   "metadata": {},
   "source": [
    "## Compare the Methods\n",
    "Mkae a histogram so that we can see the distributions of errors"
   ]
  },
  {
   "cell_type": "code",
   "execution_count": 11,
   "metadata": {},
   "outputs": [
    {
     "name": "stdout",
     "output_type": "stream",
     "text": [
      "MAE B3LYP: 439.12 meV\n",
      "MAE g4mp2-delta: 39.46 meV\n",
      "MAE FCHL Delta: 19.70 meV\n"
     ]
    },
    {
     "data": {
      "image/png": "[encoded data removed]",
      "text/plain": [
       "<Figure size 252x180 with 1 Axes>"
      ]
     },
     "metadata": {
      "needs_background": "light"
     },
     "output_type": "display_data"
    }
   ],
   "source": [
    "fig, ax = plt.subplots()\n",
    "\n",
    "bins = np.linspace(-750, 750, 64)\n",
    "\n",
    "# Plot B3LYP\n",
    "error = (data['g4mp2_atom'] - data['u0_atom']) * Hartree / eV * 1000\n",
    "print('MAE B3LYP: {:.2f} meV'.format(error.abs().mean()))\n",
    "ax.hist(error, bins=bins, alpha=0.5, color=model_style['B3LYP']['color'],\n",
    "       label=model_style['B3LYP']['label'])\n",
    "\n",
    "\n",
    "# Plot the SchNet models\n",
    "for m in ['g4mp2-delta']:\n",
    "    error = (data['g4mp2_0k-pred-{}'.format(m)] - data['g4mp2_0k']) * Hartree / eV * 1000\n",
    "    print('MAE {}: {:.2f} meV'.format(m, error.abs().mean()))\n",
    "    ax.hist(error, bins=bins, alpha=0.5, color=model_style[m]['color'],\n",
    "           label=model_style[m]['label'])\n",
    "    \n",
    "# Add FCHL\n",
    "error = (data['g4mp2_atom'] - data['u0_atom'] - data['g4mp2_0k-pred-fchl-delta']) * Hartree / eV * 1000\n",
    "print('MAE {}: {:.2f} meV'.format('FCHL Delta', error.abs().mean()))\n",
    "ax.hist(error, bins=bins, alpha=0.5, color=model_style['FCHL Delta']['color'],\n",
    "       label=model_style['FCHL Delta']['label'])\n",
    "\n",
    "# Make it pretty\n",
    "ax.set_xlabel('Error (meV)')\n",
    "ax.set_ylabel('Frequency')\n",
    "\n",
    "ax.legend()\n",
    "fig.tight_layout()\n",
    "fig.set_size_inches(3.5, 2.5)"
   ]
  },
  {
   "cell_type": "code",
   "execution_count": 12,
   "metadata": {},
   "outputs": [
    {
     "name": "stdout",
     "output_type": "stream",
     "text": [
      "MAE B3LYP: 439.12 meV\n",
      "MAE g4mp2-delta: 39.46 meV\n",
      "MAE FCHL Delta: 19.70 meV\n"
     ]
    },
    {
     "data": {
      "image/png": "[encoded data removed]",
      "text/plain": [
       "<Figure size 252x180 with 1 Axes>"
      ]
     },
     "metadata": {
      "needs_background": "light"
     },
     "output_type": "display_data"
    }
   ],
   "source": [
    "fig, ax = plt.subplots()\n",
    "\n",
    "# Plot B3LYP\n",
    "error = (data['g4mp2_atom'] - data['u0_atom']) * Hartree / eV * 1000\n",
    "print('MAE B3LYP: {:.2f} meV'.format(error.abs().mean()))\n",
    "ax.plot(data['n_heavy_atoms'], error, **model_style['B3LYP'], linewidth=0)\n",
    "\n",
    "\n",
    "# Plot the SchNet models\n",
    "for m in ['g4mp2-delta']:\n",
    "    error = (data['g4mp2_0k-pred-{}'.format(m)] - data['g4mp2_0k']) * Hartree / eV * 1000\n",
    "    print('MAE {}: {:.2f} meV'.format(m, error.abs().mean()))\n",
    "    ax.plot(data['n_heavy_atoms'], error, **model_style[m], linewidth=0)\n",
    "    \n",
    "# Add FCHL\n",
    "error = (data['g4mp2_atom'] - data['u0_atom'] - data['g4mp2_0k-pred-fchl-delta']) * Hartree / eV * 1000\n",
    "print('MAE {}: {:.2f} meV'.format('FCHL Delta', error.abs().mean()))\n",
    "ax.plot(data['n_heavy_atoms'], error, **model_style['FCHL Delta'], linewidth=0)\n",
    "\n",
    "# Make it pretty\n",
    "ax.set_ylabel('Error (meV)')\n",
    "ax.set_xlabel('N. Heavy Atoms')\n",
    "\n",
    "ax.legend()\n",
    "fig.tight_layout()\n",
    "fig.set_size_inches(3.5, 2.5)"
   ]
  },
  {
   "cell_type": "markdown",
   "metadata": {},
   "source": [
    "## No Coordinates or Energies\n",
    "We just use the atomic coordinates generated from OpenBabel"
   ]
  },
  {
   "cell_type": "code",
   "execution_count": 13,
   "metadata": {},
   "outputs": [
    {
     "name": "stdout",
     "output_type": "stream",
     "text": [
      "CPU times: user 51 s, sys: 15.6 ms, total: 51 s\n",
      "Wall time: 51.3 s\n"
     ]
    }
   ],
   "source": [
    "%%time\n",
    "data['xyz_gen'] = data['smiles'].apply(generate_atomic_coordinates)"
   ]
  },
  {
   "cell_type": "markdown",
   "metadata": {},
   "source": [
    "See how good the predictions are"
   ]
  },
  {
   "cell_type": "code",
   "execution_count": 14,
   "metadata": {},
   "outputs": [
    {
     "name": "stdout",
     "output_type": "stream",
     "text": [
      "CPU times: user 2.47 s, sys: 0 ns, total: 2.47 s\n",
      "Wall time: 2.48 s\n"
     ]
    }
   ],
   "source": [
    "%%time\n",
    "data['rmsd'] = data.apply(lambda x: get_rmsd(x['xyz'], x['xyz_gen']), axis=1)"
   ]
  },
  {
   "cell_type": "code",
   "execution_count": 15,
   "metadata": {},
   "outputs": [
    {
     "data": {
      "text/plain": [
       "count    66.000000\n",
       "mean      1.186018\n",
       "std       0.881268\n",
       "min       0.029167\n",
       "25%       0.545417\n",
       "50%       1.140122\n",
       "75%       1.980044\n",
       "max       3.392658\n",
       "Name: rmsd, dtype: float64"
      ]
     },
     "execution_count": 15,
     "metadata": {},
     "output_type": "execute_result"
    }
   ],
   "source": [
    "data['rmsd'].describe()"
   ]
  },
  {
   "cell_type": "code",
   "execution_count": 16,
   "metadata": {},
   "outputs": [
    {
     "data": {
      "image/png": "[encoded data removed]",
      "text/plain": [
       "<Figure size 252x180 with 1 Axes>"
      ]
     },
     "metadata": {
      "needs_background": "light"
     },
     "output_type": "display_data"
    }
   ],
   "source": [
    "fig, ax = plt.subplots()\n",
    "\n",
    "ax.scatter(data['n_heavy_atoms'], data['rmsd'])\n",
    "\n",
    "ax.set_ylabel('RMSD (Ang)')\n",
    "ax.set_xlabel('Number of Electrons')\n",
    "\n",
    "fig.set_size_inches(3.5, 2.5)"
   ]
  },
  {
   "cell_type": "markdown",
   "metadata": {},
   "source": [
    "*Finding*: The RMSD between B3LYP and our generated coordinates is enormous."
   ]
  },
  {
   "cell_type": "markdown",
   "metadata": {},
   "source": [
    "## Evaluate the Re-trained SchNet\n",
    "We are going to use the one trained on conformers with a jitter of 0.1 Å"
   ]
  },
  {
   "cell_type": "code",
   "execution_count": 17,
   "metadata": {},
   "outputs": [],
   "source": [
    "model = load_model('g4mp2-transfer', 'relaxed-conformers', '0.1000', arch_dir=schnet_dir,\n",
    "                  weights_dir=os.path.join('..', 'coordinate-sensitivity'))"
   ]
  },
  {
   "cell_type": "code",
   "execution_count": 18,
   "metadata": {},
   "outputs": [
    {
     "name": "stderr",
     "output_type": "stream",
     "text": []
    }
   ],
   "source": [
    "data['g4mp2_0k-pred-schnet-smiles'] = run_model(model, data, 'xyz_gen')"
   ]
  },
  {
   "cell_type": "code",
   "execution_count": 19,
   "metadata": {
    "scrolled": true
   },
   "outputs": [
    {
     "data": {
      "image/png": "[encoded data removed]",
      "text/plain": [
       "<Figure size 252x144 with 1 Axes>"
      ]
     },
     "metadata": {
      "needs_background": "light"
     },
     "output_type": "display_data"
    }
   ],
   "source": [
    "fig, ax = plt.subplots()\n",
    "\n",
    "\n",
    "# Plot the SchNet Predictions\n",
    "error = (data['g4mp2_0k'] - data['g4mp2_0k-pred-schnet-smiles']) * Hartree / eV\n",
    "ax.scatter(data['n_electrons'], error, **model_style['g4mp2-transfer'])\n",
    "\n",
    "error = (data['g4mp2_atom'] - data['u0_atom']) * Hartree / eV\n",
    "ax.scatter(data['n_electrons'], error, **model_style['B3LYP'])\n",
    "\n",
    "# Add in the zero line\n",
    "xlim = ax.set_xlim(ax.get_xlim())\n",
    "ax.plot(xlim, [0,0], 'k--', lw=1)\n",
    "\n",
    "ax.legend(loc='lower left')\n",
    "\n",
    "# Make it pretty\n",
    "ax.set_xlabel('Electron Count')\n",
    "ax.set_ylabel('Error (eV)')\n",
    "\n",
    "fig.set_size_inches(3.5, 2)\n",
    "fig.tight_layout()\n",
    "fig.savefig(os.path.join('figures', 'large-molecules-generated.png'), dpi=320)"
   ]
  },
  {
   "cell_type": "markdown",
   "metadata": {},
   "source": [
    "*Finding*: The model accuracy when using conformers severely degrades with atomic size. Our largest molecules have errors of nearly 1 eV, which is likely too large to be useful."
   ]
  },
  {
   "cell_type": "markdown",
   "metadata": {},
   "source": [
    "## Save the Data\n",
    "Save the data for later plotting"
   ]
  },
  {
   "cell_type": "code",
   "execution_count": 20,
   "metadata": {},
   "outputs": [],
   "source": [
    "data.to_csv('large-molecule-predictions.csv', index=False)"
   ]
  },
  {
   "cell_type": "code",
   "execution_count": null,
   "metadata": {},
   "outputs": [],
   "source": []
  }
 ],
 "metadata": {
  "kernelspec": {
   "display_name": "Python 3",
   "language": "python",
   "name": "python3"
  },
  "language_info": {
   "codemirror_mode": {
    "name": "ipython",
    "version": 3
   },
   "file_extension": ".py",
   "mimetype": "text/x-python",
   "name": "python",
   "nbconvert_exporter": "python",
   "pygments_lexer": "ipython3",
   "version": "3.7.2"
  }
 },
 "nbformat": 4,
 "nbformat_minor": 2
}
