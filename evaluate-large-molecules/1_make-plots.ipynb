{
 "cells": [
  {
   "cell_type": "markdown",
   "metadata": {},
   "source": [
    "# Make Plots\n",
    "Plots related to the large molecule size tests"
   ]
  },
  {
   "cell_type": "code",
   "execution_count": 1,
   "metadata": {},
   "outputs": [],
   "source": [
    "%matplotlib inline\n",
    "from matplotlib import pyplot as plt\n",
    "from matplotlib.ticker import FormatStrFormatter\n",
    "from jcesr_ml.style import model_style\n",
    "from ase.units import Hartree, eV\n",
    "from scipy.stats import sem\n",
    "import pandas as pd\n",
    "import numpy as np\n",
    "import os"
   ]
  },
  {
   "cell_type": "markdown",
   "metadata": {},
   "source": [
    "## Load in Results\n",
    "We'll need the predictions of FCHL/SchNet on large molecules, and on the QM9 test set"
   ]
  },
  {
   "cell_type": "code",
   "execution_count": 2,
   "metadata": {},
   "outputs": [],
   "source": [
    "large_data = pd.read_csv('large-molecule-predictions.csv')"
   ]
  },
  {
   "cell_type": "code",
   "execution_count": 3,
   "metadata": {},
   "outputs": [],
   "source": [
    "schnet_predictions = pd.read_csv(os.path.join('..', 'benchmark', 'schnet', 'schnet_predictions.csv.gz'))"
   ]
  },
  {
   "cell_type": "code",
   "execution_count": 4,
   "metadata": {},
   "outputs": [],
   "source": [
    "fchl_predictions = pd.read_csv(os.path.join('..', 'benchmark', 'qml', 'fchl-predictions.csv.gz'))"
   ]
  },
  {
   "cell_type": "markdown",
   "metadata": {},
   "source": [
    "## Make a Histogram of Errors on Large Molecules\n",
    "Compare B3LYP/FCHL/SchNet"
   ]
  },
  {
   "cell_type": "code",
   "execution_count": 5,
   "metadata": {},
   "outputs": [
    {
     "name": "stdout",
     "output_type": "stream",
     "text": [
      "MAE B3LYP: 439.12 meV\n",
      "MAE g4mp2-delta: 39.43 meV\n",
      "MAE FCHL Delta: 19.70 meV\n"
     ]
    },
    {
     "data": {
      "image/png": "[encoded data removed]",
      "text/plain": [
       "<Figure size 252x180 with 1 Axes>"
      ]
     },
     "metadata": {
      "needs_background": "light"
     },
     "output_type": "display_data"
    }
   ],
   "source": [
    "fig, ax = plt.subplots()\n",
    "\n",
    "bins = np.linspace(-750, 750, 64)\n",
    "\n",
    "# Plot B3LYP\n",
    "error = (large_data['g4mp2_atom'] - large_data['u0_atom']) * Hartree / eV * 1000\n",
    "print('MAE B3LYP: {:.2f} meV'.format(error.abs().mean()))\n",
    "ax.hist(error, bins=bins, alpha=0.5, color=model_style['B3LYP']['color'],\n",
    "       label=model_style['B3LYP']['label'])\n",
    "\n",
    "\n",
    "# Plot the SchNet models\n",
    "for m in ['g4mp2-delta']:\n",
    "    error = (large_data['g4mp2_0k-pred-{}'.format(m)] - large_data['g4mp2_0k']) * Hartree / eV * 1000\n",
    "    print('MAE {}: {:.2f} meV'.format(m, error.abs().mean()))\n",
    "    ax.hist(error, bins=bins, alpha=0.5, color=model_style[m]['color'],\n",
    "           label=model_style[m]['label'])\n",
    "    \n",
    "# Add FCHL\n",
    "error = (large_data['g4mp2_atom'] - large_data['u0_atom'] \n",
    "         - large_data['g4mp2_0k-pred-fchl-delta']) * Hartree / eV * 1000\n",
    "print('MAE {}: {:.2f} meV'.format('FCHL Delta', error.abs().mean()))\n",
    "ax.hist(error, bins=bins, alpha=0.5, color=model_style['FCHL Delta']['color'],\n",
    "       label=model_style['FCHL Delta']['label'])\n",
    "\n",
    "# Make it pretty\n",
    "ax.set_xlabel('Error (meV)')\n",
    "ax.set_ylabel('Frequency')\n",
    "\n",
    "ax.legend()\n",
    "fig.tight_layout()\n",
    "fig.set_size_inches(3.5, 2.5)\n",
    "fig.savefig(os.path.join('figures', 'large-mol-hist.png'), dpi=320)"
   ]
  },
  {
   "cell_type": "markdown",
   "metadata": {},
   "source": [
    "## Make Molecule Size Plot for Generated Coordinates\n",
    "Show how large the errors are and that they increase with molecule size"
   ]
  },
  {
   "cell_type": "code",
   "execution_count": 6,
   "metadata": {},
   "outputs": [
    {
     "data": {
      "image/png": "[encoded data removed]",
      "text/plain": [
       "<Figure size 252x144 with 1 Axes>"
      ]
     },
     "metadata": {
      "needs_background": "light"
     },
     "output_type": "display_data"
    }
   ],
   "source": [
    "fig, ax = plt.subplots()\n",
    "\n",
    "# Plot the SchNet Predictions\n",
    "error = (large_data['g4mp2_0k'] - large_data['g4mp2_0k-pred-schnet-smiles']) * Hartree / eV\n",
    "ax.plot(large_data['n_electrons'], error, **model_style['g4mp2-transfer'], linewidth=0)\n",
    "\n",
    "error = (large_data['g4mp2_0k'] - large_data['g4mp2_0k-pred-g4mp2-delta']) * Hartree / eV\n",
    "ax.plot(large_data['n_electrons'], error, **model_style['g4mp2-delta'], linewidth=0)\n",
    "\n",
    "error = (large_data['g4mp2_atom'] - large_data['u0_atom']) * Hartree / eV\n",
    "ax.plot(large_data['n_electrons'], error, **model_style['B3LYP'], linewidth=0)\n",
    "\n",
    "# Add in the zero line\n",
    "xlim = ax.set_xlim(ax.get_xlim())\n",
    "ax.plot(xlim, [0,0], 'k--', lw=1)\n",
    "\n",
    "ax.legend(loc='lower left')\n",
    "\n",
    "# Make it pretty\n",
    "\n",
    "ax.set_xlabel('Electron Count')\n",
    "ax.set_ylabel('Error (eV)')\n",
    "\n",
    "fig.set_size_inches(3.5, 2)\n",
    "fig.tight_layout()\n",
    "fig.savefig(os.path.join('figures', 'large-molecules-generated.png'), dpi=320)"
   ]
  },
  {
   "cell_type": "markdown",
   "metadata": {},
   "source": [
    "## Make Molecule Size Dependence Plot for $\\Delta$ Models\n",
    "Plot the errors for different numbers of heavy atoms"
   ]
  },
  {
   "cell_type": "markdown",
   "metadata": {},
   "source": [
    "Compute the errors"
   ]
  },
  {
   "cell_type": "code",
   "execution_count": 7,
   "metadata": {},
   "outputs": [],
   "source": [
    "model_style['B3LYP']['color'] = '#909090'"
   ]
  },
  {
   "cell_type": "code",
   "execution_count": 8,
   "metadata": {},
   "outputs": [
    {
     "name": "stdout",
     "output_type": "stream",
     "text": [
      "0.002217727960993813\n",
      "0.0015510490033398812\n",
      "0.003001027144503478\n",
      "0.0028473004830919463\n",
      "0.002437068224078711\n",
      "0.002960405939113239\n",
      "0.004778377742712658\n"
     ]
    },
    {
     "name": "stderr",
     "output_type": "stream",
     "text": [
      "/home/wardlt/miniconda3/envs/g4mp2_ml/lib/python3.7/site-packages/numpy/core/_methods.py:140: RuntimeWarning: Degrees of freedom <= 0 for slice\n",
      "  keepdims=keepdims)\n",
      "/home/wardlt/miniconda3/envs/g4mp2_ml/lib/python3.7/site-packages/numpy/core/_methods.py:132: RuntimeWarning: invalid value encountered in double_scalars\n",
      "  ret = ret.dtype.type(ret / rcount)\n"
     ]
    },
    {
     "data": {
      "image/png": "[encoded data removed]",
      "text/plain": [
       "<Figure size 468x194.4 with 2 Axes>"
      ]
     },
     "metadata": {
      "needs_background": "light"
     },
     "output_type": "display_data"
    }
   ],
   "source": [
    "fig, axs = plt.subplots(1, 2, sharey=True, gridspec_kw={'width_ratios': [1.3, 1]})\n",
    "fig.set_size_inches(6.5, 2.7)\n",
    "num_level = 0.6\n",
    "\n",
    "# Add the QM9 test data to the plot\n",
    "ax = axs[0]\n",
    "for gid, group in schnet_predictions.groupby('n_heavy_atoms'):\n",
    "    errors = (group['u0_atom'] - group['g4mp2_atom']).abs() * Hartree / eV\n",
    "    b3lyp_hdl = ax.bar([gid], [errors.mean()], color=model_style['B3LYP']['color'], yerr=sem(errors),\n",
    "                       width=0.4, edgecolor='dimgray', hatch='/')\n",
    "    \n",
    "    errors = (group['g4mp2_0k'] - group['ypred-g4mp2-delta-117232']).abs() * Hartree / eV\n",
    "    schnet_hdl = ax.bar([gid-0.15], [errors.mean()], color=model_style['g4mp2-delta']['color'], yerr=sem(errors),\n",
    "                        width=0.4, edgecolor='maroon', hatch='\\\\')\n",
    "    print(errors.mean())\n",
    "    \n",
    "    ax.text(gid, num_level, len(group), fontsize=8, ha='center')\n",
    "\n",
    "for gid, group in fchl_predictions.groupby('n_heavy_atoms'):\n",
    "    errors = (group['delta'] - group['pred_y_10000-delta']).abs() * Hartree / eV\n",
    "    fchl_hdl = ax.bar([gid+0.15], [errors.mean()], color=model_style['FCHL Delta']['color'], yerr=sem(errors),\n",
    "                      width=0.4, edgecolor='darkgoldenrod')\n",
    "    \n",
    "# Add the large molecules to the dataset\n",
    "ax = axs[1]\n",
    "for gid, group in large_data.groupby('n_heavy_atoms'):\n",
    "    errors = (group['u0_atom'] - group['g4mp2_atom']).abs() * Hartree / eV\n",
    "    ax.bar([gid], [errors.mean()], color=model_style['B3LYP']['color'], yerr=sem(errors),\n",
    "           width=0.4, edgecolor='dimgray', hatch='/')\n",
    "    \n",
    "    errors = (group['g4mp2_0k'] - group['g4mp2_0k-pred-g4mp2-delta']).abs() * Hartree / eV\n",
    "    ax.bar([gid-0.15], [errors.mean()], color=model_style['g4mp2-delta']['color'], yerr=sem(errors),\n",
    "           width=0.4, edgecolor='maroon', hatch='\\\\')\n",
    "    \n",
    "    errors = (group['g4mp2_atom'] - group['u0_atom'] - group['g4mp2_0k-pred-fchl-delta']).abs() * Hartree / eV\n",
    "    ax.bar([gid+0.15], [errors.mean()], color=model_style['FCHL Delta']['color'], yerr=sem(errors), width=0.4, edgecolor='darkgoldenrod')\n",
    "    \n",
    "    ax.text(gid, num_level, len(group), fontsize=8, ha='center')\n",
    "\n",
    "# Make the ticks\n",
    "min_n = schnet_predictions['n_heavy_atoms'].min()\n",
    "axs[0].set_xticks(range(min_n, 10))\n",
    "axs[1].set_xticks(range(10, 15, 1))\n",
    "\n",
    "# Make axes titles\n",
    "axs[0].set_title('QM9-G4MP2-holdout ($N={}$)'.format(len(schnet_predictions)), fontsize=10)\n",
    "axs[1].set_title('G4MP2-heavy ($N={}$)'.format(len(large_data)), fontsize=10)\n",
    "\n",
    "# Add labels\n",
    "axs[0].text(0, 0.99, '(a)', transform=axs[0].transAxes, ha='left', va='top')\n",
    "axs[1].text(1, 0.99, '(b)', transform=axs[1].transAxes, ha='right', va='top')\n",
    "\n",
    "# Make the y axis log, and have a second one with kcal/mol (not right now)\n",
    "ax.set_yscale('log')\n",
    "ax.set_ylim(min(ax.get_ylim()), 1.2)\n",
    "#for i, ax in enumerate(axs):\n",
    "#    ax2 = ax.twinx()\n",
    "#    ax2.set_yscale('log')\n",
    "#    ax2.set_ylim(np.multiply(0.02306055, ax.get_ylim()))\n",
    "#    if i == 0:\n",
    "#        ax2.set_yticklabels([])\n",
    "\n",
    "# Make the lend\n",
    "fig.legend((schnet_hdl, b3lyp_hdl, fchl_hdl), ('SchNet Delta', 'B3LYP', 'FCHL Delta'), loc='lower center', ncol=3, framealpha=1)\n",
    "\n",
    "for ax in axs:\n",
    "    ax.set_xlabel('Number of Heavy Atoms')\n",
    "axs[0].set_ylabel('MAE (eV)')\n",
    "#ax2.set_ylabel('MAE (kcal/mol)')\n",
    "\n",
    "fig.tight_layout(rect=[0, 0.1, 1, 1])\n",
    "fig.savefig(os.path.join('figures', 'heavy-atom-hist.png'), dpi=320)"
   ]
  },
  {
   "cell_type": "code",
   "execution_count": null,
   "metadata": {},
   "outputs": [],
   "source": []
  }
 ],
 "metadata": {
  "kernelspec": {
   "display_name": "Python 3",
   "language": "python",
   "name": "python3"
  },
  "language_info": {
   "codemirror_mode": {
    "name": "ipython",
    "version": 3
   },
   "file_extension": ".py",
   "mimetype": "text/x-python",
   "name": "python",
   "nbconvert_exporter": "python",
   "pygments_lexer": "ipython3",
   "version": "3.7.2"
  }
 },
 "nbformat": 4,
 "nbformat_minor": 2
}
