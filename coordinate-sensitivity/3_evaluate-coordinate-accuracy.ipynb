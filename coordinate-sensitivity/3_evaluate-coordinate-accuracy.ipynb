{
 "cells": [
  {
   "cell_type": "markdown",
   "metadata": {},
   "source": [
    "# Evaluate Effect of Coordinate Accuracy\n",
    "How accurately can we predict energies without knowing the equilibrium structure?"
   ]
  },
  {
   "cell_type": "code",
   "execution_count": 1,
   "metadata": {},
   "outputs": [],
   "source": [
    "%matplotlib inline\n",
    "from matplotlib import pyplot as plt\n",
    "from schnetpack.md import AtomsConverter\n",
    "from jcesr_ml.schnetpack import load_model, run_model\n",
    "from sklearn.metrics import mean_absolute_error\n",
    "from tqdm import tqdm_notebook as tqdm\n",
    "from ase.io.xyz import read_xyz\n",
    "from ase.units import Hartree, eV\n",
    "from io import StringIO\n",
    "from glob import glob\n",
    "import pandas as pd\n",
    "import numpy as np\n",
    "import torch\n",
    "import json\n",
    "import os\n",
    "import re"
   ]
  },
  {
   "cell_type": "markdown",
   "metadata": {},
   "source": [
    "Get the SchNet Directory"
   ]
  },
  {
   "cell_type": "code",
   "execution_count": 2,
   "metadata": {},
   "outputs": [],
   "source": [
    "schnet_dir = os.path.join('..', 'benchmark', 'schnet')"
   ]
  },
  {
   "cell_type": "markdown",
   "metadata": {},
   "source": [
    "## Load in the Data\n",
    "Get the data with the real and approximate atomic coordinates"
   ]
  },
  {
   "cell_type": "code",
   "execution_count": 3,
   "metadata": {},
   "outputs": [],
   "source": [
    "test_data = pd.read_pickle('test_data.pkl.gz')"
   ]
  },
  {
   "cell_type": "code",
   "execution_count": 4,
   "metadata": {},
   "outputs": [],
   "source": [
    "with open(os.path.join(schnet_dir, 'baseline-stats.json')) as fp:\n",
    "    baseline_stats = json.load(fp)"
   ]
  },
  {
   "cell_type": "markdown",
   "metadata": {},
   "source": [
    "## Compare the Performance for the `g4mp2-transfer` Model\n",
    "Using the `g4mp2-transfer` model as a baseline as it was the model that performed the best on the benchmark test"
   ]
  },
  {
   "cell_type": "code",
   "execution_count": 5,
   "metadata": {},
   "outputs": [],
   "source": [
    "model = load_model('g4mp2-transfer', 117232, arch_dir=schnet_dir, weights_dir=schnet_dir)"
   ]
  },
  {
   "cell_type": "code",
   "execution_count": 6,
   "metadata": {},
   "outputs": [
    {
     "name": "stderr",
     "output_type": "stream",
     "text": []
    }
   ],
   "source": [
    "test_data['pred'] = run_model(model, test_data, 'xyz')"
   ]
  },
  {
   "cell_type": "code",
   "execution_count": 7,
   "metadata": {},
   "outputs": [
    {
     "name": "stderr",
     "output_type": "stream",
     "text": []
    }
   ],
   "source": [
    "test_data['pred_gen'] = run_model(model, test_data, 'xyz_gen')"
   ]
  },
  {
   "cell_type": "code",
   "execution_count": 8,
   "metadata": {},
   "outputs": [
    {
     "name": "stderr",
     "output_type": "stream",
     "text": []
    }
   ],
   "source": [
    "test_data['pred_relaxed'] = run_model(model, test_data, 'xyz_relaxed')"
   ]
  },
  {
   "cell_type": "code",
   "execution_count": 9,
   "metadata": {},
   "outputs": [
    {
     "name": "stderr",
     "output_type": "stream",
     "text": []
    }
   ],
   "source": [
    "test_data['pred_searched'] = run_model(model, test_data, 'xyz_searched')"
   ]
  },
  {
   "cell_type": "markdown",
   "metadata": {},
   "source": [
    "Evaluate the Differences in Errors"
   ]
  },
  {
   "cell_type": "code",
   "execution_count": 10,
   "metadata": {},
   "outputs": [
    {
     "name": "stdout",
     "output_type": "stream",
     "text": [
      "pred MAE: 0.01340 eV\n",
      "pred_gen MAE: 0.45983 eV\n",
      "pred_relaxed MAE: 0.34972 eV\n",
      "pred_searched MAE: 0.32688 eV\n",
      "MAD: 841.18497 eV\n"
     ]
    }
   ],
   "source": [
    "for col in test_data.columns:\n",
    "    if col.startswith('pred'):\n",
    "        print('{} MAE: {:.5f} eV'.format(col, \n",
    "                                         np.abs(test_data[col] - test_data['g4mp2_0k']).mean() * Hartree / eV))\n",
    "print('MAD: {:.5f} eV'.format(baseline_stats['u0_mad']))"
   ]
  },
  {
   "cell_type": "code",
   "execution_count": 11,
   "metadata": {},
   "outputs": [
    {
     "data": {
      "image/png": "[encoded data removed]",
      "text/plain": [
       "<Figure size 252x180 with 1 Axes>"
      ]
     },
     "metadata": {
      "needs_background": "light"
     },
     "output_type": "display_data"
    }
   ],
   "source": [
    "fig, ax = plt.subplots()\n",
    "\n",
    "# Get the largest error\n",
    "max_error = np.percentile(np.abs(test_data['pred_gen'] - test_data['g4mp2_0k']), 95)\n",
    "bins = np.linspace(-max_error, max_error, 64)\n",
    "\n",
    "ax.hist((test_data['pred'] - test_data['g4mp2_0k']).tolist(), bins=bins, label='B3LYP Coordinates', density=True)\n",
    "ax.hist((test_data['pred_gen'] - test_data['g4mp2_0k']).tolist(), bins=bins, label='Initial Guess', density=True)\n",
    "ax.hist((test_data['pred_relaxed'] - test_data['g4mp2_0k']).tolist(), bins=bins, label='After Relaxation', density=True)\n",
    "ax.hist((test_data['pred_searched'] - test_data['g4mp2_0k']).tolist(), bins=bins, label='After Search', density=True)\n",
    "\n",
    "ax.legend()\n",
    "\n",
    "ax.set_xlabel('Error (Ha)')\n",
    "ax.set_ylabel('Frequency')\n",
    "\n",
    "fig.set_size_inches(3.5, 2.5)"
   ]
  },
  {
   "cell_type": "markdown",
   "metadata": {},
   "source": [
    "*Finding*: Predictive accuracy degrades by about an order of magnitude when we do not use the actual coordinates, but is still _well below_ the MAD of the dataset. Using the coordinates after the rotor search seems to work the best."
   ]
  },
  {
   "cell_type": "markdown",
   "metadata": {},
   "source": [
    "## Assessing Impact of Guessed Coordinates on G4MP2 Models\n",
    "We are going to test the G4MP2 model, G4MP2 $\\Delta$-learning, and G4MP2 stacked models."
   ]
  },
  {
   "cell_type": "code",
   "execution_count": 12,
   "metadata": {},
   "outputs": [
    {
     "name": "stderr",
     "output_type": "stream",
     "text": [
      " 58%|██████████████████████████████████████████████████████████████████████████████████████▏                                                             | 7590/13026 [05:12<04:15, 21.29it/s]"
     ]
    }
   ],
   "source": [
    "for model in ['g4mp2', 'g4mp2-delta', 'g4mp2-stacked-delta', 'g4mp2-transfer']:\n",
    "    g4mp2_model = load_model(model, 117232, arch_dir=schnet_dir, weights_dir=schnet_dir)\n",
    "    test_data['{}_pred'.format(model)] = run_model(g4mp2_model, test_data, 'xyz', ['u0'])\n",
    "    test_data['{}_pred_searched'.format(model)] = run_model(g4mp2_model, test_data, 'xyz_searched', ['u0'])"
   ]
  },
  {
   "cell_type": "code",
   "execution_count": 13,
   "metadata": {},
   "outputs": [
    {
     "name": "stdout",
     "output_type": "stream",
     "text": [
      "g4mp2_pred MAE: 0.01492 eV\n",
      "g4mp2_pred_searched MAE: 0.34907 eV\n",
      "g4mp2-delta_pred MAE: 0.00445 eV\n",
      "g4mp2-delta_pred_searched MAE: 0.02987 eV\n",
      "g4mp2-stacked-delta_pred MAE: 0.01484 eV\n",
      "g4mp2-stacked-delta_pred_searched MAE: 0.33945 eV\n",
      "g4mp2-transfer_pred MAE: 0.01340 eV\n",
      "g4mp2-transfer_pred_searched MAE: 0.32688 eV\n",
      "Baseline: 0.20059 eV\n"
     ]
    }
   ],
   "source": [
    "for col in test_data.columns:\n",
    "    if re.match('g4mp2.*_pred.*', col):\n",
    "        print('{} MAE: {:.5f} eV'.format(col, \n",
    "                                         np.abs(test_data[col] - test_data['g4mp2_0k']).mean() * Hartree / eV))\n",
    "print('Baseline: {:.5f} eV'.format(baseline_stats['u0_atomization_mae']))"
   ]
  },
  {
   "cell_type": "code",
   "execution_count": 14,
   "metadata": {},
   "outputs": [
    {
     "data": {
      "image/png": "[encoded data removed]",
      "text/plain": [
       "<Figure size 252x180 with 1 Axes>"
      ]
     },
     "metadata": {
      "needs_background": "light"
     },
     "output_type": "display_data"
    }
   ],
   "source": [
    "fig, ax = plt.subplots()\n",
    "\n",
    "# Get the largest error\n",
    "max_error = np.percentile(np.abs(test_data['g4mp2_pred_searched'] - test_data['g4mp2_0k']), 95)\n",
    "bins = np.linspace(-max_error, max_error, 64)\n",
    "\n",
    "ax.hist((test_data['g4mp2-stacked-delta_pred'] - test_data['g4mp2_0k']).tolist(), bins=bins,\n",
    "        label='B3LYP Coordinates', density=True, alpha=0.7)\n",
    "ax.hist((test_data['g4mp2_pred_searched'] - test_data['g4mp2_0k']).tolist(), bins=bins,\n",
    "        label='Guessed Coordinates', density=True, alpha=0.7)\n",
    "ax.hist((test_data['u0_atom'] - test_data['g4mp2_atom']).tolist(), bins=bins, label='B3LYP', \n",
    "        density=True, alpha=0.7)\n",
    "\n",
    "ax.legend()\n",
    "\n",
    "ax.set_xlabel('Error (Ha)')\n",
    "ax.set_ylabel('Frequency')\n",
    "\n",
    "fig.set_size_inches(3.5, 2.5)"
   ]
  },
  {
   "cell_type": "markdown",
   "metadata": {},
   "source": [
    "*Finding*: The G4MP2 model does perform better than B3LYP when given the B3LYP coordinates, but has an error 4x higher when guessed coordinates are used."
   ]
  },
  {
   "cell_type": "markdown",
   "metadata": {},
   "source": [
    "## Evaluate Effect of Re-Training\n",
    "We have retrained the `u0` models using the OpenBabel coordinates (searched) with various levels of perturbation. Here, we see if that has any effect on the model errors."
   ]
  },
  {
   "cell_type": "code",
   "execution_count": 15,
   "metadata": {},
   "outputs": [],
   "source": [
    "rattle_sizes = os.listdir(os.path.join('networks', 'g4mp2-transfer', 'no-conformers'))"
   ]
  },
  {
   "cell_type": "code",
   "execution_count": 16,
   "metadata": {},
   "outputs": [],
   "source": [
    "conformers = ['conformers', 'no-conformers', 'relaxed-conformers']"
   ]
  },
  {
   "cell_type": "code",
   "execution_count": 17,
   "metadata": {},
   "outputs": [
    {
     "name": "stderr",
     "output_type": "stream",
     "text": [
      " 68%|████████████████████████████████████████████████████████████████████████████████████████████████████▏                                               | 8814/13026 [06:16<03:50, 18.28it/s]"
     ]
    }
   ],
   "source": [
    "for c in conformers:\n",
    "    for r in rattle_sizes:\n",
    "        if os.path.exists(os.path.join('networks', 'g4mp2-transfer', c, r)):\n",
    "            model = load_model('g4mp2-transfer', c, r, arch_dir=schnet_dir)\n",
    "            test_data['pred_searched_r{}-{}'.format(r, c)] = run_model(model, test_data, 'xyz_searched')"
   ]
  },
  {
   "cell_type": "markdown",
   "metadata": {},
   "source": [
    "Compute the MAEs"
   ]
  },
  {
   "cell_type": "code",
   "execution_count": 18,
   "metadata": {},
   "outputs": [],
   "source": [
    "rattle_results = pd.DataFrame([{\n",
    "    'rattle': float(r),\n",
    "    'conformers': c,\n",
    "    'mae': mean_absolute_error(test_data['g4mp2_0k'], test_data['pred_searched_r{}-{}'.format(r, c)]) * Hartree / eV\n",
    "} for r in rattle_sizes for c in conformers if 'pred_searched_r{}-{}'.format(r, c) in test_data.columns])"
   ]
  },
  {
   "cell_type": "code",
   "execution_count": 19,
   "metadata": {},
   "outputs": [
    {
     "data": {
      "text/html": [
       "<div>\n",
       "<style scoped>\n",
       "    .dataframe tbody tr th:only-of-type {\n",
       "        vertical-align: middle;\n",
       "    }\n",
       "\n",
       "    .dataframe tbody tr th {\n",
       "        vertical-align: top;\n",
       "    }\n",
       "\n",
       "    .dataframe thead th {\n",
       "        text-align: right;\n",
       "    }\n",
       "</style>\n",
       "<table border=\"1\" class=\"dataframe\">\n",
       "  <thead>\n",
       "    <tr style=\"text-align: right;\">\n",
       "      <th></th>\n",
       "      <th>conformers</th>\n",
       "      <th>mae</th>\n",
       "      <th>rattle</th>\n",
       "    </tr>\n",
       "  </thead>\n",
       "  <tbody>\n",
       "    <tr>\n",
       "      <th>0</th>\n",
       "      <td>conformers</td>\n",
       "      <td>0.848502</td>\n",
       "      <td>10.000</td>\n",
       "    </tr>\n",
       "    <tr>\n",
       "      <th>1</th>\n",
       "      <td>no-conformers</td>\n",
       "      <td>0.945556</td>\n",
       "      <td>10.000</td>\n",
       "    </tr>\n",
       "    <tr>\n",
       "      <th>2</th>\n",
       "      <td>conformers</td>\n",
       "      <td>0.727316</td>\n",
       "      <td>1.000</td>\n",
       "    </tr>\n",
       "    <tr>\n",
       "      <th>3</th>\n",
       "      <td>no-conformers</td>\n",
       "      <td>0.744707</td>\n",
       "      <td>1.000</td>\n",
       "    </tr>\n",
       "    <tr>\n",
       "      <th>4</th>\n",
       "      <td>conformers</td>\n",
       "      <td>0.240722</td>\n",
       "      <td>0.300</td>\n",
       "    </tr>\n",
       "    <tr>\n",
       "      <th>5</th>\n",
       "      <td>no-conformers</td>\n",
       "      <td>0.235645</td>\n",
       "      <td>0.300</td>\n",
       "    </tr>\n",
       "    <tr>\n",
       "      <th>6</th>\n",
       "      <td>relaxed-conformers</td>\n",
       "      <td>0.233028</td>\n",
       "      <td>0.300</td>\n",
       "    </tr>\n",
       "    <tr>\n",
       "      <th>7</th>\n",
       "      <td>conformers</td>\n",
       "      <td>0.214001</td>\n",
       "      <td>0.010</td>\n",
       "    </tr>\n",
       "    <tr>\n",
       "      <th>8</th>\n",
       "      <td>no-conformers</td>\n",
       "      <td>0.214685</td>\n",
       "      <td>0.010</td>\n",
       "    </tr>\n",
       "    <tr>\n",
       "      <th>9</th>\n",
       "      <td>relaxed-conformers</td>\n",
       "      <td>0.211126</td>\n",
       "      <td>0.010</td>\n",
       "    </tr>\n",
       "    <tr>\n",
       "      <th>10</th>\n",
       "      <td>conformers</td>\n",
       "      <td>0.218767</td>\n",
       "      <td>0.001</td>\n",
       "    </tr>\n",
       "    <tr>\n",
       "      <th>11</th>\n",
       "      <td>no-conformers</td>\n",
       "      <td>0.219333</td>\n",
       "      <td>0.001</td>\n",
       "    </tr>\n",
       "    <tr>\n",
       "      <th>12</th>\n",
       "      <td>relaxed-conformers</td>\n",
       "      <td>0.212804</td>\n",
       "      <td>0.001</td>\n",
       "    </tr>\n",
       "    <tr>\n",
       "      <th>13</th>\n",
       "      <td>conformers</td>\n",
       "      <td>0.219287</td>\n",
       "      <td>0.000</td>\n",
       "    </tr>\n",
       "    <tr>\n",
       "      <th>14</th>\n",
       "      <td>no-conformers</td>\n",
       "      <td>0.222280</td>\n",
       "      <td>0.000</td>\n",
       "    </tr>\n",
       "    <tr>\n",
       "      <th>15</th>\n",
       "      <td>relaxed-conformers</td>\n",
       "      <td>0.214149</td>\n",
       "      <td>0.000</td>\n",
       "    </tr>\n",
       "    <tr>\n",
       "      <th>16</th>\n",
       "      <td>conformers</td>\n",
       "      <td>0.205021</td>\n",
       "      <td>0.100</td>\n",
       "    </tr>\n",
       "    <tr>\n",
       "      <th>17</th>\n",
       "      <td>no-conformers</td>\n",
       "      <td>0.206903</td>\n",
       "      <td>0.100</td>\n",
       "    </tr>\n",
       "    <tr>\n",
       "      <th>18</th>\n",
       "      <td>relaxed-conformers</td>\n",
       "      <td>0.204452</td>\n",
       "      <td>0.100</td>\n",
       "    </tr>\n",
       "  </tbody>\n",
       "</table>\n",
       "</div>"
      ],
      "text/plain": [
       "            conformers       mae  rattle\n",
       "0           conformers  0.848502  10.000\n",
       "1        no-conformers  0.945556  10.000\n",
       "2           conformers  0.727316   1.000\n",
       "3        no-conformers  0.744707   1.000\n",
       "4           conformers  0.240722   0.300\n",
       "5        no-conformers  0.235645   0.300\n",
       "6   relaxed-conformers  0.233028   0.300\n",
       "7           conformers  0.214001   0.010\n",
       "8        no-conformers  0.214685   0.010\n",
       "9   relaxed-conformers  0.211126   0.010\n",
       "10          conformers  0.218767   0.001\n",
       "11       no-conformers  0.219333   0.001\n",
       "12  relaxed-conformers  0.212804   0.001\n",
       "13          conformers  0.219287   0.000\n",
       "14       no-conformers  0.222280   0.000\n",
       "15  relaxed-conformers  0.214149   0.000\n",
       "16          conformers  0.205021   0.100\n",
       "17       no-conformers  0.206903   0.100\n",
       "18  relaxed-conformers  0.204452   0.100"
      ]
     },
     "execution_count": 19,
     "metadata": {},
     "output_type": "execute_result"
    }
   ],
   "source": [
    "rattle_results"
   ]
  },
  {
   "cell_type": "code",
   "execution_count": 20,
   "metadata": {},
   "outputs": [
    {
     "data": {
      "image/png": "[encoded data removed]",
      "text/plain": [
       "<Figure size 252x180 with 1 Axes>"
      ]
     },
     "metadata": {
      "needs_background": "light"
     },
     "output_type": "display_data"
    }
   ],
   "source": [
    "fig, ax = plt.subplots()\n",
    "\n",
    "max_rattle = 0.5\n",
    "\n",
    "# Add in the rattled results\n",
    "non_zero = rattle_results.query('rattle > 0 and conformers == \"no-conformers\" and rattle < {}'.format(max_rattle)).sort_values('rattle')\n",
    "ax.semilogx(non_zero['rattle'], non_zero['mae'] * 1000, 'o-', label='No Conformers')\n",
    "\n",
    "non_zero = rattle_results.query('rattle > 0 and conformers == \"conformers\" and rattle < {}'.format(max_rattle)).sort_values('rattle')\n",
    "ax.semilogx(non_zero['rattle'], non_zero['mae'] * 1000, 's-', label='Conformers')\n",
    "\n",
    "non_zero = rattle_results.query('rattle > 0 and conformers == \"relaxed-conformers\" and rattle < {}'.format(max_rattle)).sort_values('rattle')\n",
    "ax.semilogx(non_zero['rattle'], non_zero['mae'] * 1000, 's-', label='R. Conformers')\n",
    "\n",
    "# Add in the baselines\n",
    "ax.set_xlim(ax.get_xlim())\n",
    "\n",
    "# B3LYP\n",
    "val = baseline_stats['u0_atomization_mae'] * 1000\n",
    "ax.plot(ax.get_xlim(), [val]*2 , 'k--')\n",
    "ax.text(min(ax.get_xlim()) * 1.01, val + 0.5, 'B3LYP Accuracy', ha='left', va='bottom')\n",
    "\n",
    "# Retraining\n",
    "#val = mean_absolute_error(test_data['pred_searched'], test_data['g4mp2_0k']) * Hartree / eV * 1000\n",
    "#ax.plot(ax.get_xlim(), [val]*2 , 'k--')\n",
    "#ax.text(min(ax.get_xlim()) * 1.01, val + 0.5, 'Retraining', ha='left', va='bottom')\n",
    "\n",
    "#  Without jitter\n",
    "val = mean_absolute_error(test_data['pred_searched_r0.0000-conformers'], test_data['g4mp2_0k']) * Hartree / eV * 1000\n",
    "ax.plot(ax.get_xlim(), [val]*2, 'k--')\n",
    "ax.text(max(ax.get_xlim()) * 0.96, val - 0.5, 'Without Jitter', ha='right', va='top')\n",
    "\n",
    "\n",
    "# Make it pretty\n",
    "ax.set_ylabel('MAE (meV)')\n",
    "ax.set_xlabel('Jitter Magnitude')\n",
    "ax.legend()\n",
    "\n",
    "fig.set_size_inches(3.5, 2.5)\n",
    "fig.tight_layout()\n",
    "fig.savefig(os.path.join('figures', 'jitter-retraining.png'), dpi=320)"
   ]
  },
  {
   "cell_type": "markdown",
   "metadata": {},
   "source": [
    "*Finding*: Training on the coordinates has a benefit and rattling does allow for minor improvements in the accuracy. So far, it does not seem like conformers helps anything"
   ]
  },
  {
   "cell_type": "markdown",
   "metadata": {},
   "source": [
    "## Save Predictions\n",
    "They take a long time to generate, so I'm saving them to disk to run analyses in a different notebook."
   ]
  },
  {
   "cell_type": "code",
   "execution_count": 21,
   "metadata": {},
   "outputs": [],
   "source": [
    "test_data.to_csv('test-results.csv.gz', index=False, compression='gzip')"
   ]
  },
  {
   "cell_type": "code",
   "execution_count": 22,
   "metadata": {},
   "outputs": [],
   "source": []
  }
 ],
 "metadata": {
  "kernelspec": {
   "display_name": "Python 3",
   "language": "python",
   "name": "python3"
  },
  "language_info": {
   "codemirror_mode": {
    "name": "ipython",
    "version": 3
   },
   "file_extension": ".py",
   "mimetype": "text/x-python",
   "name": "python",
   "nbconvert_exporter": "python",
   "pygments_lexer": "ipython3",
   "version": "3.7.1"
  }
 },
 "nbformat": 4,
 "nbformat_minor": 2
}
