{
 "cells": [
  {
   "cell_type": "markdown",
   "metadata": {},
   "source": [
    "# Make a SchNetPack-Compatible Database\n",
    "Generate a new training set with the inferred atomic coordinates"
   ]
  },
  {
   "cell_type": "code",
   "execution_count": 1,
   "metadata": {},
   "outputs": [],
   "source": [
    "%matplotlib inline\n",
    "from matplotlib import pyplot as plt\n",
    "from jcesr_ml.coordinates import generate_atomic_coordinates, generate_conformers\n",
    "from jcesr_ml.schnetpack import make_schnetpack_data\n",
    "from jcesr_ml.benchmark import load_benchmark_data\n",
    "from multiprocessing import Pool, TimeoutError\n",
    "from tqdm import tqdm_notebook as tqdm\n",
    "from ase.io.xyz import read_xyz\n",
    "from io import StringIO\n",
    "import pickle as pkl\n",
    "import pandas as pd\n",
    "import numpy as np"
   ]
  },
  {
   "cell_type": "markdown",
   "metadata": {},
   "source": [
    "## Get Data\n",
    "We need the training set with the new coordinates"
   ]
  },
  {
   "cell_type": "code",
   "execution_count": 2,
   "metadata": {},
   "outputs": [],
   "source": [
    "train_data, _ = load_benchmark_data()"
   ]
  },
  {
   "cell_type": "markdown",
   "metadata": {},
   "source": [
    "Get the properties to be stored in the database"
   ]
  },
  {
   "cell_type": "code",
   "execution_count": 3,
   "metadata": {},
   "outputs": [],
   "source": [
    "properties = ['g4mp2_0k', 'u0', 'homo', 'lumo', 'zpe', 'atomic_charges']"
   ]
  },
  {
   "cell_type": "markdown",
   "metadata": {},
   "source": [
    "## Generate Atomic Coordinates\n",
    "Use the utility we constructed with OpenBabel"
   ]
  },
  {
   "cell_type": "code",
   "execution_count": 4,
   "metadata": {},
   "outputs": [
    {
     "data": {
      "application/vnd.jupyter.widget-view+json": {
       "model_id": "588b2f546eb94cb18633390b5bde81db",
       "version_major": 2,
       "version_minor": 0
      },
      "text/html": [
       "<p>Failed to display Jupyter Widget of type <code>HBox</code>.</p>\n",
       "<p>\n",
       "  If you're reading this message in the Jupyter Notebook or JupyterLab Notebook, it may mean\n",
       "  that the widgets JavaScript is still loading. If this message persists, it\n",
       "  likely means that the widgets JavaScript library is either not installed or\n",
       "  not enabled. See the <a href=\"https://ipywidgets.readthedocs.io/en/stable/user_install.html\">Jupyter\n",
       "  Widgets Documentation</a> for setup instructions.\n",
       "</p>\n",
       "<p>\n",
       "  If you're reading this message in another frontend (for example, a static\n",
       "  rendering on GitHub or <a href=\"https://nbviewer.jupyter.org/\">NBViewer</a>),\n",
       "  it may mean that your frontend doesn't currently support widgets.\n",
       "</p>\n"
      ],
      "text/plain": [
       "HBox(children=(IntProgress(value=0, max=117232), HTML(value='')))"
      ]
     },
     "metadata": {},
     "output_type": "display_data"
    },
    {
     "name": "stdout",
     "output_type": "stream",
     "text": [
      "\n",
      "CPU times: user 2.39 s, sys: 1.3 s, total: 3.69 s\n",
      "Wall time: 13h 6min 54s\n"
     ]
    }
   ],
   "source": [
    "%%time\n",
    "with Pool() as p:\n",
    "    train_data['xyz_gen'] = p.map(generate_atomic_coordinates, tqdm(train_data['smiles_0']), 64)"
   ]
  },
  {
   "cell_type": "markdown",
   "metadata": {},
   "source": [
    "## Generate Conformers\n",
    "Generate conformers for each molecule using the GA-based method in OpenBabel"
   ]
  },
  {
   "cell_type": "code",
   "execution_count": 5,
   "metadata": {},
   "outputs": [],
   "source": [
    "timeout = 15 # Normally, calculations take less than 1s. Some or kill the Python process"
   ]
  },
  {
   "cell_type": "code",
   "execution_count": 6,
   "metadata": {
    "scrolled": true
   },
   "outputs": [
    {
     "data": {
      "application/vnd.jupyter.widget-view+json": {
       "model_id": "11b4651b0e3a4b56abc1c0f249fd6827",
       "version_major": 2,
       "version_minor": 0
      },
      "text/html": [
       "<p>Failed to display Jupyter Widget of type <code>HBox</code>.</p>\n",
       "<p>\n",
       "  If you're reading this message in the Jupyter Notebook or JupyterLab Notebook, it may mean\n",
       "  that the widgets JavaScript is still loading. If this message persists, it\n",
       "  likely means that the widgets JavaScript library is either not installed or\n",
       "  not enabled. See the <a href=\"https://ipywidgets.readthedocs.io/en/stable/user_install.html\">Jupyter\n",
       "  Widgets Documentation</a> for setup instructions.\n",
       "</p>\n",
       "<p>\n",
       "  If you're reading this message in another frontend (for example, a static\n",
       "  rendering on GitHub or <a href=\"https://nbviewer.jupyter.org/\">NBViewer</a>),\n",
       "  it may mean that your frontend doesn't currently support widgets.\n",
       "</p>\n"
      ],
      "text/plain": [
       "HBox(children=(IntProgress(value=1, bar_style='info', max=1), HTML(value='')))"
      ]
     },
     "metadata": {},
     "output_type": "display_data"
    },
    {
     "name": "stdout",
     "output_type": "stream",
     "text": [
      "\n",
      "Number of failures: 2\n",
      "CPU times: user 30.4 s, sys: 27 s, total: 57.4 s\n",
      "Wall time: 1h 39min 43s\n"
     ]
    }
   ],
   "source": [
    "%%time\n",
    "with Pool() as p:\n",
    "    futures = [p.apply_async(generate_conformers, (x,)) for x in train_data['xyz_gen']]\n",
    "    \n",
    "    # Wait for all to finish\n",
    "    conformers = []\n",
    "    failures = 0\n",
    "    for x, y in tqdm(zip(futures, train_data['xyz_gen'])):\n",
    "        try:\n",
    "            res = x.get(timeout)\n",
    "        except TimeoutError:\n",
    "            failures += 1\n",
    "            res = [y]\n",
    "        conformers.append(res)\n",
    "        \n",
    "    # Add to dataframe\n",
    "    train_data['conformers'] = conformers\n",
    "    print('Number of failures:', failures)"
   ]
  },
  {
   "cell_type": "code",
   "execution_count": 7,
   "metadata": {},
   "outputs": [
    {
     "data": {
      "image/png": "[encoded data removed]",
      "text/plain": [
       "<Figure size 252x180 with 1 Axes>"
      ]
     },
     "metadata": {},
     "output_type": "display_data"
    }
   ],
   "source": [
    "fig, ax = plt.subplots()\n",
    "\n",
    "n_conf = train_data['conformers'].apply(len)\n",
    "bins = np.arange(0.5, n_conf.max())\n",
    "ax.hist(n_conf, bins)\n",
    "\n",
    "ax.set_xlabel('Number of conformers')\n",
    "ax.set_ylabel('Frequency')\n",
    "\n",
    "fig.set_size_inches(3.5, 2.5)"
   ]
  },
  {
   "cell_type": "markdown",
   "metadata": {},
   "source": [
    "## Make an ASE Database\n",
    "The current version of SchNetPack relies on storing data in an ASE SQLite database. We must convert our data into that format"
   ]
  },
  {
   "cell_type": "code",
   "execution_count": 8,
   "metadata": {},
   "outputs": [],
   "source": [
    "db = make_schnetpack_data(train_data, 'train_dataset.db', properties=properties,\n",
    "                          xyz_col='xyz_gen', conformers='conformers')\n",
    "with open('train_dataset.pkl', 'wb') as fp:\n",
    "    pkl.dump(db, fp)"
   ]
  },
  {
   "cell_type": "code",
   "execution_count": null,
   "metadata": {},
   "outputs": [],
   "source": []
  }
 ],
 "metadata": {
  "kernelspec": {
   "display_name": "Python 3",
   "language": "python",
   "name": "python3"
  },
  "language_info": {
   "codemirror_mode": {
    "name": "ipython",
    "version": 3
   },
   "file_extension": ".py",
   "mimetype": "text/x-python",
   "name": "python",
   "nbconvert_exporter": "python",
   "pygments_lexer": "ipython3",
   "version": "3.6.4"
  }
 },
 "nbformat": 4,
 "nbformat_minor": 2
}
