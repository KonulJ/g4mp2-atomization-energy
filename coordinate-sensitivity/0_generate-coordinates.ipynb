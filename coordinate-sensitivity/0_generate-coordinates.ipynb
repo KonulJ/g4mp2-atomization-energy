{
 "cells": [
  {
   "cell_type": "markdown",
   "metadata": {},
   "source": [
    "# Generate Approximate Molecular Coordinates\n",
    "A key limitation of some of our ML models is that they require the B3LYP-relaxed atomic coordinates to predict molecular energies. To see if the coordiantes are a strict requirement, we explore generating coordinates using OpenBabel and using those as input into the model"
   ]
  },
  {
   "cell_type": "code",
   "execution_count": 1,
   "metadata": {
    "collapsed": true
   },
   "outputs": [],
   "source": [
    "%matplotlib inline\n",
    "from matplotlib import pyplot as plt\n",
    "from jcesr_ml.benchmark import load_benchmark_data\n",
    "from pybel import Molecule, readstring\n",
    "from tqdm import tqdm_notebook as tqdm\n",
    "from openbabel import OBForceField\n",
    "import numpy as np\n",
    "import pybel"
   ]
  },
  {
   "cell_type": "code",
   "execution_count": 2,
   "metadata": {
    "collapsed": true
   },
   "outputs": [],
   "source": [
    "_, test_data = load_benchmark_data()"
   ]
  },
  {
   "cell_type": "markdown",
   "metadata": {},
   "source": [
    "## Generate Molecules from SMILES Strings\n",
    "We are going to take the smiles string of the relaxed molecules `smiles_1` so that the generated structure nominally matches up chemically with the XYZ coordiantes. The SMILES before and after relaxation _should_ be the same."
   ]
  },
  {
   "cell_type": "markdown",
   "metadata": {},
   "source": [
    "Generate the molecules"
   ]
  },
  {
   "cell_type": "code",
   "execution_count": 3,
   "metadata": {},
   "outputs": [
    {
     "name": "stdout",
     "output_type": "stream",
     "text": [
      "CPU times: user 2.86 s, sys: 0 ns, total: 2.86 s\n",
      "Wall time: 2.86 s\n"
     ]
    }
   ],
   "source": [
    "%%time\n",
    "test_data['mol'] = test_data['smiles_1'].apply(lambda x: readstring('smi', x))"
   ]
  },
  {
   "cell_type": "markdown",
   "metadata": {},
   "source": [
    "## Generate Atomic Coordinates\n",
    "We do just a basic generation of molecular coordinates. No rotor testing or further relaxation, etc."
   ]
  },
  {
   "cell_type": "markdown",
   "metadata": {},
   "source": [
    "Start off with making a first stab at the coordinates"
   ]
  },
  {
   "cell_type": "code",
   "execution_count": 4,
   "metadata": {},
   "outputs": [
    {
     "data": {
      "application/vnd.jupyter.widget-view+json": {
       "model_id": "17f5308e0c5e4d59a0549bc46064589d",
       "version_major": 2,
       "version_minor": 0
      },
      "text/plain": [
       "HBox(children=(IntProgress(value=0, max=13026), HTML(value='')))"
      ]
     },
     "metadata": {},
     "output_type": "display_data"
    }
   ],
   "source": [
    "%%time\n",
    "for mol in tqdm(test_data['mol']):\n",
    "    mol.make3D()"
   ]
  },
  {
   "cell_type": "markdown",
   "metadata": {},
   "source": [
    "Save the XYZ coordinates"
   ]
  },
  {
   "cell_type": "code",
   "execution_count": 5,
   "metadata": {
    "collapsed": true
   },
   "outputs": [],
   "source": [
    "test_data['xyz_gen'] = test_data['mol'].apply(lambda x: x.write('xyz'))"
   ]
  },
  {
   "cell_type": "markdown",
   "metadata": {},
   "source": [
    "Measure the RMSD from the B3LYP coordinates"
   ]
  },
  {
   "cell_type": "code",
   "execution_count": 6,
   "metadata": {
    "collapsed": true
   },
   "outputs": [],
   "source": [
    "def get_rmsd(data, ref_col, match_col):\n",
    "    \"\"\"Generate the RMSD between each molecule\n",
    "    \n",
    "    Args:\n",
    "        data (DataFrame): Dataset to evaluate\n",
    "        ref_col (string): Name of column with the reference structure (in xyz format)\n",
    "        match_col (string): Name of column with the approximate structure\n",
    "    Return:\n",
    "        (ndarray) RMSD between each pair of molecules\n",
    "    \"\"\"\n",
    "    \n",
    "    results = []\n",
    "    for xyz_a, xyz_b in tqdm(data[[ref_col, match_col]].values):\n",
    "        # Make the tool to match the molecules\n",
    "        align = pybel.ob.OBAlign()\n",
    "        align.SetRefMol(readstring(\"xyz\", xyz_a).OBMol)\n",
    "        align.SetTargetMol(readstring(\"xyz\", xyz_b).OBMol)\n",
    "        \n",
    "        # Perform the alignment\n",
    "        align.Align()\n",
    "        results.append(align.GetRMSD())\n",
    "        \n",
    "    return results"
   ]
  },
  {
   "cell_type": "code",
   "execution_count": 7,
   "metadata": {},
   "outputs": [
    {
     "data": {
      "application/vnd.jupyter.widget-view+json": {
       "model_id": "e131f19cb4424aed9bccf81952b2c66d",
       "version_major": 2,
       "version_minor": 0
      },
      "text/plain": [
       "HBox(children=(IntProgress(value=0, max=13026), HTML(value='')))"
      ]
     },
     "metadata": {},
     "output_type": "display_data"
    },
    {
     "name": "stdout",
     "output_type": "stream",
     "text": [
      "\n",
      "CPU times: user 9.84 s, sys: 281 ms, total: 10.1 s\n",
      "Wall time: 10.8 s\n"
     ]
    }
   ],
   "source": [
    "%%time\n",
    "test_data['rmsd_gen'] = get_rmsd(test_data, 'xyz', 'xyz_gen')"
   ]
  },
  {
   "cell_type": "markdown",
   "metadata": {},
   "source": [
    "## Refine the Coordinates\n",
    "Relax the coordinates with a forcefield"
   ]
  },
  {
   "cell_type": "code",
   "execution_count": 8,
   "metadata": {},
   "outputs": [
    {
     "data": {
      "application/vnd.jupyter.widget-view+json": {
       "model_id": "867f6c94818e47308fb2b8be87fcfb98",
       "version_major": 2,
       "version_minor": 0
      },
      "text/plain": [
       "HBox(children=(IntProgress(value=0, max=13026), HTML(value='')))"
      ]
     },
     "metadata": {},
     "output_type": "display_data"
    }
   ],
   "source": [
    "%%time\n",
    "for mol in tqdm(test_data['mol']):\n",
    "    mol.localopt()"
   ]
  },
  {
   "cell_type": "markdown",
   "metadata": {},
   "source": [
    "Save the XYZ coordinates"
   ]
  },
  {
   "cell_type": "code",
   "execution_count": 9,
   "metadata": {
    "collapsed": true
   },
   "outputs": [],
   "source": [
    "test_data['xyz_relaxed'] = test_data['mol'].apply(lambda x: x.write('xyz'))"
   ]
  },
  {
   "cell_type": "markdown",
   "metadata": {},
   "source": [
    "Measure the RMSD from the B3LYP coordinates"
   ]
  },
  {
   "cell_type": "code",
   "execution_count": 10,
   "metadata": {},
   "outputs": [
    {
     "data": {
      "application/vnd.jupyter.widget-view+json": {
       "model_id": "1b65fee36bf6475aab54ddcc78a51446",
       "version_major": 2,
       "version_minor": 0
      },
      "text/plain": [
       "HBox(children=(IntProgress(value=0, max=13026), HTML(value='')))"
      ]
     },
     "metadata": {},
     "output_type": "display_data"
    },
    {
     "name": "stdout",
     "output_type": "stream",
     "text": [
      "\n"
     ]
    }
   ],
   "source": [
    "test_data['rmsd_relaxed'] = get_rmsd(test_data, 'xyz', 'xyz_relaxed')"
   ]
  },
  {
   "cell_type": "markdown",
   "metadata": {},
   "source": [
    "## Do a Rotor Search\n",
    "Attempt to find better coordinates through a rotor search"
   ]
  },
  {
   "cell_type": "code",
   "execution_count": 11,
   "metadata": {
    "collapsed": true
   },
   "outputs": [],
   "source": [
    "def globalopt(mol):\n",
    "    \"\"\"Attempt to further refine the molecular structure through a rotor search\n",
    "    \n",
    "    Code adapted from: http://forums.openbabel.org/OpenBabel-Conformer-Search-td4177357.html\n",
    "    \n",
    "    Args:\n",
    "        mol (Molecule): Molecule to be optimized\n",
    "    Returns:\n",
    "        (bool): Whether the optimization was performed\n",
    "    \"\"\"\n",
    "    \n",
    "    # Try to get a forcefield that works with this molecule\n",
    "    ff = pybel._forcefields[\"mmff94\"]\n",
    "    success = ff.Setup(mol.OBMol)\n",
    "    if not success:\n",
    "        ff = pybel._forcefields[\"uff\"]\n",
    "        success = ff.Setup(mol.OBMol)\n",
    "        if not success:\n",
    "            return False\n",
    "   \n",
    "    # initial cleanup before the weighted search\n",
    "    ff.SteepestDescent(500, 1.0e-4)\n",
    "    ff.WeightedRotorSearch(100, 20)\n",
    "    ff.ConjugateGradients(500, 1.0e-6)\n",
    "    ff.GetCoordinates(mol.OBMol) "
   ]
  },
  {
   "cell_type": "code",
   "execution_count": 12,
   "metadata": {},
   "outputs": [
    {
     "data": {
      "application/vnd.jupyter.widget-view+json": {
       "model_id": "4508546eb4d64e8e815dd088c596a2ce",
       "version_major": 2,
       "version_minor": 0
      },
      "text/plain": [
       "HBox(children=(IntProgress(value=0, max=13026), HTML(value='')))"
      ]
     },
     "metadata": {},
     "output_type": "display_data"
    }
   ],
   "source": [
    "%%time\n",
    "for mol in tqdm(test_data['mol']):\n",
    "    globalopt(mol)"
   ]
  },
  {
   "cell_type": "markdown",
   "metadata": {},
   "source": [
    "Save the XYZ coordinates"
   ]
  },
  {
   "cell_type": "code",
   "execution_count": 13,
   "metadata": {
    "collapsed": true
   },
   "outputs": [],
   "source": [
    "test_data['xyz_searched'] = test_data['mol'].apply(lambda x: x.write('xyz'))"
   ]
  },
  {
   "cell_type": "markdown",
   "metadata": {},
   "source": [
    "Measure the RMSD from the B3LYP coordinates"
   ]
  },
  {
   "cell_type": "code",
   "execution_count": 14,
   "metadata": {},
   "outputs": [
    {
     "data": {
      "application/vnd.jupyter.widget-view+json": {
       "model_id": "8aec9642ea7c41769b55492e7b6cb92e",
       "version_major": 2,
       "version_minor": 0
      },
      "text/plain": [
       "HBox(children=(IntProgress(value=0, max=13026), HTML(value='')))"
      ]
     },
     "metadata": {},
     "output_type": "display_data"
    },
    {
     "name": "stdout",
     "output_type": "stream",
     "text": [
      "\n"
     ]
    }
   ],
   "source": [
    "test_data['rmsd_searched'] = get_rmsd(test_data, 'xyz', 'xyz_searched')"
   ]
  },
  {
   "cell_type": "markdown",
   "metadata": {},
   "source": [
    "## Plot the RMSD for Each Inferred Molecular Structure\n",
    "See how good each approximation is"
   ]
  },
  {
   "cell_type": "code",
   "execution_count": 15,
   "metadata": {},
   "outputs": [
    {
     "data": {
      "text/html": [
       "<div>\n",
       "<style scoped>\n",
       "    .dataframe tbody tr th:only-of-type {\n",
       "        vertical-align: middle;\n",
       "    }\n",
       "\n",
       "    .dataframe tbody tr th {\n",
       "        vertical-align: top;\n",
       "    }\n",
       "\n",
       "    .dataframe thead th {\n",
       "        text-align: right;\n",
       "    }\n",
       "</style>\n",
       "<table border=\"1\" class=\"dataframe\">\n",
       "  <thead>\n",
       "    <tr style=\"text-align: right;\">\n",
       "      <th></th>\n",
       "      <th>rmsd_gen</th>\n",
       "      <th>rmsd_relaxed</th>\n",
       "      <th>rmsd_searched</th>\n",
       "    </tr>\n",
       "  </thead>\n",
       "  <tbody>\n",
       "    <tr>\n",
       "      <th>count</th>\n",
       "      <td>13026.000000</td>\n",
       "      <td>13026.000000</td>\n",
       "      <td>13026.000000</td>\n",
       "    </tr>\n",
       "    <tr>\n",
       "      <th>mean</th>\n",
       "      <td>0.534430</td>\n",
       "      <td>0.478543</td>\n",
       "      <td>0.484822</td>\n",
       "    </tr>\n",
       "    <tr>\n",
       "      <th>std</th>\n",
       "      <td>0.366216</td>\n",
       "      <td>0.395479</td>\n",
       "      <td>0.411835</td>\n",
       "    </tr>\n",
       "    <tr>\n",
       "      <th>min</th>\n",
       "      <td>0.003977</td>\n",
       "      <td>0.003908</td>\n",
       "      <td>0.003908</td>\n",
       "    </tr>\n",
       "    <tr>\n",
       "      <th>25%</th>\n",
       "      <td>0.231432</td>\n",
       "      <td>0.119886</td>\n",
       "      <td>0.103078</td>\n",
       "    </tr>\n",
       "    <tr>\n",
       "      <th>50%</th>\n",
       "      <td>0.509025</td>\n",
       "      <td>0.432808</td>\n",
       "      <td>0.448677</td>\n",
       "    </tr>\n",
       "    <tr>\n",
       "      <th>75%</th>\n",
       "      <td>0.736801</td>\n",
       "      <td>0.699449</td>\n",
       "      <td>0.725200</td>\n",
       "    </tr>\n",
       "    <tr>\n",
       "      <th>max</th>\n",
       "      <td>3.364095</td>\n",
       "      <td>3.346377</td>\n",
       "      <td>3.036443</td>\n",
       "    </tr>\n",
       "  </tbody>\n",
       "</table>\n",
       "</div>"
      ],
      "text/plain": [
       "           rmsd_gen  rmsd_relaxed  rmsd_searched\n",
       "count  13026.000000  13026.000000   13026.000000\n",
       "mean       0.534430      0.478543       0.484822\n",
       "std        0.366216      0.395479       0.411835\n",
       "min        0.003977      0.003908       0.003908\n",
       "25%        0.231432      0.119886       0.103078\n",
       "50%        0.509025      0.432808       0.448677\n",
       "75%        0.736801      0.699449       0.725200\n",
       "max        3.364095      3.346377       3.036443"
      ]
     },
     "execution_count": 15,
     "metadata": {},
     "output_type": "execute_result"
    }
   ],
   "source": [
    "test_data[[x for x in test_data.columns if x.startswith('rmsd_')]].describe()"
   ]
  },
  {
   "cell_type": "code",
   "execution_count": 16,
   "metadata": {},
   "outputs": [
    {
     "data": {
      "image/png": "[encoded data removed]",
      "text/plain": [
       "<Figure size 252x180 with 1 Axes>"
      ]
     },
     "metadata": {
      "needs_background": "light"
     },
     "output_type": "display_data"
    }
   ],
   "source": [
    "fig, ax = plt.subplots()\n",
    "\n",
    "# Get the plot range\n",
    "max_rmsd = test_data[['rmsd_relaxed', 'rmsd_gen']].max().max()\n",
    "bins = np.linspace(0, max_rmsd, 64)\n",
    "\n",
    "# Plot the histograms\n",
    "ax.hist(test_data['rmsd_gen'], bins, label='Generated', alpha=0.7, color='r')\n",
    "ax.hist(test_data['rmsd_relaxed'], bins, label='Relaxed', alpha=0.7, color='b')\n",
    "ax.hist(test_data['rmsd_searched'], bins, label='Roter Search', alpha=0.7, color='gray')\n",
    "\n",
    "# Plot the means\n",
    "ax.set_ylim(ax.get_ylim())\n",
    "ax.plot([test_data['rmsd_gen'].mean()]*2, ax.get_ylim(), '--', color='r')\n",
    "ax.plot([test_data['rmsd_relaxed'].mean()]*2, ax.get_ylim(), '--', color='b')\n",
    "ax.plot([test_data['rmsd_searched'].mean()]*2,  ax.get_ylim(), '--', color='gray')\n",
    "\n",
    "\n",
    "ax.set_xlabel('RMSD ($\\AA$)')\n",
    "ax.set_ylabel('Frequency')\n",
    "\n",
    "fig.set_size_inches(3.5, 2.5)\n",
    "ax.legend()\n",
    "fig.tight_layout()"
   ]
  },
  {
   "cell_type": "markdown",
   "metadata": {},
   "source": [
    "## Save the Data to Disk\n",
    "We no longer the the OpenBabel molecule, so we'll drop that before saving"
   ]
  },
  {
   "cell_type": "code",
   "execution_count": 17,
   "metadata": {
    "collapsed": true
   },
   "outputs": [],
   "source": [
    "test_data.drop(['mol'], 'columns').to_pickle('test_data.pkl.gz')"
   ]
  },
  {
   "cell_type": "code",
   "execution_count": null,
   "metadata": {
    "collapsed": true
   },
   "outputs": [],
   "source": []
  }
 ],
 "metadata": {
  "kernelspec": {
   "display_name": "Python 3",
   "language": "python",
   "name": "python3"
  },
  "language_info": {
   "codemirror_mode": {
    "name": "ipython",
    "version": 3
   },
   "file_extension": ".py",
   "mimetype": "text/x-python",
   "name": "python",
   "nbconvert_exporter": "python",
   "pygments_lexer": "ipython3",
   "version": "3.7.2"
  }
 },
 "nbformat": 4,
 "nbformat_minor": 2
}
