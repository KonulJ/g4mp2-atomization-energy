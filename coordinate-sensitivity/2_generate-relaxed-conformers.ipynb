{
 "cells": [
  {
   "cell_type": "markdown",
   "metadata": {},
   "source": [
    "# Generate Relaxed Conformers\n",
    "The previous notebook generated conformers without reducing their energy afterwards. Here, we both generate conformers and relax them. This notebook starts from the `SchNetPack` db file produced in the last step to avoid having to regenerate coordinates."
   ]
  },
  {
   "cell_type": "code",
   "execution_count": 12,
   "metadata": {},
   "outputs": [],
   "source": [
    "from jcesr_ml.coordinates import generate_conformers\n",
    "from jcesr_ml.schnetpack import make_schnetpack_data\n",
    "from jcesr_ml.benchmark import load_benchmark_data\n",
    "from multiprocessing import Pool, TimeoutError\n",
    "from tqdm import tqdm_notebook as tqdm\n",
    "from ase.io.xyz import write_xyz\n",
    "from io import StringIO\n",
    "import pickle as pkl"
   ]
  },
  {
   "cell_type": "markdown",
   "metadata": {},
   "source": [
    "## Get Training Data\n",
    "We are going to modify the dataframe so that I can re-use code from the previous notebook. We are going to get both the gold standard training data (with properties in DataFrame format) and the `SchNetPack` db version of the dataset (with the generated atomic coordiantes)"
   ]
  },
  {
   "cell_type": "code",
   "execution_count": 2,
   "metadata": {},
   "outputs": [],
   "source": [
    "train_data, _ = load_benchmark_data()"
   ]
  },
  {
   "cell_type": "markdown",
   "metadata": {},
   "source": [
    "Load in the SchNetPack db"
   ]
  },
  {
   "cell_type": "code",
   "execution_count": 3,
   "metadata": {},
   "outputs": [],
   "source": [
    "with open('train_dataset.pkl', 'rb') as fp:\n",
    "    old_db = pkl.load(fp)"
   ]
  },
  {
   "cell_type": "markdown",
   "metadata": {},
   "source": [
    "Get the list of properties to store"
   ]
  },
  {
   "cell_type": "code",
   "execution_count": 4,
   "metadata": {},
   "outputs": [],
   "source": [
    "properties = old_db.required_properties"
   ]
  },
  {
   "cell_type": "markdown",
   "metadata": {},
   "source": [
    "## Get Relaxed Coordinates\n",
    "Get the generated coordinates in the current training set (`old_db`) and store them in the DataFrame"
   ]
  },
  {
   "cell_type": "code",
   "execution_count": 5,
   "metadata": {},
   "outputs": [
    {
     "data": {
      "application/vnd.jupyter.widget-view+json": {
       "model_id": "d3cdfddac9b44ae6b2faed0a12309b77",
       "version_major": 2,
       "version_minor": 0
      },
      "text/html": [
       "<p>Failed to display Jupyter Widget of type <code>HBox</code>.</p>\n",
       "<p>\n",
       "  If you're reading this message in the Jupyter Notebook or JupyterLab Notebook, it may mean\n",
       "  that the widgets JavaScript is still loading. If this message persists, it\n",
       "  likely means that the widgets JavaScript library is either not installed or\n",
       "  not enabled. See the <a href=\"https://ipywidgets.readthedocs.io/en/stable/user_install.html\">Jupyter\n",
       "  Widgets Documentation</a> for setup instructions.\n",
       "</p>\n",
       "<p>\n",
       "  If you're reading this message in another frontend (for example, a static\n",
       "  rendering on GitHub or <a href=\"https://nbviewer.jupyter.org/\">NBViewer</a>),\n",
       "  it may mean that your frontend doesn't currently support widgets.\n",
       "</p>\n"
      ],
      "text/plain": [
       "HBox(children=(IntProgress(value=0, max=117232), HTML(value='')))"
      ]
     },
     "metadata": {},
     "output_type": "display_data"
    },
    {
     "name": "stdout",
     "output_type": "stream",
     "text": [
      "\n"
     ]
    }
   ],
   "source": [
    "xyz_gen = []\n",
    "for i in tqdm(range(len(old_db))):\n",
    "    fp = StringIO()\n",
    "    write_xyz(fp, old_db.get_atoms(i))\n",
    "    xyz_gen.append(fp.getvalue())"
   ]
  },
  {
   "cell_type": "markdown",
   "metadata": {},
   "source": [
    "Quick check that structures are in the same order by verifying the atom counts are the same"
   ]
  },
  {
   "cell_type": "code",
   "execution_count": 6,
   "metadata": {},
   "outputs": [],
   "source": [
    "for x, y in zip(xyz_gen, train_data['xyz']):\n",
    "    assert x.split(\"\\n\")[0] == y.split(\"\\n\")[0]"
   ]
  },
  {
   "cell_type": "markdown",
   "metadata": {},
   "source": [
    "Store the structures in the DataFrame"
   ]
  },
  {
   "cell_type": "code",
   "execution_count": 7,
   "metadata": {},
   "outputs": [],
   "source": [
    "train_data['xyz_gen'] = xyz_gen"
   ]
  },
  {
   "cell_type": "markdown",
   "metadata": {},
   "source": [
    "## Generate Relaxed Conformers\n",
    "Same procedure as the last notebook (GA), but relax the coordinates with a forcefield after generation"
   ]
  },
  {
   "cell_type": "code",
   "execution_count": 8,
   "metadata": {},
   "outputs": [],
   "source": [
    "timeout = 60  # Long timeout to make sure everything finishes"
   ]
  },
  {
   "cell_type": "code",
   "execution_count": 9,
   "metadata": {},
   "outputs": [
    {
     "data": {
      "application/vnd.jupyter.widget-view+json": {
       "model_id": "b57e19df913c4b0caf52c7522bf3a000",
       "version_major": 2,
       "version_minor": 0
      },
      "text/html": [
       "<p>Failed to display Jupyter Widget of type <code>HBox</code>.</p>\n",
       "<p>\n",
       "  If you're reading this message in the Jupyter Notebook or JupyterLab Notebook, it may mean\n",
       "  that the widgets JavaScript is still loading. If this message persists, it\n",
       "  likely means that the widgets JavaScript library is either not installed or\n",
       "  not enabled. See the <a href=\"https://ipywidgets.readthedocs.io/en/stable/user_install.html\">Jupyter\n",
       "  Widgets Documentation</a> for setup instructions.\n",
       "</p>\n",
       "<p>\n",
       "  If you're reading this message in another frontend (for example, a static\n",
       "  rendering on GitHub or <a href=\"https://nbviewer.jupyter.org/\">NBViewer</a>),\n",
       "  it may mean that your frontend doesn't currently support widgets.\n",
       "</p>\n"
      ],
      "text/plain": [
       "HBox(children=(IntProgress(value=0, max=117232), HTML(value='')))"
      ]
     },
     "metadata": {},
     "output_type": "display_data"
    },
    {
     "name": "stdout",
     "output_type": "stream",
     "text": [
      "\n",
      "Number of failures: 2\n",
      "CPU times: user 1min 1s, sys: 34.7 s, total: 1min 35s\n",
      "Wall time: 6h 6min 52s\n"
     ]
    }
   ],
   "source": [
    "%%time\n",
    "with Pool() as p:\n",
    "    futures = [p.apply_async(generate_conformers, (x,), {'relax': True}) for x in train_data['xyz_gen']]\n",
    "    \n",
    "    # Wait for all to finish\n",
    "    conformers = []\n",
    "    failures = 0\n",
    "    for x, y in tqdm(list(zip(futures, train_data['xyz_gen']))):\n",
    "        try:\n",
    "            res = x.get(timeout)\n",
    "        except TimeoutError:\n",
    "            failures += 1\n",
    "            res = [y]\n",
    "        conformers.append(res)\n",
    "    print('Number of failures:', failures)"
   ]
  },
  {
   "cell_type": "markdown",
   "metadata": {},
   "source": [
    "Add the results to a DataFrame"
   ]
  },
  {
   "cell_type": "code",
   "execution_count": 10,
   "metadata": {},
   "outputs": [],
   "source": [
    "train_data['conformers'] = conformers"
   ]
  },
  {
   "cell_type": "markdown",
   "metadata": {},
   "source": [
    "## Make an ASE Database\n",
    "Make another ASE database, using the relaxed conformers"
   ]
  },
  {
   "cell_type": "code",
   "execution_count": 13,
   "metadata": {},
   "outputs": [],
   "source": [
    "db = make_schnetpack_data(train_data, 'train_dataset_relaxed_confs.db', properties=properties,\n",
    "                          xyz_col='xyz_gen', conformers='conformers')\n",
    "with open('train_dataset_ralaxed_confs.pkl', 'wb') as fp:\n",
    "    pkl.dump(db, fp)"
   ]
  },
  {
   "cell_type": "code",
   "execution_count": null,
   "metadata": {},
   "outputs": [],
   "source": []
  }
 ],
 "metadata": {
  "kernelspec": {
   "display_name": "Python 3",
   "language": "python",
   "name": "python3"
  },
  "language_info": {
   "codemirror_mode": {
    "name": "ipython",
    "version": 3
   },
   "file_extension": ".py",
   "mimetype": "text/x-python",
   "name": "python",
   "nbconvert_exporter": "python",
   "pygments_lexer": "ipython3",
   "version": "3.6.4"
  }
 },
 "nbformat": 4,
 "nbformat_minor": 2
}
