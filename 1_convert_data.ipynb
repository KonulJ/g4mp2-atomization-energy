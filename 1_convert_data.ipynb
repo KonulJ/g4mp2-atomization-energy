{
 "cells": [
  {
   "cell_type": "markdown",
   "metadata": {},
   "source": [
    "# Extract Data Sources\n",
    "Parse the two data sources [QM9](https://www.nature.com/articles/sdata201422) and QM9-G4MP2 into a more-usable format."
   ]
  },
  {
   "cell_type": "code",
   "execution_count": 1,
   "metadata": {},
   "outputs": [],
   "source": [
    "from jcesr_ml.utils import compute_atomization_energy\n",
    "from dlhub_sdk.models.datasets import TabularDataset\n",
    "from ase.io.xyz import write_xyz\n",
    "from ase.db import connect\n",
    "from tarfile import TarFile\n",
    "from math import isclose\n",
    "from io import StringIO\n",
    "from tqdm import tqdm\n",
    "import pandas as pd\n",
    "import numpy as np\n",
    "import json\n",
    "import glob\n",
    "import sys\n",
    "import bz2\n",
    "import re\n",
    "import os"
   ]
  },
  {
   "cell_type": "markdown",
   "metadata": {},
   "source": [
    "Things to change"
   ]
  },
  {
   "cell_type": "code",
   "execution_count": 2,
   "metadata": {},
   "outputs": [],
   "source": [
    "g4mp2_path = os.path.join('data', 'input', 'g4mp2-gdb9.db') "
   ]
  },
  {
   "cell_type": "code",
   "execution_count": 3,
   "metadata": {},
   "outputs": [],
   "source": [
    "qm9_path = os.path.join('data', 'input', 'dsgdb9nsd.xyz.tar.bz2')"
   ]
  },
  {
   "cell_type": "code",
   "execution_count": 4,
   "metadata": {},
   "outputs": [],
   "source": [
    "output_path = os.path.join('data', 'output', 'g4mp2_data.json.gz')"
   ]
  },
  {
   "cell_type": "code",
   "execution_count": 5,
   "metadata": {},
   "outputs": [],
   "source": [
    "evil_mol_list = os.path.join('data', 'input', 'uncharacterized.txt')  # Molecules that changed during relaxation"
   ]
  },
  {
   "cell_type": "code",
   "execution_count": 6,
   "metadata": {},
   "outputs": [],
   "source": [
    "unrelaxed_mols = os.path.join('data', 'input', 'negative_freqs.txt')  # Molecules that are incompletely relaxed"
   ]
  },
  {
   "cell_type": "markdown",
   "metadata": {},
   "source": [
    "## Show an Example Entry from Each Dataset\n",
    "Just print a single row to show what we're dealing with"
   ]
  },
  {
   "cell_type": "markdown",
   "metadata": {},
   "source": [
    "### QM9\n",
    "QM9 is stored in a tar file, we will print a single file. As described in the [QM9 Paper](https://www.nature.com/articles/sdata201422), the data for each atom is encoded in the 2nd line of the file"
   ]
  },
  {
   "cell_type": "code",
   "execution_count": 7,
   "metadata": {},
   "outputs": [],
   "source": [
    "qm9_tar = TarFile.open(fileobj=bz2.open(qm9_path))"
   ]
  },
  {
   "cell_type": "code",
   "execution_count": 8,
   "metadata": {},
   "outputs": [
    {
     "name": "stdout",
     "output_type": "stream",
     "text": [
      "17\n",
      "gdb 2348\t5.28659\t1.8222\t1.57619\t2.635\t64.78\t-0.2389\t-0.0093\t0.2295\t836.4733\t0.147702\t-309.732528\t-309.724906\t-309.723961\t-309.765172\t27.004\t\n",
      "C\t-0.2803079247\t 1.5743791367\t-0.1679267063\t-0.480689\n",
      "C\t 0.0931773117\t 0.128156842\t 0.1059703556\t 0.370419\n",
      "O\t 1.2326500558\t-0.2035601694\t 0.3477764467\t-0.303524\n",
      "C\t-1.031822354\t-0.8828815436\t 0.0167435484\t-0.062595\n",
      "C\t-1.256139412\t-1.5157994179\t-1.4043788362\t-0.223367\n",
      "C\t-1.4413992056\t-2.8933937147\t-0.7149243705\t-0.208499\n",
      "C\t-0.7792120195\t-2.3105928746\t 0.5613611976\t-0.229108\n",
      "H\t 0.6173178997\t 2.1900427681\t-0.2366790156\t 0.140066\n",
      "H\t-0.8646816861\t 1.6561455321\t-1.0912545828\t 0.136658\n",
      "H\t-0.9169523951\t 1.949015146\t 0.6426317143\t 0.140358\n",
      "H\t-1.9654849722\t-0.4472240448\t 0.3863693781\t 0.073406\n",
      "H\t-2.0828364449\t-1.1232768693\t-2.0005614542\t 0.101245\n",
      "H\t-0.3397046457\t-1.4779519226\t-1.9999905269\t 0.116103\n",
      "H\t-2.4983631602\t-3.1272363355\t-0.5592465532\t 0.10216\n",
      "H\t-0.9620686148\t-3.7549824633\t-1.1850114617\t 0.10202\n",
      "H\t 0.2951071718\t-2.5037052497\t 0.6020920261\t 0.128061\n",
      "H\t-1.2245303642\t-2.5622398497\t 1.5262338305\t 0.097286\n",
      "34.0185\t114.961\t134.6394\t195.9097\t277.3349\t363.4147\t568.5306\t596.4329\t616.593\t744.9715\t780.671\t871.2002\t926.1446\t929.0318\t944.8626\t958.8397\t991.7897\t1023.1675\t1078.1165\t1135.0532\t1186.1795\t1209.9313\t1234.6981\t1252.4272\t1260.053\t1280.8481\t1282.1295\t1366.4151\t1384.5505\t1462.894\t1475.9969\t1476.7224\t1486.9735\t1507.8189\t1804.807\t3032.5559\t3056.3809\t3057.9868\t3060.3827\t3071.651\t3092.7719\t3103.0469\t3118.2753\t3132.0176\t3150.5428\n",
      "CC(=O)C1CCC1\tCC(=O)C1CCC1\t\n",
      "InChI=1S/C6H10O/c1-5(7)6-3-2-4-6/h6H,2-4H2,1H3\tInChI=1S/C6H10O/c1-5(7)6-3-2-4-6/h6H,2-4H2,1H3\n",
      "\n",
      "CPU times: user 20.5 s, sys: 703 ms, total: 21.2 s\n",
      "Wall time: 21.5 s\n"
     ]
    }
   ],
   "source": [
    "%%time\n",
    "print(qm9_tar.extractfile('dsgdb9nsd_002348.xyz').read().decode())"
   ]
  },
  {
   "cell_type": "markdown",
   "metadata": {},
   "source": [
    "Random access from the tar is slow, so let's cache the data"
   ]
  },
  {
   "cell_type": "code",
   "execution_count": 9,
   "metadata": {},
   "outputs": [
    {
     "name": "stderr",
     "output_type": "stream",
     "text": [
      "100%|██████████| 133885/133885 [00:17<00:00, 7821.91it/s]\n"
     ]
    }
   ],
   "source": [
    "qm9_xyz = dict((e.name, qm9_tar.extractfile(e).read().decode()) for e in tqdm(qm9_tar.getmembers()))"
   ]
  },
  {
   "cell_type": "markdown",
   "metadata": {},
   "source": [
    "## Get the QM9-G4MP2 Data\n",
    "The G4MP2 data is encoded in a ASE DB. "
   ]
  },
  {
   "cell_type": "code",
   "execution_count": 10,
   "metadata": {},
   "outputs": [],
   "source": [
    "db = connect(g4mp2_path)"
   ]
  },
  {
   "cell_type": "code",
   "execution_count": 11,
   "metadata": {},
   "outputs": [
    {
     "name": "stdout",
     "output_type": "stream",
     "text": [
      "g4mp2_Standard_Enthalpy_Formation: 35.19166\n",
      "g4mp2_Enthalpy        : -437.311525\n",
      "Smiles                : O[C@H]1[C@H]2[C@H]3O[C@H]4[C@@H]1N2[C@@H]34\n",
      "Plain_InChI           : InChI=1S/C6H7NO2/c8-4-1-5-3-6(9-5)2(4)7(1)3/h1-6,8H\n",
      "g4mp2_ZPE             : 0.125447\n",
      "g4mp2_FreeE           : -437.348073\n",
      "g4mp2_AtomizationE    : 1569.140848\n",
      "Plain_Smiles          : OC1C2C3OC4C1N2C34\n",
      "g4mp2_E0K             : -437.318254\n",
      "g4mp2_Energy          : -437.312469\n",
      "InChI                 : InChI=1S/C6H7NO2/c8-4-1-5-3-6(9-5)2(4)7(1)3/h1-6,8H/t1-,2+,3-,4-,5+,6-\n",
      "gdbID                 : 79782\n",
      "id                    : 1\n",
      "unique_id             : 65ea76a1cdd7b1ec5bbeef5989edbc5e\n",
      "ctime                 : 19.17499604994695\n",
      "mtime                 : 19.17499604994695\n",
      "user                  : bnarayanan\n",
      "numbers               : [8 6 6 6 8 6 6 7 6 1 1 1 1 1 1 1]\n",
      "positions             : [[ 0.10321337  1.43815203 -0.09291334]\n",
      " [-0.01441036  0.05632053  0.02841368]\n",
      " [ 0.21133207 -0.67331038  1.37509802]\n",
      " [-0.75619358 -0.13873025  2.48161378]\n",
      " [-1.62801824  0.90085126  1.94983472]\n",
      " [-2.31134109 -0.12167864  1.16810665]\n",
      " [-1.3891064  -0.65576279  0.02333697]\n",
      " [-0.81473292 -1.74319263  0.95260876]\n",
      " [-1.73931267 -1.25118181  2.05366671]\n",
      " [-0.47080932  1.80919322  0.59153194]\n",
      " [ 0.62374255 -0.40100054 -0.73307266]\n",
      " [ 1.20568551 -0.99792825  1.68506016]\n",
      " [-0.3868025   0.09346817  3.48000921]\n",
      " [-3.35438987  0.12600646  0.97352842]\n",
      " [-1.86509184 -0.96425964 -0.90857486]\n",
      " [-2.28406562 -1.94715103  2.68960054]]\n",
      "cell                  : [[0. 0. 0.]\n",
      " [0. 0. 0.]\n",
      " [0. 0. 0.]]\n",
      "pbc                   : [False False False]\n"
     ]
    }
   ],
   "source": [
    "row = db.get(1)\n",
    "for key in row:\n",
    "    print('{:22s}: {}'.format(key, row[key]))"
   ]
  },
  {
   "cell_type": "markdown",
   "metadata": {},
   "source": [
    "There is a lot of information packed in here, and we need to extract it into a usable form"
   ]
  },
  {
   "cell_type": "markdown",
   "metadata": {},
   "source": [
    "## Create Utility Functions\n",
    "We need a series of functions to extract data from the database. Besides the XYZ coordinates, we also have various properties of the molecule and its InChI. \n",
    "\n",
    "The properties are in a special order, defined by the person who ran these calculations. By consulting with them, we created extractors for pulling this information out of the files"
   ]
  },
  {
   "cell_type": "code",
   "execution_count": 12,
   "metadata": {},
   "outputs": [],
   "source": [
    "def extract_qm9_data(lines):\n",
    "    \"\"\"Extract QM9 data from an XYZ file\n",
    "    \n",
    "    Args:\n",
    "        lines ([string]): Lines from the XYZ file\n",
    "    Returns:\n",
    "        (dict): Key properties from the xyz file\n",
    "    \"\"\"\n",
    "    \n",
    "    # Split the data line\n",
    "    data_line = lines[1].split()\n",
    "    \n",
    "    # Store the index and number of atoms\n",
    "    output = {'n_atom': int(lines[0].split()[0]),\n",
    "              'index': int(data_line[1])}\n",
    "    \n",
    "    # Store all of the other properties\n",
    "    properties = [\"A\", \"B\", \"C\", \"mu\", \"alpha\", \"homo\", \"lumo\", \n",
    "                  \"bandgap\", \"R2\", \"zpe\", \"u0\", \"u\", \"h\", \"g\", \"cv\"]\n",
    "    for name, value in zip(properties, data_line[2:]):\n",
    "        output[name] = float(value)\n",
    "    \n",
    "    return output"
   ]
  },
  {
   "cell_type": "code",
   "execution_count": 13,
   "metadata": {},
   "outputs": [],
   "source": [
    "def extract_charges(lines):\n",
    "    \"\"\"Extract the charges on each of the atoms\n",
    "    \n",
    "    Args:\n",
    "        lines ([string]): Lines from the XYZ file\n",
    "    Returns:\n",
    "        ([float]) Charges on each atom\n",
    "    \"\"\"\n",
    "    \n",
    "    n_atoms = int(lines[0])\n",
    "    return list(map(float, [x.split()[-1].replace(\"*^\", \"e\") for x in lines[2:(2+n_atoms)]]))"
   ]
  },
  {
   "cell_type": "code",
   "execution_count": 14,
   "metadata": {},
   "outputs": [],
   "source": [
    "def extract_g4mp2(mol):\n",
    "    \"\"\"Extract the G4MP2 data from the DB row, store in standard names\n",
    "    \n",
    "    Args:\n",
    "        row: Row from the ASE db\n",
    "    Returns:\n",
    "        (dict): Properites related to the G4MP2 otuputs\n",
    "    \"\"\"\n",
    "    properties = {\n",
    "        'g4mp2_Standard_Enthalpy_Formation': 'g4mp2_hf298',\n",
    "        'g4mp2_Enthalpy': 'g4mp2_enthalpy',\n",
    "        'g4mp2_ZPE' : 'g4mp2_zpe',\n",
    "        'g4mp2_FreeE': 'g4mp2_free',\n",
    "        'g4mp2_E0K': 'g4mp2_0k',\n",
    "        'g4mp2_Energy': 'g4mp2_energy'\n",
    "    }\n",
    "    row = mol.info['key_value_pairs']\n",
    "    return dict((name, row[key]) for key, name in properties.items())"
   ]
  },
  {
   "cell_type": "code",
   "execution_count": 15,
   "metadata": {},
   "outputs": [],
   "source": [
    "def extract_structure(lines):\n",
    "    \"\"\"Extract the smiles and InChi strings\n",
    "    \n",
    "    Args:\n",
    "        lines ([string]): Appropriate lines from the QM9 XYZ file\n",
    "    Returns:\n",
    "        (dict): Smiles and INCHi strings\n",
    "    \"\"\"\n",
    "    \n",
    "    smiles = lines[0].split('\\t')\n",
    "    inchi = lines[1].split('\\t')\n",
    "    return {\n",
    "        'smiles_0':smiles[0],\n",
    "        'smiles_1':smiles[1],\n",
    "        'inchi_0':inchi[0],\n",
    "        'inchi_1':inchi[1]\n",
    "    }"
   ]
  },
  {
   "cell_type": "code",
   "execution_count": 16,
   "metadata": {},
   "outputs": [],
   "source": [
    "def get_clean_xyz_file(mol):\n",
    "    \"\"\"Get the atoms\n",
    "    \n",
    "    Args:\n",
    "        mol (ase.Atoms): Molecule to evaluate\n",
    "    Returns:\n",
    "        (string) File in a cleaner XYZ format\n",
    "    \"\"\"\n",
    "    strio = StringIO()\n",
    "    write_xyz(strio, mol)\n",
    "    return strio.getvalue()"
   ]
  },
  {
   "cell_type": "code",
   "execution_count": 17,
   "metadata": {},
   "outputs": [],
   "source": [
    "def get_counts(mol):\n",
    "    \"\"\"Get th size of teh molecule\n",
    "    \n",
    "    Args:\n",
    "        mol (ase.Atoms): Molecule to evaluate\n",
    "    Returns:\n",
    "        (dict) Different measures of molecular size:\n",
    "            n_heavy_atom (int): Number of heavy (i.e., non-Hydrogen) atoms\n",
    "            n_electrons (int): Number of electrons in the system\n",
    "    \"\"\"\n",
    "    Z = mol.get_atomic_numbers()\n",
    "    return {\n",
    "        'n_heavy_atoms': (Z > 1).sum(),\n",
    "        'n_electrons': Z.sum(), \n",
    "    }"
   ]
  },
  {
   "cell_type": "code",
   "execution_count": 18,
   "metadata": {},
   "outputs": [],
   "source": [
    "def get_atomization_energies(mol, u0, g4mp2_0k):\n",
    "    \"\"\"Compute the atomization energies for each molecule\n",
    "    \n",
    "    Args:\n",
    "        mol (ase.Atoms): Molecule to evaluate\n",
    "        u0 (float): B3LYP 0K total energy\n",
    "        g4mp2_0k (float): G4MP2 total energy\n",
    "    Returns:\n",
    "        (dict) With computed total energies:\n",
    "            u0_atom (float): B3LYP atomization energy (Ha)\n",
    "            g4mp2_atom (float): B3LYP atomization energy (Ha)\n",
    "    \"\"\"\n",
    "    return {\n",
    "        'u0_atom': compute_atomization_energy(mol, u0, 'b3lyp'),\n",
    "        'g4mp2_atom': compute_atomization_energy(mol, g4mp2_0k, 'g4mp2')\n",
    "    }"
   ]
  },
  {
   "cell_type": "code",
   "execution_count": 19,
   "metadata": {},
   "outputs": [],
   "source": [
    "def parse_data(db, qm9_xyz):\n",
    "    \"\"\"Generate dataset as a dataframe\n",
    "    \n",
    "    Args:\n",
    "        db: ASE DB with G4MP2 data\n",
    "        qm9_xyz (dict): All of the files in the QM9 tar archive\n",
    "    Returns:\n",
    "        (DataFrame) Dataset\n",
    "    \"\"\"\n",
    "    \n",
    "    matrix = []\n",
    "    for row in tqdm(db.select(), total=len(db)):\n",
    "        # Make the atoms object out of the row\n",
    "        mol = row.toatoms(add_additional_information=True)\n",
    "        \n",
    "        # Get the matching QM9 XYZ file\n",
    "        file = 'dsgdb9nsd_{:06d}.xyz'.format(mol.info['key_value_pairs']['gdbID'])\n",
    "        lines = qm9_xyz[file].split(\"\\n\")\n",
    "\n",
    "        # Get the appropriate lines from the file\n",
    "        xyz_data = lines\n",
    "        structure_data = lines[-3:]\n",
    "\n",
    "        # Extract the numerical data\n",
    "        item = extract_qm9_data(xyz_data)\n",
    "        item.update(extract_g4mp2(mol))\n",
    "        item['atomic_charges'] = extract_charges(xyz_data)\n",
    "\n",
    "        # Load the structure as InCHi and SMILES\n",
    "        item.update(extract_structure(structure_data))\n",
    "\n",
    "        # Store the file name and XYZ file\n",
    "        item['filename'] = os.path.basename(file)\n",
    "        item['xyz'] = get_clean_xyz_file(mol)\n",
    "\n",
    "        # Get some metrics of the atomic size\n",
    "        item.update(get_counts(mol))\n",
    "\n",
    "        # Get the atomization energies\n",
    "        item.update(get_atomization_energies(mol,\n",
    "                                             item['u0'],\n",
    "                                             item['g4mp2_0k']))\n",
    "\n",
    "        matrix.append(item)\n",
    "\n",
    "    df = pd.DataFrame(matrix)\n",
    "    \n",
    "    return df     "
   ]
  },
  {
   "cell_type": "markdown",
   "metadata": {},
   "source": [
    "## Parse the Entire Dataset\n",
    "Run the extraction on all the files"
   ]
  },
  {
   "cell_type": "code",
   "execution_count": 20,
   "metadata": {},
   "outputs": [
    {
     "name": "stderr",
     "output_type": "stream",
     "text": [
      "100%|██████████| 133296/133296 [01:19<00:00, 1667.87it/s]\n"
     ]
    }
   ],
   "source": [
    "df = parse_data(db, qm9_xyz)"
   ]
  },
  {
   "cell_type": "code",
   "execution_count": 21,
   "metadata": {},
   "outputs": [],
   "source": [
    "df.sort_values('index', inplace=True)"
   ]
  },
  {
   "cell_type": "markdown",
   "metadata": {},
   "source": [
    "Check the outputs"
   ]
  },
  {
   "cell_type": "code",
   "execution_count": 22,
   "metadata": {},
   "outputs": [],
   "source": [
    "assert isclose(df.iloc[0]['u0'], -40.47893)"
   ]
  },
  {
   "cell_type": "code",
   "execution_count": 23,
   "metadata": {},
   "outputs": [
    {
     "name": "stdout",
     "output_type": "stream",
     "text": [
      "Parsed 133296 entries.\n"
     ]
    }
   ],
   "source": [
    "print('Parsed {} entries.'.format(len(df)))"
   ]
  },
  {
   "cell_type": "markdown",
   "metadata": {},
   "source": [
    "## Remove \"Evil\" Molecules\n",
    "These \"evil\" molecules are difficult to characterize because the DFT properties correspond to a different molecule than what is listed in the SMILES string, or the structure is not fully relaxed"
   ]
  },
  {
   "cell_type": "markdown",
   "metadata": {},
   "source": [
    "First set are those with different SMILES strings"
   ]
  },
  {
   "cell_type": "code",
   "execution_count": 24,
   "metadata": {},
   "outputs": [
    {
     "name": "stdout",
     "output_type": "stream",
     "text": [
      "Found 3054 evil molecules\n"
     ]
    }
   ],
   "source": [
    "evil_mols = pd.read_csv(evil_mol_list, skiprows=9, skipfooter=1, header=None, delim_whitespace=True, engine='python',\n",
    "                        names=['index', 'gdb17_smiles', 'relaxed_smiles', 'initial_smiles', 'distance'])\n",
    "evil_mols = set(map(int, evil_mols['index']))\n",
    "print('Found {} evil molecules'.format(len(evil_mols)))"
   ]
  },
  {
   "cell_type": "code",
   "execution_count": 25,
   "metadata": {},
   "outputs": [
    {
     "name": "stdout",
     "output_type": "stream",
     "text": [
      "Removed 3038 evil molecules\n"
     ]
    }
   ],
   "source": [
    "original_count = len(df)\n",
    "df = df[~ df['index'].apply(lambda x: x in evil_mols)]\n",
    "print('Removed {} evil molecules'.format(original_count - len(df)))"
   ]
  },
  {
   "cell_type": "markdown",
   "metadata": {},
   "source": [
    "## Mark Which Entries are in the Holdout Set\n",
    "Pick a random 10% of the data"
   ]
  },
  {
   "cell_type": "code",
   "execution_count": 26,
   "metadata": {},
   "outputs": [],
   "source": [
    "assert len(df) == 130258"
   ]
  },
  {
   "cell_type": "code",
   "execution_count": 27,
   "metadata": {},
   "outputs": [],
   "source": [
    "df['in_holdout'] = False"
   ]
  },
  {
   "cell_type": "code",
   "execution_count": 28,
   "metadata": {},
   "outputs": [],
   "source": [
    "df.loc[df.sample(frac=0.1, random_state=1).index, 'in_holdout'] = True"
   ]
  },
  {
   "cell_type": "code",
   "execution_count": 29,
   "metadata": {},
   "outputs": [
    {
     "name": "stdout",
     "output_type": "stream",
     "text": [
      "False    0.899998\n",
      "True     0.100002\n",
      "Name: in_holdout, dtype: float64\n"
     ]
    }
   ],
   "source": [
    "print(df['in_holdout'].value_counts() / len(df))"
   ]
  },
  {
   "cell_type": "markdown",
   "metadata": {},
   "source": [
    "*Finding*: We do have about 10% of the data in the holdout set"
   ]
  },
  {
   "cell_type": "markdown",
   "metadata": {},
   "source": [
    "## Save Data to Disk\n",
    "Save the data to disk pkl format"
   ]
  },
  {
   "cell_type": "code",
   "execution_count": 30,
   "metadata": {},
   "outputs": [],
   "source": [
    "df.to_json(output_path, 'records', lines=True, compression='gzip')"
   ]
  },
  {
   "cell_type": "markdown",
   "metadata": {},
   "source": [
    "## Create a Description of the Data\n",
    "Use DLHub's mark-up capability to describe the columns"
   ]
  },
  {
   "cell_type": "code",
   "execution_count": 31,
   "metadata": {},
   "outputs": [],
   "source": [
    "metadata = TabularDataset.create_model(output_path, format='json', read_kwargs={'lines': True})"
   ]
  },
  {
   "cell_type": "markdown",
   "metadata": {},
   "source": [
    "Define basic metadata"
   ]
  },
  {
   "cell_type": "code",
   "execution_count": 32,
   "metadata": {},
   "outputs": [
    {
     "data": {
      "text/plain": [
       "<dlhub_sdk.models.datasets.TabularDataset at 0x7fe8f4889080>"
      ]
     },
     "execution_count": 32,
     "metadata": {},
     "output_type": "execute_result"
    }
   ],
   "source": [
    "metadata.set_title('Energetic, Band Structure, and Solubility of GDB9 Molecules Computed with G4MP2')"
   ]
  },
  {
   "cell_type": "code",
   "execution_count": 33,
   "metadata": {},
   "outputs": [
    {
     "data": {
      "text/plain": [
       "<dlhub_sdk.models.datasets.TabularDataset at 0x7fe8f4889080>"
      ]
     },
     "execution_count": 33,
     "metadata": {},
     "output_type": "execute_result"
    }
   ],
   "source": [
    "metadata.set_name('QM9-G4MP2')"
   ]
  },
  {
   "cell_type": "code",
   "execution_count": 34,
   "metadata": {},
   "outputs": [
    {
     "data": {
      "text/plain": [
       "<dlhub_sdk.models.datasets.TabularDataset at 0x7fe8f4889080>"
      ]
     },
     "execution_count": 34,
     "metadata": {},
     "output_type": "execute_result"
    }
   ],
   "source": [
    "metadata.set_authors(['Assary, Rajeev', 'Narayan, Badri', 'Cheng, Lei', 'Curtiss, Larry'], [['Argonne National Laboratory']]*4)"
   ]
  },
  {
   "cell_type": "markdown",
   "metadata": {},
   "source": [
    "Set the inputs"
   ]
  },
  {
   "cell_type": "code",
   "execution_count": 35,
   "metadata": {},
   "outputs": [
    {
     "data": {
      "text/plain": [
       "<dlhub_sdk.models.datasets.TabularDataset at 0x7fe8f4889080>"
      ]
     },
     "execution_count": 35,
     "metadata": {},
     "output_type": "execute_result"
    }
   ],
   "source": [
    "metadata.annotate_column('smiles_0', 'Input smiles string', data_type='string')\n",
    "metadata.annotate_column('smiles_1', 'SMILES string after relaxation', data_type='string')\n",
    "metadata.annotate_column('inchi_0', 'InChi after generating coordinates with CORINA', data_type='string')\n",
    "metadata.annotate_column('inchi_1', 'InChi after relaxation', data_type='string')\n",
    "metadata.annotate_column('xyz', 'XYZ coordinates after relaxation', data_type='XYZ file')"
   ]
  },
  {
   "cell_type": "code",
   "execution_count": 36,
   "metadata": {},
   "outputs": [
    {
     "data": {
      "text/plain": [
       "<dlhub_sdk.models.datasets.TabularDataset at 0x7fe8f4889080>"
      ]
     },
     "execution_count": 36,
     "metadata": {},
     "output_type": "execute_result"
    }
   ],
   "source": [
    "metadata.mark_inputs(['smiles_0', 'xyz'])"
   ]
  },
  {
   "cell_type": "markdown",
   "metadata": {},
   "source": [
    "Set the properties with units of Ha"
   ]
  },
  {
   "cell_type": "code",
   "execution_count": 37,
   "metadata": {},
   "outputs": [],
   "source": [
    "for name, desc in [('bandgap', 'B3LYP Band gap energy'), ('homo', 'B3LYP Energy of HOMO'), ('lumo', 'B3LYP Energy of LUMO'),\n",
    "                   ('zpe', 'B3LYP Zero point vibrational energy'), ('u0', 'B3LYP Internal energy at 0K'), \n",
    "                   ('u', 'B3LYP Internal energy at 298.15K'), ('h', 'B3LYP Enthalpy at 298.15K'),\n",
    "                   ('u0_atom', 'B3LYP atomization energy at 0K'), ('g', 'B3LYP Free energy at 298.15K'), \n",
    "                   ('g4mp2_0k', 'G4MP2 Internal energy at 0K'), ('g4mp2_energy', 'G4MP2 Internal energy at 298.15K'),\n",
    "                   ('g4mp2_enthalpy', 'G4MP2 Enthalpy at 298.15K'), ('g4mp2_free', 'G4MP2 Free eergy at 0K'), \n",
    "                   ('g4mp2_atom', 'G4MP2 atomization energy at 0K'), ('g4mp2_zpe', 'G4MP2 zero point energy')]:\n",
    "    metadata.annotate_column(name, description=desc, units='Ha')"
   ]
  },
  {
   "cell_type": "markdown",
   "metadata": {},
   "source": [
    "Set the remaining properties"
   ]
  },
  {
   "cell_type": "code",
   "execution_count": 38,
   "metadata": {},
   "outputs": [
    {
     "name": "stdout",
     "output_type": "stream",
     "text": [
      "The history saving thread hit an unexpected error (OperationalError('disk I/O error')).History will not be written to the database."
     ]
    },
    {
     "data": {
      "text/plain": [
       "<dlhub_sdk.models.datasets.TabularDataset at 0x7fe8f4889080>"
      ]
     },
     "execution_count": 38,
     "metadata": {},
     "output_type": "execute_result"
    },
    {
     "name": "stdout",
     "output_type": "stream",
     "text": [
      "\n"
     ]
    }
   ],
   "source": [
    "metadata.annotate_column('mu', 'Dipole moment', units='D')\n",
    "metadata.annotate_column('alpha', 'Isotropic polarizability', units='a_0^3')\n",
    "metadata.annotate_column('R2', 'Electronic spatial extant', units='a_0^2')\n",
    "metadata.annotate_column('cv', 'Heat capacity at 298.15K', units='cal/mol-K')\n",
    "metadata.annotate_column('n_atom', 'Number of atoms in molecule')\n",
    "metadata.annotate_column('g4mp2_hf298', 'G4MP2 Standard Enthalpy of Formation, 298K', units='kcal/mol')"
   ]
  },
  {
   "cell_type": "code",
   "execution_count": 39,
   "metadata": {},
   "outputs": [
    {
     "data": {
      "text/plain": [
       "<dlhub_sdk.models.datasets.TabularDataset at 0x7fe8f4889080>"
      ]
     },
     "execution_count": 39,
     "metadata": {},
     "output_type": "execute_result"
    }
   ],
   "source": [
    "metadata.annotate_column('index', 'Index number in the database')\n",
    "metadata.annotate_column('filename', 'Filename from the QM9 dataaset')\n",
    "metadata.annotate_column('in_holdout', 'Whether the entry is in the pre-defined holdout set')"
   ]
  },
  {
   "cell_type": "code",
   "execution_count": 40,
   "metadata": {},
   "outputs": [
    {
     "data": {
      "text/plain": [
       "<dlhub_sdk.models.datasets.TabularDataset at 0x7fe8f4889080>"
      ]
     },
     "execution_count": 40,
     "metadata": {},
     "output_type": "execute_result"
    }
   ],
   "source": [
    "metadata.annotate_column('atomic_charges', 'Atomic charges on each atom, as predicted from B3LYP')"
   ]
  },
  {
   "cell_type": "code",
   "execution_count": 41,
   "metadata": {},
   "outputs": [],
   "source": [
    "for name in ['A', 'B', 'C']:\n",
    "    metadata.annotate_column(name, 'Rotational constant', units='GHz')"
   ]
  },
  {
   "cell_type": "code",
   "execution_count": 42,
   "metadata": {},
   "outputs": [
    {
     "data": {
      "text/plain": [
       "<dlhub_sdk.models.datasets.TabularDataset at 0x7fe8f4889080>"
      ]
     },
     "execution_count": 42,
     "metadata": {},
     "output_type": "execute_result"
    }
   ],
   "source": [
    "metadata.annotate_column('n_electrons', 'Numebr of electrons')\n",
    "metadata.annotate_column('n_heavy_atoms', 'Number of non-hydrogen atoms')"
   ]
  },
  {
   "cell_type": "code",
   "execution_count": 43,
   "metadata": {},
   "outputs": [],
   "source": [
    "assert metadata.get_unannotated_columns() == []"
   ]
  },
  {
   "cell_type": "markdown",
   "metadata": {},
   "source": [
    "Set the properties"
   ]
  },
  {
   "cell_type": "code",
   "execution_count": 44,
   "metadata": {},
   "outputs": [],
   "source": [
    "with open(os.path.join(os.path.dirname(output_path), 'description.json'), 'w') as fp:\n",
    "    json.dump(metadata.to_dict(), fp, indent=2)"
   ]
  },
  {
   "cell_type": "code",
   "execution_count": null,
   "metadata": {},
   "outputs": [],
   "source": []
  }
 ],
 "metadata": {
  "kernelspec": {
   "display_name": "Python 3",
   "language": "python",
   "name": "python3"
  },
  "language_info": {
   "codemirror_mode": {
    "name": "ipython",
    "version": 3
   },
   "file_extension": ".py",
   "mimetype": "text/x-python",
   "name": "python",
   "nbconvert_exporter": "python",
   "pygments_lexer": "ipython3",
   "version": "3.7.2"
  }
 },
 "nbformat": 4,
 "nbformat_minor": 2
}
