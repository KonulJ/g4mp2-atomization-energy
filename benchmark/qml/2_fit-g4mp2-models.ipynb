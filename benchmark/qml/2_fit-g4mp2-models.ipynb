{
 "cells": [
  {
   "cell_type": "markdown",
   "metadata": {},
   "source": [
    "# Fit G4MP2 Models\n",
    "Fit models using the FCHL representation that predict the G4MP2 energy of molecules. We are going to try both a model that directly predicts G4MP2 atomization energy, and one that predicts the difference between B3LYP and G4MP2 (i.e., $\\Delta$-learning)."
   ]
  },
  {
   "cell_type": "code",
   "execution_count": 1,
   "metadata": {},
   "outputs": [],
   "source": [
    "%matplotlib inline\n",
    "from matplotlib import pyplot as plt\n",
    "from sklearn.metrics import mean_absolute_error\n",
    "from ase.units import Hartree, eV\n",
    "from time import perf_counter\n",
    "from tqdm import tqdm\n",
    "import pickle as pkl\n",
    "import pandas as pd\n",
    "import numpy as np\n",
    "import gzip\n",
    "import json"
   ]
  },
  {
   "cell_type": "markdown",
   "metadata": {},
   "source": [
    "## Load in the Training Data\n",
    "Load the training data, complete with the representations"
   ]
  },
  {
   "cell_type": "code",
   "execution_count": 2,
   "metadata": {},
   "outputs": [],
   "source": [
    "train_data = pd.read_pickle('train_data.pkl.gz')"
   ]
  },
  {
   "cell_type": "code",
   "execution_count": 3,
   "metadata": {},
   "outputs": [],
   "source": [
    "test_data = pd.read_pickle('test_data.pkl.gz')"
   ]
  },
  {
   "cell_type": "markdown",
   "metadata": {},
   "source": [
    "## Load in the Model\n",
    "Use the model from the previous calculation"
   ]
  },
  {
   "cell_type": "code",
   "execution_count": 4,
   "metadata": {},
   "outputs": [],
   "source": [
    "with gzip.open('fchl-model.pkl.gz', 'rb') as fp:\n",
    "    model = pkl.load(fp)"
   ]
  },
  {
   "cell_type": "markdown",
   "metadata": {},
   "source": [
    "## Train a Model on G4MP2 Atomization Energies\n",
    "Train only on G4MP2 atomization energy, not using the B3LYP results"
   ]
  },
  {
   "cell_type": "code",
   "execution_count": 5,
   "metadata": {},
   "outputs": [
    {
     "name": "stderr",
     "output_type": "stream",
     "text": [
      "100%|████████████████████████████████████████████████████████████████████████████████████████████████████████████████████████████████████████████████████████████████| 4/4 [36:44:03<00:00, 38866.20s/it]\n"
     ]
    }
   ],
   "source": [
    "results = []\n",
    "for train_size in tqdm([10, 100, 1000, 10000]):\n",
    "    # Get some training data\n",
    "    train_subset = train_data.sample(train_size)\n",
    "    \n",
    "    # Train the model\n",
    "    train_time = perf_counter()\n",
    "    model.fit(train_subset['rep'].tolist(), train_subset['g4mp2_atomization'])\n",
    "    train_time = perf_counter() - train_time\n",
    "\n",
    "    # Predict the u0 for the test set\n",
    "    test_time = perf_counter()\n",
    "    pred_y = model.predict(test_data['rep'].tolist())\n",
    "    test_time = perf_counter() - test_time\n",
    "    \n",
    "    results.append({\n",
    "        'train_size': train_size,\n",
    "        'mae': mean_absolute_error(pred_y, test_data['g4mp2_atomization']), \n",
    "        'train_time': train_time, \n",
    "        'test_time': test_time,\n",
    "    })"
   ]
  },
  {
   "cell_type": "code",
   "execution_count": 6,
   "metadata": {},
   "outputs": [
    {
     "data": {
      "text/html": [
       "<div>\n",
       "<style scoped>\n",
       "    .dataframe tbody tr th:only-of-type {\n",
       "        vertical-align: middle;\n",
       "    }\n",
       "\n",
       "    .dataframe tbody tr th {\n",
       "        vertical-align: top;\n",
       "    }\n",
       "\n",
       "    .dataframe thead th {\n",
       "        text-align: right;\n",
       "    }\n",
       "</style>\n",
       "<table border=\"1\" class=\"dataframe\">\n",
       "  <thead>\n",
       "    <tr style=\"text-align: right;\">\n",
       "      <th></th>\n",
       "      <th>mae</th>\n",
       "      <th>test_time</th>\n",
       "      <th>train_size</th>\n",
       "      <th>train_time</th>\n",
       "    </tr>\n",
       "  </thead>\n",
       "  <tbody>\n",
       "    <tr>\n",
       "      <th>0</th>\n",
       "      <td>0.041503</td>\n",
       "      <td>87.115176</td>\n",
       "      <td>10</td>\n",
       "      <td>0.149087</td>\n",
       "    </tr>\n",
       "    <tr>\n",
       "      <th>1</th>\n",
       "      <td>0.011979</td>\n",
       "      <td>668.050757</td>\n",
       "      <td>100</td>\n",
       "      <td>2.524154</td>\n",
       "    </tr>\n",
       "    <tr>\n",
       "      <th>2</th>\n",
       "      <td>0.002458</td>\n",
       "      <td>7586.430827</td>\n",
       "      <td>1000</td>\n",
       "      <td>279.609858</td>\n",
       "    </tr>\n",
       "    <tr>\n",
       "      <th>3</th>\n",
       "      <td>0.000820</td>\n",
       "      <td>89427.240106</td>\n",
       "      <td>10000</td>\n",
       "      <td>34191.970684</td>\n",
       "    </tr>\n",
       "  </tbody>\n",
       "</table>\n",
       "</div>"
      ],
      "text/plain": [
       "        mae     test_time  train_size    train_time\n",
       "0  0.041503     87.115176          10      0.149087\n",
       "1  0.011979    668.050757         100      2.524154\n",
       "2  0.002458   7586.430827        1000    279.609858\n",
       "3  0.000820  89427.240106       10000  34191.970684"
      ]
     },
     "execution_count": 6,
     "metadata": {},
     "output_type": "execute_result"
    }
   ],
   "source": [
    "results = pd.DataFrame(results)\n",
    "results"
   ]
  },
  {
   "cell_type": "code",
   "execution_count": 7,
   "metadata": {},
   "outputs": [],
   "source": [
    "with open('fchl.json', 'w') as fp:\n",
    "    json.dump({\n",
    "        'name': 'FCHL',\n",
    "        'description': 'Model built using the FCHL representation, as implemented in QML, and KRR',\n",
    "        'g4mp2_benchmark': results.to_dict('records')\n",
    "    }, fp, indent=2)"
   ]
  },
  {
   "cell_type": "code",
   "execution_count": 8,
   "metadata": {},
   "outputs": [],
   "source": [
    "with gzip.open('fchl_g4mp2.pkl.gz', 'wb') as fp:\n",
    "    pkl.dump(model, fp)"
   ]
  },
  {
   "cell_type": "markdown",
   "metadata": {},
   "source": [
    "## Train a $\\Delta$-Learning Model on G4MP2 Atomization Energies\n",
    "Train on the difference between B3LYP and G4MP2"
   ]
  },
  {
   "cell_type": "code",
   "execution_count": 9,
   "metadata": {},
   "outputs": [
    {
     "name": "stderr",
     "output_type": "stream",
     "text": [
      "100%|████████████████████████████████████████████████████████████████████████████████████████████████████████████████████████████████████████████████████████████████| 4/4 [36:42:04<00:00, 38814.84s/it]\n"
     ]
    }
   ],
   "source": [
    "delta_results = []\n",
    "for train_size in tqdm([10, 100, 1000, 10000]):\n",
    "    # Get some training data\n",
    "    train_subset = train_data.sample(train_size)\n",
    "    \n",
    "    # Train the model\n",
    "    train_time = perf_counter()\n",
    "    model.fit(train_subset['rep'].tolist(), train_subset['delta'])\n",
    "    train_time = perf_counter() - train_time\n",
    "\n",
    "    # Predict the u0 for the test set\n",
    "    test_time = perf_counter()\n",
    "    pred_y = model.predict(test_data['rep'].tolist())\n",
    "    test_time = perf_counter() - test_time\n",
    "    \n",
    "    delta_results.append({\n",
    "        'train_size': train_size,\n",
    "        'mae': mean_absolute_error(pred_y, test_data['delta']), \n",
    "        'train_time': train_time, \n",
    "        'test_time': test_time,\n",
    "    })"
   ]
  },
  {
   "cell_type": "code",
   "execution_count": 10,
   "metadata": {},
   "outputs": [
    {
     "data": {
      "text/html": [
       "<div>\n",
       "<style scoped>\n",
       "    .dataframe tbody tr th:only-of-type {\n",
       "        vertical-align: middle;\n",
       "    }\n",
       "\n",
       "    .dataframe tbody tr th {\n",
       "        vertical-align: top;\n",
       "    }\n",
       "\n",
       "    .dataframe thead th {\n",
       "        text-align: right;\n",
       "    }\n",
       "</style>\n",
       "<table border=\"1\" class=\"dataframe\">\n",
       "  <thead>\n",
       "    <tr style=\"text-align: right;\">\n",
       "      <th></th>\n",
       "      <th>mae</th>\n",
       "      <th>test_time</th>\n",
       "      <th>train_size</th>\n",
       "      <th>train_time</th>\n",
       "    </tr>\n",
       "  </thead>\n",
       "  <tbody>\n",
       "    <tr>\n",
       "      <th>0</th>\n",
       "      <td>0.004968</td>\n",
       "      <td>85.386432</td>\n",
       "      <td>10</td>\n",
       "      <td>0.130719</td>\n",
       "    </tr>\n",
       "    <tr>\n",
       "      <th>1</th>\n",
       "      <td>0.001460</td>\n",
       "      <td>643.299935</td>\n",
       "      <td>100</td>\n",
       "      <td>2.410578</td>\n",
       "    </tr>\n",
       "    <tr>\n",
       "      <th>2</th>\n",
       "      <td>0.000426</td>\n",
       "      <td>7783.987396</td>\n",
       "      <td>1000</td>\n",
       "      <td>296.710287</td>\n",
       "    </tr>\n",
       "    <tr>\n",
       "      <th>3</th>\n",
       "      <td>0.000190</td>\n",
       "      <td>89210.823406</td>\n",
       "      <td>10000</td>\n",
       "      <td>34101.141370</td>\n",
       "    </tr>\n",
       "  </tbody>\n",
       "</table>\n",
       "</div>"
      ],
      "text/plain": [
       "        mae     test_time  train_size    train_time\n",
       "0  0.004968     85.386432          10      0.130719\n",
       "1  0.001460    643.299935         100      2.410578\n",
       "2  0.000426   7783.987396        1000    296.710287\n",
       "3  0.000190  89210.823406       10000  34101.141370"
      ]
     },
     "execution_count": 10,
     "metadata": {},
     "output_type": "execute_result"
    }
   ],
   "source": [
    "delta_results = pd.DataFrame(delta_results)\n",
    "delta_results"
   ]
  },
  {
   "cell_type": "markdown",
   "metadata": {},
   "source": [
    "*Finding*: The FCHL representation performs remarkably well, even for small dataset sizes."
   ]
  },
  {
   "cell_type": "code",
   "execution_count": 11,
   "metadata": {},
   "outputs": [],
   "source": [
    "with open('fchl-delta.json', 'w') as fp:\n",
    "    json.dump({\n",
    "        'name': 'FCHL $\\Delta$-Learning',\n",
    "        'description': '$\\Delta$-Learning model built using the FCHL representation, as implemented in QML, and KRR',\n",
    "        'g4mp2_with_b3lyp_results': delta_results.to_dict('records')\n",
    "    }, fp, indent=2)"
   ]
  },
  {
   "cell_type": "code",
   "execution_count": 12,
   "metadata": {},
   "outputs": [],
   "source": [
    "with gzip.open('fchl_g4mp2-delta.pkl.gz', 'wb') as fp:\n",
    "    pkl.dump(model, fp)"
   ]
  },
  {
   "cell_type": "code",
   "execution_count": 13,
   "metadata": {},
   "outputs": [],
   "source": []
  }
 ],
 "metadata": {
  "kernelspec": {
   "display_name": "Python 3",
   "language": "python",
   "name": "python3"
  },
  "language_info": {
   "codemirror_mode": {
    "name": "ipython",
    "version": 3
   },
   "file_extension": ".py",
   "mimetype": "text/x-python",
   "name": "python",
   "nbconvert_exporter": "python",
   "pygments_lexer": "ipython3",
   "version": "3.7.2"
  }
 },
 "nbformat": 4,
 "nbformat_minor": 2
}
