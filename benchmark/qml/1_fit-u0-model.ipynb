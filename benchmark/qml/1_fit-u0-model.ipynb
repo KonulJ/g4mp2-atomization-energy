{
 "cells": [
  {
   "cell_type": "markdown",
   "metadata": {},
   "source": [
    "## Fit a FCHL Model\n",
    "We want to train a model based on the the FCHL representation. [In the paper](https://aip.scitation.org/doi/10.1063/1.5020710), the authors claim that you do not need to tune any of the kernel hyperparameters, so we just use the ones computed in the previous notebook. However, we will still fit the regularization parameter"
   ]
  },
  {
   "cell_type": "code",
   "execution_count": 1,
   "metadata": {},
   "outputs": [],
   "source": [
    "%matplotlib inline\n",
    "from matplotlib import pyplot as plt\n",
    "from sklearn.linear_model import Ridge, LinearRegression\n",
    "from sklearn.metrics import mean_absolute_error\n",
    "from sklearn.pipeline import Pipeline\n",
    "from jcesr_ml.qml import FCHLKernel\n",
    "from ase.units import Hartree, eV\n",
    "from time import perf_counter\n",
    "from tqdm import tqdm\n",
    "import pickle as pkl\n",
    "import pandas as pd\n",
    "import numpy as np\n",
    "import gzip"
   ]
  },
  {
   "cell_type": "markdown",
   "metadata": {},
   "source": [
    "## Load in the Training Data\n",
    "Load the training data, complete with the representations"
   ]
  },
  {
   "cell_type": "code",
   "execution_count": 2,
   "metadata": {},
   "outputs": [],
   "source": [
    "train_data = pd.read_pickle('train_data.pkl.gz')"
   ]
  },
  {
   "cell_type": "code",
   "execution_count": 3,
   "metadata": {},
   "outputs": [],
   "source": [
    "test_data = pd.read_pickle('test_data.pkl.gz')"
   ]
  },
  {
   "cell_type": "markdown",
   "metadata": {},
   "source": [
    "## Make a Fitting Pipeline\n",
    "Faber et al. use a Kernel Ridge regression model to fit molecular energies. The kernel function is a bit complex and uses their `qml` library. So, we are not going to the [KernelRidge](https://scikit-learn.org/stable/modules/generated/sklearn.kernel_ridge.KernelRidge.html) class in scikit-learn because that would inefficiently compute the representation point-by-point. \n",
    "Rather, we will leverage the parallelized version available in `qml` to compute the kernel matrix and then a scikit-learn ridge regression (not KRR) to compute the linear model. Breaking the calculation into these two steps is equivalent to KRR. \n",
    "\n",
    "As the regularization parameter is so small, we elect to simply use linear regression."
   ]
  },
  {
   "cell_type": "markdown",
   "metadata": {},
   "source": [
    "Make the pipeline for training the model"
   ]
  },
  {
   "cell_type": "code",
   "execution_count": 4,
   "metadata": {},
   "outputs": [],
   "source": [
    "model = Pipeline([\n",
    "    ('kernel', FCHLKernel()),\n",
    "    ('ridge_regression', LinearRegression(fit_intercept=False))\n",
    "])"
   ]
  },
  {
   "cell_type": "markdown",
   "metadata": {},
   "source": [
    "## Compare our Results to FCHL Paper\n",
    "Run the computation for `u0` and compare to the reports in FCHL. We will fit to the atomization energies"
   ]
  },
  {
   "cell_type": "code",
   "execution_count": 5,
   "metadata": {},
   "outputs": [
    {
     "name": "stderr",
     "output_type": "stream",
     "text": [
      "100%|██████████████████████████████████████████████████████████████████████████████████████████████████████████████████████████████████████████████████████| 4/4 [36:09:21<00:00, 38225.48s/it]\n"
     ]
    }
   ],
   "source": [
    "results = []\n",
    "for train_size in tqdm([10, 100, 1000, 10000]):\n",
    "    # Get some training data\n",
    "    train_subset = train_data.sample(train_size)\n",
    "    \n",
    "    # Train the model\n",
    "    train_time = perf_counter()\n",
    "    model.fit(train_subset['rep'].tolist(), train_subset['u0_atomization'])\n",
    "    train_time = perf_counter() - train_time\n",
    "\n",
    "    # Predict the u0 for the test set\n",
    "    test_time = perf_counter()\n",
    "    pred_y = model.predict(test_data['rep'].tolist())\n",
    "    test_time = perf_counter() - test_time\n",
    "    \n",
    "    results.append({\n",
    "        'size': train_size,\n",
    "        'mae': mean_absolute_error(pred_y, test_data['u0_atomization']) * Hartree / eV, \n",
    "        'train_time': train_time, \n",
    "        'test_time': test_time,\n",
    "    })"
   ]
  },
  {
   "cell_type": "markdown",
   "metadata": {},
   "source": [
    "Print the results out"
   ]
  },
  {
   "cell_type": "code",
   "execution_count": 6,
   "metadata": {},
   "outputs": [],
   "source": [
    "results = pd.DataFrame(results)"
   ]
  },
  {
   "cell_type": "code",
   "execution_count": 7,
   "metadata": {},
   "outputs": [
    {
     "data": {
      "text/html": [
       "<div>\n",
       "<style scoped>\n",
       "    .dataframe tbody tr th:only-of-type {\n",
       "        vertical-align: middle;\n",
       "    }\n",
       "\n",
       "    .dataframe tbody tr th {\n",
       "        vertical-align: top;\n",
       "    }\n",
       "\n",
       "    .dataframe thead th {\n",
       "        text-align: right;\n",
       "    }\n",
       "</style>\n",
       "<table border=\"1\" class=\"dataframe\">\n",
       "  <thead>\n",
       "    <tr style=\"text-align: right;\">\n",
       "      <th></th>\n",
       "      <th>mae</th>\n",
       "      <th>size</th>\n",
       "      <th>test_time</th>\n",
       "      <th>train_time</th>\n",
       "    </tr>\n",
       "  </thead>\n",
       "  <tbody>\n",
       "    <tr>\n",
       "      <th>0</th>\n",
       "      <td>1.072495</td>\n",
       "      <td>10</td>\n",
       "      <td>117.867861</td>\n",
       "      <td>0.157549</td>\n",
       "    </tr>\n",
       "    <tr>\n",
       "      <th>1</th>\n",
       "      <td>0.293316</td>\n",
       "      <td>100</td>\n",
       "      <td>716.040733</td>\n",
       "      <td>2.650437</td>\n",
       "    </tr>\n",
       "    <tr>\n",
       "      <th>2</th>\n",
       "      <td>0.067832</td>\n",
       "      <td>1000</td>\n",
       "      <td>7691.692336</td>\n",
       "      <td>285.418332</td>\n",
       "    </tr>\n",
       "    <tr>\n",
       "      <th>3</th>\n",
       "      <td>0.021258</td>\n",
       "      <td>10000</td>\n",
       "      <td>88206.131998</td>\n",
       "      <td>33140.854618</td>\n",
       "    </tr>\n",
       "  </tbody>\n",
       "</table>\n",
       "</div>"
      ],
      "text/plain": [
       "        mae   size     test_time    train_time\n",
       "0  1.072495     10    117.867861      0.157549\n",
       "1  0.293316    100    716.040733      2.650437\n",
       "2  0.067832   1000   7691.692336    285.418332\n",
       "3  0.021258  10000  88206.131998  33140.854618"
      ]
     },
     "execution_count": 7,
     "metadata": {},
     "output_type": "execute_result"
    }
   ],
   "source": [
    "results"
   ]
  },
  {
   "cell_type": "markdown",
   "metadata": {},
   "source": [
    "Compare the results to JCP paper"
   ]
  },
  {
   "cell_type": "code",
   "execution_count": 8,
   "metadata": {},
   "outputs": [],
   "source": [
    "jcp_results = pd.DataFrame([\n",
    "    [100, 0.2769171852851224], [1005.3012238214807, 0.06426615177922405],\n",
    "    [2502.606983490659, 0.03831336782897019], [5029.126239917856, 0.02719291345844958],\n",
    "    [10026.471083195112, 0.01905330215897317], [20148.744549550407, 0.013094302135827789]\n",
    "], columns=['size', 'mae'])"
   ]
  },
  {
   "cell_type": "code",
   "execution_count": 9,
   "metadata": {},
   "outputs": [
    {
     "data": {
      "text/plain": [
       "Text(0, 0.5, 'MAE (eV)')"
      ]
     },
     "execution_count": 9,
     "metadata": {},
     "output_type": "execute_result"
    },
    {
     "data": {
      "image/png": "[encoded data removed]",
      "text/plain": [
       "<Figure size 252x180 with 1 Axes>"
      ]
     },
     "metadata": {
      "needs_background": "light"
     },
     "output_type": "display_data"
    }
   ],
   "source": [
    "fig, ax = plt.subplots()\n",
    "\n",
    "ax.loglog(jcp_results['size'], jcp_results['mae'], 'o--', label='FCHL')\n",
    "ax.loglog(results['size'], results['mae'], 's-', label='This Work')\n",
    "\n",
    "fig.set_size_inches(3.5, 2.5)\n",
    "ax.legend()\n",
    "ax.set_xlabel('Training Set Size')\n",
    "ax.set_ylabel('MAE (eV)')"
   ]
  },
  {
   "cell_type": "markdown",
   "metadata": {},
   "source": [
    "*Finding*: We are only slightly worse than the JCP paper"
   ]
  },
  {
   "cell_type": "markdown",
   "metadata": {},
   "source": [
    "## Save the Model for Later Use\n",
    "We are going to be retraining it on G4MP2 Energies and the Delta Learning"
   ]
  },
  {
   "cell_type": "code",
   "execution_count": 10,
   "metadata": {},
   "outputs": [],
   "source": [
    "with gzip.open('fchl-model.pkl.gz', 'wb') as fp:\n",
    "    pkl.dump(model, fp)"
   ]
  },
  {
   "cell_type": "code",
   "execution_count": 11,
   "metadata": {},
   "outputs": [],
   "source": []
  }
 ],
 "metadata": {
  "kernelspec": {
   "display_name": "Python 3",
   "language": "python",
   "name": "python3"
  },
  "language_info": {
   "codemirror_mode": {
    "name": "ipython",
    "version": 3
   },
   "file_extension": ".py",
   "mimetype": "text/x-python",
   "name": "python",
   "nbconvert_exporter": "python",
   "pygments_lexer": "ipython3",
   "version": "3.7.2"
  }
 },
 "nbformat": 4,
 "nbformat_minor": 2
}
