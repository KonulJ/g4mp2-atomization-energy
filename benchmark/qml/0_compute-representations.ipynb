{
 "cells": [
  {
   "cell_type": "markdown",
   "metadata": {},
   "source": [
    "# Compute Representations\n",
    "Generate QML representations for the training and test data"
   ]
  },
  {
   "cell_type": "code",
   "execution_count": 1,
   "metadata": {},
   "outputs": [],
   "source": [
    "from jcesr_ml.utils import compute_atomization_energy\n",
    "from jcesr_ml.benchmark import load_benchmark_data\n",
    "from ase.io.xyz import read_xyz\n",
    "from qml.data import Compound\n",
    "from io import StringIO\n",
    "import pickle as pkl\n",
    "import pandas as pd\n",
    "import numpy as np"
   ]
  },
  {
   "cell_type": "markdown",
   "metadata": {},
   "source": [
    "Numbers to change"
   ]
  },
  {
   "cell_type": "code",
   "execution_count": 2,
   "metadata": {},
   "outputs": [],
   "source": [
    "max_size = 30  # Maximum size of molecules"
   ]
  },
  {
   "cell_type": "markdown",
   "metadata": {},
   "source": [
    "Get the training and test data"
   ]
  },
  {
   "cell_type": "code",
   "execution_count": 3,
   "metadata": {},
   "outputs": [],
   "source": [
    "train_data, test_data = load_benchmark_data()"
   ]
  },
  {
   "cell_type": "markdown",
   "metadata": {},
   "source": [
    "## Compute the Representations\n",
    "We are going to use the [FCHL representation](https://doi.org/10.1063/1.5020710) to describe each molecule. With `qml`, you must pre-compute some bits about each molecule before you can use them on arbitrary molecules. Before computing the represetnation, we need to convert the XYZ file to QML format. This representation is kind of large, so we don't store it."
   ]
  },
  {
   "cell_type": "code",
   "execution_count": 4,
   "metadata": {},
   "outputs": [],
   "source": [
    "def compute_rep(x):\n",
    "    \"\"\"Generates representation and returns the values\"\"\"\n",
    "    x.generate_fchl_representation(max_size)\n",
    "    return x.representation"
   ]
  },
  {
   "cell_type": "code",
   "execution_count": 5,
   "metadata": {},
   "outputs": [
    {
     "name": "stdout",
     "output_type": "stream",
     "text": [
      "CPU times: user 2min 43s, sys: 12.4 s, total: 2min 56s\n",
      "Wall time: 2min 58s\n"
     ]
    }
   ],
   "source": [
    "%%time\n",
    "train_data['rep'] = list(map(compute_rep, map(lambda x: Compound(StringIO(x)), train_data['xyz'])))\n",
    "test_data['rep'] = list(map(compute_rep, map(lambda x: Compound(StringIO(x)), test_data['xyz'])))"
   ]
  },
  {
   "cell_type": "markdown",
   "metadata": {},
   "source": [
    "## Compute Atomization Energy\n",
    "The original paper compares result on atomization energy. Let's use that for our purposes"
   ]
  },
  {
   "cell_type": "code",
   "execution_count": 6,
   "metadata": {},
   "outputs": [],
   "source": [
    "train_data['u0_atomization'] = train_data.apply(\n",
    "    lambda x: compute_atomization_energy(next(read_xyz(StringIO(x['xyz']))), x['u0'], 'b3lyp'),\n",
    "    axis=1\n",
    ")"
   ]
  },
  {
   "cell_type": "code",
   "execution_count": 7,
   "metadata": {},
   "outputs": [],
   "source": [
    "test_data['u0_atomization'] = test_data.apply(\n",
    "    lambda x: compute_atomization_energy(next(read_xyz(StringIO(x['xyz']))), x['u0'], 'b3lyp'),\n",
    "    axis=1\n",
    ")"
   ]
  },
  {
   "cell_type": "code",
   "execution_count": 8,
   "metadata": {},
   "outputs": [],
   "source": [
    "train_data['g4mp2_atomization'] = train_data.apply(\n",
    "    lambda x: compute_atomization_energy(next(read_xyz(StringIO(x['xyz']))), x['g4mp2_0k'], 'g4mp2'),\n",
    "    axis=1\n",
    ")"
   ]
  },
  {
   "cell_type": "code",
   "execution_count": 9,
   "metadata": {},
   "outputs": [],
   "source": [
    "test_data['g4mp2_atomization'] = test_data.apply(\n",
    "    lambda x: compute_atomization_energy(next(read_xyz(StringIO(x['xyz']))), x['g4mp2_0k'], 'g4mp2'),\n",
    "    axis=1\n",
    ")"
   ]
  },
  {
   "cell_type": "code",
   "execution_count": 10,
   "metadata": {},
   "outputs": [],
   "source": [
    "train_data['delta'] = train_data['g4mp2_atomization'] - train_data['u0_atomization']"
   ]
  },
  {
   "cell_type": "code",
   "execution_count": 11,
   "metadata": {},
   "outputs": [],
   "source": [
    "test_data['delta'] = test_data['g4mp2_atomization'] - test_data['u0_atomization']"
   ]
  },
  {
   "cell_type": "markdown",
   "metadata": {},
   "source": [
    "## Save Data to Disk\n",
    "Save the data as a compressed pickle file"
   ]
  },
  {
   "cell_type": "code",
   "execution_count": 12,
   "metadata": {},
   "outputs": [],
   "source": [
    "train_data.to_pickle('train_data.pkl.gz')"
   ]
  },
  {
   "cell_type": "code",
   "execution_count": 13,
   "metadata": {},
   "outputs": [],
   "source": [
    "test_data.to_pickle('test_data.pkl.gz')"
   ]
  },
  {
   "cell_type": "code",
   "execution_count": null,
   "metadata": {},
   "outputs": [],
   "source": []
  }
 ],
 "metadata": {
  "kernelspec": {
   "display_name": "Python 3",
   "language": "python",
   "name": "python3"
  },
  "language_info": {
   "codemirror_mode": {
    "name": "ipython",
    "version": 3
   },
   "file_extension": ".py",
   "mimetype": "text/x-python",
   "name": "python",
   "nbconvert_exporter": "python",
   "pygments_lexer": "ipython3",
   "version": "3.7.2"
  }
 },
 "nbformat": 4,
 "nbformat_minor": 2
}
