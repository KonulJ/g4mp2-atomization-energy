{
 "cells": [
  {
   "cell_type": "markdown",
   "metadata": {},
   "source": [
    "# Make Plots\n",
    "Generate the comparisions between SchNet and QML"
   ]
  },
  {
   "cell_type": "code",
   "execution_count": 1,
   "metadata": {},
   "outputs": [],
   "source": [
    "%matplotlib inline\n",
    "from jcesr_ml.benchmark import load_benchmark_data\n",
    "from jcesr_ml.style import model_style\n",
    "from matplotlib import pyplot as plt\n",
    "from ase.units import Hartree, eV\n",
    "import pandas as pd\n",
    "import numpy as np\n",
    "import json\n",
    "import os"
   ]
  },
  {
   "cell_type": "markdown",
   "metadata": {},
   "source": [
    "Key lookup values"
   ]
  },
  {
   "cell_type": "code",
   "execution_count": 2,
   "metadata": {},
   "outputs": [],
   "source": [
    "qml_dir = os.path.join('qml')\n",
    "schnet_dir = os.path.join('schnet')\n",
    "test_data_size = len(load_benchmark_data()[1])\n",
    "models_to_plot = ['g4mp2-delta', 'g4mp2-transfer', 'g4mp2']"
   ]
  },
  {
   "cell_type": "markdown",
   "metadata": {},
   "source": [
    "## Read in the Results\n",
    "Get the results from QML, SchNet calculations and the baseline data"
   ]
  },
  {
   "cell_type": "code",
   "execution_count": 3,
   "metadata": {},
   "outputs": [],
   "source": [
    "schnet_results = pd.read_json(os.path.join(schnet_dir, 'g4mp2-models.json'))"
   ]
  },
  {
   "cell_type": "code",
   "execution_count": 4,
   "metadata": {},
   "outputs": [
    {
     "data": {
      "text/html": [
       "<div>\n",
       "<style scoped>\n",
       "    .dataframe tbody tr th:only-of-type {\n",
       "        vertical-align: middle;\n",
       "    }\n",
       "\n",
       "    .dataframe tbody tr th {\n",
       "        vertical-align: top;\n",
       "    }\n",
       "\n",
       "    .dataframe thead th {\n",
       "        text-align: right;\n",
       "    }\n",
       "</style>\n",
       "<table border=\"1\" class=\"dataframe\">\n",
       "  <thead>\n",
       "    <tr style=\"text-align: right;\">\n",
       "      <th></th>\n",
       "      <th>converged</th>\n",
       "      <th>mae</th>\n",
       "      <th>name</th>\n",
       "      <th>run_time</th>\n",
       "      <th>size</th>\n",
       "    </tr>\n",
       "  </thead>\n",
       "  <tbody>\n",
       "    <tr>\n",
       "      <th>4</th>\n",
       "      <td>True</td>\n",
       "      <td>0.004455</td>\n",
       "      <td>g4mp2-delta</td>\n",
       "      <td>646.861267</td>\n",
       "      <td>117232</td>\n",
       "    </tr>\n",
       "    <tr>\n",
       "      <th>10</th>\n",
       "      <td>True</td>\n",
       "      <td>0.013404</td>\n",
       "      <td>g4mp2-transfer</td>\n",
       "      <td>650.542225</td>\n",
       "      <td>117232</td>\n",
       "    </tr>\n",
       "    <tr>\n",
       "      <th>19</th>\n",
       "      <td>True</td>\n",
       "      <td>0.014336</td>\n",
       "      <td>g4mp2-charges-in-outnet</td>\n",
       "      <td>639.473399</td>\n",
       "      <td>117232</td>\n",
       "    </tr>\n",
       "    <tr>\n",
       "      <th>7</th>\n",
       "      <td>True</td>\n",
       "      <td>0.014799</td>\n",
       "      <td>g4mp2-charges</td>\n",
       "      <td>634.996836</td>\n",
       "      <td>117232</td>\n",
       "    </tr>\n",
       "    <tr>\n",
       "      <th>16</th>\n",
       "      <td>True</td>\n",
       "      <td>0.014839</td>\n",
       "      <td>g4mp2-stacked-delta</td>\n",
       "      <td>1250.448087</td>\n",
       "      <td>117232</td>\n",
       "    </tr>\n",
       "    <tr>\n",
       "      <th>1</th>\n",
       "      <td>True</td>\n",
       "      <td>0.014916</td>\n",
       "      <td>g4mp2</td>\n",
       "      <td>645.036228</td>\n",
       "      <td>117232</td>\n",
       "    </tr>\n",
       "    <tr>\n",
       "      <th>13</th>\n",
       "      <td>True</td>\n",
       "      <td>0.024844</td>\n",
       "      <td>g4mp2-multitask</td>\n",
       "      <td>634.307891</td>\n",
       "      <td>117232</td>\n",
       "    </tr>\n",
       "  </tbody>\n",
       "</table>\n",
       "</div>"
      ],
      "text/plain": [
       "    converged       mae                     name     run_time    size\n",
       "4        True  0.004455              g4mp2-delta   646.861267  117232\n",
       "10       True  0.013404           g4mp2-transfer   650.542225  117232\n",
       "19       True  0.014336  g4mp2-charges-in-outnet   639.473399  117232\n",
       "7        True  0.014799            g4mp2-charges   634.996836  117232\n",
       "16       True  0.014839      g4mp2-stacked-delta  1250.448087  117232\n",
       "1        True  0.014916                    g4mp2   645.036228  117232\n",
       "13       True  0.024844          g4mp2-multitask   634.307891  117232"
      ]
     },
     "execution_count": 4,
     "metadata": {},
     "output_type": "execute_result"
    }
   ],
   "source": [
    "schnet_results.query('size == 117232').sort_values('mae')"
   ]
  },
  {
   "cell_type": "code",
   "execution_count": 5,
   "metadata": {},
   "outputs": [
    {
     "data": {
      "text/html": [
       "<div>\n",
       "<style scoped>\n",
       "    .dataframe tbody tr th:only-of-type {\n",
       "        vertical-align: middle;\n",
       "    }\n",
       "\n",
       "    .dataframe tbody tr th {\n",
       "        vertical-align: top;\n",
       "    }\n",
       "\n",
       "    .dataframe thead th {\n",
       "        text-align: right;\n",
       "    }\n",
       "</style>\n",
       "<table border=\"1\" class=\"dataframe\">\n",
       "  <thead>\n",
       "    <tr style=\"text-align: right;\">\n",
       "      <th></th>\n",
       "      <th>converged</th>\n",
       "      <th>mae</th>\n",
       "      <th>name</th>\n",
       "      <th>run_time</th>\n",
       "      <th>size</th>\n",
       "    </tr>\n",
       "  </thead>\n",
       "  <tbody>\n",
       "    <tr>\n",
       "      <th>3</th>\n",
       "      <td>True</td>\n",
       "      <td>0.030114</td>\n",
       "      <td>g4mp2-delta</td>\n",
       "      <td>665.613616</td>\n",
       "      <td>1000</td>\n",
       "    </tr>\n",
       "    <tr>\n",
       "      <th>9</th>\n",
       "      <td>True</td>\n",
       "      <td>0.084842</td>\n",
       "      <td>g4mp2-transfer</td>\n",
       "      <td>638.611092</td>\n",
       "      <td>1000</td>\n",
       "    </tr>\n",
       "    <tr>\n",
       "      <th>15</th>\n",
       "      <td>False</td>\n",
       "      <td>0.087266</td>\n",
       "      <td>g4mp2-stacked-delta</td>\n",
       "      <td>1206.495928</td>\n",
       "      <td>1000</td>\n",
       "    </tr>\n",
       "    <tr>\n",
       "      <th>18</th>\n",
       "      <td>True</td>\n",
       "      <td>0.233222</td>\n",
       "      <td>g4mp2-charges-in-outnet</td>\n",
       "      <td>654.748736</td>\n",
       "      <td>1000</td>\n",
       "    </tr>\n",
       "    <tr>\n",
       "      <th>0</th>\n",
       "      <td>True</td>\n",
       "      <td>0.238957</td>\n",
       "      <td>g4mp2</td>\n",
       "      <td>649.026785</td>\n",
       "      <td>1000</td>\n",
       "    </tr>\n",
       "    <tr>\n",
       "      <th>6</th>\n",
       "      <td>False</td>\n",
       "      <td>0.250619</td>\n",
       "      <td>g4mp2-charges</td>\n",
       "      <td>635.860621</td>\n",
       "      <td>1000</td>\n",
       "    </tr>\n",
       "    <tr>\n",
       "      <th>12</th>\n",
       "      <td>False</td>\n",
       "      <td>0.316182</td>\n",
       "      <td>g4mp2-multitask</td>\n",
       "      <td>644.532931</td>\n",
       "      <td>1000</td>\n",
       "    </tr>\n",
       "  </tbody>\n",
       "</table>\n",
       "</div>"
      ],
      "text/plain": [
       "    converged       mae                     name     run_time  size\n",
       "3        True  0.030114              g4mp2-delta   665.613616  1000\n",
       "9        True  0.084842           g4mp2-transfer   638.611092  1000\n",
       "15      False  0.087266      g4mp2-stacked-delta  1206.495928  1000\n",
       "18       True  0.233222  g4mp2-charges-in-outnet   654.748736  1000\n",
       "0        True  0.238957                    g4mp2   649.026785  1000\n",
       "6       False  0.250619            g4mp2-charges   635.860621  1000\n",
       "12      False  0.316182          g4mp2-multitask   644.532931  1000"
      ]
     },
     "execution_count": 5,
     "metadata": {},
     "output_type": "execute_result"
    }
   ],
   "source": [
    "schnet_results.query('size == 1000').sort_values('mae')"
   ]
  },
  {
   "cell_type": "code",
   "execution_count": 6,
   "metadata": {},
   "outputs": [],
   "source": [
    "schnet_predictions = pd.read_csv(os.path.join(schnet_dir, 'schnet_predictions.csv.gz'))"
   ]
  },
  {
   "cell_type": "markdown",
   "metadata": {},
   "source": [
    "Compare the two charges approaches"
   ]
  },
  {
   "cell_type": "code",
   "execution_count": 7,
   "metadata": {},
   "outputs": [
    {
     "data": {
      "text/html": [
       "<div>\n",
       "<style scoped>\n",
       "    .dataframe tbody tr th:only-of-type {\n",
       "        vertical-align: middle;\n",
       "    }\n",
       "\n",
       "    .dataframe tbody tr th {\n",
       "        vertical-align: top;\n",
       "    }\n",
       "\n",
       "    .dataframe thead th {\n",
       "        text-align: right;\n",
       "    }\n",
       "</style>\n",
       "<table border=\"1\" class=\"dataframe\">\n",
       "  <thead>\n",
       "    <tr style=\"text-align: right;\">\n",
       "      <th></th>\n",
       "      <th>converged</th>\n",
       "      <th>mae</th>\n",
       "      <th>name</th>\n",
       "      <th>run_time</th>\n",
       "      <th>size</th>\n",
       "    </tr>\n",
       "  </thead>\n",
       "  <tbody>\n",
       "    <tr>\n",
       "      <th>18</th>\n",
       "      <td>True</td>\n",
       "      <td>0.233222</td>\n",
       "      <td>g4mp2-charges-in-outnet</td>\n",
       "      <td>654.748736</td>\n",
       "      <td>1000</td>\n",
       "    </tr>\n",
       "    <tr>\n",
       "      <th>19</th>\n",
       "      <td>True</td>\n",
       "      <td>0.014336</td>\n",
       "      <td>g4mp2-charges-in-outnet</td>\n",
       "      <td>639.473399</td>\n",
       "      <td>117232</td>\n",
       "    </tr>\n",
       "    <tr>\n",
       "      <th>20</th>\n",
       "      <td>True</td>\n",
       "      <td>0.068183</td>\n",
       "      <td>g4mp2-charges-in-outnet</td>\n",
       "      <td>653.984617</td>\n",
       "      <td>10000</td>\n",
       "    </tr>\n",
       "    <tr>\n",
       "      <th>6</th>\n",
       "      <td>False</td>\n",
       "      <td>0.250619</td>\n",
       "      <td>g4mp2-charges</td>\n",
       "      <td>635.860621</td>\n",
       "      <td>1000</td>\n",
       "    </tr>\n",
       "    <tr>\n",
       "      <th>7</th>\n",
       "      <td>True</td>\n",
       "      <td>0.014799</td>\n",
       "      <td>g4mp2-charges</td>\n",
       "      <td>634.996836</td>\n",
       "      <td>117232</td>\n",
       "    </tr>\n",
       "    <tr>\n",
       "      <th>8</th>\n",
       "      <td>True</td>\n",
       "      <td>0.068879</td>\n",
       "      <td>g4mp2-charges</td>\n",
       "      <td>647.063032</td>\n",
       "      <td>10000</td>\n",
       "    </tr>\n",
       "  </tbody>\n",
       "</table>\n",
       "</div>"
      ],
      "text/plain": [
       "    converged       mae                     name    run_time    size\n",
       "18       True  0.233222  g4mp2-charges-in-outnet  654.748736    1000\n",
       "19       True  0.014336  g4mp2-charges-in-outnet  639.473399  117232\n",
       "20       True  0.068183  g4mp2-charges-in-outnet  653.984617   10000\n",
       "6       False  0.250619            g4mp2-charges  635.860621    1000\n",
       "7        True  0.014799            g4mp2-charges  634.996836  117232\n",
       "8        True  0.068879            g4mp2-charges  647.063032   10000"
      ]
     },
     "execution_count": 7,
     "metadata": {},
     "output_type": "execute_result"
    }
   ],
   "source": [
    "schnet_results[schnet_results['name'].str.contains('charges')]"
   ]
  },
  {
   "cell_type": "markdown",
   "metadata": {},
   "source": [
    "Load the FCHL data"
   ]
  },
  {
   "cell_type": "code",
   "execution_count": 8,
   "metadata": {},
   "outputs": [],
   "source": [
    "with open(os.path.join(qml_dir, 'fchl.json')) as fp:\n",
    "    qml_results = pd.DataFrame.from_records(json.load(fp)['g4mp2_benchmark'])"
   ]
  },
  {
   "cell_type": "code",
   "execution_count": 9,
   "metadata": {},
   "outputs": [
    {
     "data": {
      "text/html": [
       "<div>\n",
       "<style scoped>\n",
       "    .dataframe tbody tr th:only-of-type {\n",
       "        vertical-align: middle;\n",
       "    }\n",
       "\n",
       "    .dataframe tbody tr th {\n",
       "        vertical-align: top;\n",
       "    }\n",
       "\n",
       "    .dataframe thead th {\n",
       "        text-align: right;\n",
       "    }\n",
       "</style>\n",
       "<table border=\"1\" class=\"dataframe\">\n",
       "  <thead>\n",
       "    <tr style=\"text-align: right;\">\n",
       "      <th></th>\n",
       "      <th>mae</th>\n",
       "      <th>test_time</th>\n",
       "      <th>train_size</th>\n",
       "      <th>train_time</th>\n",
       "    </tr>\n",
       "  </thead>\n",
       "  <tbody>\n",
       "    <tr>\n",
       "      <th>0</th>\n",
       "      <td>0.041503</td>\n",
       "      <td>87.115176</td>\n",
       "      <td>10.0</td>\n",
       "      <td>0.149087</td>\n",
       "    </tr>\n",
       "    <tr>\n",
       "      <th>1</th>\n",
       "      <td>0.011979</td>\n",
       "      <td>668.050757</td>\n",
       "      <td>100.0</td>\n",
       "      <td>2.524154</td>\n",
       "    </tr>\n",
       "    <tr>\n",
       "      <th>2</th>\n",
       "      <td>0.002458</td>\n",
       "      <td>7586.430827</td>\n",
       "      <td>1000.0</td>\n",
       "      <td>279.609858</td>\n",
       "    </tr>\n",
       "    <tr>\n",
       "      <th>3</th>\n",
       "      <td>0.000820</td>\n",
       "      <td>89427.240106</td>\n",
       "      <td>10000.0</td>\n",
       "      <td>34191.970684</td>\n",
       "    </tr>\n",
       "  </tbody>\n",
       "</table>\n",
       "</div>"
      ],
      "text/plain": [
       "        mae     test_time  train_size    train_time\n",
       "0  0.041503     87.115176        10.0      0.149087\n",
       "1  0.011979    668.050757       100.0      2.524154\n",
       "2  0.002458   7586.430827      1000.0    279.609858\n",
       "3  0.000820  89427.240106     10000.0  34191.970684"
      ]
     },
     "execution_count": 9,
     "metadata": {},
     "output_type": "execute_result"
    }
   ],
   "source": [
    "qml_results"
   ]
  },
  {
   "cell_type": "code",
   "execution_count": 10,
   "metadata": {},
   "outputs": [],
   "source": [
    "with open(os.path.join(qml_dir, 'fchl-delta.json')) as fp:\n",
    "    qml_delta_results = pd.DataFrame.from_records(json.load(fp)['g4mp2_with_b3lyp_results'])"
   ]
  },
  {
   "cell_type": "code",
   "execution_count": 11,
   "metadata": {},
   "outputs": [
    {
     "data": {
      "text/html": [
       "<div>\n",
       "<style scoped>\n",
       "    .dataframe tbody tr th:only-of-type {\n",
       "        vertical-align: middle;\n",
       "    }\n",
       "\n",
       "    .dataframe tbody tr th {\n",
       "        vertical-align: top;\n",
       "    }\n",
       "\n",
       "    .dataframe thead th {\n",
       "        text-align: right;\n",
       "    }\n",
       "</style>\n",
       "<table border=\"1\" class=\"dataframe\">\n",
       "  <thead>\n",
       "    <tr style=\"text-align: right;\">\n",
       "      <th></th>\n",
       "      <th>mae</th>\n",
       "      <th>test_time</th>\n",
       "      <th>train_size</th>\n",
       "      <th>train_time</th>\n",
       "    </tr>\n",
       "  </thead>\n",
       "  <tbody>\n",
       "    <tr>\n",
       "      <th>0</th>\n",
       "      <td>0.004968</td>\n",
       "      <td>85.386432</td>\n",
       "      <td>10.0</td>\n",
       "      <td>0.130719</td>\n",
       "    </tr>\n",
       "    <tr>\n",
       "      <th>1</th>\n",
       "      <td>0.001460</td>\n",
       "      <td>643.299935</td>\n",
       "      <td>100.0</td>\n",
       "      <td>2.410578</td>\n",
       "    </tr>\n",
       "    <tr>\n",
       "      <th>2</th>\n",
       "      <td>0.000426</td>\n",
       "      <td>7783.987396</td>\n",
       "      <td>1000.0</td>\n",
       "      <td>296.710287</td>\n",
       "    </tr>\n",
       "    <tr>\n",
       "      <th>3</th>\n",
       "      <td>0.000190</td>\n",
       "      <td>89210.823406</td>\n",
       "      <td>10000.0</td>\n",
       "      <td>34101.141370</td>\n",
       "    </tr>\n",
       "  </tbody>\n",
       "</table>\n",
       "</div>"
      ],
      "text/plain": [
       "        mae     test_time  train_size    train_time\n",
       "0  0.004968     85.386432        10.0      0.130719\n",
       "1  0.001460    643.299935       100.0      2.410578\n",
       "2  0.000426   7783.987396      1000.0    296.710287\n",
       "3  0.000190  89210.823406     10000.0  34101.141370"
      ]
     },
     "execution_count": 11,
     "metadata": {},
     "output_type": "execute_result"
    }
   ],
   "source": [
    "qml_delta_results"
   ]
  },
  {
   "cell_type": "code",
   "execution_count": 12,
   "metadata": {},
   "outputs": [],
   "source": [
    "qml_predictions = pd.read_csv(os.path.join(qml_dir, 'fchl-predictions.csv.gz'))"
   ]
  },
  {
   "cell_type": "markdown",
   "metadata": {},
   "source": [
    "Load in baseline results"
   ]
  },
  {
   "cell_type": "code",
   "execution_count": 13,
   "metadata": {},
   "outputs": [],
   "source": [
    "with open(os.path.join(schnet_dir, 'baseline-stats.json')) as fp:\n",
    "    baseline = json.load(fp)"
   ]
  },
  {
   "cell_type": "markdown",
   "metadata": {},
   "source": [
    "## Make the Comparison between SchNet and QML\n",
    "Constrast their performance and run-time speeds"
   ]
  },
  {
   "cell_type": "code",
   "execution_count": 14,
   "metadata": {},
   "outputs": [
    {
     "data": {
      "image/png": "[encoded data removed]",
      "text/plain": [
       "<Figure size 468x180 with 2 Axes>"
      ]
     },
     "metadata": {
      "needs_background": "light"
     },
     "output_type": "display_data"
    }
   ],
   "source": [
    "fig, axs = plt.subplots(1, 2)\n",
    "\n",
    "# Initialize list of handles\n",
    "handles = []\n",
    "labels = []\n",
    "\n",
    "# Add in the SchNet data\n",
    "for gid, group in schnet_results.groupby('name'):\n",
    "    if not gid in models_to_plot: continue\n",
    "    group = group.sort_values('size')\n",
    "\n",
    "    hdl = axs[0].loglog(group['size'], group['mae'], **model_style[gid])\n",
    "    axs[1].loglog(group['size'], group['run_time'] / test_data_size, **model_style[gid])\n",
    "    handles.append(hdl[0])\n",
    "    labels.append(model_style[gid]['label'])\n",
    "\n",
    "# Add in QML\n",
    "hdl = axs[0].semilogy(qml_results['train_size'], \n",
    "                     qml_results['mae'] * Hartree / eV,\n",
    "                     **model_style['FCHL'])\n",
    "axs[1].loglog(qml_results['train_size'], qml_results['test_time'] / test_data_size, **model_style['FCHL'])\n",
    "handles.append(hdl[0])\n",
    "labels.append('FCHL')\n",
    "\n",
    "dl = axs[0].semilogy(qml_delta_results['train_size'], \n",
    "                     qml_delta_results['mae'] * Hartree / eV,\n",
    "                     **model_style['FCHL Delta'])\n",
    "hdl = axs[1].loglog(qml_delta_results['train_size'], \n",
    "              qml_delta_results['test_time'] / test_data_size, **model_style['FCHL Delta'])\n",
    "handles.append(hdl[0])\n",
    "labels.append('FCHL Delta')\n",
    "    \n",
    "# Mark the baseline accuracies\n",
    "for ax in axs:\n",
    "    ax.set_xlim(ax.get_xlim())\n",
    "\n",
    "#  Accuracy of b3lyp atomization energy\n",
    "val = baseline['u0_atomization_mae']\n",
    "axs[0].plot(axs[0].get_xlim(), [val]*2, 'k--')\n",
    "axs[0].text(1e5, val * 1.1, 'B3LYP', ha='right', va='bottom')\n",
    "\n",
    "# Make the labels\n",
    "for ax, l in zip(axs, ['(a)', '(b)']):\n",
    "    ax.text(0.9, 0.9, l, transform=ax.transAxes, fontweight='demibold')\n",
    "    ax.set_xlabel('Train Set Size')\n",
    "axs[0].set_ylabel('MAE (eV)')\n",
    "axs[1].yaxis.tick_right()\n",
    "axs[1].set_ylabel('Test Time (s/eval)')\n",
    "axs[1].yaxis.set_label_position(\"right\")\n",
    "axs[1].set_ylim(3e-3, 11)\n",
    "\n",
    "fig.legend(handles, labels, loc='lower center', ncol=3)\n",
    "\n",
    "fig.set_size_inches(6.5, 2.5)\n",
    "fig.tight_layout(rect=[0,0.15,1,1])\n",
    "fig.savefig(os.path.join('figures', 'g4mp2-learning-curve.png'), dpi=320)"
   ]
  },
  {
   "cell_type": "code",
   "execution_count": 15,
   "metadata": {},
   "outputs": [
    {
     "name": "stdout",
     "output_type": "stream",
     "text": [
      "For comparable evaluation speeds, SchNet is 21.9x more accurate\n"
     ]
    }
   ],
   "source": [
    "improvement = (qml_results.query('train_size == 100')['mae'].iloc[0]\n",
    "              * Hartree / eV / schnet_results.query('name == \"g4mp2\"')['mae'].min())\n",
    "print('For comparable evaluation speeds, SchNet is {:.1f}x more accurate'.format(improvement))"
   ]
  },
  {
   "cell_type": "markdown",
   "metadata": {},
   "source": [
    "## Plot Error Distributions\n",
    "Show the distribution of errors for the largest training set sizes"
   ]
  },
  {
   "cell_type": "code",
   "execution_count": 16,
   "metadata": {},
   "outputs": [
    {
     "data": {
      "image/png": "[encoded data removed]",
      "text/plain": [
       "<Figure size 252x158.4 with 1 Axes>"
      ]
     },
     "metadata": {
      "needs_background": "light"
     },
     "output_type": "display_data"
    }
   ],
   "source": [
    "fig, ax = plt.subplots()\n",
    "\n",
    "points = np.linspace(0, 100, 151)\n",
    "\n",
    "# Plot SchNet Transfer\n",
    "error = (schnet_predictions['g4mp2_0k'] - schnet_predictions['ypred-g4mp2-transfer-117232']).abs() * Hartree / eV * 1000\n",
    "ax.plot([np.percentile(error, x) for x in points], points, markevery=20, **model_style['g4mp2-transfer'])\n",
    "\n",
    "# Plot SchNet Delta\n",
    "error = (schnet_predictions['g4mp2_0k'] - schnet_predictions['ypred-g4mp2-delta-117232']).abs() * Hartree / eV * 1000\n",
    "ax.plot([np.percentile(error, x) for x in points], points, markevery=20, **model_style['g4mp2-delta'])\n",
    "\n",
    "# Plot FCHL Delta predictions\n",
    "error = (qml_predictions['delta'] - qml_predictions['pred_y_10000-delta']).abs() * Hartree / eV * 1000\n",
    "ax.plot([np.percentile(error, x) for x in points], points, markevery=20, **model_style['FCHL Delta'])\n",
    "\n",
    "# Plot FCHL predictions\n",
    "error = (qml_predictions['g4mp2_atom'] - qml_predictions['pred_y_10000']).abs() * Hartree / eV * 1000\n",
    "ax.plot([np.percentile(error, x) for x in points], points, markevery=20, **model_style['FCHL'])\n",
    "\n",
    "ax.legend()\n",
    "\n",
    "# Make axes labels\n",
    "ax.set_xlabel('Absolute Error (meV)')\n",
    "ax.set_xlim(-1, 105)\n",
    "ax.set_ylabel('CDF (%)')\n",
    "ax.set_ylim(0, 100)\n",
    "\n",
    "fig.set_size_inches(3.5, 2.2)\n",
    "fig.tight_layout()\n",
    "fig.savefig(os.path.join('figures', 'error-cdf.png'), dpi=320)"
   ]
  },
  {
   "cell_type": "markdown",
   "metadata": {},
   "source": [
    "*Finding*: Nothing surprising in the error distribution: the ML models with the best MAE will likely have the best 95% error, RMSE, etc."
   ]
  },
  {
   "cell_type": "code",
   "execution_count": null,
   "metadata": {},
   "outputs": [],
   "source": []
  }
 ],
 "metadata": {
  "kernelspec": {
   "display_name": "Python 3",
   "language": "python",
   "name": "python3"
  },
  "language_info": {
   "codemirror_mode": {
    "name": "ipython",
    "version": 3
   },
   "file_extension": ".py",
   "mimetype": "text/x-python",
   "name": "python",
   "nbconvert_exporter": "python",
   "pygments_lexer": "ipython3",
   "version": "3.7.2"
  }
 },
 "nbformat": 4,
 "nbformat_minor": 2
}
