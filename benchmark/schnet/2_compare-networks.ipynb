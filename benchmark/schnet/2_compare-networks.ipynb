{
 "cells": [
  {
   "cell_type": "markdown",
   "metadata": {},
   "source": [
    "# Compare Network Performance\n",
    "Load in the results from the model trainings, and evaluate their performance"
   ]
  },
  {
   "cell_type": "code",
   "execution_count": 1,
   "metadata": {
    "collapsed": true
   },
   "outputs": [],
   "source": [
    "%matplotlib inline\n",
    "from matplotlib import pyplot as plt\n",
    "from jcesr_ml.schnetpack import run_model, load_model\n",
    "from jcesr_ml.benchmark import load_benchmark_data\n",
    "from sklearn.metrics import mean_absolute_error\n",
    "from tqdm import tqdm_notebook as tqdm\n",
    "from ase.units import eV, Hartree\n",
    "from time import perf_counter\n",
    "from glob import glob\n",
    "import pickle as pkl\n",
    "import pandas as pd\n",
    "import numpy as np\n",
    "import torch\n",
    "import json\n",
    "import os"
   ]
  },
  {
   "cell_type": "markdown",
   "metadata": {},
   "source": [
    "## Load in the Test Data\n",
    "We are going to use it to validate our models"
   ]
  },
  {
   "cell_type": "code",
   "execution_count": 2,
   "metadata": {
    "collapsed": true
   },
   "outputs": [],
   "source": [
    "_, test_data = load_benchmark_data()"
   ]
  },
  {
   "cell_type": "markdown",
   "metadata": {},
   "source": [
    "### Get Baseline Statistics of the Test Data\n",
    "Things like the mean absolute devation, for understanding if the models are good"
   ]
  },
  {
   "cell_type": "code",
   "execution_count": 3,
   "metadata": {},
   "outputs": [
    {
     "name": "stdout",
     "output_type": "stream",
     "text": [
      "U0 MAD: 841.18 eV\n"
     ]
    }
   ],
   "source": [
    "u0_mad = np.abs(test_data['u0'] - test_data['u0'].mean()).mean() * Hartree / eV\n",
    "print('U0 MAD: {:.2f} eV'.format(u0_mad))"
   ]
  },
  {
   "cell_type": "code",
   "execution_count": 4,
   "metadata": {},
   "outputs": [
    {
     "name": "stdout",
     "output_type": "stream",
     "text": [
      "G4MP2 MAD: 840.68 eV\n"
     ]
    }
   ],
   "source": [
    "g4mp2_mad = np.abs(test_data['g4mp2_0k'] - test_data['g4mp2_0k'].mean()).mean() * Hartree / eV\n",
    "print('G4MP2 MAD: {:.2f} eV'.format(g4mp2_mad))"
   ]
  },
  {
   "cell_type": "code",
   "execution_count": 5,
   "metadata": {},
   "outputs": [
    {
     "name": "stdout",
     "output_type": "stream",
     "text": [
      "B3LYP MAE for total energies: 12.43 eV\n"
     ]
    }
   ],
   "source": [
    "u0_mae_to_g4mp2 = np.abs(test_data['u0'] - test_data['g4mp2_0k']).mean() * Hartree / eV\n",
    "print('B3LYP MAE for total energies: {:.2f} eV'.format(u0_mae_to_g4mp2))"
   ]
  },
  {
   "cell_type": "code",
   "execution_count": 6,
   "metadata": {},
   "outputs": [
    {
     "name": "stdout",
     "output_type": "stream",
     "text": [
      "B3LYP MAE for formation energies: 0.20 eV\n"
     ]
    }
   ],
   "source": [
    "u0_mae_to_g4mp2_atom = np.abs(test_data['u0_atom'] - test_data['g4mp2_atom']).mean() * Hartree / eV\n",
    "print('B3LYP MAE for formation energies: {:.2f} eV'.format(u0_mae_to_g4mp2_atom))"
   ]
  },
  {
   "cell_type": "code",
   "execution_count": 7,
   "metadata": {
    "collapsed": true
   },
   "outputs": [],
   "source": [
    "with open('baseline-stats.json', 'w') as fp:\n",
    "    json.dump({\n",
    "        'u0_mad': u0_mad,\n",
    "        'g4mp2_mad': g4mp2_mad * Hartree / eV,\n",
    "        'u0_total_energy_mae': u0_mae_to_g4mp2,\n",
    "        'u0_atomization_mae': u0_mae_to_g4mp2_atom\n",
    "    }, fp)"
   ]
  },
  {
   "cell_type": "markdown",
   "metadata": {},
   "source": [
    "## Evaluate the `u0` Models\n",
    "Make sure that our models are working as expected"
   ]
  },
  {
   "cell_type": "markdown",
   "metadata": {},
   "source": [
    "### Plot the Learning as Function of Epoch\n",
    "Look for anomalous behavior"
   ]
  },
  {
   "cell_type": "code",
   "execution_count": 8,
   "metadata": {
    "scrolled": false
   },
   "outputs": [
    {
     "name": "stdout",
     "output_type": "stream",
     "text": [
      "1000 best loss after 35907 epochs was at 18399 epochs: 0.0001089241268346086\n",
      "10000 best loss after 3545 epochs was at 1787 epochs: 1.0501355336600682e-05\n",
      "117232 best loss after 471 epochs was at 439 epochs: 1.1718511012537742e-06\n"
     ]
    },
    {
     "data": {
      "text/plain": [
       "<matplotlib.legend.Legend at 0x7fed6d5882b0>"
      ]
     },
     "execution_count": 8,
     "metadata": {},
     "output_type": "execute_result"
    },
    {
     "data": {
      "image/png": "[encoded data removed]",
      "text/plain": [
       "<Figure size 432x288 with 1 Axes>"
      ]
     },
     "metadata": {
      "needs_background": "light"
     },
     "output_type": "display_data"
    }
   ],
   "source": [
    "fig, ax = plt.subplots()\n",
    "\n",
    "for f in sorted(glob(os.path.join('networks', 'u0', '*', 'log.csv'))):\n",
    "    name = os.path.basename(os.path.dirname(f))\n",
    "    log = pd.read_csv(f)\n",
    "    print('{} best loss after {} epochs was at {} epochs:'.format(name, len(log), log['Validation loss'].idxmin()),\n",
    "              log['Validation loss'].min())\n",
    "    ax.semilogy(np.arange(len(log)) * float(name) / 100, log['Validation loss'], label=name, alpha=0.7)\n",
    "    #ax.semilogy(log['Validation loss'], label=name)\n",
    "\n",
    "ax.set_ylabel('Validation Loss')\n",
    "ax.set_xlabel('Gradient Updates')\n",
    "ax.legend()"
   ]
  },
  {
   "cell_type": "markdown",
   "metadata": {},
   "source": [
    "### Plot MAE as function of Training Set Size\n",
    "See whether it agrees with the paper"
   ]
  },
  {
   "cell_type": "markdown",
   "metadata": {},
   "source": [
    "Get the sizes that have been tested"
   ]
  },
  {
   "cell_type": "code",
   "execution_count": 9,
   "metadata": {},
   "outputs": [
    {
     "name": "stdout",
     "output_type": "stream",
     "text": [
      "Found `u0` for 3 training set sizes: [1000, 117232, 10000]\n"
     ]
    }
   ],
   "source": [
    "sizes = [int(os.path.basename(s)) for s in glob(os.path.join('networks', 'u0', '*')) if os.path.isdir(s)]\n",
    "print('Found `u0` for {} training set sizes:'.format(len(sizes)), sizes)"
   ]
  },
  {
   "cell_type": "markdown",
   "metadata": {},
   "source": [
    "Test the model performance"
   ]
  },
  {
   "cell_type": "code",
   "execution_count": 10,
   "metadata": {},
   "outputs": [
    {
     "name": "stderr",
     "output_type": "stream",
     "text": [
      " 69%|██████▉   | 9016/13026 [07:01<04:32, 14.73it/s]"
     ]
    }
   ],
   "source": [
    "%%time\n",
    "results = []\n",
    "for s in sizes:\n",
    "    model = load_model('u0', s)\n",
    "    \n",
    "    # Get the MAE on the test set\n",
    "    y_pred = run_model(model, test_data, 'xyz')\n",
    "    results.append({\n",
    "        'size': s,\n",
    "        'mae': mean_absolute_error(y_pred, test_data['u0']) * Hartree / eV\n",
    "    })"
   ]
  },
  {
   "cell_type": "code",
   "execution_count": 11,
   "metadata": {},
   "outputs": [
    {
     "data": {
      "text/html": [
       "<div>\n",
       "<style scoped>\n",
       "    .dataframe tbody tr th:only-of-type {\n",
       "        vertical-align: middle;\n",
       "    }\n",
       "\n",
       "    .dataframe tbody tr th {\n",
       "        vertical-align: top;\n",
       "    }\n",
       "\n",
       "    .dataframe thead th {\n",
       "        text-align: right;\n",
       "    }\n",
       "</style>\n",
       "<table border=\"1\" class=\"dataframe\">\n",
       "  <thead>\n",
       "    <tr style=\"text-align: right;\">\n",
       "      <th></th>\n",
       "      <th>mae</th>\n",
       "      <th>size</th>\n",
       "    </tr>\n",
       "  </thead>\n",
       "  <tbody>\n",
       "    <tr>\n",
       "      <th>0</th>\n",
       "      <td>0.249384</td>\n",
       "      <td>1000</td>\n",
       "    </tr>\n",
       "    <tr>\n",
       "      <th>2</th>\n",
       "      <td>0.072446</td>\n",
       "      <td>10000</td>\n",
       "    </tr>\n",
       "    <tr>\n",
       "      <th>1</th>\n",
       "      <td>0.014264</td>\n",
       "      <td>117232</td>\n",
       "    </tr>\n",
       "  </tbody>\n",
       "</table>\n",
       "</div>"
      ],
      "text/plain": [
       "        mae    size\n",
       "0  0.249384    1000\n",
       "2  0.072446   10000\n",
       "1  0.014264  117232"
      ]
     },
     "execution_count": 11,
     "metadata": {},
     "output_type": "execute_result"
    }
   ],
   "source": [
    "results = pd.DataFrame(results).sort_values('size')\n",
    "results"
   ]
  },
  {
   "cell_type": "markdown",
   "metadata": {},
   "source": [
    "Plot the learning curve"
   ]
  },
  {
   "cell_type": "code",
   "execution_count": 12,
   "metadata": {
    "collapsed": true
   },
   "outputs": [],
   "source": [
    "schnet_paper = pd.DataFrame([[10043.498386561221, 0.054552926439280565], \n",
    "                             [24988.37317398674, 0.030443836515674838], \n",
    "                             [49717.89397295905, 0.02097245349947155],\n",
    "                             [109068.73666195504, 0.013742234855898816]], columns=['size', 'mae'])"
   ]
  },
  {
   "cell_type": "code",
   "execution_count": 13,
   "metadata": {},
   "outputs": [
    {
     "data": {
      "image/png": "[encoded data removed]",
      "text/plain": [
       "<Figure size 252x180 with 1 Axes>"
      ]
     },
     "metadata": {
      "needs_background": "light"
     },
     "output_type": "display_data"
    }
   ],
   "source": [
    "fig, ax = plt.subplots()\n",
    "\n",
    "ax.loglog(results['size'], results['mae'], marker='o', label='This Work')\n",
    "ax.loglog(schnet_paper['size'], schnet_paper['mae'], marker='^', label='JCP')\n",
    "\n",
    "ax.set_xlabel('Training Set Size')\n",
    "ax.set_ylabel('MAE (eV)')\n",
    "ax.legend()\n",
    "\n",
    "fig.set_size_inches(3.5, 2.5)\n",
    "fig.tight_layout()\n",
    "fig.savefig(os.path.join('figures', 'u0-learning-curve.png'), dpi=320)"
   ]
  },
  {
   "cell_type": "markdown",
   "metadata": {},
   "source": [
    "Save to disk for later use"
   ]
  },
  {
   "cell_type": "code",
   "execution_count": 14,
   "metadata": {
    "collapsed": true
   },
   "outputs": [],
   "source": [
    "results.to_json('uo-learning-curve.json')"
   ]
  },
  {
   "cell_type": "markdown",
   "metadata": {},
   "source": [
    "## Compare the Different G4MP2 Models\n",
    "Compare their accuracy as a function of training set size, and the learning rate as a number of epochs"
   ]
  },
  {
   "cell_type": "code",
   "execution_count": 15,
   "metadata": {},
   "outputs": [
    {
     "name": "stdout",
     "output_type": "stream",
     "text": [
      "Found 7 architectures: ['g4mp2', 'g4mp2-delta', 'g4mp2-charges', 'g4mp2-transfer', 'g4mp2-multitask', 'g4mp2-stacked-delta', 'g4mp2-charges-in-outnet']\n"
     ]
    }
   ],
   "source": [
    "models = sorted([x for x in os.listdir('networks') if x.startswith('g4mp2')], key=len)\n",
    "print('Found {} architectures:'.format(len(models)), models)"
   ]
  },
  {
   "cell_type": "markdown",
   "metadata": {},
   "source": [
    "### Learning Rate over Epochs\n",
    "The idea is to test whether different models learn more quickly. They all use the same validation split, so the validation accuracies are comparable (except for multitask, which uses different outputs)"
   ]
  },
  {
   "cell_type": "code",
   "execution_count": 16,
   "metadata": {
    "scrolled": false
   },
   "outputs": [
    {
     "name": "stdout",
     "output_type": "stream",
     "text": [
      "g4mp2 best loss after 469 epochs was at 445 epochs: 1.1808033797854004e-06\n",
      "g4mp2-delta best loss after 483 epochs was at 469 epochs: 6.145835270378701e-08\n",
      "g4mp2-charges best loss after 411 epochs was at 341 epochs: 1.2488637583969449e-06\n",
      "g4mp2-transfer best loss after 269 epochs was at 222 epochs: 1.2131160528175815e-06\n",
      "g4mp2-multitask best loss after 337 epochs was at 267 epochs: 3.531835279267048e-06\n",
      "g4mp2-stacked-delta best loss after 377 epochs was at 200 epochs: 1.2684717406027666e-06\n",
      "g4mp2-charges-in-outnet best loss after 497 epochs was at 450 epochs: 1.2189452936599646e-06\n"
     ]
    },
    {
     "data": {
      "text/plain": [
       "<matplotlib.legend.Legend at 0x7fed0560fcf8>"
      ]
     },
     "execution_count": 16,
     "metadata": {},
     "output_type": "execute_result"
    },
    {
     "data": {
      "image/png": "[encoded data removed]",
      "text/plain": [
       "<Figure size 432x288 with 1 Axes>"
      ]
     },
     "metadata": {
      "needs_background": "light"
     },
     "output_type": "display_data"
    }
   ],
   "source": [
    "fig, ax = plt.subplots()\n",
    "size = 117232\n",
    "\n",
    "# Plot each directory\n",
    "for name in models:\n",
    "    try:\n",
    "        log = pd.read_csv(os.path.join('networks', name, str(size), 'log.csv'))\n",
    "        print('{} best loss after {} epochs was at {} epochs:'.format(name, len(log), log['Validation loss'].idxmin()),\n",
    "              log['Validation loss'].min())\n",
    "        ax.semilogy(log['Validation loss'], label=name, alpha=0.4)\n",
    "    except FileNotFoundError as e:\n",
    "        print('File not found for: ' + name)\n",
    "    \n",
    "ax.set_ylabel('Validation Loss')\n",
    "ax.set_xlabel('Epochs')\n",
    "ax.legend()"
   ]
  },
  {
   "cell_type": "markdown",
   "metadata": {},
   "source": [
    "## Plot MAE as Function of Training Set Size\n",
    "Gather the MAE as a function of training set size for each model type"
   ]
  },
  {
   "cell_type": "code",
   "execution_count": 17,
   "metadata": {},
   "outputs": [
    {
     "name": "stderr",
     "output_type": "stream",
     "text": [
      " 78%|███████▊  | 10114/13026 [08:15<03:09, 15.35it/s]"
     ]
    }
   ],
   "source": [
    "results = []\n",
    "for name in models:\n",
    "    sizes = [int(os.path.basename(s)) for s in glob(os.path.join('networks', name, '*')) if os.path.isdir(s)]\n",
    "    for s in sizes:\n",
    "        # Load in the model\n",
    "        model = load_model(name, s)\n",
    "        \n",
    "        # Display warning if not converged\n",
    "        converged = True\n",
    "        if not os.path.isfile(os.path.join('networks', name, str(s), 'finished')):\n",
    "            print('Warning {} not converged for size {}'.format(name, s))\n",
    "            converged = False\n",
    "\n",
    "        # Get the MAE on the test set\n",
    "        run_time = perf_counter()\n",
    "        y_pred = run_model(model, test_data, 'xyz', ['u0', 'atomic_charges'])\n",
    "        run_time = perf_counter() - run_time\n",
    "        if len(y_pred.shape) == 2:\n",
    "            y_pred = y_pred[:, 0]  # G4MP2 energy is always the first column\n",
    "        results.append({\n",
    "            'size': s,\n",
    "            'name': name,\n",
    "            'run_time': run_time,\n",
    "            'mae': mean_absolute_error(y_pred, test_data['g4mp2_0k']) * Hartree / eV,\n",
    "            'converged': converged,\n",
    "        })\n",
    "        \n",
    "        test_data['ypred-{}-{}'.format(name, s)] = y_pred"
   ]
  },
  {
   "cell_type": "code",
   "execution_count": 18,
   "metadata": {
    "collapsed": true
   },
   "outputs": [],
   "source": [
    "results = pd.DataFrame(results)"
   ]
  },
  {
   "cell_type": "code",
   "execution_count": 19,
   "metadata": {},
   "outputs": [
    {
     "data": {
      "text/html": [
       "<div>\n",
       "<style scoped>\n",
       "    .dataframe tbody tr th:only-of-type {\n",
       "        vertical-align: middle;\n",
       "    }\n",
       "\n",
       "    .dataframe tbody tr th {\n",
       "        vertical-align: top;\n",
       "    }\n",
       "\n",
       "    .dataframe thead th {\n",
       "        text-align: right;\n",
       "    }\n",
       "</style>\n",
       "<table border=\"1\" class=\"dataframe\">\n",
       "  <thead>\n",
       "    <tr style=\"text-align: right;\">\n",
       "      <th></th>\n",
       "      <th>converged</th>\n",
       "      <th>mae</th>\n",
       "      <th>name</th>\n",
       "      <th>run_time</th>\n",
       "      <th>size</th>\n",
       "    </tr>\n",
       "  </thead>\n",
       "  <tbody>\n",
       "    <tr>\n",
       "      <th>0</th>\n",
       "      <td>True</td>\n",
       "      <td>0.238957</td>\n",
       "      <td>g4mp2</td>\n",
       "      <td>649.026785</td>\n",
       "      <td>1000</td>\n",
       "    </tr>\n",
       "    <tr>\n",
       "      <th>1</th>\n",
       "      <td>True</td>\n",
       "      <td>0.014916</td>\n",
       "      <td>g4mp2</td>\n",
       "      <td>645.036228</td>\n",
       "      <td>117232</td>\n",
       "    </tr>\n",
       "    <tr>\n",
       "      <th>2</th>\n",
       "      <td>True</td>\n",
       "      <td>0.065198</td>\n",
       "      <td>g4mp2</td>\n",
       "      <td>657.160186</td>\n",
       "      <td>10000</td>\n",
       "    </tr>\n",
       "    <tr>\n",
       "      <th>3</th>\n",
       "      <td>True</td>\n",
       "      <td>0.030114</td>\n",
       "      <td>g4mp2-delta</td>\n",
       "      <td>665.613616</td>\n",
       "      <td>1000</td>\n",
       "    </tr>\n",
       "    <tr>\n",
       "      <th>4</th>\n",
       "      <td>True</td>\n",
       "      <td>0.004455</td>\n",
       "      <td>g4mp2-delta</td>\n",
       "      <td>646.861267</td>\n",
       "      <td>117232</td>\n",
       "    </tr>\n",
       "    <tr>\n",
       "      <th>5</th>\n",
       "      <td>True</td>\n",
       "      <td>0.015881</td>\n",
       "      <td>g4mp2-delta</td>\n",
       "      <td>646.332979</td>\n",
       "      <td>10000</td>\n",
       "    </tr>\n",
       "    <tr>\n",
       "      <th>6</th>\n",
       "      <td>False</td>\n",
       "      <td>0.250619</td>\n",
       "      <td>g4mp2-charges</td>\n",
       "      <td>635.860621</td>\n",
       "      <td>1000</td>\n",
       "    </tr>\n",
       "    <tr>\n",
       "      <th>7</th>\n",
       "      <td>True</td>\n",
       "      <td>0.014799</td>\n",
       "      <td>g4mp2-charges</td>\n",
       "      <td>634.996836</td>\n",
       "      <td>117232</td>\n",
       "    </tr>\n",
       "    <tr>\n",
       "      <th>8</th>\n",
       "      <td>True</td>\n",
       "      <td>0.068879</td>\n",
       "      <td>g4mp2-charges</td>\n",
       "      <td>647.063032</td>\n",
       "      <td>10000</td>\n",
       "    </tr>\n",
       "    <tr>\n",
       "      <th>9</th>\n",
       "      <td>True</td>\n",
       "      <td>0.084842</td>\n",
       "      <td>g4mp2-transfer</td>\n",
       "      <td>638.611092</td>\n",
       "      <td>1000</td>\n",
       "    </tr>\n",
       "    <tr>\n",
       "      <th>10</th>\n",
       "      <td>True</td>\n",
       "      <td>0.013404</td>\n",
       "      <td>g4mp2-transfer</td>\n",
       "      <td>650.542225</td>\n",
       "      <td>117232</td>\n",
       "    </tr>\n",
       "    <tr>\n",
       "      <th>11</th>\n",
       "      <td>True</td>\n",
       "      <td>0.029365</td>\n",
       "      <td>g4mp2-transfer</td>\n",
       "      <td>642.239179</td>\n",
       "      <td>10000</td>\n",
       "    </tr>\n",
       "    <tr>\n",
       "      <th>12</th>\n",
       "      <td>False</td>\n",
       "      <td>0.316182</td>\n",
       "      <td>g4mp2-multitask</td>\n",
       "      <td>644.532931</td>\n",
       "      <td>1000</td>\n",
       "    </tr>\n",
       "    <tr>\n",
       "      <th>13</th>\n",
       "      <td>True</td>\n",
       "      <td>0.024844</td>\n",
       "      <td>g4mp2-multitask</td>\n",
       "      <td>634.307891</td>\n",
       "      <td>117232</td>\n",
       "    </tr>\n",
       "    <tr>\n",
       "      <th>14</th>\n",
       "      <td>True</td>\n",
       "      <td>0.093891</td>\n",
       "      <td>g4mp2-multitask</td>\n",
       "      <td>655.076059</td>\n",
       "      <td>10000</td>\n",
       "    </tr>\n",
       "    <tr>\n",
       "      <th>15</th>\n",
       "      <td>False</td>\n",
       "      <td>0.087266</td>\n",
       "      <td>g4mp2-stacked-delta</td>\n",
       "      <td>1206.495928</td>\n",
       "      <td>1000</td>\n",
       "    </tr>\n",
       "    <tr>\n",
       "      <th>16</th>\n",
       "      <td>True</td>\n",
       "      <td>0.014839</td>\n",
       "      <td>g4mp2-stacked-delta</td>\n",
       "      <td>1250.448087</td>\n",
       "      <td>117232</td>\n",
       "    </tr>\n",
       "    <tr>\n",
       "      <th>17</th>\n",
       "      <td>True</td>\n",
       "      <td>0.021794</td>\n",
       "      <td>g4mp2-stacked-delta</td>\n",
       "      <td>1269.465495</td>\n",
       "      <td>10000</td>\n",
       "    </tr>\n",
       "    <tr>\n",
       "      <th>18</th>\n",
       "      <td>True</td>\n",
       "      <td>0.233222</td>\n",
       "      <td>g4mp2-charges-in-outnet</td>\n",
       "      <td>654.748736</td>\n",
       "      <td>1000</td>\n",
       "    </tr>\n",
       "    <tr>\n",
       "      <th>19</th>\n",
       "      <td>True</td>\n",
       "      <td>0.014336</td>\n",
       "      <td>g4mp2-charges-in-outnet</td>\n",
       "      <td>639.473399</td>\n",
       "      <td>117232</td>\n",
       "    </tr>\n",
       "    <tr>\n",
       "      <th>20</th>\n",
       "      <td>True</td>\n",
       "      <td>0.068183</td>\n",
       "      <td>g4mp2-charges-in-outnet</td>\n",
       "      <td>653.984617</td>\n",
       "      <td>10000</td>\n",
       "    </tr>\n",
       "  </tbody>\n",
       "</table>\n",
       "</div>"
      ],
      "text/plain": [
       "    converged       mae                     name     run_time    size\n",
       "0        True  0.238957                    g4mp2   649.026785    1000\n",
       "1        True  0.014916                    g4mp2   645.036228  117232\n",
       "2        True  0.065198                    g4mp2   657.160186   10000\n",
       "3        True  0.030114              g4mp2-delta   665.613616    1000\n",
       "4        True  0.004455              g4mp2-delta   646.861267  117232\n",
       "5        True  0.015881              g4mp2-delta   646.332979   10000\n",
       "6       False  0.250619            g4mp2-charges   635.860621    1000\n",
       "7        True  0.014799            g4mp2-charges   634.996836  117232\n",
       "8        True  0.068879            g4mp2-charges   647.063032   10000\n",
       "9        True  0.084842           g4mp2-transfer   638.611092    1000\n",
       "10       True  0.013404           g4mp2-transfer   650.542225  117232\n",
       "11       True  0.029365           g4mp2-transfer   642.239179   10000\n",
       "12      False  0.316182          g4mp2-multitask   644.532931    1000\n",
       "13       True  0.024844          g4mp2-multitask   634.307891  117232\n",
       "14       True  0.093891          g4mp2-multitask   655.076059   10000\n",
       "15      False  0.087266      g4mp2-stacked-delta  1206.495928    1000\n",
       "16       True  0.014839      g4mp2-stacked-delta  1250.448087  117232\n",
       "17       True  0.021794      g4mp2-stacked-delta  1269.465495   10000\n",
       "18       True  0.233222  g4mp2-charges-in-outnet   654.748736    1000\n",
       "19       True  0.014336  g4mp2-charges-in-outnet   639.473399  117232\n",
       "20       True  0.068183  g4mp2-charges-in-outnet   653.984617   10000"
      ]
     },
     "execution_count": 19,
     "metadata": {},
     "output_type": "execute_result"
    }
   ],
   "source": [
    "results"
   ]
  },
  {
   "cell_type": "code",
   "execution_count": 20,
   "metadata": {
    "scrolled": true
   },
   "outputs": [
    {
     "data": {
      "image/png": "[encoded data removed]",
      "text/plain": [
       "<Figure size 468x324 with 1 Axes>"
      ]
     },
     "metadata": {
      "needs_background": "light"
     },
     "output_type": "display_data"
    }
   ],
   "source": [
    "fig, ax = plt.subplots()\n",
    "\n",
    "for gid, group in results.groupby('name'):\n",
    "    group = group.sort_values('size')\n",
    "    \n",
    "    ax.loglog(group['size'], group['mae'], label=gid, marker='o')\n",
    "    \n",
    "# Plot the baseline accuracies\n",
    "ax.set_xlim(ax.get_xlim())\n",
    "ax.plot(ax.get_xlim(), [g4mp2_mad * Hartree / eV]*2, 'k--')\n",
    "ax.text(2000, g4mp2_mad * Hartree / eV * 1.2, 'Guess-the-Mean')\n",
    "ax.plot(ax.get_xlim(), [u0_mae_to_g4mp2 * Hartree / eV]*2, 'k--')\n",
    "ax.text(1000, u0_mae_to_g4mp2 * Hartree / eV * 1.2, 'B3LYP')\n",
    "\n",
    "    \n",
    "ax.legend(ncol=1, loc='upper right')\n",
    "\n",
    "ax.set_ylabel('MAE (eV)')\n",
    "ax.set_xlabel('Training Set Size')\n",
    "\n",
    "fig.set_size_inches(6.5, 4.5)\n",
    "fig.savefig(os.path.join('figures', 'g4mp2-learning-curve.png'), dpi=320)"
   ]
  },
  {
   "cell_type": "code",
   "execution_count": 21,
   "metadata": {
    "collapsed": true
   },
   "outputs": [],
   "source": [
    "results.to_json('g4mp2-models.json')"
   ]
  },
  {
   "cell_type": "markdown",
   "metadata": {},
   "source": [
    "Save individual predictions"
   ]
  },
  {
   "cell_type": "code",
   "execution_count": 22,
   "metadata": {
    "collapsed": true
   },
   "outputs": [],
   "source": [
    "test_data.to_csv('schnet_predictions.csv.gz', compression='gzip', index=False)"
   ]
  },
  {
   "cell_type": "code",
   "execution_count": 23,
   "metadata": {},
   "outputs": [],
   "source": []
  }
 ],
 "metadata": {
  "kernelspec": {
   "display_name": "Python 3",
   "language": "python",
   "name": "python3"
  },
  "language_info": {
   "codemirror_mode": {
    "name": "ipython",
    "version": 3
   },
   "file_extension": ".py",
   "mimetype": "text/x-python",
   "name": "python",
   "nbconvert_exporter": "python",
   "pygments_lexer": "ipython3",
   "version": "3.7.2"
  }
 },
 "nbformat": 4,
 "nbformat_minor": 2
}
