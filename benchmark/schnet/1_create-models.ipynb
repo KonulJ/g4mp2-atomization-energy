{
 "cells": [
  {
   "cell_type": "markdown",
   "metadata": {},
   "source": [
    "# Train a SchNet Model\n",
    "Generate the deep learning models to be created.\n",
    "\n",
    "For each model, we need to store the architecture and the outputs of the network. The network designs will be stored in `networks/<name>` where `<name>` is the name of the model."
   ]
  },
  {
   "cell_type": "code",
   "execution_count": 1,
   "metadata": {},
   "outputs": [],
   "source": [
    "from schnetpack.atomistic import Atomwise, AtomisticModel, DeltaLearning\n",
    "from schnetpack.representation import SchNet\n",
    "from schnetpack import nn\n",
    "from jcesr_ml.utils import get_atomref_vector\n",
    "import pickle as pkl\n",
    "import numpy as np\n",
    "import shutil\n",
    "import torch\n",
    "import json\n",
    "import os"
   ]
  },
  {
   "cell_type": "markdown",
   "metadata": {},
   "source": [
    "Default parameters"
   ]
  },
  {
   "cell_type": "code",
   "execution_count": 2,
   "metadata": {},
   "outputs": [],
   "source": [
    "max_size = 117232\n",
    "n_atom_basis = 256\n",
    "n_filters = 256\n",
    "cutoff=5\n",
    "n_gaussians=25\n",
    "max_z=10"
   ]
  },
  {
   "cell_type": "markdown",
   "metadata": {},
   "source": [
    "## Load in Pre-Trained Models\n",
    "Some of the models use another, fully-trained model during construction."
   ]
  },
  {
   "cell_type": "markdown",
   "metadata": {},
   "source": [
    "Load in the `u0` model"
   ]
  },
  {
   "cell_type": "code",
   "execution_count": 3,
   "metadata": {},
   "outputs": [],
   "source": [
    "best_u0_model_path = os.path.join('networks', 'u0', str(max_size))"
   ]
  },
  {
   "cell_type": "code",
   "execution_count": 4,
   "metadata": {},
   "outputs": [],
   "source": [
    "best_u0_model = None\n",
    "if os.path.isfile(os.path.join(best_u0_model_path, 'finished')):\n",
    "    # Model architecture\n",
    "    best_u0_model = torch.load(os.path.join(best_u0_model_path, '..', 'architecture.pth'), map_location='cpu') \n",
    "    best_u0_model.output_modules.return_contributions = True\n",
    "    \n",
    "    # Model weights\n",
    "    best_u0_weights = torch.load(os.path.join(best_u0_model_path, 'best_model'), map_location='cpu')\n",
    "    best_u0_model.load_state_dict(best_u0_weights)\n",
    "else:\n",
    "    print('u0 model not yet trained. Re-run this notebook later')"
   ]
  },
  {
   "cell_type": "markdown",
   "metadata": {},
   "source": [
    "## Create Utility Operations\n",
    "For saving the models in the require format."
   ]
  },
  {
   "cell_type": "code",
   "execution_count": 5,
   "metadata": {},
   "outputs": [],
   "source": [
    "def save_model(output, name, output_props=['g4mp2_0k'], overwrite=False, delta=None):\n",
    "    \"\"\"Save a model to disk\n",
    "    \n",
    "    Args:\n",
    "        output (AtomisticModel): Model to be saved\n",
    "        name (string): Name of model\n",
    "        output_props ([string]): List of output properties\n",
    "        overwrite (bool): Whether to overwrite existing models\n",
    "        delta (str): Baseline property (None if not delta)\n",
    "    \"\"\"\n",
    "    \n",
    "    # Get the output directory\n",
    "    out_dir = os.path.join('networks', name)\n",
    "    if os.path.isdir(out_dir):\n",
    "        if overwrite:\n",
    "            shutil.rmtree(out_dir)\n",
    "        else:\n",
    "            print('Model already saved. Skipping.')\n",
    "            return\n",
    "    os.makedirs(out_dir)\n",
    "        \n",
    "    # Save the model\n",
    "    torch.save(output, os.path.join(out_dir, 'architecture.pth'))\n",
    "    \n",
    "    # If needed, save the atomrefs (used when setting the mean and std of training set)\n",
    "    output_mods = model.output_modules if isinstance(model, AtomisticModel) else model[-1].output_modules\n",
    "    output_mods = output_mods[-1] if isinstance(output_mods, torch.nn.Sequential) else output_mods\n",
    "    if output_mods.atomref is not None:\n",
    "        weights = output_mods.atomref.weight.detach().numpy()\n",
    "        np.save(os.path.join(out_dir, 'atomref.npy'), weights)\n",
    "\n",
    "    # Save the training details\n",
    "    with open(os.path.join(out_dir, 'options.json'), 'w') as fp:\n",
    "        json.dump({\n",
    "            'output_props': output_props,\n",
    "            'delta': delta\n",
    "        }, fp)"
   ]
  },
  {
   "cell_type": "markdown",
   "metadata": {},
   "source": [
    "## `U0` Model\n",
    "The model trained on `u0`, to recreate the SchNet Paper."
   ]
  },
  {
   "cell_type": "code",
   "execution_count": 6,
   "metadata": {},
   "outputs": [],
   "source": [
    "reps = SchNet(n_atom_basis=n_atom_basis, n_filters=n_filters, n_interactions=6,\n",
    "              cutoff=5, n_gaussians=n_gaussians, max_z=max_z)\n",
    "output = Atomwise(n_atom_basis, atomref=get_atomref_vector('b3lyp', max_z), train_embeddings=True)  \n",
    "model = AtomisticModel(reps, output)"
   ]
  },
  {
   "cell_type": "code",
   "execution_count": 7,
   "metadata": {},
   "outputs": [
    {
     "name": "stdout",
     "output_type": "stream",
     "text": [
      "Model already saved. Skipping.\n"
     ]
    }
   ],
   "source": [
    "save_model(model, 'u0', ['u0'])"
   ]
  },
  {
   "cell_type": "markdown",
   "metadata": {},
   "source": [
    "## G4MP2 Model\n",
    "Same architecture as `u0`, but using `g4mp2_0k` as the target variable. Also need to update atomrefs"
   ]
  },
  {
   "cell_type": "code",
   "execution_count": 8,
   "metadata": {},
   "outputs": [],
   "source": [
    "model.output_modules = Atomwise(n_atom_basis, atomref=get_atomref_vector('g4mp2', max_z), train_embeddings=True)  "
   ]
  },
  {
   "cell_type": "code",
   "execution_count": 9,
   "metadata": {},
   "outputs": [
    {
     "name": "stdout",
     "output_type": "stream",
     "text": [
      "Model already saved. Skipping.\n"
     ]
    }
   ],
   "source": [
    "save_model(model, 'g4mp2')"
   ]
  },
  {
   "cell_type": "markdown",
   "metadata": {},
   "source": [
    "## G4MP2 Transfer-Learned Model\n",
    "Use the weights from the `u0` model as a starting point"
   ]
  },
  {
   "cell_type": "code",
   "execution_count": 10,
   "metadata": {},
   "outputs": [],
   "source": [
    "if best_u0_model is not None:\n",
    "    model.load_state_dict(best_u0_model.state_dict())\n",
    "    save_model(model, 'g4mp2-transfer')\n",
    "else:\n",
    "    print('Model not created because u0 has not finished training. Run this cell again later')"
   ]
  },
  {
   "cell_type": "markdown",
   "metadata": {},
   "source": [
    "## G4MP2 with B3LYP Charges in Embedding\n",
    "Use the charges from B3LYP as additional features in the representation for each atom. "
   ]
  },
  {
   "cell_type": "code",
   "execution_count": 11,
   "metadata": {},
   "outputs": [],
   "source": [
    "reps = SchNet(n_atom_basis=n_atom_basis-1, n_filters=n_filters, n_interactions=6,\n",
    "              cutoff=5, n_gaussians=n_gaussians, max_z=10,\n",
    "             additional_features=['atomic_charges'])\n",
    "output = Atomwise(n_atom_basis, atomref=get_atomref_vector('g4mp2'), train_embeddings=True)\n",
    "model = AtomisticModel(reps, output)"
   ]
  },
  {
   "cell_type": "code",
   "execution_count": 12,
   "metadata": {},
   "outputs": [],
   "source": [
    "save_model(model, 'g4mp2-charges', overwrite=True)"
   ]
  },
  {
   "cell_type": "markdown",
   "metadata": {},
   "source": [
    "## G4MP2 with B3LYP Charges in Output Network\n",
    "Use the charges from B3LYP as additional features as inputs into the output network of the model"
   ]
  },
  {
   "cell_type": "code",
   "execution_count": 13,
   "metadata": {},
   "outputs": [],
   "source": [
    "reps = SchNet(n_atom_basis=n_atom_basis, n_filters=n_filters, n_interactions=6,\n",
    "              cutoff=5, n_gaussians=n_gaussians, max_z=10)"
   ]
  },
  {
   "cell_type": "code",
   "execution_count": 14,
   "metadata": {},
   "outputs": [],
   "source": [
    "out_net = torch.nn.Sequential(\n",
    "    nn.base.GetRepresentationAndProperties(['atomic_charges']),\n",
    "    nn.blocks.MLP(256+1, 1, None, 2, nn.activations.shifted_softplus)\n",
    ")\n",
    "output = Atomwise(outnet=out_net, atomref=get_atomref_vector('g4mp2'), train_embeddings=True)"
   ]
  },
  {
   "cell_type": "code",
   "execution_count": 15,
   "metadata": {},
   "outputs": [],
   "source": [
    "model = AtomisticModel(reps, output)"
   ]
  },
  {
   "cell_type": "code",
   "execution_count": 16,
   "metadata": {},
   "outputs": [
    {
     "name": "stdout",
     "output_type": "stream",
     "text": [
      "Model already saved. Skipping.\n"
     ]
    }
   ],
   "source": [
    "save_model(model, 'g4mp2-charges-in-outnet')"
   ]
  },
  {
   "cell_type": "markdown",
   "metadata": {},
   "source": [
    "## G4MP2 with Multi-Task Learning\n",
    "Include additional features in the output layer, to see whether the model learns a more generalizable representation"
   ]
  },
  {
   "cell_type": "code",
   "execution_count": 17,
   "metadata": {},
   "outputs": [],
   "source": [
    "additional_tasks = ['u0', 'homo', 'lumo', 'zpe']"
   ]
  },
  {
   "cell_type": "code",
   "execution_count": 18,
   "metadata": {},
   "outputs": [],
   "source": [
    "multitask_rfs = np.hstack((get_atomref_vector('g4mp2'), \n",
    "                           get_atomref_vector('b3lyp'),\n",
    "                           np.zeros((11, len(additional_tasks)-1))))"
   ]
  },
  {
   "cell_type": "code",
   "execution_count": 19,
   "metadata": {},
   "outputs": [],
   "source": [
    "reps = SchNet(n_atom_basis=n_atom_basis, n_filters=n_filters, n_interactions=6,\n",
    "              cutoff=5, n_gaussians=n_gaussians, max_z=10)\n",
    "output = Atomwise(256, n_out=1+len(additional_tasks), atomref=multitask_rfs,\n",
    "                 mean=torch.Tensor([0]*(1+len(additional_tasks))),\n",
    "                 stddev=torch.Tensor([1]*(1+len(additional_tasks))),\n",
    "                 train_embeddings=True)\n",
    "model = AtomisticModel(reps, output)"
   ]
  },
  {
   "cell_type": "code",
   "execution_count": 20,
   "metadata": {
    "scrolled": true
   },
   "outputs": [
    {
     "name": "stdout",
     "output_type": "stream",
     "text": [
      "Model already saved. Skipping.\n"
     ]
    }
   ],
   "source": [
    "save_model(model, 'g4mp2-multitask', ['g4mp2_0k'] + additional_tasks)"
   ]
  },
  {
   "cell_type": "markdown",
   "metadata": {},
   "source": [
    "## G4MP2 $\\Delta$-Learning Model\n",
    "Train model to predict the difference between `u0` and `g4mp2`"
   ]
  },
  {
   "cell_type": "code",
   "execution_count": 21,
   "metadata": {},
   "outputs": [],
   "source": [
    "reps = SchNet(n_atom_basis=n_atom_basis, n_filters=n_filters, n_interactions=6,\n",
    "              cutoff=5, n_gaussians=n_gaussians, max_z=10)\n",
    "output = DeltaLearning('u0', False, n_in=256, \n",
    "                       atomref=get_atomref_vector('g4mp2') - get_atomref_vector('b3lyp'),\n",
    "                       return_contributions=True, train_embeddings=True)\n",
    "model = AtomisticModel(reps, output)"
   ]
  },
  {
   "cell_type": "code",
   "execution_count": 22,
   "metadata": {},
   "outputs": [
    {
     "name": "stdout",
     "output_type": "stream",
     "text": [
      "Model already saved. Skipping.\n"
     ]
    }
   ],
   "source": [
    "save_model(model, 'g4mp2-delta', delta='u0')"
   ]
  },
  {
   "cell_type": "markdown",
   "metadata": {},
   "source": [
    "## Stacked $\\Delta$-Learning Model\n",
    "Use atom-wise energies predicted from the `u0` model, rather than the actual `u0` energy. Unlike the `g4mp2-delta` model, this model does not require a B3LYP energy to be computed first"
   ]
  },
  {
   "cell_type": "markdown",
   "metadata": {},
   "source": [
    "If possible, make the model"
   ]
  },
  {
   "cell_type": "code",
   "execution_count": 23,
   "metadata": {},
   "outputs": [],
   "source": [
    "if best_u0_model is not None:\n",
    "    reps = SchNet(n_atom_basis=n_atom_basis, n_filters=n_filters, n_interactions=6,\n",
    "              cutoff=5, n_gaussians=n_gaussians, max_z=10)  # Make the representation used in the network\n",
    "    output = DeltaLearning('u0_yi', True, n_in=n_atom_basis, \n",
    "                           atomref=get_atomref_vector('g4mp2') - get_atomref_vector('b3lyp'),\n",
    "                           train_embeddings=True)\n",
    "    model = torch.nn.Sequential(\n",
    "        nn.base.StackedOutputModel(best_u0_model, 'u0'),\n",
    "        AtomisticModel(reps, output)\n",
    "    )\n",
    "    save_model(model, 'g4mp2-stacked-delta', delta='u0')\n",
    "else: \n",
    "    print('Model not created because u0 has not finished training. Run this cell again later')"
   ]
  },
  {
   "cell_type": "code",
   "execution_count": null,
   "metadata": {},
   "outputs": [],
   "source": []
  }
 ],
 "metadata": {
  "kernelspec": {
   "display_name": "Python 3",
   "language": "python",
   "name": "python3"
  },
  "language_info": {
   "codemirror_mode": {
    "name": "ipython",
    "version": 3
   },
   "file_extension": ".py",
   "mimetype": "text/x-python",
   "name": "python",
   "nbconvert_exporter": "python",
   "pygments_lexer": "ipython3",
   "version": "3.7.2"
  }
 },
 "nbformat": 4,
 "nbformat_minor": 2
}
